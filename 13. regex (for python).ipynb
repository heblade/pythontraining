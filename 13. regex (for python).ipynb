{
 "cells": [
  {
   "cell_type": "markdown",
   "metadata": {},
   "source": [
    "# 正则表达式在Python中的应用"
   ]
  },
  {
   "cell_type": "markdown",
   "metadata": {},
   "source": [
    "正则表达式是一个特殊的字符序列，它能帮助你方便的检查一个字符串是否与某种模式匹配。\n",
    "\n",
    "Python 自1.5版本起增加了re 模块，它提供 Perl 风格的正则表达式模式。\n",
    "\n",
    "re 模块使 Python 语言拥有全部的正则表达式功能。\n",
    "\n",
    "compile 函数根据一个模式字符串和可选的标志参数生成一个正则表达式对象。该对象拥有一系列方法用于正则表达式匹配和替换。\n",
    "\n",
    "re 模块也提供了与这些方法功能完全一致的函数，这些函数使用一个模式字符串做为它们的第一个参数。\n",
    "\n",
    "本章节主要介绍Python中常用的正则表达式处理函数。"
   ]
  },
  {
   "cell_type": "markdown",
   "metadata": {},
   "source": [
    "首先，导入re模块"
   ]
  },
  {
   "cell_type": "code",
   "execution_count": 4,
   "metadata": {},
   "outputs": [],
   "source": [
    "import re"
   ]
  },
  {
   "cell_type": "markdown",
   "metadata": {},
   "source": [
    "## re.match函数"
   ]
  },
  {
   "cell_type": "markdown",
   "metadata": {},
   "source": [
    "re.match 尝试从字符串的起始位置匹配一个模式，如果不是起始位置匹配成功的话，match()就返回None。"
   ]
  },
  {
   "cell_type": "markdown",
   "metadata": {},
   "source": [
    "函数语法：\n",
    "```\n",
    "re.match(pattern, string, flags=0)\n",
    "```"
   ]
  },
  {
   "cell_type": "markdown",
   "metadata": {},
   "source": [
    "函数参数说明："
   ]
  },
  {
   "cell_type": "markdown",
   "metadata": {},
   "source": [
    "![match参数说明](./image/match参数说明.png)"
   ]
  },
  {
   "cell_type": "markdown",
   "metadata": {},
   "source": [
    "匹配成功re.match方法返回一个匹配的对象，否则返回None。\n",
    "\n",
    "我们可以使用group(num) 或 groups() 匹配对象函数来获取匹配表达式。"
   ]
  },
  {
   "cell_type": "markdown",
   "metadata": {},
   "source": [
    "![匹配对象方法](./image/匹配对象方法.png)"
   ]
  },
  {
   "cell_type": "code",
   "execution_count": 11,
   "metadata": {},
   "outputs": [
    {
     "name": "stdout",
     "output_type": "stream",
     "text": [
      "<_sre.SRE_Match object; span=(0, 5), match='www.m'>\n"
     ]
    }
   ],
   "source": [
    "import re\n",
    "print(re.match('www.m', 'www.morningstar.com'))"
   ]
  },
  {
   "cell_type": "code",
   "execution_count": 9,
   "metadata": {},
   "outputs": [
    {
     "name": "stdout",
     "output_type": "stream",
     "text": [
      "matchObj.group(0) :  Cats are smarter than dogs\n",
      "matchObj.group('first') :  Cats\n",
      "matchObj.group(1) :  Cats\n",
      "matchObj.group(2) :  smarter\n"
     ]
    }
   ],
   "source": [
    "line = r'Cats are smarter than dogs'\n",
    "matchobj = re.match(r'(?P<first>.*) are (.*?) .*', line, re.M|re.I)\n",
    "if matchobj:\n",
    "    print (\"matchObj.group(0) : \", matchobj.group(0))\n",
    "    print (\"matchObj.group('first') : \", matchobj.group('first'))\n",
    "    print (\"matchObj.group(1) : \", matchobj.group(1))\n",
    "    print (\"matchObj.group(2) : \", matchobj.group(2))\n",
    "else:\n",
    "    print (\"No match!!\")"
   ]
  },
  {
   "cell_type": "markdown",
   "metadata": {},
   "source": [
    "## re.search方法\n",
    "re.search 扫描整个字符串并返回第一个成功的匹配。"
   ]
  },
  {
   "cell_type": "markdown",
   "metadata": {},
   "source": [
    "函数语法：\n",
    "```\n",
    "re.search(pattern, string, flags=0)\n",
    "```"
   ]
  },
  {
   "cell_type": "markdown",
   "metadata": {},
   "source": [
    "函数参数说明"
   ]
  },
  {
   "cell_type": "markdown",
   "metadata": {},
   "source": [
    "![match参数说明](./image/match参数说明.png)"
   ]
  },
  {
   "cell_type": "markdown",
   "metadata": {},
   "source": [
    "匹配成功re.search方法返回一个匹配的对象，否则返回None。<br>\n",
    "我们可以使用group(num) 或 groups() 匹配对象函数来获取匹配表达式。"
   ]
  },
  {
   "cell_type": "markdown",
   "metadata": {},
   "source": [
    "![匹配对象方法](./image/匹配对象方法.png)"
   ]
  },
  {
   "cell_type": "code",
   "execution_count": 16,
   "metadata": {},
   "outputs": [
    {
     "name": "stdout",
     "output_type": "stream",
     "text": [
      "(0, 3)\n",
      "(16, 19)\n",
      "3\n",
      "empty\n"
     ]
    }
   ],
   "source": [
    "import re\n",
    " \n",
    "print(re.search('www', 'www.morningstar.com').span()) \n",
    "print(re.search('com', 'www.morningstar.com').span()) \n",
    "\n",
    "match = re.match('com', 'www.morningstar.com')\n",
    "if match:\n",
    "    print(match.span())\n",
    "# print(re.match('com', 'www.morningstar.com').span()) \n",
    "a = 0\n",
    "b = None\n",
    "\n",
    "if a is not None:\n",
    "    print(3)\n",
    "    \n",
    "mylist = []\n",
    "if not mylist:\n",
    "    print('empty')"
   ]
  },
  {
   "cell_type": "code",
   "execution_count": 18,
   "metadata": {},
   "outputs": [
    {
     "name": "stdout",
     "output_type": "stream",
     "text": [
      "<_sre.SRE_Match object; span=(4, 32), match=', Cats are smarter than dogs'>\n",
      "matchObj.group() :  , Cats are smarter than dogs\n",
      "matchObj.group('first') :  Cats\n",
      "matchObj.group(1) :  Cats\n",
      "matchObj.group(2) :  smarter\n"
     ]
    }
   ],
   "source": [
    "line = r'Then, Cats are smarter than dogs'\n",
    "searchobj = re.search(r', (?P<first>.*) are (.*?) .*', line, flags=re.M|re.I)\n",
    "if searchobj:\n",
    "    print(searchobj)\n",
    "    print (\"matchObj.group() : \", searchobj.group())\n",
    "    print (\"matchObj.group('first') : \", searchobj.group('first'))\n",
    "    print (\"matchObj.group(1) : \", searchobj.group(1))\n",
    "    print (\"matchObj.group(2) : \", searchobj.group(2))\n",
    "else:\n",
    "    print (\"No match!!\")"
   ]
  },
  {
   "cell_type": "markdown",
   "metadata": {},
   "source": [
    "## re.match与re.search的区别"
   ]
  },
  {
   "cell_type": "markdown",
   "metadata": {},
   "source": [
    "re.match只匹配字符串的开始，如果字符串开始不符合正则表达式，则匹配失败，函数返回None；而re.search匹配整个字符串，直到找到一个匹配。"
   ]
  },
  {
   "cell_type": "code",
   "execution_count": 19,
   "metadata": {},
   "outputs": [
    {
     "name": "stdout",
     "output_type": "stream",
     "text": [
      "No match!!\n",
      "<_sre.SRE_Match object; span=(22, 26), match='dogs'>\n",
      "search --> matchObj.group() :  dogs\n"
     ]
    }
   ],
   "source": [
    "import re\n",
    " \n",
    "line = \"Cats are smarter than dogs\";\n",
    "\n",
    "# nottrue = -1\n",
    "# if not nottrue:\n",
    "#     print('False')\n",
    "# else:\n",
    "#     print('True')\n",
    " \n",
    "matchObj = re.match( r'dogs', line, re.M|re.I)\n",
    "if matchObj:\n",
    "    print (\"match --> matchObj.group() : \", matchObj.group())\n",
    "else:\n",
    "    print (\"No match!!\")\n",
    "    \n",
    "matchObj = re.search( r'dogs', line, re.M|re.I)\n",
    "if matchObj:\n",
    "    print(matchObj)\n",
    "    print (\"search --> matchObj.group() : \", matchObj.group())\n",
    "else:\n",
    "    print (\"No match!!\")"
   ]
  },
  {
   "cell_type": "markdown",
   "metadata": {},
   "source": [
    "这就是为什么re.match使用较少的原因，嗯，太没有人性了~~~"
   ]
  },
  {
   "cell_type": "markdown",
   "metadata": {},
   "source": [
    "## 检索和替换\n",
    "Python 的re模块提供了re.sub用于替换字符串中的匹配项。"
   ]
  },
  {
   "cell_type": "markdown",
   "metadata": {},
   "source": [
    "语法：\n",
    "```\n",
    "re.sub(pattern, repl, string, count=0)\n",
    "```"
   ]
  },
  {
   "cell_type": "markdown",
   "metadata": {},
   "source": [
    "参数：<br>\n",
    "* pattern : 正则中的模式字符串。\n",
    "* repl : 替换的字符串，也可为一个函数。\n",
    "* string : 要被查找替换的原始字符串。\n",
    "* count : 模式匹配后替换的最大次数，默认 0 表示替换所有的匹配。"
   ]
  },
  {
   "cell_type": "code",
   "execution_count": 20,
   "metadata": {},
   "outputs": [
    {
     "name": "stdout",
     "output_type": "stream",
     "text": [
      "电话号码 :  2004-95-=-9+559 \n",
      "电话号码 :  2004959559\n"
     ]
    }
   ],
   "source": [
    "import re\n",
    " \n",
    "phone = \"2004-95-=-9+559 # 这是一个电话号码\"\n",
    " \n",
    "# 删除注释\n",
    "num = re.sub(r'#.*$', \"\", phone)\n",
    "print (\"电话号码 : \", num)\n",
    " \n",
    "# 移除非数字的内容\n",
    "num = re.sub(r'\\D', \"\", phone)\n",
    "print (\"电话号码 : \", num)"
   ]
  },
  {
   "cell_type": "markdown",
   "metadata": {},
   "source": [
    "### repl参数是一个函数\n",
    "以下实例中将字符串中的匹配的数字乘于 2："
   ]
  },
  {
   "cell_type": "code",
   "execution_count": 22,
   "metadata": {},
   "outputs": [
    {
     "name": "stdout",
     "output_type": "stream",
     "text": [
      "A52G8HFD1134\n"
     ]
    }
   ],
   "source": [
    "import re\n",
    " \n",
    "# 将匹配的数字乘于 2\n",
    "def double(matched):\n",
    "    value = int(matched.group('value'))\n",
    "    return str(value * 2)\n",
    " \n",
    "s = 'A26G4HFD567'\n",
    "print(re.sub('(?P<value>\\d+)', double, s))"
   ]
  },
  {
   "cell_type": "markdown",
   "metadata": {},
   "source": [
    "### compile函数\n",
    "compile 函数用于编译正则表达式，生成一个正则表达式（ Pattern ）对象，供 match() 和 search() 这两个函数使用。\n",
    "\n",
    "语法格式为：```re.compile(pattern[, flags])```"
   ]
  },
  {
   "cell_type": "markdown",
   "metadata": {},
   "source": [
    "参数：\n",
    "* pattern : 一个字符串形式的正则表达式\n",
    "* flags 可选，表示匹配模式，比如忽略大小写，多行模式等，具体参数为：\n",
    "    * re.I 忽略大小写\n",
    "    * re.L 表示特殊字符集 \\w, \\W, \\b, \\B, \\s, \\S 依赖于当前环境\n",
    "    * re.M 多行模式\n",
    "    * re.S 即为' . '并且包括换行符在内的任意字符（' . '不包括换行符）\n",
    "    * re.U 表示特殊字符集 \\w, \\W, \\b, \\B, \\d, \\D, \\s, \\S 依赖于 Unicode 字符属性数据库\n",
    "    * re.X 为了增加可读性，忽略空格和' # '后面的注释"
   ]
  },
  {
   "cell_type": "code",
   "execution_count": 25,
   "metadata": {},
   "outputs": [
    {
     "name": "stdout",
     "output_type": "stream",
     "text": [
      "<class '_sre.SRE_Pattern'>\n",
      "None\n",
      "None\n",
      "<_sre.SRE_Match object; span=(3, 5), match='12'>\n",
      "12\n",
      "3\n",
      "5\n",
      "(3, 5)\n",
      "3\n"
     ]
    }
   ],
   "source": [
    "import re\n",
    "# 用于匹配至少一个数字\n",
    "pattern = re.compile(r'\\d+')\n",
    "print(type(pattern))\n",
    "# 查找头部，没有匹配\n",
    "m = pattern.match('one12twothree34four')\n",
    "print(m)\n",
    "# 从'e'的位置开始匹配，没有匹配\n",
    "m = pattern.match('one12twothree34four', 2, 10) \n",
    "print(m)\n",
    "# 从'1'的位置开始匹配，正好匹配\n",
    "m = pattern.match('one12twothree34four', 3, 10)\n",
    "print(m)\n",
    "print(m.group(0))\n",
    "print(m.start(0))\n",
    "print(m.end())\n",
    "print(m.span())\n",
    "print(m.span()[0])"
   ]
  },
  {
   "cell_type": "markdown",
   "metadata": {},
   "source": [
    "在上面，当匹配成功时返回一个 Match 对象，其中：\n",
    "\n",
    "* group([group1, …]) 方法用于获得一个或多个分组匹配的字符串，当要获得整个匹配的子串时，可直接使用 group() 或 group(0)；\n",
    "* start([group]) 方法用于获取分组匹配的子串在整个字符串中的起始位置（子串第一个字符的索引），参数默认值为 0；\n",
    "* end([group]) 方法用于获取分组匹配的子串在整个字符串中的结束位置（子串最后一个字符的索引+1），参数默认值为 0；\n",
    "* span([group]) 方法返回 (start(group), end(group))。"
   ]
  },
  {
   "cell_type": "markdown",
   "metadata": {},
   "source": [
    "再看看一个例子："
   ]
  },
  {
   "cell_type": "code",
   "execution_count": 31,
   "metadata": {
    "scrolled": true
   },
   "outputs": [
    {
     "name": "stdout",
     "output_type": "stream",
     "text": [
      "<_sre.SRE_Match object; span=(0, 11), match='Hello World'>\n",
      "Hello World\n",
      "(0, 11)\n",
      "Hello\n",
      "(0, 5)\n",
      "World\n",
      "(6, 11)\n",
      "groups: ('Hello', 'World')\n",
      "name group:  Hello\n"
     ]
    },
    {
     "ename": "IndexError",
     "evalue": "no such group",
     "output_type": "error",
     "traceback": [
      "\u001b[1;31m---------------------------------------------------------------------------\u001b[0m",
      "\u001b[1;31mIndexError\u001b[0m                                Traceback (most recent call last)",
      "\u001b[1;32m<ipython-input-31-9a9a4b997542>\u001b[0m in \u001b[0;36m<module>\u001b[1;34m\u001b[0m\n\u001b[0;32m     16\u001b[0m \u001b[0mprint\u001b[0m\u001b[1;33m(\u001b[0m\u001b[1;34m'name group: '\u001b[0m\u001b[1;33m,\u001b[0m \u001b[0mm\u001b[0m\u001b[1;33m.\u001b[0m\u001b[0mgroup\u001b[0m\u001b[1;33m(\u001b[0m\u001b[1;34m'name'\u001b[0m\u001b[1;33m)\u001b[0m\u001b[1;33m)\u001b[0m\u001b[1;33m\u001b[0m\u001b[1;33m\u001b[0m\u001b[0m\n\u001b[0;32m     17\u001b[0m \u001b[1;33m\u001b[0m\u001b[0m\n\u001b[1;32m---> 18\u001b[1;33m \u001b[0mprint\u001b[0m\u001b[1;33m(\u001b[0m\u001b[0mm\u001b[0m\u001b[1;33m.\u001b[0m\u001b[0mgroup\u001b[0m\u001b[1;33m(\u001b[0m\u001b[1;36m3\u001b[0m\u001b[1;33m)\u001b[0m\u001b[1;33m)\u001b[0m\u001b[1;33m\u001b[0m\u001b[1;33m\u001b[0m\u001b[0m\n\u001b[0m",
      "\u001b[1;31mIndexError\u001b[0m: no such group"
     ]
    }
   ],
   "source": [
    "import re\n",
    "# re.I 表示忽略大小写\n",
    "pattern = re.compile(r'(?P<name>[a-z]+)\\s([a-z]+)', re.I) \n",
    "m = pattern.match('Hello World Wide Web')\n",
    "print(m)\n",
    "print(m.group(0))\n",
    "print(m.span(0))\n",
    "\n",
    "print(m.group(1))\n",
    "print(m.span(1))\n",
    "\n",
    "print(m.group(2))\n",
    "print(m.span(2))\n",
    "\n",
    "print('groups: {0}'.format(m.groups()))\n",
    "print('name group: ', m.group('name'))\n",
    "\n",
    "print(m.group(3))"
   ]
  },
  {
   "cell_type": "markdown",
   "metadata": {},
   "source": [
    "### findall\n",
    "在字符串中找到正则表达式所匹配的所有子串，并返回一个列表，如果没有找到匹配的，则返回空列表。\n",
    "\n",
    "注意： \n",
    "* match 和 search是匹配一次\n",
    "    * match只匹配字符串的开始\n",
    "    * search匹配整个字符串\n",
    "* findall 匹配所有。\n",
    "\n",
    "语法格式为：```findall(string[, pos[, endpos]])```\n",
    "参数:\n",
    "* string 待匹配的字符串。\n",
    "* pos 可选参数，指定字符串的起始位置，默认为 0。\n",
    "* endpos 可选参数，指定字符串的结束位置，默认为字符串的长度。\n",
    "<br>\n",
    "\n",
    "查找字符串中的所有数字:"
   ]
  },
  {
   "cell_type": "code",
   "execution_count": 32,
   "metadata": {},
   "outputs": [
    {
     "name": "stdout",
     "output_type": "stream",
     "text": [
      "['88', '123', '456']\n",
      "['88', '12']\n",
      "123\n"
     ]
    }
   ],
   "source": [
    "import re\n",
    " \n",
    "pattern = re.compile(r'\\d+')   # 查找数字\n",
    "\n",
    "result1 = pattern.findall('run88oob123google456')\n",
    "result2 = pattern.findall('run88oob123google456, ', 0, 10)\n",
    "result3 = pattern.search('runoob 123 google 456')\n",
    " \n",
    "print(result1)\n",
    "print(result2)\n",
    "print(result3.group())"
   ]
  },
  {
   "cell_type": "markdown",
   "metadata": {},
   "source": [
    "### re.finditer\n",
    "和 findall 类似，在字符串中找到正则表达式所匹配的所有子串，并把它们作为一个迭代器返回。\n",
    "```\n",
    "re.finditer(pattern, string, flags=0)\n",
    "```"
   ]
  },
  {
   "cell_type": "markdown",
   "metadata": {},
   "source": [
    "参数:\n",
    "* pattern, 匹配的正则表达式\n",
    "* string, 要匹配的字符串\n",
    "* flags, 标志位，用于控制正则表达式的匹配方式，如：是否区分大小写，多行匹配等等"
   ]
  },
  {
   "cell_type": "code",
   "execution_count": 34,
   "metadata": {},
   "outputs": [
    {
     "name": "stdout",
     "output_type": "stream",
     "text": [
      "<callable_iterator object at 0x000001D31A1E3588>\n",
      "12\n",
      "32\n",
      "43\n",
      "3\n"
     ]
    }
   ],
   "source": [
    "import re\n",
    " \n",
    "it = re.finditer(r\"\\d+\",\"12a32bc43jf3\") \n",
    "print(it)\n",
    "for match in it:\n",
    "    print(match.group())"
   ]
  },
  {
   "cell_type": "markdown",
   "metadata": {},
   "source": [
    "### re.split\n",
    "split 方法按照能够匹配的子串将字符串分割后返回列表，它的使用形式如下：\n",
    "```\n",
    "re.split(pattern, string[, maxsplit=0, flags=0])\n",
    "```"
   ]
  },
  {
   "cell_type": "markdown",
   "metadata": {},
   "source": [
    "参数\n",
    "* pattern, 匹配的正则表达式\n",
    "* string, 要匹配的字符串\n",
    "* maxsplit, \n",
    "* flags, 标志位，用于控制正则表达式的匹配方式，如：是否区分大小写，多行匹配等等"
   ]
  },
  {
   "cell_type": "code",
   "execution_count": 35,
   "metadata": {},
   "outputs": [
    {
     "name": "stdout",
     "output_type": "stream",
     "text": [
      "['1 ', ', 2 ', ', 3 ', '']\n",
      "['1 ', ', 2 ', ', 3 ']\n"
     ]
    }
   ],
   "source": [
    "fundlist = '1 fund, 2 fund, 3 fund'\n",
    "print(fundlist.split('fund'))\n",
    "print([text for text in fundlist.split('fund') if len(text) > 0])"
   ]
  },
  {
   "cell_type": "code",
   "execution_count": 39,
   "metadata": {},
   "outputs": [
    {
     "name": "stdout",
     "output_type": "stream",
     "text": [
      "['one', 'two', 'three']\n",
      "['', '   ', 'one', ', ', 'two', ', ', 'three', '.', '']\n",
      "['Performance_Fee', 'This fee is aam, the number is 0.57%.']\n"
     ]
    }
   ],
   "source": [
    "import re\n",
    "result = re.split('\\W+', 'one, two: （）)）three')\n",
    "print(result)\n",
    "result = re.split('(\\W+)', '   one, two, three.')\n",
    "print(result)\n",
    "result = re.split('\\W+', 'Performance_Fee. This fee is aam, the number is 0.57%.', 1)\n",
    "print(result)"
   ]
  },
  {
   "cell_type": "markdown",
   "metadata": {},
   "source": [
    "## 正则表达式对象\n",
    "### re.RegexObject\n",
    "re.compile() 返回 RegexObject 对象"
   ]
  },
  {
   "cell_type": "markdown",
   "metadata": {},
   "source": [
    "### re.MatchObject\n",
    "group() 返回被 RE 匹配的字符串。\n",
    "* start() 返回匹配开始的位置\n",
    "* end() 返回匹配结束的位置\n",
    "* span() 返回一个元组包含匹配 (开始,结束) 的位置"
   ]
  },
  {
   "cell_type": "code",
   "execution_count": null,
   "metadata": {},
   "outputs": [],
   "source": []
  }
 ],
 "metadata": {
  "kernelspec": {
   "display_name": "Python 3",
   "language": "python",
   "name": "python3"
  },
  "latex_envs": {
   "LaTeX_envs_menu_present": true,
   "autoclose": false,
   "autocomplete": true,
   "bibliofile": "biblio.bib",
   "cite_by": "apalike",
   "current_citInitial": 1,
   "eqLabelWithNumbers": true,
   "eqNumInitial": 1,
   "hotkeys": {
    "equation": "Ctrl-E",
    "itemize": "Ctrl-I"
   },
   "labels_anchors": false,
   "latex_user_defs": false,
   "report_style_numbering": false,
   "user_envs_cfg": false
  },
  "toc": {
   "base_numbering": 1,
   "nav_menu": {},
   "number_sections": true,
   "sideBar": true,
   "skip_h1_title": false,
   "title_cell": "Table of Contents",
   "title_sidebar": "Contents",
   "toc_cell": false,
   "toc_position": {},
   "toc_section_display": true,
   "toc_window_display": false
  }
 },
 "nbformat": 4,
 "nbformat_minor": 2
}
