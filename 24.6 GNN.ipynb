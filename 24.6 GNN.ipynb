{
 "cells": [
  {
   "cell_type": "markdown",
   "metadata": {},
   "source": [
    "# GNN"
   ]
  },
  {
   "cell_type": "markdown",
   "metadata": {},
   "source": [
    "Graph Neural Networks 简称 GNN，称为图神经网络。近年来 GNN 在学术界受到的关注越来越多，与之相关的论文数量呈上升趋势，GNN 通过对信息的传递，转换和聚合实现特征的提取，类似于传统的 CNN，只是 CNN 只能处理规则的输入，如图片等输入的高、宽和通道数都是固定的，而 GNN 可以处理不规则的输入，如点云等。 可查看[【GNN】万字长文带你入门 GCN。](https://zhuanlan.zhihu.com/p/120311352)"
   ]
  },
  {
   "cell_type": "markdown",
   "metadata": {},
   "source": [
    "# 实现工具 - PyG (PyTorch geometric)"
   ]
  },
  {
   "cell_type": "markdown",
   "metadata": {},
   "source": [
    "PyTorch Geometric Library (简称 PyG) 是一个基于 PyTorch 的图神经网络库，地址是：https://github.com/rusty1s/pytorch_geometric GNN 相关论文中的方法实现和常用数据集，并且提供了简单易用的接口来生成图，因此对于复现论文来说也是相当方便。用法大多数和 PyTorch 很相近，因此熟悉 PyTorch 的同学使用这个库可以很快上手。\n",
    "官方介绍：\n",
    "PyTorch Geometric是PyTorch的一个几何深度学习扩展库。\n",
    "\n",
    "它由各种已发表的论文中的各种对图形和其他不规则结构进行深度学习的方法组成，也就是所谓的几何深度学习。此外，它还包括一个易于使用的迷你批量加载器，适用于许多小型和单个巨型图形，大量常见的基准数据集（基于简单的接口创建自己的数据集），以及有用的变换，既可以在任意图形上学习，也可以在3D网格或点云上学习。\n",
    "\n",
    "[官方文档](https://pytorch-geometric.readthedocs.io/en/latest/index.html)"
   ]
  },
  {
   "cell_type": "markdown",
   "metadata": {},
   "source": [
    "## 安装"
   ]
  },
  {
   "cell_type": "markdown",
   "metadata": {},
   "source": [
    "PyG组件包与PyTorch的版本密切相关，官方宣传的安装方式如下：\n",
    "\n",
    "```\n",
    "pip install torch-scatter==latest+${CUDA} -f https://pytorch-geometric.com/whl/torch-${TORCH}.html\n",
    "pip install torch-sparse==latest+${CUDA} -f https://pytorch-geometric.com/whl/torch-${TORCH}.html\n",
    "pip install torch-cluster==latest+${CUDA} -f https://pytorch-geometric.com/whl/torch-${TORCH}.html\n",
    "pip install torch-spline-conv==latest+${CUDA} -f https://pytorch-geometric.com/whl/torch-${TORCH}.html\n",
    "pip install torch-geometric\n",
    "```"
   ]
  },
  {
   "cell_type": "markdown",
   "metadata": {},
   "source": [
    "我的工作环境考虑稳定性，CUDA还是10.0，PyTorch版本是1.2.0， Tensorflow版本是2.0.0，所以适用的版本如下："
   ]
  },
  {
   "cell_type": "markdown",
   "metadata": {},
   "source": [
    "```\n",
    "pip install torch_sparse==0.4.4\n",
    "pip install torch_scatter==1.4.0\n",
    "pip install torch_cluster==1.4.5\n",
    "pip install torch-spline-conv==1.1.1\n",
    "pip install torch_geometric==1.4.1\n",
    "```"
   ]
  },
  {
   "cell_type": "markdown",
   "metadata": {},
   "source": [
    "## 环境检测"
   ]
  },
  {
   "cell_type": "code",
   "execution_count": 1,
   "metadata": {},
   "outputs": [
    {
     "name": "stdout",
     "output_type": "stream",
     "text": [
      "1.2.0\n",
      "10.0\n"
     ]
    }
   ],
   "source": [
    "import torch\n",
    "print(torch.__version__)\n",
    "print(torch.version.cuda)"
   ]
  },
  {
   "cell_type": "markdown",
   "metadata": {},
   "source": [
    "## Colab示例"
   ]
  },
  {
   "cell_type": "markdown",
   "metadata": {},
   "source": [
    "打开COLAB的相关链接，就可以进入PyG的世界，说明，代码与注释齐全，不用自己一点点敲代码了"
   ]
  },
  {
   "cell_type": "markdown",
   "metadata": {},
   "source": [
    "[COLAB NOTEBOOKS](https://pytorch-geometric.readthedocs.io/en/latest/notes/colabs.html)"
   ]
  },
  {
   "cell_type": "code",
   "execution_count": null,
   "metadata": {},
   "outputs": [],
   "source": []
  }
 ],
 "metadata": {
  "kernelspec": {
   "display_name": "Python 3",
   "language": "python",
   "name": "python3"
  },
  "language_info": {
   "codemirror_mode": {
    "name": "ipython",
    "version": 3
   },
   "file_extension": ".py",
   "mimetype": "text/x-python",
   "name": "python",
   "nbconvert_exporter": "python",
   "pygments_lexer": "ipython3",
   "version": "3.6.7"
  }
 },
 "nbformat": 4,
 "nbformat_minor": 4
}
