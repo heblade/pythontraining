{
 "cells": [
  {
   "cell_type": "code",
   "execution_count": 14,
   "metadata": {},
   "outputs": [
    {
     "name": "stdout",
     "output_type": "stream",
     "text": [
      "x: tensor([[ 1.6484,  0.6240,  0.3112,  1.5451],\n",
      "        [-0.9234, -0.1540,  1.7462,  0.3270],\n",
      "        [-1.5334,  0.1213, -1.7217, -1.5166]]), \n",
      "y: tensor([[-0.2300,  1.2680, -2.0131,  0.9937],\n",
      "        [ 0.0081, -0.5002,  0.6382, -2.1570],\n",
      "        [-1.4666, -1.0542, -0.5737, -0.6823]])\n",
      "tensor(2.1638)\n",
      "tensor(2.1638)\n",
      "tensor(2.1638)\n"
     ]
    }
   ],
   "source": [
    "from torch import nn  \n",
    "import torch  \n",
    " \n",
    "#重新封装的多标签损失函数\n",
    "class WeightedMultilabel(nn.Module):  \n",
    "    def __init__(self, weights: torch.Tensor):  \n",
    "        super(WeightedMultilabel, self).__init__()  \n",
    "        self.cerition = nn.BCEWithLogitsLoss(reduction='none')  \n",
    "        self.weights = weights  \n",
    "  \n",
    "    def forward(self, outputs, targets):  \n",
    "        loss = self.cerition(outputs, targets)\n",
    "        return (loss * self.weights).mean()\n",
    "\n",
    "x=torch.randn(3,4)\n",
    "y=torch.randn(3,4)  \n",
    "#损失函数对应类别的权重\n",
    "w=torch.tensor([5,2,8,9],dtype=torch.float)  \n",
    "#测试不同的损失函数\n",
    "criterion_BCE=nn.BCEWithLogitsLoss(w)  \n",
    "criterion_mult=WeightedMultilabel(w)  \n",
    "criterion_mult2=nn.MultiLabelSoftMarginLoss(w)  \n",
    "\n",
    "print('x: {0}, \\ny: {1}'.format(x, y))\n",
    "loss1=criterion_BCE(x,y)  \n",
    "loss2=criterion_mult(x,y)  \n",
    "loss3=criterion_mult2(x,y)  \n",
    "  \n",
    "print(loss1)  \n",
    "print(loss2)  \n",
    "print(loss3)"
   ]
  },
  {
   "cell_type": "code",
   "execution_count": null,
   "metadata": {},
   "outputs": [],
   "source": []
  },
  {
   "cell_type": "code",
   "execution_count": null,
   "metadata": {},
   "outputs": [],
   "source": []
  },
  {
   "cell_type": "code",
   "execution_count": null,
   "metadata": {},
   "outputs": [],
   "source": []
  }
 ],
 "metadata": {
  "kernelspec": {
   "display_name": "Python 3",
   "language": "python",
   "name": "python3"
  },
  "language_info": {
   "codemirror_mode": {
    "name": "ipython",
    "version": 3
   },
   "file_extension": ".py",
   "mimetype": "text/x-python",
   "name": "python",
   "nbconvert_exporter": "python",
   "pygments_lexer": "ipython3",
   "version": "3.6.7"
  }
 },
 "nbformat": 4,
 "nbformat_minor": 4
}
