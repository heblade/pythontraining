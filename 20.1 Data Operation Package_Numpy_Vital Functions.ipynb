{
 "cells": [
  {
   "cell_type": "markdown",
   "metadata": {},
   "source": [
    "# Numpy中重要的函数"
   ]
  },
  {
   "cell_type": "markdown",
   "metadata": {},
   "source": [
    "上一篇文章中，重点介绍ndarray的使用，这篇着重介绍Numpy中重要的函数"
   ]
  },
  {
   "cell_type": "markdown",
   "metadata": {},
   "source": [
    "## 1. 如何使用np.where获得满足给定条件的索引位置？"
   ]
  },
  {
   "cell_type": "markdown",
   "metadata": {},
   "source": [
    "在此之前，已经介绍了如何从满足给定条件的矩阵中提取item, 即布尔检索。<br>\n",
    "但有时我们想知道项目的索引位置（满足某条件），并做任何想做的事情。<br>\n",
    "```np.where```可以定位矩阵中一个给定条件为True的位置。"
   ]
  },
  {
   "cell_type": "code",
   "execution_count": 7,
   "metadata": {
    "ExecuteTime": {
     "end_time": "2022-12-07T09:55:46.417404Z",
     "start_time": "2022-12-07T09:55:46.397029Z"
    }
   },
   "outputs": [
    {
     "name": "stdout",
     "output_type": "stream",
     "text": [
      "Array:  [7 8 5 7 5 1 6 0 3 8]\n",
      "Positions where value > 5:  (array([0, 1, 3, 6, 9], dtype=int64),)\n"
     ]
    }
   ],
   "source": [
    "# Create an array\n",
    "import numpy as np\n",
    "np.random.seed(55)\n",
    "arr_rand = np.random.randint(0, 10, size=10)\n",
    "print(\"Array: \", arr_rand)\n",
    "\n",
    "# Positions where value > 5\n",
    "index_gt5 = np.where(arr_rand > 5)\n",
    "print(\"Positions where value > 5: \", index_gt5)"
   ]
  },
  {
   "cell_type": "markdown",
   "metadata": {},
   "source": [
    "通过np.where获取的是满足条件的item的索引数组，一旦获取到这个索引数组，就可以通过```take```方法，获取对应矩阵的值"
   ]
  },
  {
   "cell_type": "code",
   "execution_count": 8,
   "metadata": {
    "ExecuteTime": {
     "end_time": "2022-12-07T09:56:39.706820Z",
     "start_time": "2022-12-07T09:56:39.687599Z"
    }
   },
   "outputs": [
    {
     "name": "stdout",
     "output_type": "stream",
     "text": [
      "[[7 8 7 6 8]]\n"
     ]
    }
   ],
   "source": [
    "print(arr_rand.take(index_gt5))"
   ]
  },
  {
   "cell_type": "markdown",
   "metadata": {},
   "source": [
    "此外，```np.where```也接受额外的可选参数：x与y。<br>\n",
    "只要条件为真，即得到x，否则得到y<br>\n",
    "下面的例子中，将尝试创建一个数组：大于5的位置将设置为gt5；否则设置为le5"
   ]
  },
  {
   "cell_type": "code",
   "execution_count": 9,
   "metadata": {
    "ExecuteTime": {
     "end_time": "2022-12-07T09:57:29.219198Z",
     "start_time": "2022-12-07T09:57:29.202747Z"
    }
   },
   "outputs": [
    {
     "name": "stdout",
     "output_type": "stream",
     "text": [
      "[1 1 0 1 0 0 1 0 0 1]\n"
     ]
    }
   ],
   "source": [
    "print(np.where(arr_rand > 5, 1, 0))"
   ]
  },
  {
   "cell_type": "markdown",
   "metadata": {},
   "source": [
    "此外，可以通过```np.argmax```获得最大值所在的索引；```np.argmin```获得最小值所在的索引"
   ]
  },
  {
   "cell_type": "code",
   "execution_count": 11,
   "metadata": {
    "ExecuteTime": {
     "end_time": "2022-12-07T09:58:58.269773Z",
     "start_time": "2022-12-07T09:58:58.253678Z"
    }
   },
   "outputs": [
    {
     "name": "stdout",
     "output_type": "stream",
     "text": [
      "[7 8 5 7 5 1 6 0 3 8]\n",
      "Position of max value:  1\n",
      "Max value is:  8\n",
      "Position of min value:  7\n",
      "Min value is:  0\n"
     ]
    }
   ],
   "source": [
    "print(arr_rand)\n",
    "# Location of the max\n",
    "print('Position of max value: ', np.argmax(arr_rand))  \n",
    "print('Max value is: ', arr_rand[np.argmax(arr_rand)])\n",
    "\n",
    "# Location of the min\n",
    "print('Position of min value: ', np.argmin(arr_rand)) \n",
    "print('Min value is: ', arr_rand[np.argmin(arr_rand)])"
   ]
  },
  {
   "cell_type": "markdown",
   "metadata": {},
   "source": [
    "## 2. 如何从csv文件导入与导出数据？"
   ]
  },
  {
   "cell_type": "markdown",
   "metadata": {},
   "source": [
    "导入数据集的标准方法是使用```np.genfromtxt```函数。它可以从本地文件或者web url导入数据集。<br>\n",
    "该函数可以处理csv中缺失的值（事实上，对于csv中非数值型的单元值，其都会用缺失值进行填充），多个分隔符，处理不规则的列数等。<br>\n",
    "一个不太通用的版本是```np.loadtxt```，它假设数据集没有丢失的值。<br>\n",
    "下面试着读取一个.csv文件。由于numpy数组中的所有元素都应该是相同的数据类型，所以最后一列是文本，而设置的dtype是float，所以文本在默认情况下被作为“nan”识别。<br>\n",
    "设定fillingvalues参数，即可替代nan，当然也可以用其他数值替换缺失的值，比如0或-1。"
   ]
  },
  {
   "cell_type": "markdown",
   "metadata": {},
   "source": [
    "CSV的数据大致如下（这里用了pandas进行较美观格式输出，就不用贴截图图片了哈~~~）："
   ]
  },
  {
   "cell_type": "code",
   "execution_count": 12,
   "metadata": {
    "ExecuteTime": {
     "end_time": "2022-12-07T09:59:52.653310Z",
     "start_time": "2022-12-07T09:59:52.601775Z"
    }
   },
   "outputs": [
    {
     "data": {
      "text/html": [
       "<table border=\"1\" class=\"dataframe\">\n",
       "  <thead>\n",
       "    <tr style=\"text-align: right;\">\n",
       "      <th></th>\n",
       "      <th>mpg</th>\n",
       "      <th>cylinders</th>\n",
       "      <th>displacement</th>\n",
       "      <th>horsepower</th>\n",
       "      <th>weight</th>\n",
       "      <th>acceleration</th>\n",
       "      <th>year</th>\n",
       "      <th>origin</th>\n",
       "      <th>name</th>\n",
       "    </tr>\n",
       "  </thead>\n",
       "  <tbody>\n",
       "    <tr>\n",
       "      <th>0</th>\n",
       "      <td>18.0</td>\n",
       "      <td>8</td>\n",
       "      <td>307.0</td>\n",
       "      <td>130</td>\n",
       "      <td>3504</td>\n",
       "      <td>12.0</td>\n",
       "      <td>70</td>\n",
       "      <td>1</td>\n",
       "      <td>chevrolet chevelle malibu</td>\n",
       "    </tr>\n",
       "    <tr>\n",
       "      <th>1</th>\n",
       "      <td>15.0</td>\n",
       "      <td>8</td>\n",
       "      <td>350.0</td>\n",
       "      <td>165</td>\n",
       "      <td>3693</td>\n",
       "      <td>11.5</td>\n",
       "      <td>70</td>\n",
       "      <td>1</td>\n",
       "      <td>buick skylark 320</td>\n",
       "    </tr>\n",
       "    <tr>\n",
       "      <th>2</th>\n",
       "      <td>18.0</td>\n",
       "      <td>8</td>\n",
       "      <td>318.0</td>\n",
       "      <td>150</td>\n",
       "      <td>3436</td>\n",
       "      <td>11.0</td>\n",
       "      <td>70</td>\n",
       "      <td>1</td>\n",
       "      <td>plymouth satellite</td>\n",
       "    </tr>\n",
       "    <tr>\n",
       "      <th>3</th>\n",
       "      <td>16.0</td>\n",
       "      <td>8</td>\n",
       "      <td>304.0</td>\n",
       "      <td>150</td>\n",
       "      <td>3433</td>\n",
       "      <td>12.0</td>\n",
       "      <td>70</td>\n",
       "      <td>1</td>\n",
       "      <td>amc rebel sst</td>\n",
       "    </tr>\n",
       "    <tr>\n",
       "      <th>4</th>\n",
       "      <td>17.0</td>\n",
       "      <td>8</td>\n",
       "      <td>302.0</td>\n",
       "      <td>140</td>\n",
       "      <td>3449</td>\n",
       "      <td>10.5</td>\n",
       "      <td>70</td>\n",
       "      <td>1</td>\n",
       "      <td>ford torino</td>\n",
       "    </tr>\n",
       "    <tr>\n",
       "      <th>5</th>\n",
       "      <td>15.0</td>\n",
       "      <td>8</td>\n",
       "      <td>429.0</td>\n",
       "      <td>198</td>\n",
       "      <td>4341</td>\n",
       "      <td>10.0</td>\n",
       "      <td>70</td>\n",
       "      <td>1</td>\n",
       "      <td>ford galaxie 500</td>\n",
       "    </tr>\n",
       "    <tr>\n",
       "      <th>6</th>\n",
       "      <td>14.0</td>\n",
       "      <td>8</td>\n",
       "      <td>454.0</td>\n",
       "      <td>220</td>\n",
       "      <td>4354</td>\n",
       "      <td>9.0</td>\n",
       "      <td>70</td>\n",
       "      <td>1</td>\n",
       "      <td>chevrolet impala</td>\n",
       "    </tr>\n",
       "    <tr>\n",
       "      <th>7</th>\n",
       "      <td>14.0</td>\n",
       "      <td>8</td>\n",
       "      <td>440.0</td>\n",
       "      <td>215</td>\n",
       "      <td>4312</td>\n",
       "      <td>8.5</td>\n",
       "      <td>70</td>\n",
       "      <td>1</td>\n",
       "      <td>plymouth fury iii</td>\n",
       "    </tr>\n",
       "    <tr>\n",
       "      <th>8</th>\n",
       "      <td>14.0</td>\n",
       "      <td>8</td>\n",
       "      <td>455.0</td>\n",
       "      <td>225</td>\n",
       "      <td>4425</td>\n",
       "      <td>10.0</td>\n",
       "      <td>70</td>\n",
       "      <td>1</td>\n",
       "      <td>pontiac catalina</td>\n",
       "    </tr>\n",
       "    <tr>\n",
       "      <th>9</th>\n",
       "      <td>15.0</td>\n",
       "      <td>8</td>\n",
       "      <td>390.0</td>\n",
       "      <td>190</td>\n",
       "      <td>3850</td>\n",
       "      <td>8.5</td>\n",
       "      <td>70</td>\n",
       "      <td>1</td>\n",
       "      <td>amc ambassador dpl</td>\n",
       "    </tr>\n",
       "  </tbody>\n",
       "</table>"
      ],
      "text/plain": [
       "<IPython.core.display.HTML object>"
      ]
     },
     "metadata": {},
     "output_type": "display_data"
    }
   ],
   "source": [
    "import pandas as pd\n",
    "from IPython.display import display, HTML \n",
    "df = pd.read_csv('./csv/Auto.csv', encoding='utf-8')\n",
    "display(HTML(df[:10].to_html()))"
   ]
  },
  {
   "cell_type": "code",
   "execution_count": 13,
   "metadata": {
    "ExecuteTime": {
     "end_time": "2022-12-07T10:00:01.811388Z",
     "start_time": "2022-12-07T10:00:01.777701Z"
    }
   },
   "outputs": [
    {
     "name": "stdout",
     "output_type": "stream",
     "text": [
      "[[  18.     8.   307.   130.  3504.    12.    70.     1.  -999. ]\n",
      " [  15.     8.   350.   165.  3693.    11.5   70.     1.  -999. ]\n",
      " [  18.     8.   318.   150.  3436.    11.    70.     1.  -999. ]\n",
      " [  16.     8.   304.   150.  3433.    12.    70.     1.  -999. ]\n",
      " [  17.     8.   302.   140.  3449.    10.5   70.     1.  -999. ]\n",
      " [  15.     8.   429.   198.  4341.    10.    70.     1.  -999. ]\n",
      " [  14.     8.   454.   220.  4354.     9.    70.     1.  -999. ]\n",
      " [  14.     8.   440.   215.  4312.     8.5   70.     1.  -999. ]\n",
      " [  14.     8.   455.   225.  4425.    10.    70.     1.  -999. ]\n",
      " [  15.     8.   390.   190.  3850.     8.5   70.     1.  -999. ]]\n"
     ]
    }
   ],
   "source": [
    "# Turn off scientific notation\n",
    "np.set_printoptions(suppress=True)  \n",
    "\n",
    "# Import data from csv file url\n",
    "path = './csv/Auto.csv'\n",
    "data = np.genfromtxt(path, delimiter=',', skip_header=1, filling_values=-999, dtype='float')\n",
    "# see first 10 rows\n",
    "print(data[:10])"
   ]
  },
  {
   "cell_type": "markdown",
   "metadata": {},
   "source": [
    "看起来很整洁，但是有没有注意到最后一列的所有值都有相同的值'-999'？<br>\n",
    "这是因为，之前提到过```dtype='float'```。<br>\n",
    "而文件的最后一列包含文本值，因为numpy数组中的所有值都必须是相同的'dtype'，所以```np.genfromtxt```不知道如何将其转换为浮点数，只能讲其转为'nan'，此时filling_values就起作用了。"
   ]
  },
  {
   "cell_type": "markdown",
   "metadata": {},
   "source": [
    "### 2.1 如何处理既有数字又有文本列的数据集(datasets)?"
   ]
  },
  {
   "cell_type": "markdown",
   "metadata": {},
   "source": [
    "如果必须处理文本列，而不是使用占位符替代文本，那么可以使用```object```或者```None```这种dtype"
   ]
  },
  {
   "cell_type": "code",
   "execution_count": 14,
   "metadata": {
    "ExecuteTime": {
     "end_time": "2022-12-07T10:01:04.513410Z",
     "start_time": "2022-12-07T10:01:04.487825Z"
    }
   },
   "outputs": [
    {
     "name": "stdout",
     "output_type": "stream",
     "text": [
      "[[b'18' b'8' b'307' b'130' b'3504' b'12' b'70' b'1'\n",
      "  b'\"chevrolet chevelle malibu\"']\n",
      " [b'15' b'8' b'350' b'165' b'3693' b'11.5' b'70' b'1'\n",
      "  b'\"buick skylark 320\"']\n",
      " [b'18' b'8' b'318' b'150' b'3436' b'11' b'70' b'1'\n",
      "  b'\"plymouth satellite\"']\n",
      " [b'16' b'8' b'304' b'150' b'3433' b'12' b'70' b'1' b'\"amc rebel sst\"']\n",
      " [b'17' b'8' b'302' b'140' b'3449' b'10.5' b'70' b'1' b'\"ford torino\"']\n",
      " [b'15' b'8' b'429' b'198' b'4341' b'10' b'70' b'1' b'\"ford galaxie 500\"']\n",
      " [b'14' b'8' b'454' b'220' b'4354' b'9' b'70' b'1' b'\"chevrolet impala\"']\n",
      " [b'14' b'8' b'440' b'215' b'4312' b'8.5' b'70' b'1'\n",
      "  b'\"plymouth fury iii\"']\n",
      " [b'14' b'8' b'455' b'225' b'4425' b'10' b'70' b'1' b'\"pontiac catalina\"']\n",
      " [b'15' b'8' b'390' b'190' b'3850' b'8.5' b'70' b'1'\n",
      "  b'\"amc ambassador dpl\"']]\n"
     ]
    }
   ],
   "source": [
    "datawithobject = np.genfromtxt(path, delimiter=',', \n",
    "                               skip_header=1, \n",
    "                               dtype='object', \n",
    "                               encoding='utf-8')\n",
    "print(datawithobject[:10])"
   ]
  },
  {
   "cell_type": "code",
   "execution_count": 13,
   "metadata": {},
   "outputs": [
    {
     "name": "stdout",
     "output_type": "stream",
     "text": [
      "[(18., 8, 307., 130, 3504, 12. , 70, 1, '\"chevrolet chevelle malibu\"')\n",
      " (15., 8, 350., 165, 3693, 11.5, 70, 1, '\"buick skylark 320\"')\n",
      " (18., 8, 318., 150, 3436, 11. , 70, 1, '\"plymouth satellite\"')\n",
      " (16., 8, 304., 150, 3433, 12. , 70, 1, '\"amc rebel sst\"')\n",
      " (17., 8, 302., 140, 3449, 10.5, 70, 1, '\"ford torino\"')\n",
      " (15., 8, 429., 198, 4341, 10. , 70, 1, '\"ford galaxie 500\"')\n",
      " (14., 8, 454., 220, 4354,  9. , 70, 1, '\"chevrolet impala\"')\n",
      " (14., 8, 440., 215, 4312,  8.5, 70, 1, '\"plymouth fury iii\"')\n",
      " (14., 8, 455., 225, 4425, 10. , 70, 1, '\"pontiac catalina\"')\n",
      " (15., 8, 390., 190, 3850,  8.5, 70, 1, '\"amc ambassador dpl\"')]\n"
     ]
    }
   ],
   "source": [
    "datawithNone = np.genfromtxt(path, delimiter=',', skip_header=1, dtype=None, encoding='utf-8')\n",
    "print(datawithNone[:10])"
   ]
  },
  {
   "cell_type": "markdown",
   "metadata": {},
   "source": [
    "处理完数据之后，可以通过```savetxt```方法，将ndarray对象导出为csv文件"
   ]
  },
  {
   "cell_type": "code",
   "execution_count": 14,
   "metadata": {},
   "outputs": [],
   "source": [
    "np.savetxt('./csv/out.csv', data, delimiter=',', encoding='utf-8')"
   ]
  },
  {
   "cell_type": "markdown",
   "metadata": {},
   "source": [
    "## 3. 如何save与load numpy对象？"
   ]
  },
  {
   "cell_type": "markdown",
   "metadata": {},
   "source": [
    "在某种程度上，我们将希望把numpy array对象保存到磁盘，并在不重新运行数据转换代码的情况下直接将其加载回控制台。<br>\n",
    "Numpy为这个目的提供了.npy和.npz文件类型。\n",
    "如果你想存储一个ndarray对象，那么使用```np.save```将它存储为.npy文件。这可以通过```np.load```返回。\n",
    "如果您想在一个文件中存储多于1个ndarray对象，那么使用```np.savez```将其保存为.npz文件。（类似于压缩的方式）"
   ]
  },
  {
   "cell_type": "code",
   "execution_count": 15,
   "metadata": {},
   "outputs": [
    {
     "name": "stdout",
     "output_type": "stream",
     "text": [
      "arr2d is \n",
      "\n",
      "[[0 1 2]\n",
      " [3 4 5]\n",
      " [6 7 8]]\n"
     ]
    }
   ],
   "source": [
    "list2d = [[0, 1, 2], [3, 4, 5], [6, 7, 8]]\n",
    "arr2d = np.array(list2d)\n",
    "print('arr2d is \\n')\n",
    "print(arr2d)"
   ]
  },
  {
   "cell_type": "code",
   "execution_count": 16,
   "metadata": {},
   "outputs": [
    {
     "name": "stdout",
     "output_type": "stream",
     "text": [
      "[[0. 1. 2.]\n",
      " [3. 4. 5.]\n",
      " [6. 7. 8.]]\n",
      "[ True False  True]\n"
     ]
    }
   ],
   "source": [
    "# Create a float 2d array\n",
    "arr2d_f = np.array(list2d, dtype='float')\n",
    "print(arr2d_f)\n",
    "# Create a boolean array\n",
    "arr2d_b = np.array([1, 0, -1], dtype='bool')\n",
    "print(arr2d_b)"
   ]
  },
  {
   "cell_type": "markdown",
   "metadata": {},
   "source": [
    "将numpy数据保存到本地磁盘的方法："
   ]
  },
  {
   "cell_type": "code",
   "execution_count": 17,
   "metadata": {},
   "outputs": [],
   "source": [
    "# Save single numpy array object as .npy file\n",
    "np.save('./output/numpy/myarray.npy', arr2d)  \n",
    "np.save('./output/numpy/myarray1.npy', arr2d) \n",
    "# Save multile numy arrays as a .npz file\n",
    "np.savez('./output/numpy/array.npz', arr2d_f, arr2d_b)"
   ]
  },
  {
   "cell_type": "code",
   "execution_count": null,
   "metadata": {},
   "outputs": [],
   "source": []
  },
  {
   "cell_type": "markdown",
   "metadata": {},
   "source": [
    "将.npy文件加载到numpy："
   ]
  },
  {
   "cell_type": "code",
   "execution_count": 18,
   "metadata": {},
   "outputs": [
    {
     "name": "stdout",
     "output_type": "stream",
     "text": [
      "[[0 1 2]\n",
      " [3 4 5]\n",
      " [6 7 8]]\n"
     ]
    }
   ],
   "source": [
    "myarray = np.load('./output/numpy/myarray.npy')\n",
    "print(myarray)"
   ]
  },
  {
   "cell_type": "markdown",
   "metadata": {},
   "source": [
    "将.npz文件加载到numpy："
   ]
  },
  {
   "cell_type": "code",
   "execution_count": 19,
   "metadata": {},
   "outputs": [
    {
     "name": "stdout",
     "output_type": "stream",
     "text": [
      "['arr_0', 'arr_1']\n"
     ]
    }
   ],
   "source": [
    "dataunzip = np.load('./output/numpy/array.npz')\n",
    "print(dataunzip.files)"
   ]
  },
  {
   "cell_type": "code",
   "execution_count": 20,
   "metadata": {},
   "outputs": [
    {
     "name": "stdout",
     "output_type": "stream",
     "text": [
      "arr_0: \n",
      "\n",
      "[[0. 1. 2.]\n",
      " [3. 4. 5.]\n",
      " [6. 7. 8.]]\n",
      "arr_1: \n",
      "\n",
      "[ True False  True]\n"
     ]
    }
   ],
   "source": [
    "print('arr_0: \\n')\n",
    "print(dataunzip['arr_0'])\n",
    "print('arr_1: \\n')\n",
    "print(dataunzip['arr_1'])"
   ]
  },
  {
   "cell_type": "markdown",
   "metadata": {},
   "source": [
    "## 4. 如何按照列式与行式连接两个numpy 数组？"
   ]
  },
  {
   "cell_type": "markdown",
   "metadata": {},
   "source": [
    "有三种不同的连接两个或多个numpy阵列的方法。<br>\n",
    "* 方法1:```np.concatenate```, 将axis参数更改为0和1\n",
    "* 方法2:```np.vstack```和```np.hstack```\n",
    "* 方法3:```np.r_```和```np.c_```\n",
    "\n",
    "这三种方法都提供相同的输出。<br>\n",
    "注意:一个关键区别不同于其他两种方法，即```np.r_```和```np.c_```用方括号来堆叠数组。但是首先，需要创建要连接的数组。<br>"
   ]
  },
  {
   "cell_type": "code",
   "execution_count": 21,
   "metadata": {},
   "outputs": [
    {
     "name": "stdout",
     "output_type": "stream",
     "text": [
      "a: \n",
      "\n",
      "[[0. 0. 0. 0.]\n",
      " [0. 0. 0. 0.]\n",
      " [0. 0. 0. 0.]\n",
      " [0. 0. 0. 0.]]\n",
      "b: \n",
      "\n",
      "[[1. 1. 1. 1.]\n",
      " [1. 1. 1. 1.]\n",
      " [1. 1. 1. 1.]\n",
      " [1. 1. 1. 1.]]\n",
      "[[250. 250. 250. 250.]\n",
      " [250. 250. 250. 250.]\n",
      " [250. 250. 250. 250.]\n",
      " [250. 250. 250. 250.]]\n"
     ]
    }
   ],
   "source": [
    "a = np.zeros([4, 4])\n",
    "b = np.ones([4, 4])\n",
    "print('a: \\n')\n",
    "print(a)\n",
    "print('b: \\n')\n",
    "print(b)\n",
    "print(b*250)"
   ]
  },
  {
   "cell_type": "markdown",
   "metadata": {},
   "source": [
    "首先演示如何使用这三种方法<b>垂直</b>堆叠数组：<br>\n",
    "<font color='red'>注意：垂直堆叠数组的前提是，堆叠数组的列的数目相等！！</font>"
   ]
  },
  {
   "cell_type": "code",
   "execution_count": 22,
   "metadata": {},
   "outputs": [
    {
     "name": "stdout",
     "output_type": "stream",
     "text": [
      "[[0. 0. 0. 0.]\n",
      " [0. 0. 0. 0.]\n",
      " [0. 0. 0. 0.]\n",
      " [0. 0. 0. 0.]\n",
      " [1. 1. 1. 1.]\n",
      " [1. 1. 1. 1.]\n",
      " [1. 1. 1. 1.]\n",
      " [1. 1. 1. 1.]]\n"
     ]
    }
   ],
   "source": [
    "print(np.concatenate([a, b], axis=0))"
   ]
  },
  {
   "cell_type": "code",
   "execution_count": 23,
   "metadata": {},
   "outputs": [
    {
     "name": "stdout",
     "output_type": "stream",
     "text": [
      "[[0. 0. 0. 0.]\n",
      " [0. 0. 0. 0.]\n",
      " [0. 0. 0. 0.]\n",
      " [0. 0. 0. 0.]\n",
      " [1. 1. 1. 1.]\n",
      " [1. 1. 1. 1.]\n",
      " [1. 1. 1. 1.]\n",
      " [1. 1. 1. 1.]]\n"
     ]
    }
   ],
   "source": [
    "print(np.vstack([a, b]))"
   ]
  },
  {
   "cell_type": "code",
   "execution_count": 24,
   "metadata": {},
   "outputs": [
    {
     "name": "stdout",
     "output_type": "stream",
     "text": [
      "[[0. 0. 0. 0.]\n",
      " [0. 0. 0. 0.]\n",
      " [0. 0. 0. 0.]\n",
      " [0. 0. 0. 0.]\n",
      " [1. 1. 1. 1.]\n",
      " [1. 1. 1. 1.]\n",
      " [1. 1. 1. 1.]\n",
      " [1. 1. 1. 1.]]\n"
     ]
    }
   ],
   "source": [
    "print(np.r_[a, b])"
   ]
  },
  {
   "cell_type": "markdown",
   "metadata": {},
   "source": [
    "下面演示如何用三种方法<b>水平</b>堆叠数组：<br>\n",
    "<font color='red'>注意：水平堆叠数组的前提是，堆叠数组的行的数目相等！！</font>"
   ]
  },
  {
   "cell_type": "code",
   "execution_count": 25,
   "metadata": {},
   "outputs": [
    {
     "name": "stdout",
     "output_type": "stream",
     "text": [
      "[[0. 0. 0. 0. 1. 1. 1. 1.]\n",
      " [0. 0. 0. 0. 1. 1. 1. 1.]\n",
      " [0. 0. 0. 0. 1. 1. 1. 1.]\n",
      " [0. 0. 0. 0. 1. 1. 1. 1.]]\n"
     ]
    }
   ],
   "source": [
    "print(np.concatenate([a, b], axis=1))"
   ]
  },
  {
   "cell_type": "code",
   "execution_count": 26,
   "metadata": {},
   "outputs": [
    {
     "name": "stdout",
     "output_type": "stream",
     "text": [
      "[[0. 0. 0. 0. 1. 1. 1. 1.]\n",
      " [0. 0. 0. 0. 1. 1. 1. 1.]\n",
      " [0. 0. 0. 0. 1. 1. 1. 1.]\n",
      " [0. 0. 0. 0. 1. 1. 1. 1.]]\n"
     ]
    }
   ],
   "source": [
    "print(np.hstack([a, b]))"
   ]
  },
  {
   "cell_type": "code",
   "execution_count": 27,
   "metadata": {},
   "outputs": [
    {
     "name": "stdout",
     "output_type": "stream",
     "text": [
      "[[0. 0. 0. 0. 1. 1. 1. 1.]\n",
      " [0. 0. 0. 0. 1. 1. 1. 1.]\n",
      " [0. 0. 0. 0. 1. 1. 1. 1.]\n",
      " [0. 0. 0. 0. 1. 1. 1. 1.]]\n"
     ]
    }
   ],
   "source": [
    "print(np.c_[a, b])"
   ]
  },
  {
   "cell_type": "markdown",
   "metadata": {},
   "source": [
    "此外，还可以使用```np.r_```创建更复杂1维数组数字序列："
   ]
  },
  {
   "cell_type": "code",
   "execution_count": 28,
   "metadata": {},
   "outputs": [
    {
     "name": "stdout",
     "output_type": "stream",
     "text": [
      "[1 2 3 0 0 4 5 6]\n"
     ]
    }
   ],
   "source": [
    "print(np.r_[[1,2,3], [0], 0, [4, 5, 6]])"
   ]
  },
  {
   "cell_type": "markdown",
   "metadata": {},
   "source": [
    "## 5. 如何基于一列或更多列，对numpy的数组排序？"
   ]
  },
  {
   "cell_type": "markdown",
   "metadata": {},
   "source": [
    "首先，基于第一列对一个2维数组排序, 这里我们设置了种子数88，目的是为了随机数是固定的，方便演示："
   ]
  },
  {
   "cell_type": "code",
   "execution_count": 29,
   "metadata": {},
   "outputs": [
    {
     "name": "stdout",
     "output_type": "stream",
     "text": [
      "[[1 1 2 3]\n",
      " [5 2 1 5]\n",
      " [3 1 3 2]\n",
      " [4 5 3 2]\n",
      " [3 4 2 1]\n",
      " [1 5 4 1]\n",
      " [1 4 2 3]\n",
      " [4 4 4 2]]\n"
     ]
    }
   ],
   "source": [
    "np.random.seed(88)\n",
    "arr = np.random.randint(1, 6, size=[8, 4])\n",
    "print(arr)"
   ]
  },
  {
   "cell_type": "markdown",
   "metadata": {},
   "source": [
    "通过上面的做法，创建了一个8行4列的随机数组。"
   ]
  },
  {
   "cell_type": "markdown",
   "metadata": {},
   "source": [
    "如果你使用```np.sort```函数与```axis=0```的参数，所有的列都将按升序排序，独立于彼此。<br>\n",
    "但相应的，每行的数据将完全被重构，与原始数据将不再有任何联系。"
   ]
  },
  {
   "cell_type": "code",
   "execution_count": 46,
   "metadata": {},
   "outputs": [
    {
     "name": "stdout",
     "output_type": "stream",
     "text": [
      "[[1 1 1 1]\n",
      " [1 1 2 1]\n",
      " [1 2 2 2]\n",
      " [3 4 2 2]\n",
      " [3 4 3 2]\n",
      " [4 4 3 3]\n",
      " [4 5 4 3]\n",
      " [5 5 4 5]]\n"
     ]
    }
   ],
   "source": [
    "print(np.sort(arr, axis=0))"
   ]
  },
  {
   "cell_type": "markdown",
   "metadata": {},
   "source": [
    "如果不希望破坏原有数据中行数据，建议使用间接的排序方法：```np.argsort```，请参见下方的内容："
   ]
  },
  {
   "cell_type": "markdown",
   "metadata": {},
   "source": [
    "### 5.1 如何使用argsort方法，基于第1列对numpy的数组进行排序? （即保留每行数据）"
   ]
  },
  {
   "cell_type": "markdown",
   "metadata": {},
   "source": [
    "首先需要理解```np.argsort```是如何运作的。"
   ]
  },
  {
   "cell_type": "markdown",
   "metadata": {},
   "source": [
    "```np.argsort```返回作为已排序之后的1维数组的各个数据项的索引，如："
   ]
  },
  {
   "cell_type": "code",
   "execution_count": 31,
   "metadata": {},
   "outputs": [
    {
     "name": "stdout",
     "output_type": "stream",
     "text": [
      "index positions of sorted array: \n",
      "\n",
      "[0 3 2 4 5 1]\n",
      "\n",
      "sorted array: \n",
      "\n",
      "[ 1  2  5  8  9 10]\n"
     ]
    }
   ],
   "source": [
    "x = np.array([1, 10, 5, 2, 8, 9])\n",
    "sort_index = np.argsort(x)\n",
    "print('index positions of sorted array: \\n')\n",
    "print(sort_index)\n",
    "print()\n",
    "print('sorted array: \\n')\n",
    "print(x[sort_index])"
   ]
  },
  {
   "cell_type": "markdown",
   "metadata": {},
   "source": [
    "现在，为了对初始数组:arr排序，将要对第一列做一次```argsort```，并且将获得的索引结果，尝试对arr进行排序："
   ]
  },
  {
   "cell_type": "code",
   "execution_count": 32,
   "metadata": {},
   "outputs": [
    {
     "name": "stdout",
     "output_type": "stream",
     "text": [
      "[[1 1 2 3]\n",
      " [5 2 1 5]\n",
      " [3 1 3 2]\n",
      " [4 5 3 2]\n",
      " [3 4 2 1]\n",
      " [1 5 4 1]\n",
      " [1 4 2 3]\n",
      " [4 4 4 2]]\n",
      "The 1st column data of arr: \n",
      "\n",
      "[1 5 3 4 3 1 1 4]\n",
      "\n",
      "The sorted index of 1st column: \n",
      "\n",
      "[0 5 6 2 4 3 7 1]\n"
     ]
    }
   ],
   "source": [
    "print(arr)\n",
    "print('The 1st column data of arr: \\n')\n",
    "print(arr[:, 0])\n",
    "print()\n",
    "sorted_index_1stcol = arr[:, 0].argsort()\n",
    "print('The sorted index of 1st column: \\n')\n",
    "print(sorted_index_1stcol)"
   ]
  },
  {
   "cell_type": "code",
   "execution_count": 33,
   "metadata": {},
   "outputs": [
    {
     "name": "stdout",
     "output_type": "stream",
     "text": [
      "original arr is: \n",
      "\n",
      "[[1 1 2 3]\n",
      " [5 2 1 5]\n",
      " [3 1 3 2]\n",
      " [4 5 3 2]\n",
      " [3 4 2 1]\n",
      " [1 5 4 1]\n",
      " [1 4 2 3]\n",
      " [4 4 4 2]]\n",
      "\n",
      "Sort arr by the result of sorted index of 1st column: \n",
      "\n",
      "[[1 1 2 3]\n",
      " [1 5 4 1]\n",
      " [1 4 2 3]\n",
      " [3 1 3 2]\n",
      " [3 4 2 1]\n",
      " [4 5 3 2]\n",
      " [4 4 4 2]\n",
      " [5 2 1 5]]\n"
     ]
    }
   ],
   "source": [
    "print('original arr is: \\n')\n",
    "print(arr)\n",
    "print()\n",
    "print('Sort arr by the result of sorted index of 1st column: \\n')\n",
    "print(arr[sorted_index_1stcol])"
   ]
  },
  {
   "cell_type": "markdown",
   "metadata": {},
   "source": [
    "这是升序排列，那么如何降序排列呢？简单来说，仅仅翻转sorted_index_1stcol就可以了："
   ]
  },
  {
   "cell_type": "code",
   "execution_count": 34,
   "metadata": {},
   "outputs": [
    {
     "name": "stdout",
     "output_type": "stream",
     "text": [
      "[[5 2 1 5]\n",
      " [4 4 4 2]\n",
      " [4 5 3 2]\n",
      " [3 4 2 1]\n",
      " [3 1 3 2]\n",
      " [1 4 2 3]\n",
      " [1 5 4 1]\n",
      " [1 1 2 3]]\n"
     ]
    }
   ],
   "source": [
    "print(arr[sorted_index_1stcol[::-1]])"
   ]
  },
  {
   "cell_type": "markdown",
   "metadata": {},
   "source": [
    "### 5.2 如何基于2列甚至更多列对numpy的数组进行排序?"
   ]
  },
  {
   "cell_type": "markdown",
   "metadata": {},
   "source": [
    "可以使用```np.lexsort```方法，通过基于该数组所应的排序，传递一个列的元组。<br>\n",
    "<b>需要记住的是，将列首先在元组内的最右边进行排序</b>"
   ]
  },
  {
   "cell_type": "code",
   "execution_count": 38,
   "metadata": {},
   "outputs": [
    {
     "name": "stdout",
     "output_type": "stream",
     "text": [
      "arr \n",
      "\n",
      "[[1 1 2 3]\n",
      " [5 2 1 5]\n",
      " [3 1 3 2]\n",
      " [4 5 3 2]\n",
      " [3 4 2 1]\n",
      " [1 5 4 1]\n",
      " [1 4 2 3]\n",
      " [4 4 4 2]]\n",
      "\n",
      "arr[:, 1] \n",
      "\n",
      "[1 2 1 5 4 5 4 4]\n",
      "\n",
      "arr[:, 0] \n",
      "\n",
      "[1 5 3 4 3 1 1 4]\n",
      "\n",
      "lexsorted_index \n",
      "\n",
      "[4 5 2 7 3 0 6 1]\n",
      "\n",
      "sort arr by lextsorted_index: \n",
      "\n",
      "[[3 4 2 1]\n",
      " [1 5 4 1]\n",
      " [3 1 3 2]\n",
      " [4 4 4 2]\n",
      " [4 5 3 2]\n",
      " [1 1 2 3]\n",
      " [1 4 2 3]\n",
      " [5 2 1 5]]\n",
      "\n",
      "[[5 2 1 5]\n",
      " [1 4 2 3]\n",
      " [1 1 2 3]\n",
      " [4 5 3 2]\n",
      " [4 4 4 2]\n",
      " [3 1 3 2]\n",
      " [1 5 4 1]\n",
      " [3 4 2 1]]\n"
     ]
    }
   ],
   "source": [
    "print('arr \\n')\n",
    "print(arr)\n",
    "print()\n",
    "print('arr[:, 1] \\n')\n",
    "print(arr[:, 1])\n",
    "print()\n",
    "print('arr[:, 0] \\n')\n",
    "print(arr[:, 0])\n",
    "print()\n",
    "lexsorted_index = np.lexsort((arr[:,0], arr[:, 1], arr[:, 3]))\n",
    "print('lexsorted_index \\n')\n",
    "print(lexsorted_index)\n",
    "print()\n",
    "print('sort arr by lextsorted_index: \\n')\n",
    "print(arr[lexsorted_index])\n",
    "print()\n",
    "print(arr[lexsorted_index[::-1]])"
   ]
  },
  {
   "cell_type": "markdown",
   "metadata": {},
   "source": [
    "具体意思，就是先按照第一列进行排序，然后按照第二列进行排序。"
   ]
  },
  {
   "cell_type": "markdown",
   "metadata": {},
   "source": [
    "## 6. 处理日期"
   ]
  },
  {
   "cell_type": "markdown",
   "metadata": {},
   "source": [
    "Numpy通过```np.datetime64```对象实现日期，它支持的精度可以到纳秒。<br>\n",
    "可以使用标准YYYY-MM-DD格式化的日期字符串来创建一个日期对象。"
   ]
  },
  {
   "cell_type": "code",
   "execution_count": 55,
   "metadata": {},
   "outputs": [
    {
     "name": "stdout",
     "output_type": "stream",
     "text": [
      "2018-10-06T23:10:10\n"
     ]
    }
   ],
   "source": [
    "# Create a datetime64 object\n",
    "date64 = np.datetime64('2018-10-06 23:10:10')\n",
    "print(date64)"
   ]
  },
  {
   "cell_type": "markdown",
   "metadata": {},
   "source": [
    "当然，也可以传递hours, minutes, seconds一直到nanoseconds (纳秒)。<br>\n",
    "下面的例子，是如何只显示日期，而不显示时间部分："
   ]
  },
  {
   "cell_type": "code",
   "execution_count": 56,
   "metadata": {},
   "outputs": [
    {
     "name": "stdout",
     "output_type": "stream",
     "text": [
      "2018-10-06\n"
     ]
    }
   ],
   "source": [
    "dt64 = np.datetime64(date64, 'D')\n",
    "print(dt64)"
   ]
  },
  {
   "cell_type": "markdown",
   "metadata": {},
   "source": [
    "默认情况下，如果你添加一个数字，就会增加天数。<br>\n",
    "但是如果你需要增加其他时间单位比如月、小时、秒等，那么```timedelta64```对象就很方便了。"
   ]
  },
  {
   "cell_type": "code",
   "execution_count": 58,
   "metadata": {},
   "outputs": [
    {
     "name": "stdout",
     "output_type": "stream",
     "text": [
      "Add 10 days:  2018-10-16\n",
      "Add 10 minutes:  2018-10-06T00:10\n",
      "Add 10 seconds:  2018-10-06T00:00:10\n",
      "Add 10 nanoseconds:  2018-10-06T00:00:00.000000010\n"
     ]
    }
   ],
   "source": [
    "# Create the timedeltas (individual units of time)\n",
    "tenminutes = np.timedelta64(10, 'm')  # 10 minutes\n",
    "tenseconds = np.timedelta64(10, 's')  # 10 seconds\n",
    "tennanoseconds = np.timedelta64(10, 'ns')  # 10 nanoseconds\n",
    "\n",
    "print('Add 10 days: ', dt64 + 10)\n",
    "print('Add 10 minutes: ', dt64 + tenminutes)\n",
    "print('Add 10 seconds: ', dt64 + tenseconds)\n",
    "print('Add 10 nanoseconds: ', dt64 + tennanoseconds)"
   ]
  },
  {
   "cell_type": "markdown",
   "metadata": {},
   "source": [
    "下面的例子，是如何将dt64转换为字符串："
   ]
  },
  {
   "cell_type": "code",
   "execution_count": 60,
   "metadata": {},
   "outputs": [
    {
     "name": "stdout",
     "output_type": "stream",
     "text": [
      "2018-10-06\n"
     ]
    }
   ],
   "source": [
    "# Convert np.datetime64 back to a string\n",
    "print(np.datetime_as_string(dt64))"
   ]
  },
  {
   "cell_type": "code",
   "execution_count": null,
   "metadata": {},
   "outputs": [],
   "source": []
  },
  {
   "cell_type": "markdown",
   "metadata": {},
   "source": [
    "在处理日期时，通常需要从数据中过滤出业务时间。可以通过使用```np.is_busday```方法，知道给定的日期是否为business day"
   ]
  },
  {
   "cell_type": "code",
   "execution_count": 63,
   "metadata": {},
   "outputs": [
    {
     "name": "stdout",
     "output_type": "stream",
     "text": [
      "Date:  2018-01-01\n",
      "Is it a business day?:  True\n",
      "Add 2 business days, rolling forward to nearest biz day:  2018-01-03\n",
      "Add 2 business days, rolling backward to nearest biz day:  2018-01-03\n"
     ]
    }
   ],
   "source": [
    "dt64 = np.datetime64('2018-01-01', 'D')\n",
    "print('Date: ', dt64)\n",
    "print(\"Is it a business day?: \", np.is_busday(dt64))  \n",
    "# 'forward' and 'following' mean to take the first valid day later in time.\n",
    "print(\"Add 2 business days, rolling forward to nearest biz day: \", \n",
    "      np.busday_offset(dt64, 2, roll='forward')) \n",
    "# 'backward' and 'preceding' mean to take the first valid day earlier in time.\n",
    "print(\"Add 2 business days, rolling backward to nearest biz day: \", \n",
    "      np.busday_offset(dt64, 2, roll='backward')) "
   ]
  },
  {
   "cell_type": "markdown",
   "metadata": {},
   "source": [
    "### 6.1 如何创建一个日期序列?"
   ]
  },
  {
   "cell_type": "markdown",
   "metadata": {},
   "source": [
    "这个需求可以简单的通过```np.arange```方法实现："
   ]
  },
  {
   "cell_type": "code",
   "execution_count": 65,
   "metadata": {},
   "outputs": [
    {
     "name": "stdout",
     "output_type": "stream",
     "text": [
      "['2018-10-01' '2018-10-02' '2018-10-03' '2018-10-04' '2018-10-05'\n",
      " '2018-10-06' '2018-10-07' '2018-10-08' '2018-10-09']\n",
      "[ True  True  True  True  True False False  True  True]\n"
     ]
    }
   ],
   "source": [
    "# Create date sequence\n",
    "dates = np.arange(np.datetime64('2018-10-01'), np.datetime64('2018-10-10'))\n",
    "print(dates)\n",
    "\n",
    "# Check if its a business day\n",
    "print(np.is_busday(dates))"
   ]
  },
  {
   "cell_type": "markdown",
   "metadata": {},
   "source": [
    "### 6.2 如何将numpy.datetime64转换为datetime.datetime对象?"
   ]
  },
  {
   "cell_type": "code",
   "execution_count": 67,
   "metadata": {},
   "outputs": [
    {
     "name": "stdout",
     "output_type": "stream",
     "text": [
      "<class 'datetime.date'>\n",
      "2018-01-01\n"
     ]
    }
   ],
   "source": [
    "# Convert np.datetime64 to datetime.datetime\n",
    "import datetime\n",
    "dt = dt64.tolist()\n",
    "print(type(dt))\n",
    "print(dt)"
   ]
  },
  {
   "cell_type": "markdown",
   "metadata": {},
   "source": [
    "一旦你把它转换成一个```datetime.date```对象，您有更多的工具来提取各种日期相关的数据："
   ]
  },
  {
   "cell_type": "code",
   "execution_count": 68,
   "metadata": {},
   "outputs": [
    {
     "name": "stdout",
     "output_type": "stream",
     "text": [
      "Year:  2018\n",
      "Day of month:  1\n",
      "Month of year:  1\n",
      "Day of Week:  0\n"
     ]
    }
   ],
   "source": [
    "print('Year: ', dt.year)  \n",
    "print('Day of month: ', dt.day)\n",
    "print('Month of year: ', dt.month)  \n",
    "print('Day of Week: ', dt.weekday())"
   ]
  },
  {
   "cell_type": "markdown",
   "metadata": {},
   "source": [
    "## 7. 更多numpy的函数"
   ]
  },
  {
   "cell_type": "markdown",
   "metadata": {},
   "source": [
    "### 7.1 向量化(Vectorize) - 使用一个标量(Scalar)函数作用于向量(Vector)"
   ]
  },
  {
   "cell_type": "markdown",
   "metadata": {},
   "source": [
    "通过使用vectorize()的函数，可以创建一个用于处理单个数字的函数，以便处理数组。"
   ]
  },
  {
   "cell_type": "markdown",
   "metadata": {},
   "source": [
    "如同这个简单的例子：\n",
    "函数foo（参见下面的代码）接受一个数字：如果这个数字是“奇数”，则将其平方；否则则将其除以2。<br>\n",
    "当在一个标量（单独的数字）上应用这个函数时，它可以很好的运作，但是在应用于数组时却失败了。<br>\n",
    "使用numpy的vectorize()，即可以令其在数组中工作。"
   ]
  },
  {
   "cell_type": "code",
   "execution_count": 72,
   "metadata": {},
   "outputs": [
    {
     "name": "stdout",
     "output_type": "stream",
     "text": [
      "x = 10 returns  5.0\n",
      "x = 11 returns  121\n"
     ]
    }
   ],
   "source": [
    "# Define a scalar function\n",
    "def foo(x):\n",
    "    if x % 2 == 1:\n",
    "        return x**2\n",
    "    else:\n",
    "        return x/2\n",
    "\n",
    "# On a scalar\n",
    "print('x = 10 returns ', foo(10))\n",
    "print('x = 11 returns ', foo(11))\n"
   ]
  },
  {
   "cell_type": "code",
   "execution_count": 73,
   "metadata": {},
   "outputs": [
    {
     "ename": "TypeError",
     "evalue": "unsupported operand type(s) for %: 'list' and 'int'",
     "output_type": "error",
     "traceback": [
      "\u001b[1;31m---------------------------------------------------------------------------\u001b[0m",
      "\u001b[1;31mTypeError\u001b[0m                                 Traceback (most recent call last)",
      "\u001b[1;32m<ipython-input-73-7b9f99b015bb>\u001b[0m in \u001b[0;36m<module>\u001b[1;34m()\u001b[0m\n\u001b[0;32m      1\u001b[0m \u001b[1;31m# On a vector, doesn't work\u001b[0m\u001b[1;33m\u001b[0m\u001b[1;33m\u001b[0m\u001b[1;33m\u001b[0m\u001b[0m\n\u001b[1;32m----> 2\u001b[1;33m \u001b[0mprint\u001b[0m\u001b[1;33m(\u001b[0m\u001b[1;34m'x = [10, 11, 12] returns '\u001b[0m\u001b[1;33m,\u001b[0m \u001b[0mfoo\u001b[0m\u001b[1;33m(\u001b[0m\u001b[1;33m[\u001b[0m\u001b[1;36m10\u001b[0m\u001b[1;33m,\u001b[0m \u001b[1;36m11\u001b[0m\u001b[1;33m,\u001b[0m \u001b[1;36m12\u001b[0m\u001b[1;33m]\u001b[0m\u001b[1;33m)\u001b[0m\u001b[1;33m)\u001b[0m  \u001b[1;31m# Error\u001b[0m\u001b[1;33m\u001b[0m\u001b[1;33m\u001b[0m\u001b[0m\n\u001b[0m",
      "\u001b[1;32m<ipython-input-72-226285459fcd>\u001b[0m in \u001b[0;36mfoo\u001b[1;34m(x)\u001b[0m\n\u001b[0;32m      1\u001b[0m \u001b[1;31m# Define a scalar function\u001b[0m\u001b[1;33m\u001b[0m\u001b[1;33m\u001b[0m\u001b[1;33m\u001b[0m\u001b[0m\n\u001b[0;32m      2\u001b[0m \u001b[1;32mdef\u001b[0m \u001b[0mfoo\u001b[0m\u001b[1;33m(\u001b[0m\u001b[0mx\u001b[0m\u001b[1;33m)\u001b[0m\u001b[1;33m:\u001b[0m\u001b[1;33m\u001b[0m\u001b[1;33m\u001b[0m\u001b[0m\n\u001b[1;32m----> 3\u001b[1;33m     \u001b[1;32mif\u001b[0m \u001b[0mx\u001b[0m \u001b[1;33m%\u001b[0m \u001b[1;36m2\u001b[0m \u001b[1;33m==\u001b[0m \u001b[1;36m1\u001b[0m\u001b[1;33m:\u001b[0m\u001b[1;33m\u001b[0m\u001b[1;33m\u001b[0m\u001b[0m\n\u001b[0m\u001b[0;32m      4\u001b[0m         \u001b[1;32mreturn\u001b[0m \u001b[0mx\u001b[0m\u001b[1;33m**\u001b[0m\u001b[1;36m2\u001b[0m\u001b[1;33m\u001b[0m\u001b[1;33m\u001b[0m\u001b[0m\n\u001b[0;32m      5\u001b[0m     \u001b[1;32melse\u001b[0m\u001b[1;33m:\u001b[0m\u001b[1;33m\u001b[0m\u001b[1;33m\u001b[0m\u001b[0m\n",
      "\u001b[1;31mTypeError\u001b[0m: unsupported operand type(s) for %: 'list' and 'int'"
     ]
    }
   ],
   "source": [
    "# On a vector, doesn't work\n",
    "print('x = [10, 11, 12] returns ', foo([10, 11, 12]))  # Error "
   ]
  },
  {
   "cell_type": "markdown",
   "metadata": {},
   "source": [
    "下面，将函数foo()向量化，使其可以运行数组参数："
   ]
  },
  {
   "cell_type": "code",
   "execution_count": 74,
   "metadata": {},
   "outputs": [
    {
     "name": "stdout",
     "output_type": "stream",
     "text": [
      "x = [10, 11, 12] returns  [  5. 121.   6.]\n",
      "x = [[10, 11, 12], [1, 2, 3]] returns  [[  5. 121.   6.]\n",
      " [  1.   1.   9.]]\n"
     ]
    }
   ],
   "source": [
    "# Vectorize foo(). Make it work on vectors.\n",
    "foo_v = np.vectorize(foo, otypes=[float])\n",
    "\n",
    "print('x = [10, 11, 12] returns ', foo_v([10, 11, 12]))\n",
    "print('x = [[10, 11, 12], [1, 2, 3]] returns ', foo_v([[10, 11, 12], [1, 2, 3]]))"
   ]
  },
  {
   "cell_type": "markdown",
   "metadata": {},
   "source": [
    "当我们需要将作用于标量的函数，也适用于数组，vectorize方法就非常有用了。"
   ]
  },
  {
   "cell_type": "markdown",
   "metadata": {},
   "source": [
    "```vectorize```方法也接受可选的参数：otypes，这个参数将告诉输出的结果应该是什么类型。<br>\n",
    "显式的声明输出结果的数据类型，也会令```vectorize```方法，运行的更快。"
   ]
  },
  {
   "cell_type": "markdown",
   "metadata": {},
   "source": [
    "### 7.2 apply_along_axis – 使得某个函数作用于列或行"
   ]
  },
  {
   "cell_type": "markdown",
   "metadata": {},
   "source": [
    "首先创建一个2维数组："
   ]
  },
  {
   "cell_type": "code",
   "execution_count": 76,
   "metadata": {},
   "outputs": [
    {
     "name": "stdout",
     "output_type": "stream",
     "text": [
      "[[9 9 4 8 8 1 5 3 6 3]\n",
      " [3 3 2 1 9 5 1 7 3 5]\n",
      " [2 6 4 5 5 4 8 2 2 8]\n",
      " [8 1 3 4 3 6 9 2 1 8]]\n"
     ]
    }
   ],
   "source": [
    "# Create a 4x10 random array\n",
    "np.random.seed(100)\n",
    "arr_x = np.random.randint(1,10,size=[4,10])\n",
    "print(arr_x)"
   ]
  },
  {
   "cell_type": "markdown",
   "metadata": {},
   "source": [
    "先理解如何解决下述问题："
   ]
  },
  {
   "cell_type": "markdown",
   "metadata": {},
   "source": [
    "<font color='red'><b>如何在每一行发现最大值与最小值的差异？</b></font>"
   ]
  },
  {
   "cell_type": "markdown",
   "metadata": {},
   "source": [
    "通常的方法是写一个for循环，遍历每一行，然后在每次迭代中计算max-min。<br>\n",
    "这个方法看起来还行，但是如果想要基于列做同样的事情，或者想要实现一个更复杂的计算，它可能会变得很麻烦。<br>\n",
    "你可以用```numpy.apply_along_axis```来优雅地做这件事。"
   ]
  },
  {
   "cell_type": "markdown",
   "metadata": {},
   "source": [
    "此方法接受如下参数：<br>\n",
    "* 作用于一维向量（fund1d）的函数 (下面的例子是max_minus_min函数)\n",
    "* Axis的作用是应用: func1d。对于2D数组，1是行，0是列。\n",
    "* 作用于参数: func1d的数组，应该被适用。\n",
    "\n",
    "这种描述看起来太费解，直接看例子好了："
   ]
  },
  {
   "cell_type": "code",
   "execution_count": 79,
   "metadata": {},
   "outputs": [
    {
     "name": "stdout",
     "output_type": "stream",
     "text": [
      "[[9 9 4 8 8 1 5 3 6 3]\n",
      " [3 3 2 1 9 5 1 7 3 5]\n",
      " [2 6 4 5 5 4 8 2 2 8]\n",
      " [8 1 3 4 3 6 9 2 1 8]]\n",
      "\n",
      "[9 9 4 8 8 1 5 3 6 3]\n",
      "[3 3 2 1 9 5 1 7 3 5]\n",
      "[2 6 4 5 5 4 8 2 2 8]\n",
      "[8 1 3 4 3 6 9 2 1 8]\n",
      "基于行轴，所以数组成员为4个:  [8 8 6 8]\n",
      "[9 3 2 8]\n",
      "[9 3 6 1]\n",
      "[4 2 4 3]\n",
      "[8 1 5 4]\n",
      "[8 9 5 3]\n",
      "[1 5 4 6]\n",
      "[5 1 8 9]\n",
      "[3 7 2 2]\n",
      "[6 3 2 1]\n",
      "[3 5 8 8]\n",
      "基于列轴，所以数组成员为10个:  [7 8 2 7 6 5 8 5 5 5]\n"
     ]
    }
   ],
   "source": [
    "print(arr_x)\n",
    "print()\n",
    "# Define func1d\n",
    "def max_minus_min(x):\n",
    "    print(x)\n",
    "    return np.max(x) - np.min(x)\n",
    "\n",
    "# Apply along the rows\n",
    "print('基于行轴，所以数组成员为4个: ', \n",
    "      np.apply_along_axis(max_minus_min, 1, arr=arr_x))\n",
    "\n",
    "# Apply along the columns\n",
    "print('基于列轴，所以数组成员为10个: ', \n",
    "      np.apply_along_axis(max_minus_min, 0, arr=arr_x))"
   ]
  },
  {
   "cell_type": "markdown",
   "metadata": {},
   "source": [
    "### 7.3 searchsorted - 即按照已有的排序方式，找到需要添加的位置"
   ]
  },
  {
   "cell_type": "markdown",
   "metadata": {},
   "source": [
    "```numpy.searchsorted```：如果我们需要向一个既有数组添加项目，这个方法可以告诉我们，需要在哪个位置添加该项目"
   ]
  },
  {
   "cell_type": "code",
   "execution_count": 82,
   "metadata": {},
   "outputs": [
    {
     "name": "stdout",
     "output_type": "stream",
     "text": [
      "range(0, 10)\n",
      "[0 1 2 3 4 5 6 7 8 9]\n",
      "Where should 5 be inserted?:  5\n",
      "Where should 5 be inserted (right)?:  6\n"
     ]
    }
   ],
   "source": [
    "# example of searchsorted\n",
    "y = range(10)\n",
    "print(y)\n",
    "x = np.arange(10)\n",
    "print(x)\n",
    "print('Where should 5 be inserted?: ', np.searchsorted(x, 5))\n",
    "print('Where should 5 be inserted (right)?: ', np.searchsorted(x, 5, side='right'))"
   ]
  },
  {
   "cell_type": "markdown",
   "metadata": {},
   "source": [
    "可以使用```searchsorted```方法，去做带有概率的元素采样，这将比```np.choice```快很多"
   ]
  },
  {
   "cell_type": "code",
   "execution_count": 86,
   "metadata": {},
   "outputs": [
    {
     "name": "stdout",
     "output_type": "stream",
     "text": [
      "probs.sum()\n",
      "4960.142678045143\n",
      "[0.00006068 0.00004981 0.00018676 0.00017975 0.00013775 0.00011429\n",
      " 0.00011027 0.00004242 0.00015519 0.00018069 0.00014549 0.00010056\n",
      " 0.00008915 0.00016178 0.00017032 0.0000462  0.00019398 0.00001188\n",
      " 0.00005843 0.00006293 0.00014151 0.00014266 0.00019012 0.00012225\n",
      " 0.00007162 0.00008484 0.00018276 0.00005079 0.00006107 0.00001533\n",
      " 0.0000507  0.00018359 0.00017008 0.00012846 0.00019961 0.00018949\n",
      " 0.00017236 0.00018571 0.00013422 0.00007924 0.00011749 0.00007609\n",
      " 0.00009684 0.00007287 0.00003359 0.00018043 0.00010949 0.00016598\n",
      " 0.00011448 0.00000135 0.00012657 0.00015496 0.00006449 0.00000554\n",
      " 0.0000183  0.00005157 0.00012443 0.00016758 0.00000205 0.00013812\n",
      " 0.00002763 0.00018722 0.00012535 0.00019952 0.0000547  0.00011982\n",
      " 0.00010539 0.00014804 0.00012655 0.0001211  0.00019554 0.00012294\n",
      " 0.00013421 0.00015352 0.00001326 0.00017649 0.00014341 0.00018142\n",
      " 0.00010691 0.00000107 0.00016216 0.00011418 0.00018654 0.00002591\n",
      " 0.00005073 0.00014956 0.0000145  0.00013427 0.00005125 0.00009156\n",
      " 0.00010264 0.00019011 0.00011193 0.0001808  0.00013389 0.00009882\n",
      " 0.00012231 0.00000224 0.00007683 0.00007246]\n",
      "probs.cumsum()\n",
      "[0.00006068 0.00011049 0.00029724 0.000477   0.00061475 0.00072904\n",
      " 0.00083931 0.00088173 0.00103692 0.00121761]\n",
      "41.4 µs ± 4.26 µs per loop (mean ± std. dev. of 7 runs, 10000 loops each)\n",
      "2.92 ms ± 1.69 ms per loop (mean ± std. dev. of 7 runs, 1000 loops each)\n",
      "listbysearchsorted is: \n",
      "\n",
      "np.random.random() 0.9040519314256172\n",
      "976\n",
      "9225\n",
      "\n",
      "listbychoice is: \n",
      "\n",
      "5530\n"
     ]
    }
   ],
   "source": [
    "# Randomly choose an item from a list based on a predefined probability\n",
    "np.random.seed(49)\n",
    "lst = range(10000)  # the list\n",
    "probs = np.random.random(10000)\n",
    "print('probs.sum()')\n",
    "print(probs.sum())\n",
    "probs /= probs.sum()  # probabilities\n",
    "print(probs[:100])\n",
    "print('probs.cumsum()')\n",
    "print(probs.cumsum()[:10])\n",
    "%timeit listbysearchsorted = lst[np.searchsorted(probs.cumsum(), np.random.random())]\n",
    "%timeit listbychoice = np.random.choice(lst, p=probs)\n",
    "print('listbysearchsorted is: \\n')\n",
    "print('np.random.random()', np.random.random())\n",
    "print(lst[np.searchsorted(probs.cumsum(), np.random.random())])\n",
    "print(lst[lst[np.searchsorted(probs.cumsum(), np.random.random())]])\n",
    "print()\n",
    "print('listbychoice is: \\n')\n",
    "print(np.random.choice(lst, p=probs))"
   ]
  },
  {
   "cell_type": "code",
   "execution_count": 1,
   "metadata": {},
   "outputs": [],
   "source": [
    "# help(np.random)"
   ]
  },
  {
   "cell_type": "markdown",
   "metadata": {},
   "source": [
    "### 7.4 如何向一个numpy的数组添加新的Axis?"
   ]
  },
  {
   "cell_type": "markdown",
   "metadata": {},
   "source": [
    "有时，可能想要将1D数组转换成2D数组（如电子表格），而不需要添加任何额外的数据?<br>\n",
    "为了达到这个目的，可能会这样做，以便将1D数组作为csv文件中的单个列，或者可能想要将它与另一个类似形状的数组连接起来。<br>\n",
    "不管原因是什么，都可以通过使用np.newaxis插入一个新的轴来做到这一点。<br>\n",
    "实际上，使用这个可以将一个较低维度的数组提升到一个更高的维度（升维）"
   ]
  },
  {
   "cell_type": "code",
   "execution_count": 87,
   "metadata": {},
   "outputs": [
    {
     "name": "stdout",
     "output_type": "stream",
     "text": [
      "Original array:  [0 1 2 3 4]\n",
      "x_col shape:  (5, 1)\n",
      "[[0]\n",
      " [1]\n",
      " [2]\n",
      " [3]\n",
      " [4]]\n",
      "x_row shape:  (1, 5)\n",
      "[[0 1 2 3 4]]\n"
     ]
    }
   ],
   "source": [
    "# Create a 1D array\n",
    "x = np.arange(5)\n",
    "print('Original array: ', x)\n",
    "\n",
    "# Introduce a new column axis\n",
    "x_col = x[:, np.newaxis]\n",
    "print('x_col shape: ', x_col.shape)\n",
    "print(x_col)\n",
    "\n",
    "# Introduce a new row axis\n",
    "x_row = x[np.newaxis, :]\n",
    "print('x_row shape: ', x_row.shape)\n",
    "print(x_row)"
   ]
  },
  {
   "cell_type": "markdown",
   "metadata": {},
   "source": [
    "### 7.5 更多有用的numpy函数"
   ]
  },
  {
   "cell_type": "markdown",
   "metadata": {},
   "source": [
    "#### Digitize"
   ]
  },
  {
   "cell_type": "markdown",
   "metadata": {},
   "source": [
    "使用```np.digitize```方法，可以返回每个元素所属的bin的索引位置。"
   ]
  },
  {
   "cell_type": "code",
   "execution_count": 88,
   "metadata": {},
   "outputs": [
    {
     "name": "stdout",
     "output_type": "stream",
     "text": [
      "[0 1 2 3 4 5 6 7 8 9]\n",
      "[ 2  5 11]\n",
      "注意：bins事实上成为digitize函数对应的01234，\n",
      "      原数组：012都是0，34对应1，56对应2，78对应3，9对应4\n",
      "[0 0 1 1 1 2 2 2 2 2]\n"
     ]
    }
   ],
   "source": [
    "# Create the array and bins\n",
    "x = np.arange(10)\n",
    "print(x)\n",
    "bins = np.array([2, 5, 11])\n",
    "print(bins)\n",
    "print('''注意：bins事实上成为digitize函数对应的01234，\n",
    "      原数组：012都是0，34对应1，56对应2，78对应3，9对应4''')\n",
    "# Get bin allotments\n",
    "print(np.digitize(x, bins))"
   ]
  },
  {
   "cell_type": "markdown",
   "metadata": {},
   "source": [
    "#### Clip"
   ]
  },
  {
   "cell_type": "markdown",
   "metadata": {},
   "source": [
    "通过```np.clip```方法，在给定的截止范围内限制数字。<br>\n",
    "所有小于下限的数字将被下限所取代。同样的道理也适用于上限。"
   ]
  },
  {
   "cell_type": "code",
   "execution_count": 90,
   "metadata": {},
   "outputs": [
    {
     "name": "stdout",
     "output_type": "stream",
     "text": [
      "[0 1 2 3 4 5 6 7 8 9]\n",
      "[3 3 3 3 4 5 6 7 8 8]\n"
     ]
    }
   ],
   "source": [
    "print(x)\n",
    "# Cap all elements of x to lie between 3 and 8\n",
    "print(np.clip(x, 3, 8))"
   ]
  },
  {
   "cell_type": "markdown",
   "metadata": {},
   "source": [
    "#### Histogram and Bincount"
   ]
  },
  {
   "cell_type": "markdown",
   "metadata": {},
   "source": [
    "histogram()和bincount()都给出了发生的频率。但是有一些区别。<br>\n",
    "虽然histogram()给出了bins的频率计数，但是bincount()给出了在最小值和最大值之间的数组范围内所有元素的频率计数，包括那些没有发生的值。"
   ]
  },
  {
   "cell_type": "code",
   "execution_count": 91,
   "metadata": {},
   "outputs": [
    {
     "name": "stdout",
     "output_type": "stream",
     "text": [
      "[0 2 3 0 2 1 3]\n"
     ]
    }
   ],
   "source": [
    "# Bincount example\n",
    "x = np.array([1,1,2,2,2,4,4,5,6,6,6]) # doesn't need to be sorted\n",
    "print(np.bincount(x)) # 0 occurs 0 times, 1 occurs 2 times, 2 occurs thrice, 3 occurs 0 times, ..."
   ]
  },
  {
   "cell_type": "code",
   "execution_count": 92,
   "metadata": {},
   "outputs": [
    {
     "name": "stdout",
     "output_type": "stream",
     "text": [
      "x:  [1 1 2 2 2 4 4 5 6 6 6]\n",
      "解释： bins为 [0, 2, 4, 6, 8]。\n",
      "需要明确的是，当bins为序列时，其应该是升序排列的数字，而且需要两两计算，\n",
      "并且除了最后一组，其他的右区间都是开区间而不是闭区间。\n",
      "首先看[0, 2)，x中满足的有:1,1 ，所以count为2\n",
      "然后看[2,4)，x中满足的有：2,2,2，所以count为3\n",
      "然后看[4,6)，x中满足的有：4,4,5，所以count为3\n",
      "然后看[6, 8]，注意最后一项组成的bin，右区间是闭合的，\n",
      "x中满足的有: 6, 6, 6，所以count为3\n",
      "所以构成了counts数组:[2 3 3 3]\n",
      "\n",
      "Counts:  [2 3 3 3]\n",
      "Bins:  [0 2 4 6 8]\n"
     ]
    }
   ],
   "source": [
    "# Histogram example\n",
    "print('x: ', x)\n",
    "counts, bins = np.histogram(x, [0, 2, 4, 6, 8])\n",
    "print('''解释： bins为 [0, 2, 4, 6, 8]。\n",
    "需要明确的是，当bins为序列时，其应该是升序排列的数字，而且需要两两计算，\n",
    "并且除了最后一组，其他的右区间都是开区间而不是闭区间。\n",
    "首先看[0, 2)，x中满足的有:1,1 ，所以count为2\n",
    "然后看[2,4)，x中满足的有：2,2,2，所以count为3\n",
    "然后看[4,6)，x中满足的有：4,4,5，所以count为3\n",
    "然后看[6, 8]，注意最后一项组成的bin，右区间是闭合的，\n",
    "x中满足的有: 6, 6, 6，所以count为3\n",
    "所以构成了counts数组:[2 3 3 3]\n",
    "''')\n",
    "print('Counts: ', counts)\n",
    "print('Bins: ', bins)"
   ]
  },
  {
   "cell_type": "markdown",
   "metadata": {},
   "source": [
    "同理，可以使用更复杂的数组来计算直方："
   ]
  },
  {
   "cell_type": "code",
   "execution_count": 93,
   "metadata": {},
   "outputs": [
    {
     "name": "stdout",
     "output_type": "stream",
     "text": [
      "Counts:  [1 3 1 0 2]\n",
      "Bins:  [ 9 10 33 45 56 78]\n"
     ]
    }
   ],
   "source": [
    "counts, bins = np.histogram([10, 9, 256, 22, 25, 78, 100,33, 88, 56, 98], bins=[9, 10, 33, 45, 56, 78])\n",
    "print('Counts: ', counts)\n",
    "print('Bins: ', bins)"
   ]
  },
  {
   "cell_type": "markdown",
   "metadata": {},
   "source": [
    "## 8. Numpy不能做什么？"
   ]
  },
  {
   "cell_type": "markdown",
   "metadata": {},
   "source": [
    "到目前为止，我们已经介绍了大量使用numpy进行数据操作的技术。<br>\n",
    "但是有很多事情是不能直接用numpy做的。<br>\n",
    "基于有限的知识，这里列举一些：<br>\n",
    "* 1. 没有直接的功能来合并两个基于普通列的2维数组。\n",
    "* 2. 直接创建透视表\n",
    "* 3. 没有直接的方法来做二维交叉表。\n",
    "* 4. 没有直接的方法根据数组中的某个唯一值计算统计数据（如平均值）。\n",
    "* 5. 其他。。。\n",
    "\n",
    "但是这些numpy中无法做到的事情，pandas可以很方便的做到。。。<br>"
   ]
  },
  {
   "cell_type": "code",
   "execution_count": null,
   "metadata": {},
   "outputs": [],
   "source": []
  }
 ],
 "metadata": {
  "kernelspec": {
   "display_name": "Python 3 (ipykernel)",
   "language": "python",
   "name": "python3"
  },
  "language_info": {
   "codemirror_mode": {
    "name": "ipython",
    "version": 3
   },
   "file_extension": ".py",
   "mimetype": "text/x-python",
   "name": "python",
   "nbconvert_exporter": "python",
   "pygments_lexer": "ipython3",
   "version": "3.8.10"
  },
  "latex_envs": {
   "LaTeX_envs_menu_present": true,
   "autoclose": false,
   "autocomplete": true,
   "bibliofile": "biblio.bib",
   "cite_by": "apalike",
   "current_citInitial": 1,
   "eqLabelWithNumbers": true,
   "eqNumInitial": 1,
   "hotkeys": {
    "equation": "Ctrl-E",
    "itemize": "Ctrl-I"
   },
   "labels_anchors": false,
   "latex_user_defs": false,
   "report_style_numbering": false,
   "user_envs_cfg": false
  },
  "toc": {
   "base_numbering": 1,
   "nav_menu": {},
   "number_sections": true,
   "sideBar": true,
   "skip_h1_title": false,
   "title_cell": "Table of Contents",
   "title_sidebar": "Contents",
   "toc_cell": false,
   "toc_position": {
    "height": "calc(100% - 180px)",
    "left": "10px",
    "top": "150px",
    "width": "265.295px"
   },
   "toc_section_display": true,
   "toc_window_display": true
  }
 },
 "nbformat": 4,
 "nbformat_minor": 2
}
