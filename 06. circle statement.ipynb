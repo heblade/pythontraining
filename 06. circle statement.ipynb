{
 "cells": [
  {
   "cell_type": "markdown",
   "metadata": {},
   "source": [
    "# 循环语句\n",
    "Python中的循环语句有 for 和 while， Python循环语句的控制结构图如下所示"
   ]
  },
  {
   "cell_type": "markdown",
   "metadata": {},
   "source": [
    "![循环语句](./image/while_loop_1.png)"
   ]
  },
  {
   "cell_type": "markdown",
   "metadata": {},
   "source": [
    "## while循环\n",
    "* while 判断条件:\n",
    "<br>&nbsp;&nbsp;&nbsp;&nbsp;语句\n",
    "* 同样需要注意冒号和缩进。另外，在Python中没有do..while循环"
   ]
  },
  {
   "cell_type": "markdown",
   "metadata": {},
   "source": [
    "以下实例使用了 while 来计算 1 到 100 的总和"
   ]
  },
  {
   "cell_type": "code",
   "execution_count": 1,
   "metadata": {},
   "outputs": [
    {
     "name": "stdout",
     "output_type": "stream",
     "text": [
      "1 到 100 之和为: 5050\n"
     ]
    }
   ],
   "source": [
    "n = 100\n",
    "sum = 0\n",
    "counter = 1\n",
    "while counter <= n:\n",
    "    sum = sum + counter\n",
    "    counter += 1\n",
    "\n",
    "print(\"1 到 %d 之和为: %d\" % (n,sum))"
   ]
  },
  {
   "cell_type": "code",
   "execution_count": 2,
   "metadata": {},
   "outputs": [
    {
     "name": "stdout",
     "output_type": "stream",
     "text": [
      "从前有座山, \n",
      "山上有座庙。\n",
      "庙里有个老和尚，\n",
      "有一天，老和尚对小和尚说：\n",
      "从前有座山, \n",
      "山上有座庙。\n",
      "庙里有个老和尚，\n",
      "有一天，老和尚对小和尚说：\n",
      "从前有座山, \n",
      "山上有座庙。\n",
      "庙里有个老和尚，\n",
      "有一天，老和尚对小和尚说：\n",
      "从前有座山, \n",
      "山上有座庙。\n",
      "庙里有个老和尚，\n",
      "有一天，老和尚对小和尚说：\n",
      "从前有座山, \n",
      "山上有座庙。\n",
      "庙里有个老和尚，\n",
      "有一天，老和尚对小和尚说：\n",
      "从前有座山, \n",
      "...\n"
     ]
    }
   ],
   "source": [
    "output = ['从前有座山, ', \n",
    "          '山上有座庙。',\n",
    "          '庙里有个老和尚，', \n",
    "          '有一天，老和尚对小和尚说：']\n",
    "count = 0\n",
    "while count <=20:\n",
    "    print(output[count % 4])\n",
    "    count += 1\n",
    "print(\"...\")"
   ]
  },
  {
   "cell_type": "markdown",
   "metadata": {},
   "source": [
    "### 无限循环\n",
    "我们可以通过设置条件表达式永远不为 false 来实现无限循环\n",
    "无限循环在服务器上客户端的实时请求非常有用"
   ]
  },
  {
   "cell_type": "code",
   "execution_count": 3,
   "metadata": {},
   "outputs": [
    {
     "name": "stdout",
     "output_type": "stream",
     "text": [
      "输入一个数字  :34132\n",
      "你输入的数字是:  34132\n",
      "输入一个数字  :13414\n",
      "你输入的数字是:  13414\n",
      "输入一个数字  :1\n",
      "你输入的数字是:  1\n",
      "输入一个数字  :dfa\n"
     ]
    },
    {
     "ename": "ValueError",
     "evalue": "invalid literal for int() with base 10: 'dfa'",
     "output_type": "error",
     "traceback": [
      "\u001b[1;31m---------------------------------------------------------------------------\u001b[0m",
      "\u001b[1;31mValueError\u001b[0m                                Traceback (most recent call last)",
      "\u001b[1;32m<ipython-input-3-e918fdeecc43>\u001b[0m in \u001b[0;36m<module>\u001b[1;34m\u001b[0m\n\u001b[0;32m      1\u001b[0m \u001b[0mvar\u001b[0m \u001b[1;33m=\u001b[0m \u001b[1;36m1\u001b[0m\u001b[1;33m\u001b[0m\u001b[1;33m\u001b[0m\u001b[0m\n\u001b[0;32m      2\u001b[0m \u001b[1;32mwhile\u001b[0m \u001b[0mvar\u001b[0m \u001b[1;33m==\u001b[0m \u001b[1;36m1\u001b[0m \u001b[1;33m:\u001b[0m  \u001b[1;31m# 表达式永远为 true\u001b[0m\u001b[1;33m\u001b[0m\u001b[1;33m\u001b[0m\u001b[0m\n\u001b[1;32m----> 3\u001b[1;33m     \u001b[0mnum\u001b[0m \u001b[1;33m=\u001b[0m \u001b[0mint\u001b[0m\u001b[1;33m(\u001b[0m\u001b[0minput\u001b[0m\u001b[1;33m(\u001b[0m\u001b[1;34m\"输入一个数字  :\"\u001b[0m\u001b[1;33m)\u001b[0m\u001b[1;33m)\u001b[0m\u001b[1;33m\u001b[0m\u001b[1;33m\u001b[0m\u001b[0m\n\u001b[0m\u001b[0;32m      4\u001b[0m     \u001b[0mprint\u001b[0m \u001b[1;33m(\u001b[0m\u001b[1;34m\"你输入的数字是: \"\u001b[0m\u001b[1;33m,\u001b[0m \u001b[0mnum\u001b[0m\u001b[1;33m)\u001b[0m\u001b[1;33m\u001b[0m\u001b[1;33m\u001b[0m\u001b[0m\n\u001b[0;32m      5\u001b[0m \u001b[1;33m\u001b[0m\u001b[0m\n",
      "\u001b[1;31mValueError\u001b[0m: invalid literal for int() with base 10: 'dfa'"
     ]
    }
   ],
   "source": [
    "var = 1\n",
    "while var == 1 :  # 表达式永远为 true\n",
    "    num = int(input(\"输入一个数字  :\"))\n",
    "    print (\"你输入的数字是: \", num)\n",
    "    \n",
    "print(\"Good bye!\")"
   ]
  },
  {
   "cell_type": "markdown",
   "metadata": {},
   "source": [
    "### while 循环使用 else 语句\n",
    "在 while … else 在条件语句为 false 时执行 else 的语句块"
   ]
  },
  {
   "cell_type": "code",
   "execution_count": 5,
   "metadata": {},
   "outputs": [
    {
     "name": "stdout",
     "output_type": "stream",
     "text": [
      "0  小于 5\n",
      "1  小于 5\n",
      "2  小于 5\n",
      "3  小于 5\n",
      "4  小于 5\n",
      "5  大于或等于 5\n"
     ]
    }
   ],
   "source": [
    "count = 0\n",
    "while count < 5:\n",
    "    print (count, \" 小于 5\")\n",
    "    count = count + 1\n",
    "else:\n",
    "    print (count, \" 大于或等于 5\")"
   ]
  },
  {
   "cell_type": "markdown",
   "metadata": {},
   "source": [
    "## for语句\n",
    "* Python for循环可以遍历任何序列的项目，如一个列表或者一个字符串\n",
    "* for循环的一般格式如下\n",
    "* for 变量 in 可枚举变量:\n",
    "    <br>&nbsp;&nbsp;&nbsp;&nbsp;语句\n",
    "    <br>else:\n",
    "    <br>&nbsp;&nbsp;&nbsp;&nbsp;语句"
   ]
  },
  {
   "cell_type": "code",
   "execution_count": 6,
   "metadata": {},
   "outputs": [
    {
     "name": "stdout",
     "output_type": "stream",
     "text": [
      "C\n",
      "C++\n",
      "Perl\n",
      "Python\n"
     ]
    }
   ],
   "source": [
    "languages = [\"C\", \"C++\", \"Perl\", \"Python\"]\n",
    "for x in languages:\n",
    "    print(x)"
   ]
  },
  {
   "cell_type": "markdown",
   "metadata": {},
   "source": [
    "break语句，用于跳出当前循环体"
   ]
  },
  {
   "cell_type": "code",
   "execution_count": 7,
   "metadata": {},
   "outputs": [
    {
     "name": "stdout",
     "output_type": "stream",
     "text": [
      "循环数据 Baidu\n",
      "循环数据 Google\n",
      "晨星\n",
      "完成循环!\n"
     ]
    }
   ],
   "source": [
    "sites = []\n",
    "sites = [\"Baidu\", \"Google\",\"Morningstar\",\"Taobao\"]\n",
    "for site in sites:\n",
    "    if site == \"Morningstar\":\n",
    "        print(\"晨星\")\n",
    "        break\n",
    "    print(\"循环数据 \" + site)\n",
    "else:\n",
    "    # 对于break跳出循环的场景，不会执行该语句\n",
    "    print(\"没有循环数据!\")\n",
    "print(\"完成循环!\")"
   ]
  },
  {
   "cell_type": "markdown",
   "metadata": {},
   "source": [
    "### range()函数\n",
    "如果你需要遍历数字序列，可以使用内置range()函数。它会生成数列"
   ]
  },
  {
   "cell_type": "code",
   "execution_count": 9,
   "metadata": {},
   "outputs": [
    {
     "name": "stdout",
     "output_type": "stream",
     "text": [
      "0\n",
      "1\n",
      "2\n",
      "3\n",
      "4\n",
      "5\n",
      "6\n",
      "7\n",
      "8\n",
      "9\n",
      "\n",
      "5\n",
      "6\n",
      "7\n",
      "8\n",
      "9\n",
      "range(0, 10)\n",
      "[0, 1, 2, 3, 4, 5, 6, 7, 8, 9]\n"
     ]
    }
   ],
   "source": [
    "for i in range(10):\n",
    "    print(i)\n",
    "print()\n",
    "for i in range(5, 10):\n",
    "    print(i)\n",
    "print(range(10))\n",
    "# 迭代器转列表\n",
    "print(list(range(10)))"
   ]
  },
  {
   "cell_type": "markdown",
   "metadata": {},
   "source": [
    "也可以使range以指定数字开始并指定不同的增量(甚至可以是负数，有时这也叫做'步长'):"
   ]
  },
  {
   "cell_type": "code",
   "execution_count": 10,
   "metadata": {},
   "outputs": [
    {
     "name": "stdout",
     "output_type": "stream",
     "text": [
      "0\n",
      "3\n",
      "6\n",
      "9\n"
     ]
    }
   ],
   "source": [
    "for i in range(0, 10, 3):\n",
    "    print(i)"
   ]
  },
  {
   "cell_type": "code",
   "execution_count": 11,
   "metadata": {},
   "outputs": [
    {
     "name": "stdout",
     "output_type": "stream",
     "text": [
      "10\n",
      "8\n",
      "6\n",
      "4\n",
      "2\n"
     ]
    }
   ],
   "source": [
    "for i in range(10, 1, -2):\n",
    "    print(i)"
   ]
  },
  {
   "cell_type": "markdown",
   "metadata": {},
   "source": [
    "您可以结合range()和len()函数以遍历一个序列的索引,如下所示"
   ]
  },
  {
   "cell_type": "code",
   "execution_count": 12,
   "metadata": {},
   "outputs": [
    {
     "name": "stdout",
     "output_type": "stream",
     "text": [
      "0 Google\n",
      "1 Baidu\n",
      "2 Morningstar\n",
      "3 Taobao\n",
      "4 QQ\n",
      "0 Google\n",
      "1 Baidu\n",
      "2 Morningstar\n",
      "3 Taobao\n",
      "4 QQ\n"
     ]
    }
   ],
   "source": [
    "a = ['Google', 'Baidu', 'Morningstar', 'Taobao', 'QQ']\n",
    "for i in range(len(a)):\n",
    "    print(i, a[i])\n",
    "\n",
    "for index, member in enumerate(a):\n",
    "    print(index, member)"
   ]
  },
  {
   "cell_type": "markdown",
   "metadata": {},
   "source": [
    "通过range()函数生成一个列表"
   ]
  },
  {
   "cell_type": "code",
   "execution_count": 18,
   "metadata": {},
   "outputs": [
    {
     "name": "stdout",
     "output_type": "stream",
     "text": [
      "range(0, 7)\n",
      "<class 'range'>\n",
      "[0, 1, 2, 3, 4, 5, 6]\n"
     ]
    }
   ],
   "source": [
    "print(range(7))\n",
    "print(type(range(7)))\n",
    "print(list(range(7)))"
   ]
  },
  {
   "cell_type": "markdown",
   "metadata": {},
   "source": [
    "<font color='red'><b>Python内置有枚举器: enumerate，使用这个更方便：</b></font>"
   ]
  },
  {
   "cell_type": "code",
   "execution_count": 2,
   "metadata": {},
   "outputs": [
    {
     "name": "stdout",
     "output_type": "stream",
     "text": [
      "0 Google\n",
      "1 Baidu\n",
      "2 Morningstar\n",
      "3 Taobao\n",
      "4 QQ\n"
     ]
    }
   ],
   "source": [
    "for index, member in  enumerate(['Google', 'Baidu', 'Morningstar', 'Taobao', 'QQ']):\n",
    "    print(index, member)"
   ]
  },
  {
   "cell_type": "markdown",
   "metadata": {},
   "source": [
    "### break和continue语句及循环中的else子句\n",
    "* break 语句可以跳出 for 和 while 的循环体。\n",
    "* continue语句，跳过当前循环语句，继续下一次循环。\n",
    "* 如果你从 for 或 while 循环中终止，任何对应的循环 else 块将不执行"
   ]
  },
  {
   "cell_type": "code",
   "execution_count": 17,
   "metadata": {},
   "outputs": [
    {
     "name": "stdout",
     "output_type": "stream",
     "text": [
      "当前字母为 : M\n",
      "\n",
      "当期变量值为 : 10\n",
      "当期变量值为 : 9\n",
      "当期变量值为 : 8\n",
      "当期变量值为 : 7\n",
      "当期变量值为 : 6\n",
      "Good bye!\n"
     ]
    }
   ],
   "source": [
    "# 重点！\n",
    "for letter in 'Morningstar':     # 第一个实例\n",
    "    if letter.lower() == 'o':         # 对字母做判断，建议先进行lower或upper转换，这样可以匹配更多情景\n",
    "#         pass\n",
    "        break\n",
    "    print ('当前字母为 :', letter)\n",
    "\n",
    "print()\n",
    "\n",
    "var = 10                    # 第二个实例\n",
    "while var > 0:              \n",
    "    print ('当期变量值为 :', var)\n",
    "    var = var - 1\n",
    "    if var == 5:\n",
    "        break\n",
    "\n",
    "print (\"Good bye!\")"
   ]
  },
  {
   "cell_type": "code",
   "execution_count": 18,
   "metadata": {
    "scrolled": true
   },
   "outputs": [
    {
     "name": "stdout",
     "output_type": "stream",
     "text": [
      "当前字母 : M\n",
      "当前字母 : o\n",
      "当前字母 : r\n",
      "当前字母 : n\n",
      "当前字母 : i\n",
      "当前字母 : n\n",
      "当前字母 : g\n",
      "当前字母 : s\n",
      "当前字母 : t\n",
      "当前字母 : r\n",
      "\n",
      "当前变量值 : 9\n",
      "当前变量值 : 8\n",
      "当前变量值 : 7\n",
      "当前变量值 : 6\n",
      "当前变量值 : 4\n",
      "当前变量值 : 3\n",
      "当前变量值 : 2\n",
      "当前变量值 : 1\n",
      "当前变量值 : 0\n",
      "Good bye!\n"
     ]
    }
   ],
   "source": [
    "for letter in 'Morningstar':     # 第一个实例\n",
    "    if letter.lower() == 'a':        # 字母为 o 时跳过输出\n",
    "        continue\n",
    "    print ('当前字母 :', letter)\n",
    "\n",
    "print()\n",
    "var = 10                    # 第二个实例\n",
    "while var > 0:              \n",
    "    var = var -1\n",
    "    if var == 5:             # 变量为 5 时跳过输出\n",
    "        continue\n",
    "    print ('当前变量值 :', var)\n",
    "print (\"Good bye!\")"
   ]
  },
  {
   "cell_type": "markdown",
   "metadata": {},
   "source": [
    "循环语句可以有 else 子句，它在穷尽列表(以for循环)或条件变为 false (以while循环)导致循环终止时被执行,但循环被break终止时不执行。\n",
    "\n",
    "如下实例用于查询质数的循环例子:"
   ]
  },
  {
   "cell_type": "code",
   "execution_count": 19,
   "metadata": {},
   "outputs": [
    {
     "name": "stdout",
     "output_type": "stream",
     "text": [
      "2  是质数\n",
      "3  是质数\n",
      "4 等于 2 * 2\n",
      "5  是质数\n",
      "6 等于 2 * 3\n",
      "7  是质数\n",
      "8 等于 2 * 4\n",
      "9 等于 3 * 3\n",
      "10 等于 2 * 5\n",
      "11  是质数\n",
      "12 等于 2 * 6\n",
      "13  是质数\n",
      "14 等于 2 * 7\n",
      "15 等于 3 * 5\n",
      "16 等于 2 * 8\n",
      "17  是质数\n",
      "18 等于 2 * 9\n",
      "19  是质数\n",
      "20 等于 2 * 10\n",
      "21 等于 3 * 7\n",
      "22 等于 2 * 11\n",
      "23  是质数\n",
      "24 等于 2 * 12\n",
      "25 等于 5 * 5\n",
      "26 等于 2 * 13\n",
      "27 等于 3 * 9\n",
      "28 等于 2 * 14\n",
      "29  是质数\n",
      "30 等于 2 * 15\n",
      "31  是质数\n",
      "32 等于 2 * 16\n",
      "33 等于 3 * 11\n",
      "34 等于 2 * 17\n",
      "35 等于 5 * 7\n",
      "36 等于 2 * 18\n",
      "37  是质数\n",
      "38 等于 2 * 19\n",
      "39 等于 3 * 13\n",
      "40 等于 2 * 20\n",
      "41  是质数\n",
      "42 等于 2 * 21\n",
      "43  是质数\n",
      "44 等于 2 * 22\n",
      "45 等于 3 * 15\n",
      "46 等于 2 * 23\n",
      "47  是质数\n",
      "48 等于 2 * 24\n",
      "49 等于 7 * 7\n",
      "50 等于 2 * 25\n",
      "51 等于 3 * 17\n",
      "52 等于 2 * 26\n",
      "53  是质数\n",
      "54 等于 2 * 27\n",
      "55 等于 5 * 11\n",
      "56 等于 2 * 28\n",
      "57 等于 3 * 19\n",
      "58 等于 2 * 29\n",
      "59  是质数\n",
      "60 等于 2 * 30\n",
      "61  是质数\n",
      "62 等于 2 * 31\n",
      "63 等于 3 * 21\n",
      "64 等于 2 * 32\n",
      "65 等于 5 * 13\n",
      "66 等于 2 * 33\n",
      "67  是质数\n",
      "68 等于 2 * 34\n",
      "69 等于 3 * 23\n",
      "70 等于 2 * 35\n",
      "71  是质数\n",
      "72 等于 2 * 36\n",
      "73  是质数\n",
      "74 等于 2 * 37\n",
      "75 等于 3 * 25\n",
      "76 等于 2 * 38\n",
      "77 等于 7 * 11\n",
      "78 等于 2 * 39\n",
      "79  是质数\n",
      "80 等于 2 * 40\n",
      "81 等于 3 * 27\n",
      "82 等于 2 * 41\n",
      "83  是质数\n",
      "84 等于 2 * 42\n",
      "85 等于 5 * 17\n",
      "86 等于 2 * 43\n",
      "87 等于 3 * 29\n",
      "88 等于 2 * 44\n",
      "89  是质数\n",
      "90 等于 2 * 45\n",
      "91 等于 7 * 13\n",
      "92 等于 2 * 46\n",
      "93 等于 3 * 31\n",
      "94 等于 2 * 47\n",
      "95 等于 5 * 19\n",
      "96 等于 2 * 48\n",
      "97  是质数\n",
      "98 等于 2 * 49\n",
      "99 等于 3 * 33\n"
     ]
    }
   ],
   "source": [
    "for n in range(2, 100):\n",
    "    for x in range(2, n):\n",
    "        if n % x == 0:\n",
    "            print(n, '等于', x, '*', n//x)\n",
    "            break\n",
    "    else:\n",
    "        # 循环中没有找到元素\n",
    "        print(n, ' 是质数')"
   ]
  },
  {
   "cell_type": "markdown",
   "metadata": {},
   "source": [
    "### Pass语句\n",
    "Python pass是空语句，是为了保持程序结构的完整性。一般情况下，只是为了防止语法错误，用于做逻辑块预留。\n",
    "\n",
    "pass 不做任何事情，一般用做占位语句，如下实例"
   ]
  },
  {
   "cell_type": "code",
   "execution_count": 12,
   "metadata": {},
   "outputs": [
    {
     "ename": "KeyboardInterrupt",
     "evalue": "",
     "output_type": "error",
     "traceback": [
      "\u001b[1;31m---------------------------------------------------------------------------\u001b[0m",
      "\u001b[1;31mKeyboardInterrupt\u001b[0m                         Traceback (most recent call last)",
      "\u001b[1;32m<ipython-input-12-644e3ac8d62b>\u001b[0m in \u001b[0;36m<module>\u001b[1;34m()\u001b[0m\n\u001b[0;32m      1\u001b[0m \u001b[1;32mwhile\u001b[0m \u001b[1;32mTrue\u001b[0m\u001b[1;33m:\u001b[0m\u001b[1;33m\u001b[0m\u001b[0m\n\u001b[1;32m----> 2\u001b[1;33m     \u001b[1;32mpass\u001b[0m  \u001b[1;31m#等待键盘中断，在jupyte notebook, 需要点击interrupt按钮\u001b[0m\u001b[1;33m\u001b[0m\u001b[0m\n\u001b[0m",
      "\u001b[1;31mKeyboardInterrupt\u001b[0m: "
     ]
    }
   ],
   "source": [
    "# 没事情的时候，千万不要执行\n",
    "while True:\n",
    "    pass  #等待键盘中断，在jupyte notebook, 需要点击interrupt按钮"
   ]
  },
  {
   "cell_type": "code",
   "execution_count": 20,
   "metadata": {},
   "outputs": [
    {
     "name": "stdout",
     "output_type": "stream",
     "text": [
      "当前字母 : M\n",
      "执行 pass 块\n",
      "当前字母 : o\n",
      "当前字母 : r\n",
      "当前字母 : n\n",
      "当前字母 : i\n",
      "当前字母 : n\n",
      "当前字母 : g\n",
      "当前字母 : s\n",
      "当前字母 : t\n",
      "当前字母 : a\n",
      "当前字母 : r\n",
      "Good bye!\n"
     ]
    }
   ],
   "source": [
    "for letter in 'Morningstar': \n",
    "    if letter == 'o':\n",
    "        pass\n",
    "        print ('执行 pass 块')\n",
    "    print ('当前字母 :', letter)\n",
    "\n",
    "print (\"Good bye!\")"
   ]
  },
  {
   "cell_type": "markdown",
   "metadata": {},
   "source": [
    "for 循环 1-100 所有整数的和"
   ]
  },
  {
   "cell_type": "code",
   "execution_count": 21,
   "metadata": {},
   "outputs": [
    {
     "name": "stdout",
     "output_type": "stream",
     "text": [
      "5050\n"
     ]
    }
   ],
   "source": [
    "n = 0\n",
    "sum = 0\n",
    "for n in range(0,101):# n 范围 0-100\n",
    "    sum += n\n",
    "#     sum = sum + n\n",
    "print(sum)"
   ]
  },
  {
   "cell_type": "code",
   "execution_count": 22,
   "metadata": {},
   "outputs": [
    {
     "name": "stdout",
     "output_type": "stream",
     "text": [
      "row: 0, docrawname is :Putnam VT Capital Opportunities Fund Class IB\n",
      "row: 1, docrawname is :Putnam VT Capital Opportunities Fund Class IB\n",
      "row: 2, docrawname is :Putnam VT Capital Opportunities Fund Class IB\n",
      "row: 3, docrawname is :Putnam VT Diversified Income Fund Class IB\n",
      "row: 4, docrawname is :Putnam VT Diversified Income Fund Class IB\n"
     ]
    },
    {
     "data": {
      "text/html": [
       "<div>\n",
       "<style scoped>\n",
       "    .dataframe tbody tr th:only-of-type {\n",
       "        vertical-align: middle;\n",
       "    }\n",
       "\n",
       "    .dataframe tbody tr th {\n",
       "        vertical-align: top;\n",
       "    }\n",
       "\n",
       "    .dataframe thead th {\n",
       "        text-align: right;\n",
       "    }\n",
       "</style>\n",
       "<table border=\"1\" class=\"dataframe\">\n",
       "  <thead>\n",
       "    <tr style=\"text-align: right;\">\n",
       "      <th></th>\n",
       "      <th>Unnamed: 0</th>\n",
       "      <th>docid</th>\n",
       "      <th>policyid</th>\n",
       "      <th>subaccountid</th>\n",
       "      <th>secid</th>\n",
       "      <th>status</th>\n",
       "      <th>dmname</th>\n",
       "      <th>docrawname</th>\n",
       "    </tr>\n",
       "  </thead>\n",
       "  <tbody>\n",
       "    <tr>\n",
       "      <th>0</th>\n",
       "      <td>0</td>\n",
       "      <td>168203073</td>\n",
       "      <td>VPUSA0009R</td>\n",
       "      <td>VAUSA058DQ</td>\n",
       "      <td>FVUSA04ABP</td>\n",
       "      <td>1</td>\n",
       "      <td>Putnam VT Capital Opportunities Fund Class IB</td>\n",
       "      <td>putnam vt capital opportunities fund  class ib</td>\n",
       "    </tr>\n",
       "    <tr>\n",
       "      <th>1</th>\n",
       "      <td>1</td>\n",
       "      <td>168203073</td>\n",
       "      <td>VPUSA000AQ</td>\n",
       "      <td>VAUSA058DL</td>\n",
       "      <td>FVUSA04ABP</td>\n",
       "      <td>1</td>\n",
       "      <td>Putnam VT Capital Opportunities Fund Class IB</td>\n",
       "      <td>putnam vt capital opportunities fund  class ib</td>\n",
       "    </tr>\n",
       "    <tr>\n",
       "      <th>2</th>\n",
       "      <td>2</td>\n",
       "      <td>168203073</td>\n",
       "      <td>VPUSA000G6</td>\n",
       "      <td>VAUSA058DH</td>\n",
       "      <td>FVUSA04ABP</td>\n",
       "      <td>1</td>\n",
       "      <td>Putnam VT Capital Opportunities Fund Class IB</td>\n",
       "      <td>putnam vt capital opportunities fund  class ib</td>\n",
       "    </tr>\n",
       "    <tr>\n",
       "      <th>3</th>\n",
       "      <td>0</td>\n",
       "      <td>168203073</td>\n",
       "      <td>VPUSA0009R</td>\n",
       "      <td>VAUSA00C6M</td>\n",
       "      <td>FVUSA001Q9</td>\n",
       "      <td>1</td>\n",
       "      <td>Putnam VT Diversified Income Fund Class IB</td>\n",
       "      <td>putnam vt diversified income fund  class ib</td>\n",
       "    </tr>\n",
       "    <tr>\n",
       "      <th>4</th>\n",
       "      <td>1</td>\n",
       "      <td>168203073</td>\n",
       "      <td>VPUSA000AQ</td>\n",
       "      <td>VAUSA00EFZ</td>\n",
       "      <td>FVUSA001Q9</td>\n",
       "      <td>1</td>\n",
       "      <td>Putnam VT Diversified Income Fund Class IB</td>\n",
       "      <td>putnam vt diversified income fund  class ib</td>\n",
       "    </tr>\n",
       "  </tbody>\n",
       "</table>\n",
       "</div>"
      ],
      "text/plain": [
       "   Unnamed: 0      docid    policyid subaccountid       secid  status  \\\n",
       "0           0  168203073  VPUSA0009R   VAUSA058DQ  FVUSA04ABP       1   \n",
       "1           1  168203073  VPUSA000AQ   VAUSA058DL  FVUSA04ABP       1   \n",
       "2           2  168203073  VPUSA000G6   VAUSA058DH  FVUSA04ABP       1   \n",
       "3           0  168203073  VPUSA0009R   VAUSA00C6M  FVUSA001Q9       1   \n",
       "4           1  168203073  VPUSA000AQ   VAUSA00EFZ  FVUSA001Q9       1   \n",
       "\n",
       "                                          dmname  \\\n",
       "0  Putnam VT Capital Opportunities Fund Class IB   \n",
       "1  Putnam VT Capital Opportunities Fund Class IB   \n",
       "2  Putnam VT Capital Opportunities Fund Class IB   \n",
       "3     Putnam VT Diversified Income Fund Class IB   \n",
       "4     Putnam VT Diversified Income Fund Class IB   \n",
       "\n",
       "                                        docrawname  \n",
       "0  putnam vt capital opportunities fund  class ib  \n",
       "1  putnam vt capital opportunities fund  class ib  \n",
       "2  putnam vt capital opportunities fund  class ib  \n",
       "3     putnam vt diversified income fund  class ib  \n",
       "4     putnam vt diversified income fund  class ib  "
      ]
     },
     "metadata": {},
     "output_type": "display_data"
    },
    {
     "data": {
      "text/html": [
       "<table border=\"1\" class=\"dataframe\">\n",
       "  <thead>\n",
       "    <tr style=\"text-align: right;\">\n",
       "      <th></th>\n",
       "      <th>Unnamed: 0</th>\n",
       "      <th>docid</th>\n",
       "      <th>policyid</th>\n",
       "      <th>subaccountid</th>\n",
       "      <th>secid</th>\n",
       "      <th>status</th>\n",
       "      <th>dmname</th>\n",
       "      <th>docrawname</th>\n",
       "    </tr>\n",
       "  </thead>\n",
       "  <tbody>\n",
       "    <tr>\n",
       "      <th>0</th>\n",
       "      <td>0</td>\n",
       "      <td>168203073</td>\n",
       "      <td>VPUSA0009R</td>\n",
       "      <td>VAUSA058DQ</td>\n",
       "      <td>FVUSA04ABP</td>\n",
       "      <td>1</td>\n",
       "      <td>Putnam VT Capital Opportunities Fund Class IB</td>\n",
       "      <td>putnam vt capital opportunities fund  class ib</td>\n",
       "    </tr>\n",
       "    <tr>\n",
       "      <th>1</th>\n",
       "      <td>1</td>\n",
       "      <td>168203073</td>\n",
       "      <td>VPUSA000AQ</td>\n",
       "      <td>VAUSA058DL</td>\n",
       "      <td>FVUSA04ABP</td>\n",
       "      <td>1</td>\n",
       "      <td>Putnam VT Capital Opportunities Fund Class IB</td>\n",
       "      <td>putnam vt capital opportunities fund  class ib</td>\n",
       "    </tr>\n",
       "    <tr>\n",
       "      <th>2</th>\n",
       "      <td>2</td>\n",
       "      <td>168203073</td>\n",
       "      <td>VPUSA000G6</td>\n",
       "      <td>VAUSA058DH</td>\n",
       "      <td>FVUSA04ABP</td>\n",
       "      <td>1</td>\n",
       "      <td>Putnam VT Capital Opportunities Fund Class IB</td>\n",
       "      <td>putnam vt capital opportunities fund  class ib</td>\n",
       "    </tr>\n",
       "    <tr>\n",
       "      <th>3</th>\n",
       "      <td>0</td>\n",
       "      <td>168203073</td>\n",
       "      <td>VPUSA0009R</td>\n",
       "      <td>VAUSA00C6M</td>\n",
       "      <td>FVUSA001Q9</td>\n",
       "      <td>1</td>\n",
       "      <td>Putnam VT Diversified Income Fund Class IB</td>\n",
       "      <td>putnam vt diversified income fund  class ib</td>\n",
       "    </tr>\n",
       "    <tr>\n",
       "      <th>4</th>\n",
       "      <td>1</td>\n",
       "      <td>168203073</td>\n",
       "      <td>VPUSA000AQ</td>\n",
       "      <td>VAUSA00EFZ</td>\n",
       "      <td>FVUSA001Q9</td>\n",
       "      <td>1</td>\n",
       "      <td>Putnam VT Diversified Income Fund Class IB</td>\n",
       "      <td>putnam vt diversified income fund  class ib</td>\n",
       "    </tr>\n",
       "  </tbody>\n",
       "</table>"
      ],
      "text/plain": [
       "<IPython.core.display.HTML object>"
      ]
     },
     "metadata": {},
     "output_type": "display_data"
    },
    {
     "data": {
      "text/html": [
       "<div>\n",
       "<style scoped>\n",
       "    .dataframe tbody tr th:only-of-type {\n",
       "        vertical-align: middle;\n",
       "    }\n",
       "\n",
       "    .dataframe tbody tr th {\n",
       "        vertical-align: top;\n",
       "    }\n",
       "\n",
       "    .dataframe thead th {\n",
       "        text-align: right;\n",
       "    }\n",
       "</style>\n",
       "<table border=\"1\" class=\"dataframe\">\n",
       "  <thead>\n",
       "    <tr style=\"text-align: right;\">\n",
       "      <th></th>\n",
       "      <th>Unnamed: 0</th>\n",
       "      <th>docid</th>\n",
       "      <th>policyid</th>\n",
       "      <th>subaccountid</th>\n",
       "      <th>secid</th>\n",
       "      <th>status</th>\n",
       "      <th>dmname</th>\n",
       "      <th>docrawname</th>\n",
       "    </tr>\n",
       "  </thead>\n",
       "  <tbody>\n",
       "    <tr>\n",
       "      <th>85</th>\n",
       "      <td>85</td>\n",
       "      <td>168203073</td>\n",
       "      <td>VPUSA000G6</td>\n",
       "      <td>VAUSA00CT4</td>\n",
       "      <td>FVUSA000YW</td>\n",
       "      <td>0</td>\n",
       "      <td>Putnam VT Mortgage Securities Fund Class IA</td>\n",
       "      <td>NaN</td>\n",
       "    </tr>\n",
       "    <tr>\n",
       "      <th>86</th>\n",
       "      <td>86</td>\n",
       "      <td>168203073</td>\n",
       "      <td>VPUSA000G6</td>\n",
       "      <td>VAUSA00D5T</td>\n",
       "      <td>FVUSA00120</td>\n",
       "      <td>0</td>\n",
       "      <td>Putnam VT New Value IB</td>\n",
       "      <td>NaN</td>\n",
       "    </tr>\n",
       "    <tr>\n",
       "      <th>87</th>\n",
       "      <td>87</td>\n",
       "      <td>168203073</td>\n",
       "      <td>VPUSA000G6</td>\n",
       "      <td>VAUSA00DZ4</td>\n",
       "      <td>FVUSA000UN</td>\n",
       "      <td>1</td>\n",
       "      <td>Putnam VT Multi-Cap Core Fund Class IB</td>\n",
       "      <td>NaN</td>\n",
       "    </tr>\n",
       "    <tr>\n",
       "      <th>88</th>\n",
       "      <td>88</td>\n",
       "      <td>168203073</td>\n",
       "      <td>VPUSA000G6</td>\n",
       "      <td>VAUSA00P6N</td>\n",
       "      <td>FVUSA001VW</td>\n",
       "      <td>0</td>\n",
       "      <td>Putnam VT Discovery Growth IB</td>\n",
       "      <td>NaN</td>\n",
       "    </tr>\n",
       "    <tr>\n",
       "      <th>89</th>\n",
       "      <td>89</td>\n",
       "      <td>168203073</td>\n",
       "      <td>VPUSA000G6</td>\n",
       "      <td>VAUSA00QT1</td>\n",
       "      <td>FVUSA002RM</td>\n",
       "      <td>0</td>\n",
       "      <td>Putnam VT Capital Appreciation IB</td>\n",
       "      <td>NaN</td>\n",
       "    </tr>\n",
       "  </tbody>\n",
       "</table>\n",
       "</div>"
      ],
      "text/plain": [
       "    Unnamed: 0      docid    policyid subaccountid       secid  status  \\\n",
       "85          85  168203073  VPUSA000G6   VAUSA00CT4  FVUSA000YW       0   \n",
       "86          86  168203073  VPUSA000G6   VAUSA00D5T  FVUSA00120       0   \n",
       "87          87  168203073  VPUSA000G6   VAUSA00DZ4  FVUSA000UN       1   \n",
       "88          88  168203073  VPUSA000G6   VAUSA00P6N  FVUSA001VW       0   \n",
       "89          89  168203073  VPUSA000G6   VAUSA00QT1  FVUSA002RM       0   \n",
       "\n",
       "                                         dmname docrawname  \n",
       "85  Putnam VT Mortgage Securities Fund Class IA        NaN  \n",
       "86                       Putnam VT New Value IB        NaN  \n",
       "87       Putnam VT Multi-Cap Core Fund Class IB        NaN  \n",
       "88                Putnam VT Discovery Growth IB        NaN  \n",
       "89            Putnam VT Capital Appreciation IB        NaN  "
      ]
     },
     "metadata": {},
     "output_type": "display_data"
    },
    {
     "name": "stdout",
     "output_type": "stream",
     "text": [
      "Wall time: 2.09 s\n"
     ]
    }
   ],
   "source": [
    "%%time\n",
    "#%%prun\n",
    "import pandas as pd\n",
    "from IPython.display import display, HTML\n",
    "\n",
    "df = pd.read_csv('./csv/vanameextraction_168203073.csv', encoding='utf-16', sep=\"\\t\")\n",
    "for index, row in df.head().iterrows():\n",
    "#     print('row: {0}, docrawname is :{1}'.format(index, row[3]))\n",
    "    print('row: {0}, docrawname is :{1}'.format(index, df.loc[index, \"dmname\"]))\n",
    "# print(df.head())\n",
    "display(df.head())\n",
    "display(HTML(df.head().to_html()))\n",
    "display(df.tail())"
   ]
  },
  {
   "cell_type": "markdown",
   "metadata": {},
   "source": [
    "99乘法表"
   ]
  },
  {
   "cell_type": "code",
   "execution_count": 24,
   "metadata": {
    "scrolled": true
   },
   "outputs": [
    {
     "ename": "TypeError",
     "evalue": "not all arguments converted during string formatting",
     "output_type": "error",
     "traceback": [
      "\u001b[1;31m---------------------------------------------------------------------------\u001b[0m",
      "\u001b[1;31mTypeError\u001b[0m                                 Traceback (most recent call last)",
      "\u001b[1;32m<ipython-input-24-7147a4d608b7>\u001b[0m in \u001b[0;36m<module>\u001b[1;34m\u001b[0m\n\u001b[0;32m      5\u001b[0m     \u001b[1;32mwhile\u001b[0m \u001b[0mj\u001b[0m\u001b[1;33m<=\u001b[0m\u001b[0mi\u001b[0m\u001b[1;33m:\u001b[0m\u001b[1;33m\u001b[0m\u001b[1;33m\u001b[0m\u001b[0m\n\u001b[0;32m      6\u001b[0m         \u001b[0mmut\u001b[0m \u001b[1;33m=\u001b[0m\u001b[0mj\u001b[0m\u001b[1;33m*\u001b[0m\u001b[0mi\u001b[0m\u001b[1;33m\u001b[0m\u001b[1;33m\u001b[0m\u001b[0m\n\u001b[1;32m----> 7\u001b[1;33m         \u001b[0mprint\u001b[0m\u001b[1;33m(\u001b[0m\u001b[1;34m\"/d*%d=%d\"\u001b[0m\u001b[1;33m%\u001b[0m\u001b[1;33m(\u001b[0m\u001b[0mj\u001b[0m\u001b[1;33m,\u001b[0m\u001b[0mi\u001b[0m\u001b[1;33m,\u001b[0m\u001b[0mmut\u001b[0m\u001b[1;33m)\u001b[0m\u001b[1;33m,\u001b[0m \u001b[0mend\u001b[0m\u001b[1;33m=\u001b[0m\u001b[1;34m\"  \"\u001b[0m\u001b[1;33m)\u001b[0m\u001b[1;33m\u001b[0m\u001b[1;33m\u001b[0m\u001b[0m\n\u001b[0m\u001b[0;32m      8\u001b[0m         \u001b[0mj\u001b[0m\u001b[1;33m+=\u001b[0m\u001b[1;36m1\u001b[0m\u001b[1;33m\u001b[0m\u001b[1;33m\u001b[0m\u001b[0m\n\u001b[0;32m      9\u001b[0m     \u001b[0mprint\u001b[0m\u001b[1;33m(\u001b[0m\u001b[1;34m\"\"\u001b[0m\u001b[1;33m)\u001b[0m\u001b[1;33m\u001b[0m\u001b[1;33m\u001b[0m\u001b[0m\n",
      "\u001b[1;31mTypeError\u001b[0m: not all arguments converted during string formatting"
     ]
    }
   ],
   "source": [
    "i=1\n",
    "while i<=9:\n",
    "    #里面一层循环控制每一行中的列数\n",
    "    j=1\n",
    "    while j<=i:\n",
    "        mut =j*i\n",
    "        print(\"%d*%d=%d\"%(j,i,mut), end=\"  \")\n",
    "#         print(\"\")\n",
    "        j+=1\n",
    "    print(\"\")\n",
    "    i+=1"
   ]
  },
  {
   "cell_type": "markdown",
   "metadata": {},
   "source": [
    "### 冒泡排序\n",
    "解析：很经典的排序方式，从数组中的第0个元素开始，与后面一个元素进行比较，如果前面的元素大于后面的元素，就调换位置，循环到最后（即：a0与a1比较得到结果后，a1与a2比较...），最大的元素被换到数组最末尾，剔除掉最后一个元素，在余下的数组元素中进行上述操作，到最后，整个数组呈现从小到大的排序"
   ]
  },
  {
   "cell_type": "code",
   "execution_count": 25,
   "metadata": {},
   "outputs": [
    {
     "name": "stdout",
     "output_type": "stream",
     "text": [
      "[41, 44, 500, 2000, 5554, 6434, 7557, 9353, 23344]\n"
     ]
    }
   ],
   "source": [
    "def paixu(li) :\n",
    "    max = 0\n",
    "    for ad in range(len(li) - 1):\n",
    "        for x in range(len(li) - 1 - ad):\n",
    "            if li[x] > li[x + 1]:\n",
    "                max = li[x]\n",
    "                li[x] = li[x + 1]\n",
    "                li[x + 1] = max\n",
    "            else:\n",
    "                max = li[x + 1]\n",
    "    print(li)\n",
    "paixu([41,23344,9353,5554,44,7557,6434,500,2000])"
   ]
  },
  {
   "cell_type": "markdown",
   "metadata": {},
   "source": [
    "很多时候，我们不需要自己写冒泡排序算法，使用sorted即可"
   ]
  },
  {
   "cell_type": "code",
   "execution_count": 26,
   "metadata": {},
   "outputs": [
    {
     "name": "stdout",
     "output_type": "stream",
     "text": [
      "[41, 44, 500, 2000, 5554, 6434, 7557, 9353, 23344]\n"
     ]
    }
   ],
   "source": [
    "print(sorted([41,23344,9353,5554,44,7557,6434,500,2000]))"
   ]
  },
  {
   "cell_type": "code",
   "execution_count": 28,
   "metadata": {},
   "outputs": [
    {
     "name": "stdout",
     "output_type": "stream",
     "text": [
      "23344\n",
      "9353\n",
      "7557\n",
      "6434\n",
      "5554\n",
      "2000\n",
      "500\n",
      "44\n",
      "41\n"
     ]
    }
   ],
   "source": [
    "lis = [41,23344,9353,5554,44,7557,6434,500,2000]\n",
    "for mem in reversed(sorted(lis)):\n",
    "    print(mem)"
   ]
  },
  {
   "cell_type": "code",
   "execution_count": 25,
   "metadata": {},
   "outputs": [
    {
     "name": "stdout",
     "output_type": "stream",
     "text": [
      "Help on class list in module builtins:\n",
      "\n",
      "class list(object)\n",
      " |  list() -> new empty list\n",
      " |  list(iterable) -> new list initialized from iterable's items\n",
      " |  \n",
      " |  Methods defined here:\n",
      " |  \n",
      " |  __add__(self, value, /)\n",
      " |      Return self+value.\n",
      " |  \n",
      " |  __contains__(self, key, /)\n",
      " |      Return key in self.\n",
      " |  \n",
      " |  __delitem__(self, key, /)\n",
      " |      Delete self[key].\n",
      " |  \n",
      " |  __eq__(self, value, /)\n",
      " |      Return self==value.\n",
      " |  \n",
      " |  __ge__(self, value, /)\n",
      " |      Return self>=value.\n",
      " |  \n",
      " |  __getattribute__(self, name, /)\n",
      " |      Return getattr(self, name).\n",
      " |  \n",
      " |  __getitem__(...)\n",
      " |      x.__getitem__(y) <==> x[y]\n",
      " |  \n",
      " |  __gt__(self, value, /)\n",
      " |      Return self>value.\n",
      " |  \n",
      " |  __iadd__(self, value, /)\n",
      " |      Implement self+=value.\n",
      " |  \n",
      " |  __imul__(self, value, /)\n",
      " |      Implement self*=value.\n",
      " |  \n",
      " |  __init__(self, /, *args, **kwargs)\n",
      " |      Initialize self.  See help(type(self)) for accurate signature.\n",
      " |  \n",
      " |  __iter__(self, /)\n",
      " |      Implement iter(self).\n",
      " |  \n",
      " |  __le__(self, value, /)\n",
      " |      Return self<=value.\n",
      " |  \n",
      " |  __len__(self, /)\n",
      " |      Return len(self).\n",
      " |  \n",
      " |  __lt__(self, value, /)\n",
      " |      Return self<value.\n",
      " |  \n",
      " |  __mul__(self, value, /)\n",
      " |      Return self*value.n\n",
      " |  \n",
      " |  __ne__(self, value, /)\n",
      " |      Return self!=value.\n",
      " |  \n",
      " |  __new__(*args, **kwargs) from builtins.type\n",
      " |      Create and return a new object.  See help(type) for accurate signature.\n",
      " |  \n",
      " |  __repr__(self, /)\n",
      " |      Return repr(self).\n",
      " |  \n",
      " |  __reversed__(...)\n",
      " |      L.__reversed__() -- return a reverse iterator over the list\n",
      " |  \n",
      " |  __rmul__(self, value, /)\n",
      " |      Return self*value.\n",
      " |  \n",
      " |  __setitem__(self, key, value, /)\n",
      " |      Set self[key] to value.\n",
      " |  \n",
      " |  __sizeof__(...)\n",
      " |      L.__sizeof__() -- size of L in memory, in bytes\n",
      " |  \n",
      " |  append(...)\n",
      " |      L.append(object) -> None -- append object to end\n",
      " |  \n",
      " |  clear(...)\n",
      " |      L.clear() -> None -- remove all items from L\n",
      " |  \n",
      " |  copy(...)\n",
      " |      L.copy() -> list -- a shallow copy of L\n",
      " |  \n",
      " |  count(...)\n",
      " |      L.count(value) -> integer -- return number of occurrences of value\n",
      " |  \n",
      " |  extend(...)\n",
      " |      L.extend(iterable) -> None -- extend list by appending elements from the iterable\n",
      " |  \n",
      " |  index(...)\n",
      " |      L.index(value, [start, [stop]]) -> integer -- return first index of value.\n",
      " |      Raises ValueError if the value is not present.\n",
      " |  \n",
      " |  insert(...)\n",
      " |      L.insert(index, object) -- insert object before index\n",
      " |  \n",
      " |  pop(...)\n",
      " |      L.pop([index]) -> item -- remove and return item at index (default last).\n",
      " |      Raises IndexError if list is empty or index is out of range.\n",
      " |  \n",
      " |  remove(...)\n",
      " |      L.remove(value) -> None -- remove first occurrence of value.\n",
      " |      Raises ValueError if the value is not present.\n",
      " |  \n",
      " |  reverse(...)\n",
      " |      L.reverse() -- reverse *IN PLACE*\n",
      " |  \n",
      " |  sort(...)\n",
      " |      L.sort(key=None, reverse=False) -> None -- stable sort *IN PLACE*\n",
      " |  \n",
      " |  ----------------------------------------------------------------------\n",
      " |  Data and other attributes defined here:\n",
      " |  \n",
      " |  __hash__ = None\n",
      "\n"
     ]
    }
   ],
   "source": [
    "help(list)"
   ]
  },
  {
   "cell_type": "code",
   "execution_count": null,
   "metadata": {},
   "outputs": [],
   "source": []
  }
 ],
 "metadata": {
  "kernelspec": {
   "display_name": "Python 3",
   "language": "python",
   "name": "python3"
  },
  "language_info": {
   "codemirror_mode": {
    "name": "ipython",
    "version": 3
   },
   "file_extension": ".py",
   "mimetype": "text/x-python",
   "name": "python",
   "nbconvert_exporter": "python",
   "pygments_lexer": "ipython3",
   "version": "3.6.7"
  },
  "toc": {
   "base_numbering": 1,
   "nav_menu": {},
   "number_sections": true,
   "sideBar": true,
   "skip_h1_title": false,
   "title_cell": "Table of Contents",
   "title_sidebar": "Contents",
   "toc_cell": false,
   "toc_position": {},
   "toc_section_display": true,
   "toc_window_display": false
  }
 },
 "nbformat": 4,
 "nbformat_minor": 2
}
