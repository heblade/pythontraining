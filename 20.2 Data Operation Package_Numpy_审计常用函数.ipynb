{
 "cells": [
  {
   "cell_type": "markdown",
   "metadata": {},
   "source": [
    "# 复利终值函数"
   ]
  },
  {
   "cell_type": "markdown",
   "metadata": {},
   "source": [
    "计算现在金额未来的价值"
   ]
  },
  {
   "cell_type": "markdown",
   "metadata": {},
   "source": [
    "```numpy_financial.fv(rate, nper, pmt, pv, when='end')```\n",
    "rate为利率\n",
    "\n",
    "nper为期数\n",
    "\n",
    "pmt为每期固定支付款\n",
    "\n",
    "pv为终值\n",
    "\n",
    "when为期初还是期末付，1表示期初计数，0表示期末计数，默认为0\n",
    "\n",
    "备注一下，负数是付出，正数是收到。"
   ]
  },
  {
   "cell_type": "markdown",
   "metadata": {},
   "source": [
    "## 示例\n",
    "假设，有一个项目，年利率为5%，每年年初现金流入10万元，5年后有多少钱？"
   ]
  },
  {
   "cell_type": "code",
   "execution_count": 1,
   "metadata": {
    "ExecuteTime": {
     "end_time": "2022-12-07T08:47:32.855947Z",
     "start_time": "2022-12-07T08:47:32.756516Z"
    }
   },
   "outputs": [
    {
     "name": "stdout",
     "output_type": "stream",
     "text": [
      "终值为：574113.75元\n"
     ]
    }
   ],
   "source": [
    "import numpy as np\n",
    "import numpy_financial as npf\n",
    "\n",
    "r1=npf.fv(rate=0.05, nper=5-1, pmt=-100000, pv=-100000,when=1)\n",
    "\n",
    "print(\"终值为：%.2f元\" % r1)"
   ]
  },
  {
   "cell_type": "markdown",
   "metadata": {},
   "source": [
    "如果为年终现金流入，只需要将FV函数的参数when改为0或删除。"
   ]
  },
  {
   "cell_type": "code",
   "execution_count": 2,
   "metadata": {
    "ExecuteTime": {
     "end_time": "2022-12-07T08:47:39.384312Z",
     "start_time": "2022-12-07T08:47:39.378245Z"
    }
   },
   "outputs": [
    {
     "name": "stdout",
     "output_type": "stream",
     "text": [
      "终值为：552563.13元\n"
     ]
    }
   ],
   "source": [
    "r1=npf.fv(rate=0.05, nper=5-1, pmt=-100000, pv=-100000)\n",
    "print(\"终值为：%.2f元\" % r1)"
   ]
  },
  {
   "cell_type": "markdown",
   "metadata": {},
   "source": [
    "年利率为5%，存100，然后每个月存100，10年后可以得到多少"
   ]
  },
  {
   "cell_type": "code",
   "execution_count": 3,
   "metadata": {
    "ExecuteTime": {
     "end_time": "2022-12-07T08:47:45.636947Z",
     "start_time": "2022-12-07T08:47:45.626030Z"
    }
   },
   "outputs": [
    {
     "data": {
      "text/plain": [
       "15692.928894335748"
      ]
     },
     "execution_count": 3,
     "metadata": {},
     "output_type": "execute_result"
    }
   ],
   "source": [
    "npf.fv(0.05/12, 10*12, -100, -100)"
   ]
  },
  {
   "cell_type": "markdown",
   "metadata": {},
   "source": [
    "# 现值PV函数"
   ]
  },
  {
   "cell_type": "markdown",
   "metadata": {},
   "source": [
    "计算未来金额在现在的价值"
   ]
  },
  {
   "cell_type": "markdown",
   "metadata": {},
   "source": [
    "```numpy_financial.pv(rate, nper, pmt,fv=0.0, when='end') #计算现值```\n",
    "参数与fv相同"
   ]
  },
  {
   "cell_type": "markdown",
   "metadata": {},
   "source": [
    "## 示例\n",
    "假设银行的年利率为5%，每月投入1万元，现在需要投入多少本金才可以在5年后得到150万元？"
   ]
  },
  {
   "cell_type": "code",
   "execution_count": 4,
   "metadata": {
    "ExecuteTime": {
     "end_time": "2022-12-07T08:48:13.433877Z",
     "start_time": "2022-12-07T08:48:13.420432Z"
    }
   },
   "outputs": [
    {
     "name": "stdout",
     "output_type": "stream",
     "text": [
      "现值为：-638901.02元\n"
     ]
    }
   ],
   "source": [
    "r1=npf.pv(rate=0.05/12, nper=5*12, pmt=-10000, fv=1500000)\n",
    "print(\"现值为：%.2f元\" % r1)"
   ]
  },
  {
   "cell_type": "markdown",
   "metadata": {},
   "source": [
    "亦即现在需要投入63.89万元，5年后就可以有150万。"
   ]
  },
  {
   "cell_type": "markdown",
   "metadata": {},
   "source": [
    "# 计算净现值"
   ]
  },
  {
   "cell_type": "markdown",
   "metadata": {},
   "source": [
    "```numpy_financial.npv(rate, values)#计算净现值```"
   ]
  },
  {
   "cell_type": "markdown",
   "metadata": {},
   "source": [
    "这个是审计中经常要用到的计算，净现值。净现值主要算的是刨去货币贬值影响最后还能赚多少钱。\n",
    "\n",
    "净现值>0表示项目实施后，除保证可实现预定的收益率外，尚可获得更高的收益。\n",
    "\n",
    "净现值<0表示项目实施后，未能达到预定的收益率水平，而不能确定项目已亏损。\n",
    "\n",
    "净现值=0表示项目实施后的投资收益率正好达到预期，而不是投资项目盈亏平衡。\n",
    "\n",
    "参数rate为折现率\n",
    "\n",
    "参数values为收入，每一期的现金流。"
   ]
  },
  {
   "cell_type": "markdown",
   "metadata": {},
   "source": [
    "## 示例"
   ]
  },
  {
   "cell_type": "markdown",
   "metadata": {},
   "source": [
    "假设A项目的折现率为5%，前期均需投入100万元，最终收益为110万元，其一至五年的收入分别是10、20、20、30、30万元。判断该项目是否值得投资"
   ]
  },
  {
   "cell_type": "code",
   "execution_count": 5,
   "metadata": {
    "ExecuteTime": {
     "end_time": "2022-12-07T08:48:35.502903Z",
     "start_time": "2022-12-07T08:48:35.484896Z"
    }
   },
   "outputs": [
    {
     "name": "stdout",
     "output_type": "stream",
     "text": [
      "项目A的净现值：-6.87万元\n"
     ]
    }
   ],
   "source": [
    "import numpy_financial as npf\n",
    "\n",
    "C_A=[-100, 10, 20, 20, 30, 30]\n",
    "\n",
    "npv_A=npf.npv(0.05,C_A)\n",
    "\n",
    "print(\"项目A的净现值：%.2f万元\" % npv_A)"
   ]
  },
  {
   "cell_type": "markdown",
   "metadata": {},
   "source": [
    "结论是不值得投资"
   ]
  },
  {
   "cell_type": "markdown",
   "metadata": {},
   "source": [
    "如果是两个相同的方案，收益相同，投入相同，但现金流入不同呢？这也可以计算。"
   ]
  },
  {
   "cell_type": "markdown",
   "metadata": {},
   "source": [
    "假设有A、B两个项目，折现率均为5%，前期均需投入100万， \n",
    "\n",
    "A项目第一年至五年分别收入30、20、40、10、20万，共120万元，\n",
    "\n",
    "而项目B第一至五年分别收入30、40、30、10、10万，也是120万元，\n",
    "\n",
    "判断项目A和B哪个投资价值高？"
   ]
  },
  {
   "cell_type": "code",
   "execution_count": 6,
   "metadata": {
    "ExecuteTime": {
     "end_time": "2022-12-07T08:48:46.249106Z",
     "start_time": "2022-12-07T08:48:46.240880Z"
    }
   },
   "outputs": [
    {
     "name": "stdout",
     "output_type": "stream",
     "text": [
      "项目A的净现值：5.16万元\n",
      "项目B的净现值：6.83万元\n"
     ]
    }
   ],
   "source": [
    "import numpy_financial as npf\n",
    "C_A=[-100, 30, 20, 40, 10, 20]\n",
    "C_B=[-100, 30, 40, 30, 10, 10]\n",
    "npv_A=npf.npv(0.05,C_A)\n",
    "npv_B=npf.npv(0.05,C_B)\n",
    "print(\"项目A的净现值：%.2f万元\" % npv_A)\n",
    "print(\"项目B的净现值：%.2f万元\" % npv_B)"
   ]
  },
  {
   "cell_type": "markdown",
   "metadata": {},
   "source": [
    "结论是项目B的收益大"
   ]
  },
  {
   "cell_type": "markdown",
   "metadata": {},
   "source": [
    "# 计算内部收益率"
   ]
  },
  {
   "cell_type": "markdown",
   "metadata": {},
   "source": [
    "```numpy_financial.irr(values)```"
   ]
  },
  {
   "cell_type": "markdown",
   "metadata": {},
   "source": [
    "## 示例"
   ]
  },
  {
   "cell_type": "markdown",
   "metadata": {},
   "source": [
    "还是以上面为例子，前期均需投入100万， A项目第一年至五年分别收入30、20、40、10、20万，共120万元，这个项目的内部收益率为多少呢？"
   ]
  },
  {
   "cell_type": "code",
   "execution_count": 7,
   "metadata": {
    "ExecuteTime": {
     "end_time": "2022-12-07T08:49:04.588094Z",
     "start_time": "2022-12-07T08:49:04.570284Z"
    }
   },
   "outputs": [
    {
     "name": "stdout",
     "output_type": "stream",
     "text": [
      "项目A的内部报酬率：0.03\n"
     ]
    }
   ],
   "source": [
    "import numpy_financial as npf\n",
    "C_A=[-100, 10, 20, 20, 30, 30]\n",
    "npv_A=npf.irr(C_A)\n",
    "print(\"项目A的内部报酬率：%.2f\" % npv_A)"
   ]
  },
  {
   "cell_type": "markdown",
   "metadata": {},
   "source": [
    "解读：我们每年能接受的货币贬值率为3%"
   ]
  },
  {
   "cell_type": "markdown",
   "metadata": {},
   "source": [
    "# 计算贷款每期还款金额pmt"
   ]
  },
  {
   "cell_type": "markdown",
   "metadata": {},
   "source": [
    "```numpy_financial.pmt(rate, nper, pv, fv=0, when=\"end\")#计算每期应还的本金加利息```"
   ]
  },
  {
   "cell_type": "markdown",
   "metadata": {},
   "source": [
    "## 示例"
   ]
  },
  {
   "cell_type": "markdown",
   "metadata": {},
   "source": [
    "如果项目A的投入100万元不是自有资金，而是银行贷款，贷款利率为6%，分五年还清，那么每期应该要还多少钱呢？"
   ]
  },
  {
   "cell_type": "markdown",
   "metadata": {},
   "source": [
    "import numpy as np\n",
    "npv_A=np.pmt(0.06,5,1000000)\n",
    "print(\"项目A每年应还贷：%.2f\" % npv_A)"
   ]
  },
  {
   "cell_type": "markdown",
   "metadata": {},
   "source": [
    "结论为每年还款23.73万元"
   ]
  },
  {
   "cell_type": "markdown",
   "metadata": {},
   "source": [
    "计算月供：总价500万，30年还清， 年利率为5%"
   ]
  },
  {
   "cell_type": "code",
   "execution_count": 8,
   "metadata": {
    "ExecuteTime": {
     "end_time": "2022-12-07T08:49:23.794104Z",
     "start_time": "2022-12-07T08:49:23.768996Z"
    }
   },
   "outputs": [
    {
     "data": {
      "text/plain": [
       "-26841.08115060699"
      ]
     },
     "execution_count": 8,
     "metadata": {},
     "output_type": "execute_result"
    }
   ],
   "source": [
    "npf.pmt(0.05/12, 30*12, 5000000)"
   ]
  },
  {
   "cell_type": "markdown",
   "metadata": {},
   "source": [
    "结论：每月还款金额26841.08元"
   ]
  },
  {
   "cell_type": "markdown",
   "metadata": {},
   "source": [
    "# 付款期数函数"
   ]
  },
  {
   "cell_type": "markdown",
   "metadata": {},
   "source": [
    "```numpy_financial.nper(rate, pmt, pv, fv=0, when='end')```"
   ]
  },
  {
   "cell_type": "markdown",
   "metadata": {},
   "source": [
    "参数rate为利率，pmt为每期支付金额，pv为现值。"
   ]
  },
  {
   "cell_type": "markdown",
   "metadata": {},
   "source": [
    "如果这个项目我每年不能支付23万元，每年预计只能支付10万元，那么我应该向银行申请多少年还款比较合适呢？"
   ]
  },
  {
   "cell_type": "code",
   "execution_count": 9,
   "metadata": {
    "ExecuteTime": {
     "end_time": "2022-12-07T08:49:47.183318Z",
     "start_time": "2022-12-07T08:49:47.176263Z"
    }
   },
   "outputs": [
    {
     "name": "stdout",
     "output_type": "stream",
     "text": [
      "项目A计划贷款期数：15.73\n"
     ]
    }
   ],
   "source": [
    "import numpy_financial as npf\n",
    "npv_A=npf.nper(0.06,-100000,1000000)\n",
    "print(\"项目A计划贷款期数：%.2f\" % npv_A)"
   ]
  },
  {
   "cell_type": "markdown",
   "metadata": {},
   "source": [
    "结论：可以向银行申请16年贷款"
   ]
  }
 ],
 "metadata": {
  "kernelspec": {
   "display_name": "Python 3 (ipykernel)",
   "language": "python",
   "name": "python3"
  },
  "language_info": {
   "codemirror_mode": {
    "name": "ipython",
    "version": 3
   },
   "file_extension": ".py",
   "mimetype": "text/x-python",
   "name": "python",
   "nbconvert_exporter": "python",
   "pygments_lexer": "ipython3",
   "version": "3.8.10"
  },
  "toc": {
   "base_numbering": 1,
   "nav_menu": {},
   "number_sections": true,
   "sideBar": true,
   "skip_h1_title": false,
   "title_cell": "Table of Contents",
   "title_sidebar": "Contents",
   "toc_cell": false,
   "toc_position": {},
   "toc_section_display": true,
   "toc_window_display": true
  }
 },
 "nbformat": 4,
 "nbformat_minor": 4
}
