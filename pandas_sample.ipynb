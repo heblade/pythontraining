{
 "cells": [
  {
   "cell_type": "code",
   "execution_count": 1,
   "metadata": {},
   "outputs": [],
   "source": [
    "import pandas as pd\n",
    "import matplotlib.pyplot as plt\n",
    "import seaborn as sns"
   ]
  },
  {
   "cell_type": "code",
   "execution_count": 2,
   "metadata": {},
   "outputs": [],
   "source": [
    "df = pd.read_csv(r'./csv/html_content_performance.csv', encoding='utf-8')"
   ]
  },
  {
   "cell_type": "code",
   "execution_count": 3,
   "metadata": {},
   "outputs": [
    {
     "data": {
      "text/html": [
       "<div>\n",
       "<style scoped>\n",
       "    .dataframe tbody tr th:only-of-type {\n",
       "        vertical-align: middle;\n",
       "    }\n",
       "\n",
       "    .dataframe tbody tr th {\n",
       "        vertical-align: top;\n",
       "    }\n",
       "\n",
       "    .dataframe thead th {\n",
       "        text-align: right;\n",
       "    }\n",
       "</style>\n",
       "<table border=\"1\" class=\"dataframe\">\n",
       "  <thead>\n",
       "    <tr style=\"text-align: right;\">\n",
       "      <th></th>\n",
       "      <th>documentid</th>\n",
       "      <th>version</th>\n",
       "      <th>duration</th>\n",
       "    </tr>\n",
       "  </thead>\n",
       "  <tbody>\n",
       "    <tr>\n",
       "      <th>0</th>\n",
       "      <td>270254406</td>\n",
       "      <td>origin</td>\n",
       "      <td>305.05</td>\n",
       "    </tr>\n",
       "    <tr>\n",
       "      <th>1</th>\n",
       "      <td>270254406</td>\n",
       "      <td>current</td>\n",
       "      <td>163.79</td>\n",
       "    </tr>\n",
       "    <tr>\n",
       "      <th>2</th>\n",
       "      <td>301070326</td>\n",
       "      <td>origin</td>\n",
       "      <td>247.53</td>\n",
       "    </tr>\n",
       "    <tr>\n",
       "      <th>3</th>\n",
       "      <td>301070326</td>\n",
       "      <td>current</td>\n",
       "      <td>130.37</td>\n",
       "    </tr>\n",
       "    <tr>\n",
       "      <th>4</th>\n",
       "      <td>276374423</td>\n",
       "      <td>origin</td>\n",
       "      <td>181.42</td>\n",
       "    </tr>\n",
       "    <tr>\n",
       "      <th>5</th>\n",
       "      <td>276374423</td>\n",
       "      <td>current</td>\n",
       "      <td>98.89</td>\n",
       "    </tr>\n",
       "    <tr>\n",
       "      <th>6</th>\n",
       "      <td>262046059</td>\n",
       "      <td>origin</td>\n",
       "      <td>169.24</td>\n",
       "    </tr>\n",
       "    <tr>\n",
       "      <th>7</th>\n",
       "      <td>262046059</td>\n",
       "      <td>current</td>\n",
       "      <td>98.89</td>\n",
       "    </tr>\n",
       "  </tbody>\n",
       "</table>\n",
       "</div>"
      ],
      "text/plain": [
       "   documentid  version  duration\n",
       "0   270254406   origin    305.05\n",
       "1   270254406  current    163.79\n",
       "2   301070326   origin    247.53\n",
       "3   301070326  current    130.37\n",
       "4   276374423   origin    181.42\n",
       "5   276374423  current     98.89\n",
       "6   262046059   origin    169.24\n",
       "7   262046059  current     98.89"
      ]
     },
     "execution_count": 3,
     "metadata": {},
     "output_type": "execute_result"
    }
   ],
   "source": [
    "df"
   ]
  },
  {
   "cell_type": "code",
   "execution_count": 4,
   "metadata": {},
   "outputs": [
    {
     "data": {
      "text/html": [
       "<div>\n",
       "<style scoped>\n",
       "    .dataframe tbody tr th:only-of-type {\n",
       "        vertical-align: middle;\n",
       "    }\n",
       "\n",
       "    .dataframe tbody tr th {\n",
       "        vertical-align: top;\n",
       "    }\n",
       "\n",
       "    .dataframe thead th {\n",
       "        text-align: right;\n",
       "    }\n",
       "</style>\n",
       "<table border=\"1\" class=\"dataframe\">\n",
       "  <thead>\n",
       "    <tr style=\"text-align: right;\">\n",
       "      <th></th>\n",
       "      <th>documentid</th>\n",
       "      <th>current</th>\n",
       "      <th>origin</th>\n",
       "    </tr>\n",
       "  </thead>\n",
       "  <tbody>\n",
       "    <tr>\n",
       "      <th>0</th>\n",
       "      <td>262046059</td>\n",
       "      <td>98.89</td>\n",
       "      <td>169.24</td>\n",
       "    </tr>\n",
       "    <tr>\n",
       "      <th>1</th>\n",
       "      <td>270254406</td>\n",
       "      <td>163.79</td>\n",
       "      <td>305.05</td>\n",
       "    </tr>\n",
       "    <tr>\n",
       "      <th>2</th>\n",
       "      <td>276374423</td>\n",
       "      <td>98.89</td>\n",
       "      <td>181.42</td>\n",
       "    </tr>\n",
       "    <tr>\n",
       "      <th>3</th>\n",
       "      <td>301070326</td>\n",
       "      <td>130.37</td>\n",
       "      <td>247.53</td>\n",
       "    </tr>\n",
       "  </tbody>\n",
       "</table>\n",
       "</div>"
      ],
      "text/plain": [
       "   documentid  current  origin\n",
       "0   262046059    98.89  169.24\n",
       "1   270254406   163.79  305.05\n",
       "2   276374423    98.89  181.42\n",
       "3   301070326   130.37  247.53"
      ]
     },
     "execution_count": 4,
     "metadata": {},
     "output_type": "execute_result"
    }
   ],
   "source": [
    "two_level_index_series = df.set_index([\"documentid\", \"version\"])[\"duration\"]\n",
    "new_df = two_level_index_series.unstack()\n",
    "new_df = new_df.rename_axis(columns=None)\n",
    "new_df = new_df.reset_index()\n",
    "new_df"
   ]
  },
  {
   "cell_type": "code",
   "execution_count": 28,
   "metadata": {},
   "outputs": [],
   "source": []
  },
  {
   "cell_type": "code",
   "execution_count": 6,
   "metadata": {},
   "outputs": [
    {
     "data": {
      "image/png": "[encoded data removed]",
      "text/plain": [
       "<Figure size 432x288 with 1 Axes>"
      ]
     },
     "metadata": {},
     "output_type": "display_data"
    }
   ],
   "source": [
    "sns.set_style(\"whitegrid\")\n",
    "ax = sns.barplot(x=\"documentid\", y=\"duration\", hue=\"version\", data=df,ci=0)"
   ]
  },
  {
   "cell_type": "code",
   "execution_count": 1,
   "metadata": {},
   "outputs": [],
   "source": [
    "import numpy as np"
   ]
  },
  {
   "cell_type": "code",
   "execution_count": 11,
   "metadata": {},
   "outputs": [],
   "source": [
    "a = np.array([[[1, 2, 3, 5, 6], [3, 4, 5, 6, 1]], [[5, 85, 3, 5, 6], [3, 4, 35, 6, 1]]])"
   ]
  },
  {
   "cell_type": "code",
   "execution_count": 15,
   "metadata": {},
   "outputs": [
    {
     "data": {
      "text/plain": [
       "array([[4, 3],\n",
       "       [1, 2]], dtype=int64)"
      ]
     },
     "execution_count": 15,
     "metadata": {},
     "output_type": "execute_result"
    }
   ],
   "source": [
    "a.argmax(2)"
   ]
  },
  {
   "cell_type": "code",
   "execution_count": 16,
   "metadata": {},
   "outputs": [
    {
     "data": {
      "text/plain": [
       "array([1, 0, 0])"
      ]
     },
     "execution_count": 16,
     "metadata": {},
     "output_type": "execute_result"
    }
   ],
   "source": [
    "np.squeeze((np.array([0.9, 0.0003, 0.00005]) > 0.5)).astype(int)"
   ]
  },
  {
   "cell_type": "code",
   "execution_count": 18,
   "metadata": {},
   "outputs": [
    {
     "data": {
      "text/plain": [
       "array([ True, False, False])"
      ]
     },
     "execution_count": 18,
     "metadata": {},
     "output_type": "execute_result"
    }
   ],
   "source": [
    "np.array([0.9, 0.0003, 0.00005]) > 0.5"
   ]
  },
  {
   "cell_type": "code",
   "execution_count": 26,
   "metadata": {},
   "outputs": [
    {
     "data": {
      "text/plain": [
       "array([1, 0, 0])"
      ]
     },
     "execution_count": 26,
     "metadata": {},
     "output_type": "execute_result"
    }
   ],
   "source": [
    "np.squeeze([[True, False, False]]).astype(int)"
   ]
  },
  {
   "cell_type": "code",
   "execution_count": 28,
   "metadata": {},
   "outputs": [],
   "source": [
    "a = np.array([[0.0001, 0.95, 0.00031], [0.8, 0.0001, 0.0034]])"
   ]
  },
  {
   "cell_type": "code",
   "execution_count": 29,
   "metadata": {},
   "outputs": [
    {
     "data": {
      "text/plain": [
       "array([1, 0], dtype=int64)"
      ]
     },
     "execution_count": 29,
     "metadata": {},
     "output_type": "execute_result"
    }
   ],
   "source": [
    "a.argmax(1)"
   ]
  },
  {
   "cell_type": "code",
   "execution_count": 1,
   "metadata": {},
   "outputs": [],
   "source": [
    "import html"
   ]
  },
  {
   "cell_type": "code",
   "execution_count": 4,
   "metadata": {},
   "outputs": [],
   "source": [
    "raw_string = html.unescape('&lt;p style=\\\"FONT-SIZE: 9pt; MARGIN-BOTTOM: 0pt; FONT-FAMILY: Times New Roman; MARGIN-TOP: 6pt\\\"&gt; Loss of money is a risk of investing in the Fund. An investment in the Fund is not a bank deposit and is not insured or guaranteed by the Federal Deposit Insurance Corporation (“FDIC”) or any government agency. The Fund should not be relied upon as a complete investment program. There can be no assurance that the Fund will achieve its investment objective. Investments in the Fund involve substantial risks which prospective investors should consider carefully before investing. The Fund’s principal risks are presented below in alphabetical order, and not in the order of importance or potential exposure. &lt;&#x2F;p&gt; \\n  &lt;table border=\\\"0\\\" cellpadding=\\\"0\\\" cellspacing=\\\"0\\\" style=\\\"FONT-SIZE: 9pt; FONT-FAMILY: Times New Roman; BORDER-COLLAPSE: collapse\\\" width=\\\"100%\\\"&gt; \\n   &lt;tbody&gt; \\n    &lt;tr style=\\\"PAGE-BREAK-INSIDE: avoid\\\"&gt; \\n     &lt;td align=\\\"left\\\" valign=\\\"top\\\" width=\\\"2%\\\"&gt; &lt;font color=\\\"#744141\\\"&gt; ∎ &lt;&#x2F;font&gt; &lt;&#x2F;td&gt; \\n     &lt;td valign=\\\"top\\\" width=\\\"1%\\\"&gt; &lt;&#x2F;td&gt; \\n     &lt;td align=\\\"left\\\" valign=\\\"top\\\"&gt; &lt;p align=\\\"left\\\" style=\\\"FONT-SIZE: 9pt; MARGIN-BOTTOM: 0pt; FONT-FAMILY: Times New Roman; MARGIN-TOP: 0pt\\\"&gt; &lt;b&gt; &lt;i&gt; Counterparty Risk. &lt;&#x2F;i&gt; &lt;&#x2F;b&gt; Many of the protections afforded to cleared transactions, such as the security afforded by transacting through a clearinghouse, might not be available in connection with over-the-counter (“OTC”) transactions. Therefore, in those instances in which the Fund enters into uncleared OTC transactions, the Fund will be subject to the risk that its direct counterparty will not perform its obligations under the transactions and that the Fund will sustain losses. &lt;&#x2F;p&gt; &lt;&#x2F;td&gt; \\n    &lt;&#x2F;tr&gt; \\n   &lt;&#x2F;tbody&gt; \\n  &lt;&#x2F;table&gt; \\n  &lt;table border=\\\"0\\\" cellpadding=\\\"0\\\" cellspacing=\\\"0\\\" style=\\\"FONT-SIZE: 9pt; FONT-FAMILY: Times New Roman; BORDER-COLLAPSE: collapse\\\" width=\\\"100%\\\"&gt; \\n   &lt;tbody&gt; \\n    &lt;tr style=\\\"PAGE-BREAK-INSIDE: avoid\\\"&gt; \\n     &lt;td align=\\\"left\\\" valign=\\\"top\\\" width=\\\"2%\\\"&gt; &lt;font color=\\\"#744141\\\"&gt; ∎ &lt;&#x2F;font&gt; &lt;&#x2F;td&gt; \\n     &lt;td valign=\\\"top\\\" width=\\\"1%\\\"&gt; &lt;&#x2F;td&gt; \\n     &lt;td align=\\\"left\\\" valign=\\\"top\\\"&gt; &lt;p align=\\\"left\\\" style=\\\"FONT-SIZE: 9pt; MARGIN-BOTTOM: 0pt; FONT-FAMILY: Times New Roman; MARGIN-TOP: 0pt\\\"&gt; &lt;b&gt; &lt;i&gt; Credit&#x2F;Default Risk. &lt;&#x2F;i&gt; &lt;&#x2F;b&gt; An issuer or guarantor of fixed income securities or instruments held by the Fund (which may have low credit ratings) may default on its obligation to pay interest and repay principal or default on any other obligation. Additionally, the credit quality of securities may deteriorate rapidly, which may impair the Fund’s liquidity and cause significant deterioration in net asset value (“NAV”). These risks are more pronounced in connection with the Fund’s investments in non-investment grade fixed income securities. &lt;&#x2F;p&gt; &lt;&#x2F;td&gt; \\n    &lt;&#x2F;tr&gt; \\n   &lt;&#x2F;tbody&gt; \\n  &lt;&#x2F;table&gt; \\n  &lt;table border=\\\"0\\\" cellpadding=\\\"0\\\" cellspacing=\\\"0\\\" style=\\\"FONT-SIZE: 9pt; FONT-FAMILY: Times New Roman; BORDER-COLLAPSE: collapse\\\" width=\\\"100%\\\"&gt; \\n   &lt;tbody&gt; \\n    &lt;tr style=\\\"PAGE-BREAK-INSIDE: avoid\\\"&gt; \\n     &lt;td align=\\\"left\\\" valign=\\\"top\\\" width=\\\"2%\\\"&gt; &lt;font color=\\\"#744141\\\"&gt; ∎ &lt;&#x2F;font&gt; &lt;&#x2F;td&gt; \\n     &lt;td valign=\\\"top\\\" width=\\\"1%\\\"&gt; &lt;&#x2F;td&gt; \\n     &lt;td align=\\\"left\\\" valign=\\\"top\\\"&gt; &lt;p align=\\\"left\\\" style=\\\"FONT-SIZE: 9pt; MARGIN-BOTTOM: 0pt; FONT-FAMILY: Times New Roman; MARGIN-TOP: 0pt\\\"&gt; &lt;b&gt; &lt;i&gt; &lt;span id=\\\"s_3ea97470-2319-11eb-ae75-126193b880ab\\\" class=\\\"28812058-2319-11eb-b7d6-0242ac110002\\\" data-datapoint=\\\"ETF\\\" data-p_datapoint=\\\"ETF\\\" data-shareclass=\\\"\\\" data-p_shareclass=\\\"\\\" data-guid=\\\"3ea97470-2319-11eb-ae75-126193b880ab\\\" data-fundguid=\\\"\\\" data-dc-anno=\\\"\\\" style=\\\"\\\" tabindex=\\\"0\\\" data-status=\\\"1\\\"&gt;&lt;&#x2F;span&gt;Derivatives Risk&lt;span id=\\\"e_3ea97470-2319-11eb-ae75-126193b880ab\\\" class=\\\"28812058-2319-11eb-b7d6-0242ac110002\\\" style=\\\"\\\" tabindex=\\\"0\\\"&gt;&lt;&#x2F;span&gt;. &lt;&#x2F;i&gt; &lt;&#x2F;b&gt; &lt;span id=\\\"s_3ea97506-2319-11eb-ae75-126193b880ab\\\" class=\\\"28812058-2319-11eb-b7d6-0242ac110002\\\" data-datapoint=\\\"ETF\\\" data-p_datapoint=\\\"ETF\\\" data-shareclass=\\\"\\\" data-p_shareclass=\\\"\\\" data-guid=\\\"3ea97506-2319-11eb-ae75-126193b880ab\\\" data-fundguid=\\\"\\\" data-dc-anno=\\\"\\\" style=\\\"\\\" tabindex=\\\"0\\\" data-status=\\\"1\\\"&gt;&lt;&#x2F;span&gt;The Fund’s use of futures, forwards, swaps, structured securities ( &lt;i&gt; e&lt;span id=\\\"e_3ea97506-2319-11eb-ae75-126193b880ab\\\" class=\\\"28812058-2319-11eb-b7d6-0242ac110002\\\" style=\\\"\\\" tabindex=\\\"0\\\"&gt;&lt;&#x2F;span&gt;.g. &lt;&#x2F;i&gt; , &lt;span id=\\\"s_3ea9759c-2319-11eb-ae75-126193b880ab\\\" class=\\\"28812058-2319-11eb-b7d6-0242ac110002\\\" data-datapoint=\\\"ETF\\\" data-p_datapoint=\\\"ETF\\\" data-shareclass=\\\"\\\" data-p_shareclass=\\\"\\\" data-guid=\\\"3ea9759c-2319-11eb-ae75-126193b880ab\\\" data-fundguid=\\\"\\\" data-dc-anno=\\\"\\\" style=\\\"\\\" tabindex=\\\"0\\\" data-status=\\\"1\\\"&gt;&lt;&#x2F;span&gt;credit linked notes) and other derivative instruments may result in losses&lt;span id=\\\"e_3ea9759c-2319-11eb-ae75-126193b880ab\\\" class=\\\"28812058-2319-11eb-b7d6-0242ac110002\\\" style=\\\"\\\" tabindex=\\\"0\\\"&gt;&lt;&#x2F;span&gt;. These instruments, which may pose risks in addition to and greater than those associated with investing directly in securities, currencies or other instruments, may be illiquid or less liquid, volatile, difficult to price and leveraged so that small changes in the value of underlying instruments may produce disproportionate losses to the Fund. &lt;span id=\\\"s_3ea9763c-2319-11eb-ae75-126193b880ab\\\" class=\\\"28812058-2319-11eb-b7d6-0242ac110002\\\" data-datapoint=\\\"ETF\\\" data-p_datapoint=\\\"ETF\\\" data-shareclass=\\\"\\\" data-p_shareclass=\\\"\\\" data-guid=\\\"3ea9763c-2319-11eb-ae75-126193b880ab\\\" data-fundguid=\\\"\\\" data-dc-anno=\\\"\\\" style=\\\"\\\" tabindex=\\\"0\\\" data-status=\\\"1\\\"&gt;&lt;&#x2F;span&gt;Certain derivatives are also subject to counterparty risk, which is the risk that the other party in the transaction will not fulfill its contractual obligations&lt;span id=\\\"e_3ea9763c-2319-11eb-ae75-126193b880ab\\\" class=\\\"28812058-2319-11eb-b7d6-0242ac110002\\\" style=\\\"\\\" tabindex=\\\"0\\\"&gt;&lt;&#x2F;span&gt;. &lt;span id=\\\"s_3ea976dc-2319-11eb-ae75-126193b880ab\\\" class=\\\"28812058-2319-11eb-b7d6-0242ac110002\\\" data-datapoint=\\\"ETF\\\" data-p_datapoint=\\\"ETF\\\" data-shareclass=\\\"\\\" data-p_shareclass=\\\"\\\" data-guid=\\\"3ea976dc-2319-11eb-ae75-126193b880ab\\\" data-fundguid=\\\"\\\" data-dc-anno=\\\"\\\" style=\\\"\\\" tabindex=\\\"0\\\" data-status=\\\"1\\\"&gt;&lt;&#x2F;span&gt;The use of derivatives is a highly specialized activity that involves investment techniques and risks different from those associated with investments in more traditional securities and instruments&lt;span id=\\\"e_3ea976dc-2319-11eb-ae75-126193b880ab\\\" class=\\\"28812058-2319-11eb-b7d6-0242ac110002\\\" style=\\\"\\\" tabindex=\\\"0\\\"&gt;&lt;&#x2F;span&gt;. &lt;&#x2F;p&gt; &lt;&#x2F;td&gt; \\n    &lt;&#x2F;tr&gt; \\n   &lt;&#x2F;tbody&gt; \\n  &lt;&#x2F;table&gt; \\n  &lt;table border=\\\"0\\\" cellpadding=\\\"0\\\" cellspacing=\\\"0\\\" style=\\\"FONT-SIZE: 9pt; FONT-FAMILY: Times New Roman; BORDER-COLLAPSE: collapse\\\" width=\\\"100%\\\"&gt; \\n   &lt;tbody&gt; \\n    &lt;tr style=\\\"PAGE-BREAK-INSIDE: avoid\\\"&gt; \\n     &lt;td align=\\\"left\\\" valign=\\\"top\\\" width=\\\"2%\\\"&gt; &lt;font color=\\\"#744141\\\"&gt; ∎ &lt;&#x2F;font&gt; &lt;&#x2F;td&gt; \\n     &lt;td valign=\\\"top\\\" width=\\\"1%\\\"&gt; &lt;&#x2F;td&gt; \\n     &lt;td align=\\\"left\\\" valign=\\\"top\\\"&gt; &lt;p align=\\\"left\\\" style=\\\"FONT-SIZE: 9pt; MARGIN-BOTTOM: 0pt; FONT-FAMILY: Times New Roman; MARGIN-TOP: 0pt\\\"&gt; &lt;b&gt; &lt;i&gt; Foreign and Emerging Countries Risk. &lt;&#x2F;i&gt; &lt;&#x2F;b&gt; &lt;span id=\\\"s_3ea94b4e-2319-11eb-ae75-126193b880ab\\\" class=\\\"28812058-2319-11eb-b7d6-0242ac110002\\\" data-datapoint=\\\"ESG\\\" data-p_datapoint=\\\"ESG\\\" data-shareclass=\\\"\\\" data-p_shareclass=\\\"\\\" data-guid=\\\"3ea94b4e-2319-11eb-ae75-126193b880ab\\\" data-fundguid=\\\"\\\" data-dc-anno=\\\"\\\" style=\\\"\\\" tabindex=\\\"0\\\" data-status=\\\"1\\\"&gt;&lt;&#x2F;span&gt;Foreign securities may be subject to risk of loss because of more or less foreign government regulation, less public information, less stringent investor protections and disclosure standards and less economic, political and social stability in the countries in which the Fund invests&lt;span id=\\\"e_3ea94b4e-2319-11eb-ae75-126193b880ab\\\" class=\\\"28812058-2319-11eb-b7d6-0242ac110002\\\" style=\\\"\\\" tabindex=\\\"0\\\"&gt;&lt;&#x2F;span&gt;. The imposition of exchange controls (including repatriation restrictions), sanctions, confiscations, trade restrictions (including tariffs) and other government restrictions by the United States and other governments, or from problems in share registration, settlement or custody, may also result in losses. Foreign risk also involves the risk of negative foreign currency rate fluctuations, which may cause the value of securities denominated in such foreign currency (or other instruments through which the Fund has exposure to foreign currencies) to decline in value. Currency exchange rates may fluctuate significantly over short periods of time. These risks may be more pronounced in connection with the Fund’s investments in securities of issuers located in emerging countries. &lt;&#x2F;p&gt; &lt;&#x2F;td&gt; \\n    &lt;&#x2F;tr&gt; \\n   &lt;&#x2F;tbody&gt; \\n  &lt;&#x2F;table&gt; \\n  &lt;table border=\\\"0\\\" cellpadding=\\\"0\\\" cellspacing=\\\"0\\\" style=\\\"FONT-SIZE: 9pt; FONT-FAMILY: Times New Roman; BORDER-COLLAPSE: collapse\\\" width=\\\"100%\\\"&gt; \\n   &lt;tbody&gt; \\n    &lt;tr style=\\\"PAGE-BREAK-INSIDE: avoid\\\"&gt; \\n     &lt;td align=\\\"left\\\" valign=\\\"top\\\" width=\\\"2%\\\"&gt; &lt;font color=\\\"#744141\\\"&gt; ∎ &lt;&#x2F;font&gt; &lt;&#x2F;td&gt; \\n     &lt;td valign=\\\"top\\\" width=\\\"1%\\\"&gt; &lt;&#x2F;td&gt; \\n     &lt;td align=\\\"left\\\" valign=\\\"top\\\"&gt; &lt;p align=\\\"left\\\" style=\\\"FONT-SIZE: 9pt; MARGIN-BOTTOM: 0pt; FONT-FAMILY: Times New Roman; MARGIN-TOP: 0pt\\\"&gt; &lt;b&gt; &lt;i&gt; Interest Rate Risk. &lt;&#x2F;i&gt; &lt;&#x2F;b&gt; When interest rates increase, fixed income securities or instruments held by the Fund will generally decline in value. Long-term fixed income securities or instruments will normally have more price volatility because of this risk than short-term fixed income securities or instruments. The risks associated with changing interest rates may have unpredictable effects on the markets and the Fund’s investments. Fluctuations in interest rates may also affect the liquidity of fixed income securities and instruments held by the Fund. &lt;&#x2F;p&gt; &lt;&#x2F;td&gt; \\n    &lt;&#x2F;tr&gt; \\n   &lt;&#x2F;tbody&gt; \\n  &lt;&#x2F;table&gt; \\n  &lt;table border=\\\"0\\\" cellpadding=\\\"0\\\" cellspacing=\\\"0\\\" style=\\\"FONT-SIZE: 9pt; FONT-FAMILY: Times New Roman; BORDER-COLLAPSE: collapse\\\" width=\\\"100%\\\"&gt; \\n   &lt;tbody&gt; \\n    &lt;tr style=\\\"PAGE-BREAK-INSIDE: avoid\\\"&gt; \\n     &lt;td align=\\\"left\\\" valign=\\\"top\\\" width=\\\"2%\\\"&gt; &lt;font color=\\\"#744141\\\"&gt; ∎ &lt;&#x2F;font&gt; &lt;&#x2F;td&gt; \\n     &lt;td valign=\\\"top\\\" width=\\\"1%\\\"&gt; &lt;&#x2F;td&gt; \\n     &lt;td align=\\\"left\\\" valign=\\\"top\\\"&gt; &lt;p align=\\\"left\\\" style=\\\"FONT-SIZE: 9pt; MARGIN-BOTTOM: 0pt; FONT-FAMILY: Times New Roman; MARGIN-TOP: 0pt\\\"&gt; &lt;b&gt; &lt;i&gt; Large Shareholder Transactions Risk. &lt;&#x2F;i&gt; &lt;&#x2F;b&gt; The Fund may experience adverse effects when certain large shareholders purchase or redeem large amounts of shares of the Fund. Such large shareholder redemptions, which may occur rapidly or unexpectedly, may cause the Fund to sell portfolio securities at times when it would not otherwise do so, which may negatively impact the Fund’s NAV and liquidity. Similarly, large Fund share purchases may adversely affect the Fund’s performance to the extent that the Fund is delayed in investing new cash or otherwise maintains a larger cash position than it ordinarily would. These transactions may also accelerate the realization of taxable income to shareholders if such sales of investments resulted in gains, and may also increase transaction costs. In addition, a large redemption could result in the Fund’s current expenses being allocated over a smaller asset base, leading to an increase in the Fund’s expense ratio. &lt;&#x2F;p&gt; &lt;&#x2F;td&gt; \\n    &lt;&#x2F;tr&gt; \\n   &lt;&#x2F;tbody&gt; \\n  &lt;&#x2F;table&gt; \\n  &lt;table border=\\\"0\\\" cellpadding=\\\"0\\\" cellspacing=\\\"0\\\" style=\\\"FONT-SIZE: 9pt; FONT-FAMILY: Times New Roman; BORDER-COLLAPSE: collapse\\\" width=\\\"100%\\\"&gt; \\n   &lt;tbody&gt; \\n    &lt;tr style=\\\"PAGE-BREAK-INSIDE: avoid\\\"&gt; \\n     &lt;td align=\\\"left\\\" valign=\\\"top\\\" width=\\\"2%\\\"&gt; &lt;font color=\\\"#744141\\\"&gt; ∎ &lt;&#x2F;font&gt; &lt;&#x2F;td&gt; \\n     &lt;td valign=\\\"top\\\" width=\\\"1%\\\"&gt; &lt;&#x2F;td&gt; \\n     &lt;td align=\\\"left\\\" valign=\\\"top\\\"&gt; &lt;p align=\\\"left\\\" style=\\\"FONT-SIZE: 9pt; MARGIN-BOTTOM: 0pt; FONT-FAMILY: Times New Roman; MARGIN-TOP: 0pt\\\"&gt; &lt;b&gt; &lt;i&gt; Liquidity Risk. &lt;&#x2F;i&gt; &lt;&#x2F;b&gt; The Fund may make investments that are illiquid or that may become less liquid in response to market developments or adverse investor perceptions. Illiquid investments may be more difficult to value. Liquidity risk may also refer to the risk &lt;&#x2F;p&gt; &lt;&#x2F;td&gt; \\n    &lt;&#x2F;tr&gt; \\n   &lt;&#x2F;tbody&gt; \\n  &lt;&#x2F;table&gt; \\n  &lt;p style=\\\"FONT-SIZE: 8pt; MARGIN-BOTTOM: 0pt; MARGIN-TOP: 0pt\\\"&gt; &lt;&#x2F;p&gt; \\n   \\n  &lt;p style=\\\"MARGIN-BOTTOM: 0em; MARGIN-TOP: 1em; PAGE-BREAK-BEFORE: always\\\"&gt; &lt;&#x2F;p&gt; \\n   \\n  &lt;table border=\\\"0\\\" cellpadding=\\\"0\\\" cellspacing=\\\"0\\\" style=\\\"FONT-SIZE: 9pt; FONT-FAMILY: Times New Roman; BORDER-COLLAPSE: collapse\\\" width=\\\"100%\\\"&gt; \\n   &lt;tbody&gt; \\n    &lt;tr style=\\\"PAGE-BREAK-INSIDE: avoid\\\"&gt; \\n     &lt;td width=\\\"3%\\\"&gt; &lt;&#x2F;td&gt; \\n     &lt;td valign=\\\"top\\\"&gt; &lt;p style=\\\"FONT-SIZE: 9pt; MARGIN-BOTTOM: 0pt; FONT-FAMILY: Times New Roman; MARGIN-TOP: 0pt\\\"&gt; that the Fund will not be able to pay redemption proceeds within the allowable time period because of unusual market conditions, an unusually high volume of redemption requests or other reasons. To meet redemption requests, the Fund may be forced to sell securities at an unfavorable time and&#x2F;or under unfavorable conditions. Liquidity risk may be the result of, among other things, the reduced number and capacity of traditional market participants to make a market in fixed income securities or the lack of an active market. The potential for liquidity risk may be magnified by a rising interest rate environment or other circumstances where investor redemptions from fixed income funds may be higher than normal, potentially causing increased supply in the market due to selling activity. These risks may be more pronounced in connection with the Fund’s investments in securities of issuers located in emerging market countries. Redemptions by large shareholders may have a negative impact on the Fund’s liquidity. &lt;&#x2F;p&gt; &lt;&#x2F;td&gt; \\n    &lt;&#x2F;tr&gt; \\n   &lt;&#x2F;tbody&gt; \\n  &lt;&#x2F;table&gt; \\n  &lt;table border=\\\"0\\\" cellpadding=\\\"0\\\" cellspacing=\\\"0\\\" style=\\\"FONT-SIZE: 9pt; FONT-FAMILY: Times New Roman; BORDER-COLLAPSE: collapse\\\" width=\\\"100%\\\"&gt; \\n   &lt;tbody&gt; \\n    &lt;tr style=\\\"PAGE-BREAK-INSIDE: avoid\\\"&gt; \\n     &lt;td align=\\\"left\\\" valign=\\\"top\\\" width=\\\"2%\\\"&gt; &lt;font color=\\\"#744141\\\"&gt; ∎ &lt;&#x2F;font&gt; &lt;&#x2F;td&gt; \\n     &lt;td valign=\\\"top\\\" width=\\\"1%\\\"&gt; &lt;&#x2F;td&gt; \\n     &lt;td align=\\\"left\\\" valign=\\\"top\\\"&gt; &lt;p align=\\\"left\\\" style=\\\"FONT-SIZE: 9pt; MARGIN-BOTTOM: 0pt; FONT-FAMILY: Times New Roman; MARGIN-TOP: 0pt\\\"&gt; &lt;b&gt; &lt;i&gt; Market Risk. &lt;&#x2F;i&gt; &lt;&#x2F;b&gt; The value of the securities in which the Fund invests may go up or down in response to the prospects of individual companies, particular sectors or governments and&#x2F;or general economic conditions throughout the world due to increasingly interconnected global economies and financial markets. &lt;span id=\\\"s_3ea94c3e-2319-11eb-ae75-126193b880ab\\\" class=\\\"28812058-2319-11eb-b7d6-0242ac110002\\\" data-datapoint=\\\"ESG\\\" data-p_datapoint=\\\"ESG\\\" data-shareclass=\\\"\\\" data-p_shareclass=\\\"\\\" data-guid=\\\"3ea94c3e-2319-11eb-ae75-126193b880ab\\\" data-fundguid=\\\"\\\" data-dc-anno=\\\"\\\" style=\\\"\\\" tabindex=\\\"0\\\" data-status=\\\"1\\\"&gt;&lt;&#x2F;span&gt;Events such as war, acts of terrorism, social unrest, natural disasters, the spread of infectious illness or other public health threats could also significantly impact the Fund and its investments&lt;span id=\\\"e_3ea94c3e-2319-11eb-ae75-126193b880ab\\\" class=\\\"28812058-2319-11eb-b7d6-0242ac110002\\\" style=\\\"\\\" tabindex=\\\"0\\\"&gt;&lt;&#x2F;span&gt;. &lt;&#x2F;p&gt; &lt;&#x2F;td&gt; \\n    &lt;&#x2F;tr&gt; \\n   &lt;&#x2F;tbody&gt; \\n  &lt;&#x2F;table&gt; \\n  &lt;table border=\\\"0\\\" cellpadding=\\\"0\\\" cellspacing=\\\"0\\\" style=\\\"FONT-SIZE: 9pt; FONT-FAMILY: Times New Roman; BORDER-COLLAPSE: collapse\\\" width=\\\"100%\\\"&gt; \\n   &lt;tbody&gt; \\n    &lt;tr style=\\\"PAGE-BREAK-INSIDE: avoid\\\"&gt; \\n     &lt;td align=\\\"left\\\" valign=\\\"top\\\" width=\\\"2%\\\"&gt; &lt;font color=\\\"#744141\\\"&gt; ∎ &lt;&#x2F;font&gt; &lt;&#x2F;td&gt; \\n     &lt;td valign=\\\"top\\\" width=\\\"1%\\\"&gt; &lt;&#x2F;td&gt; \\n     &lt;td align=\\\"left\\\" valign=\\\"top\\\"&gt; &lt;p align=\\\"left\\\" style=\\\"FONT-SIZE: 9pt; MARGIN-BOTTOM: 0pt; FONT-FAMILY: Times New Roman; MARGIN-TOP: 0pt\\\"&gt; &lt;b&gt; &lt;i&gt; &lt;font style=\\\"WHITE-SPACE: nowrap\\\"&gt; Non-Investment &lt;&#x2F;font&gt; Grade Fixed Income Securities Risk. &lt;&#x2F;i&gt; &lt;&#x2F;b&gt; Non-investment grade fixed income securities and unrated securities of comparable credit quality (commonly known as “junk bonds”) are considered speculative and are subject to the increased risk of an issuer’s inability to meet principal and interest payment obligations. These securities may be subject to greater price volatility due to such factors as specific issuer developments, interest rate sensitivity, negative perceptions of the junk bond markets generally and less liquidity. &lt;&#x2F;p&gt; &lt;&#x2F;td&gt; \\n    &lt;&#x2F;tr&gt; \\n   &lt;&#x2F;tbody&gt; \\n  &lt;&#x2F;table&gt; \\n  &lt;table border=\\\"0\\\" cellpadding=\\\"0\\\" cellspacing=\\\"0\\\" style=\\\"FONT-SIZE: 9pt; FONT-FAMILY: Times New Roman; BORDER-COLLAPSE: collapse\\\" width=\\\"100%\\\"&gt; \\n   &lt;tbody&gt; \\n    &lt;tr style=\\\"PAGE-BREAK-INSIDE: avoid\\\"&gt; \\n     &lt;td align=\\\"left\\\" valign=\\\"top\\\" width=\\\"2%\\\"&gt; &lt;font color=\\\"#744141\\\"&gt; ∎ &lt;&#x2F;font&gt; &lt;&#x2F;td&gt; \\n     &lt;td valign=\\\"top\\\" width=\\\"1%\\\"&gt; &lt;&#x2F;td&gt; \\n     &lt;td align=\\\"left\\\" valign=\\\"top\\\"&gt; &lt;p align=\\\"left\\\" style=\\\"FONT-SIZE: 9pt; MARGIN-BOTTOM: 0pt; FONT-FAMILY: Times New Roman; MARGIN-TOP: 0pt\\\"&gt; &lt;b&gt; &lt;i&gt; Other Investment Companies Risk. &lt;&#x2F;i&gt; &lt;&#x2F;b&gt; By investing in other investment companies (including ETFs) indirectly through the Fund, investors will incur a proportionate share of the expenses of the other investment companies held by the Fund (including operating costs and investment management fees) in addition to the fees regularly borne by the Fund. In addition, the Fund will be affected by the investment policies, practices and performance of such investment companies in direct proportion to the amount of assets the Fund invests therein. &lt;&#x2F;p&gt; &lt;&#x2F;td&gt; \\n    &lt;&#x2F;tr&gt; \\n   &lt;&#x2F;tbody&gt; \\n  &lt;&#x2F;table&gt; \\n  &lt;table border=\\\"0\\\" cellpadding=\\\"0\\\" cellspacing=\\\"0\\\" style=\\\"FONT-SIZE: 9pt; FONT-FAMILY: Times New Roman; BORDER-COLLAPSE: collapse\\\" width=\\\"100%\\\"&gt; \\n   &lt;tbody&gt; \\n    &lt;tr style=\\\"PAGE-BREAK-INSIDE: avoid\\\"&gt; \\n     &lt;td align=\\\"left\\\" valign=\\\"top\\\" width=\\\"2%\\\"&gt; &lt;font color=\\\"#744141\\\"&gt; ∎ &lt;&#x2F;font&gt; &lt;&#x2F;td&gt; \\n     &lt;td valign=\\\"top\\\" width=\\\"1%\\\"&gt; &lt;&#x2F;td&gt; \\n     &lt;td align=\\\"left\\\" valign=\\\"top\\\"&gt; &lt;p align=\\\"left\\\" style=\\\"FONT-SIZE: 9pt; MARGIN-BOTTOM: 0pt; FONT-FAMILY: Times New Roman; MARGIN-TOP: 0pt\\\"&gt; &lt;b&gt; &lt;i&gt; Sovereign Default Risk. &lt;&#x2F;i&gt; &lt;&#x2F;b&gt; An issuer of &lt;font style=\\\"WHITE-SPACE: nowrap\\\"&gt; non-U.S. &lt;&#x2F;font&gt; sovereign debt held by the Fund or the governmental authorities that control the repayment of the debt may be unable or unwilling to repay the principal or interest when due. &lt;span id=\\\"s_3ea94d06-2319-11eb-ae75-126193b880ab\\\" class=\\\"28812058-2319-11eb-b7d6-0242ac110002\\\" data-datapoint=\\\"ESG\\\" data-p_datapoint=\\\"ESG\\\" data-shareclass=\\\"\\\" data-p_shareclass=\\\"\\\" data-guid=\\\"3ea94d06-2319-11eb-ae75-126193b880ab\\\" data-fundguid=\\\"\\\" data-dc-anno=\\\"\\\" style=\\\"\\\" tabindex=\\\"0\\\" data-status=\\\"1\\\"&gt;&lt;&#x2F;span&gt;This may result from political or social factors, the general economic environment of a country, levels of foreign debt or foreign currency exchange rates&lt;span id=\\\"e_3ea94d06-2319-11eb-ae75-126193b880ab\\\" class=\\\"28812058-2319-11eb-b7d6-0242ac110002\\\" style=\\\"\\\" tabindex=\\\"0\\\"&gt;&lt;&#x2F;span&gt;. &lt;&#x2F;p&gt; &lt;&#x2F;td&gt; \\n    &lt;&#x2F;tr&gt; \\n   &lt;&#x2F;tbody&gt; \\n  &lt;&#x2F;table&gt; \\n  &lt;p style=\\\"FONT-SIZE: 9pt; MARGIN-BOTTOM: 0pt; FONT-FAMILY: Times New Roman; MARGIN-TOP: 12pt\\\"&gt; &lt;b&gt; &lt;&#x2F;b&gt;&lt;&#x2F;p&gt;')"
   ]
  },
  {
   "cell_type": "code",
   "execution_count": 7,
   "metadata": {},
   "outputs": [],
   "source": [
    "from bs4 import BeautifulSoup"
   ]
  },
  {
   "cell_type": "code",
   "execution_count": 8,
   "metadata": {},
   "outputs": [],
   "source": [
    "html_obj = BeautifulSoup(raw_string, 'lxml')"
   ]
  },
  {
   "cell_type": "code",
   "execution_count": 12,
   "metadata": {},
   "outputs": [
    {
     "data": {
      "text/plain": [
       "' Loss of money is a risk of investing in the Fund. An investment in the Fund is not a bank deposit and is not insured or guaranteed by the Federal Deposit Insurance Corporation (“FDIC”) or any government agency. The Fund should not be relied upon as a complete investment program. There can be no assurance that the Fund will achieve its investment objective. Investments in the Fund involve substantial risks which prospective investors should consider carefully before investing. The Fund’s principal risks are presented below in alphabetical order, and not in the order of importance or potential exposure. ∎ Counterparty Risk. Many of the protections afforded to cleared transactions, such as the security afforded by transacting through a clearinghouse, might not be available in connection with over-the-counter (“OTC”) transactions. Therefore, in those instances in which the Fund enters into uncleared OTC transactions, the Fund will be subject to the risk that its direct counterparty will not perform its obligations under the transactions and that the Fund will sustain losses. ∎ Credit/Default Risk. An issuer or guarantor of fixed income securities or instruments held by the Fund (which may have low credit ratings) may default on its obligation to pay interest and repay principal or default on any other obligation. Additionally, the credit quality of securities may deteriorate rapidly, which may impair the Fund’s liquidity and cause significant deterioration in net asset value (“NAV”). These risks are more pronounced in connection with the Fund’s investments in non-investment grade fixed income securities. ∎ Derivatives Risk. The Fund’s use of futures, forwards, swaps, structured securities ( e.g. , credit linked notes) and other derivative instruments may result in losses. These instruments, which may pose risks in addition to and greater than those associated with investing directly in securities, currencies or other instruments, may be illiquid or less liquid, volatile, difficult to price and leveraged so that small changes in the value of underlying instruments may produce disproportionate losses to the Fund. Certain derivatives are also subject to counterparty risk, which is the risk that the other party in the transaction will not fulfill its contractual obligations. The use of derivatives is a highly specialized activity that involves investment techniques and risks different from those associated with investments in more traditional securities and instruments. ∎ Foreign and Emerging Countries Risk. Foreign securities may be subject to risk of loss because of more or less foreign government regulation, less public information, less stringent investor protections and disclosure standards and less economic, political and social stability in the countries in which the Fund invests. The imposition of exchange controls (including repatriation restrictions), sanctions, confiscations, trade restrictions (including tariffs) and other government restrictions by the United States and other governments, or from problems in share registration, settlement or custody, may also result in losses. Foreign risk also involves the risk of negative foreign currency rate fluctuations, which may cause the value of securities denominated in such foreign currency (or other instruments through which the Fund has exposure to foreign currencies) to decline in value. Currency exchange rates may fluctuate significantly over short periods of time. These risks may be more pronounced in connection with the Fund’s investments in securities of issuers located in emerging countries. ∎ Interest Rate Risk. When interest rates increase, fixed income securities or instruments held by the Fund will generally decline in value. Long-term fixed income securities or instruments will normally have more price volatility because of this risk than short-term fixed income securities or instruments. The risks associated with changing interest rates may have unpredictable effects on the markets and the Fund’s investments. Fluctuations in interest rates may also affect the liquidity of fixed income securities and instruments held by the Fund. ∎ Large Shareholder Transactions Risk. The Fund may experience adverse effects when certain large shareholders purchase or redeem large amounts of shares of the Fund. Such large shareholder redemptions, which may occur rapidly or unexpectedly, may cause the Fund to sell portfolio securities at times when it would not otherwise do so, which may negatively impact the Fund’s NAV and liquidity. Similarly, large Fund share purchases may adversely affect the Fund’s performance to the extent that the Fund is delayed in investing new cash or otherwise maintains a larger cash position than it ordinarily would. These transactions may also accelerate the realization of taxable income to shareholders if such sales of investments resulted in gains, and may also increase transaction costs. In addition, a large redemption could result in the Fund’s current expenses being allocated over a smaller asset base, leading to an increase in the Fund’s expense ratio. ∎ Liquidity Risk. The Fund may make investments that are illiquid or that may become less liquid in response to market developments or adverse investor perceptions. Illiquid investments may be more difficult to value. Liquidity risk may also refer to the risk that the Fund will not be able to pay redemption proceeds within the allowable time period because of unusual market conditions, an unusually high volume of redemption requests or other reasons. To meet redemption requests, the Fund may be forced to sell securities at an unfavorable time and/or under unfavorable conditions. Liquidity risk may be the result of, among other things, the reduced number and capacity of traditional market participants to make a market in fixed income securities or the lack of an active market. The potential for liquidity risk may be magnified by a rising interest rate environment or other circumstances where investor redemptions from fixed income funds may be higher than normal, potentially causing increased supply in the market due to selling activity. These risks may be more pronounced in connection with the Fund’s investments in securities of issuers located in emerging market countries. Redemptions by large shareholders may have a negative impact on the Fund’s liquidity. ∎ Market Risk. The value of the securities in which the Fund invests may go up or down in response to the prospects of individual companies, particular sectors or governments and/or general economic conditions throughout the world due to increasingly interconnected global economies and financial markets. Events such as war, acts of terrorism, social unrest, natural disasters, the spread of infectious illness or other public health threats could also significantly impact the Fund and its investments. ∎ Non-Investment Grade Fixed Income Securities Risk. Non-investment grade fixed income securities and unrated securities of comparable credit quality (commonly known as “junk bonds”) are considered speculative and are subject to the increased risk of an issuer’s inability to meet principal and interest payment obligations. These securities may be subject to greater price volatility due to such factors as specific issuer developments, interest rate sensitivity, negative perceptions of the junk bond markets generally and less liquidity. ∎ Other Investment Companies Risk. By investing in other investment companies (including ETFs) indirectly through the Fund, investors will incur a proportionate share of the expenses of the other investment companies held by the Fund (including operating costs and investment management fees) in addition to the fees regularly borne by the Fund. In addition, the Fund will be affected by the investment policies, practices and performance of such investment companies in direct proportion to the amount of assets the Fund invests therein. ∎ Sovereign Default Risk. An issuer of non-U.S. sovereign debt held by the Fund or the governmental authorities that control the repayment of the debt may be unable or unwilling to repay the principal or interest when due. This may result from political or social factors, the general economic environment of a country, levels of foreign debt or foreign currency exchange rates. '"
      ]
     },
     "execution_count": 12,
     "metadata": {},
     "output_type": "execute_result"
    }
   ],
   "source": [
    "import re\n",
    "re.sub(r'( ){2,}', ' ', html_obj.text.replace('\\n', ' '))"
   ]
  },
  {
   "cell_type": "code",
   "execution_count": 16,
   "metadata": {},
   "outputs": [],
   "source": [
    "import pandas as pd"
   ]
  },
  {
   "cell_type": "code",
   "execution_count": 17,
   "metadata": {},
   "outputs": [],
   "source": [
    "data = [{'name': 'Mike', 'age': 29}, {'name': 'Jerry', 'age': 15},]"
   ]
  },
  {
   "cell_type": "code",
   "execution_count": 18,
   "metadata": {},
   "outputs": [],
   "source": [
    "data_df = pd.DataFrame(data)"
   ]
  },
  {
   "cell_type": "code",
   "execution_count": 19,
   "metadata": {},
   "outputs": [
    {
     "data": {
      "text/plain": [
       "'Mike'"
      ]
     },
     "execution_count": 19,
     "metadata": {},
     "output_type": "execute_result"
    }
   ],
   "source": [
    "data_df.iloc[0]['name']"
   ]
  },
  {
   "cell_type": "code",
   "execution_count": null,
   "metadata": {},
   "outputs": [],
   "source": []
  }
 ],
 "metadata": {
  "kernelspec": {
   "display_name": "Python 3",
   "language": "python",
   "name": "python3"
  },
  "language_info": {
   "codemirror_mode": {
    "name": "ipython",
    "version": 3
   },
   "file_extension": ".py",
   "mimetype": "text/x-python",
   "name": "python",
   "nbconvert_exporter": "python",
   "pygments_lexer": "ipython3",
   "version": "3.6.7"
  }
 },
 "nbformat": 4,
 "nbformat_minor": 4
}
