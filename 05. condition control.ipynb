{
 "cells": [
  {
   "cell_type": "markdown",
   "metadata": {},
   "source": [
    "# Python条件控制"
   ]
  },
  {
   "cell_type": "markdown",
   "metadata": {},
   "source": [
    "Python条件语句是通过一条或多条语句的执行结果（True或者False）来决定执行的代码块. <br>\n",
    "可以通过下图来简单了解条件语句的执行过程:"
   ]
  },
  {
   "cell_type": "markdown",
   "metadata": {},
   "source": [
    "![条件控制](image/if-condition.jpg)"
   ]
  },
  {
   "cell_type": "markdown",
   "metadata": {},
   "source": [
    "## if语句\n",
    "Python中if语句的一般形式如下所示.\n",
    "注意：\n",
    "* 每个条件后面要使用冒号 :，表示接下来是满足条件后要执行的语句块\n",
    "* 使用缩进来划分语句块，相同缩进数的语句在一起组成一个语句块\n",
    "* 在Python中没有switch – case语句"
   ]
  },
  {
   "cell_type": "code",
   "execution_count": 6,
   "metadata": {},
   "outputs": [
    {
     "name": "stdout",
     "output_type": "stream",
     "text": [
      "3\n"
     ]
    }
   ],
   "source": [
    "condition_1 = False\n",
    "condition_2 = False\n",
    "\n",
    "statement_block_1 = 1\n",
    "statement_block_2 = 2\n",
    "statement_block_3 = 3\n",
    "\n",
    "if condition_1:\n",
    "    print(statement_block_1)\n",
    "elif condition_2:\n",
    "    print(statement_block_2)\n",
    "else:\n",
    "    print(statement_block_3)"
   ]
  },
  {
   "cell_type": "code",
   "execution_count": 10,
   "metadata": {},
   "outputs": [
    {
     "name": "stdout",
     "output_type": "stream",
     "text": [
      "<class 'NoneType'>\n",
      "none is equal with zero\n",
      "1. if 表达式条件为 true\n",
      "100\n",
      "var2: 0 is equal with False\n",
      "Good bye!\n",
      "empty list\n"
     ]
    }
   ],
   "source": [
    "var = None\n",
    "print(type(var))\n",
    "if var:\n",
    "    print('qq')\n",
    "else:\n",
    "    print('none is equal with zero')\n",
    "\n",
    "var1 = 100\n",
    "if var1:\n",
    "    print (\"1. if 表达式条件为 true\")\n",
    "    print (var1)\n",
    "\n",
    "var2 = 0\n",
    "if var2:\n",
    "    print (\"2. if 表达式条件为 true\")\n",
    "    print (var2)\n",
    "else:\n",
    "    print('var2: {0} is equal with False'.format(var2))\n",
    "print (\"Good bye!\")\n",
    "\n",
    "mylist = []\n",
    "mydict = {}\n",
    "if not mylist:\n",
    "    print('empty list')"
   ]
  },
  {
   "cell_type": "markdown",
   "metadata": {},
   "source": [
    "从结果可以看到由于变量 var2 为 0，所以对应的 if 内的语句没有执行"
   ]
  },
  {
   "cell_type": "markdown",
   "metadata": {},
   "source": [
    "以下实例演示了狗的年龄计算判断"
   ]
  },
  {
   "cell_type": "code",
   "execution_count": 12,
   "metadata": {},
   "outputs": [
    {
     "name": "stdout",
     "output_type": "stream",
     "text": [
      "=======欢迎进入狗狗年龄对比系统========\n",
      "请输入您家狗的年龄:1\n",
      "相当于人类14岁\n",
      "\n",
      "退出(Y/N)？N\n",
      "\n",
      "请输入您家狗的年龄:2\n",
      "相当于人类22岁\n",
      "\n",
      "退出(Y/N)？N\n",
      "\n",
      "请输入您家狗的年龄:50\n",
      "相当于人类： 262.0\n",
      "\n",
      "退出(Y/N)？N\n",
      "\n",
      "请输入您家狗的年龄:3\n",
      "相当于人类： 27.0\n",
      "\n",
      "退出(Y/N)？Y\n",
      "\n",
      "点击 enter 键退出\n"
     ]
    },
    {
     "data": {
      "text/plain": [
       "''"
      ]
     },
     "execution_count": 12,
     "metadata": {},
     "output_type": "execute_result"
    }
   ],
   "source": [
    "print(\"=======欢迎进入狗狗年龄对比系统========\")\n",
    "control = \"N\"\n",
    "while control==\"N\":\n",
    "    try:\n",
    "        age = int(input(\"请输入您家狗的年龄:\"))\n",
    "        #print(\" \")\n",
    "        age = float(age)\n",
    "        if age < 0:\n",
    "            print(\"您在逗我？\")\n",
    "        elif age == 1:\n",
    "            print(\"相当于人类14岁\")\n",
    "            #break\n",
    "        elif age == 2:\n",
    "            print(\"相当于人类22岁\")\n",
    "            #break\n",
    "        else:\n",
    "            human = 22 + (age - 2)*5\n",
    "            print(\"相当于人类：\",human)\n",
    "            #break\n",
    "    except ValueError:\n",
    "        print(\"输入不合法，请输入有效年龄\")\n",
    "    print(\"\")\n",
    "    control = input(\"退出(Y/N)？\")\n",
    "    print(\"\")\n",
    "###退出提示\n",
    "input(\"点击 enter 键退出\")"
   ]
  },
  {
   "cell_type": "markdown",
   "metadata": {},
   "source": [
    "以下为if中常用的操作运算符\n",
    "* <            小于\n",
    "* <=         小于等于\n",
    "* \\>          大于\n",
    "* \\>=       大于等于\n",
    "* ==        等于，比较对象是否相等\n",
    "* !=         不等于"
   ]
  },
  {
   "cell_type": "markdown",
   "metadata": {},
   "source": [
    "演示数字猜谜游戏"
   ]
  },
  {
   "cell_type": "code",
   "execution_count": 13,
   "metadata": {},
   "outputs": [
    {
     "name": "stdout",
     "output_type": "stream",
     "text": [
      "数字猜谜游戏!\n",
      "请输入你猜的数字：9\n",
      "猜的数字大了...\n",
      "请输入你猜的数字：3\n",
      "猜的数字小了...\n",
      "请输入你猜的数字：5\n",
      "猜的数字小了...\n",
      "请输入你猜的数字：8\n",
      "猜的数字大了...\n",
      "请输入你猜的数字：7\n",
      "恭喜，你猜对了！\n"
     ]
    }
   ],
   "source": [
    "number = 7\n",
    "guess = -1\n",
    "print(\"数字猜谜游戏!\")\n",
    "while guess != number:\n",
    "    guess = int(input(\"请输入你猜的数字：\"))\n",
    "    if guess == number:\n",
    "        print(\"恭喜，你猜对了！\")\n",
    "    elif guess < number:\n",
    "        print(\"猜的数字小了...\")\n",
    "    elif guess > number:\n",
    "        print(\"猜的数字大了...\")"
   ]
  },
  {
   "cell_type": "markdown",
   "metadata": {},
   "source": [
    "# if嵌套\n",
    "在嵌套 if 语句中，可以把 if...elif...else 结构放在另外一个 if...elif...else 结构中"
   ]
  },
  {
   "cell_type": "code",
   "execution_count": 15,
   "metadata": {},
   "outputs": [
    {
     "name": "stdout",
     "output_type": "stream",
     "text": [
      "输入一个数字：101\n",
      "你输入的数字不能整除 2 和 3\n"
     ]
    }
   ],
   "source": [
    "num = int(input(\"输入一个数字：\"))\n",
    "if num%2==0:\n",
    "    if num%3==0:\n",
    "        print (\"你输入的数字可以整除 2 和 3\")\n",
    "    else:\n",
    "        print (\"你输入的数字可以整除 2，但不能整除 3\")\n",
    "else:\n",
    "    if num%3==0:\n",
    "        print (\"你输入的数字可以整除 3，但不能整除 2\")\n",
    "    else:\n",
    "        print  (\"你输入的数字不能整除 2 和 3\")"
   ]
  },
  {
   "cell_type": "markdown",
   "metadata": {},
   "source": [
    "以下实例 x 为 0-99 取一个数，y 为 0-199 取一个数,如果 x>y 则输出 x，如果 x 等于 y 则输出 x+y，否则输出y"
   ]
  },
  {
   "cell_type": "code",
   "execution_count": 21,
   "metadata": {},
   "outputs": [
    {
     "name": "stdout",
     "output_type": "stream",
     "text": [
      "x: 43\n"
     ]
    }
   ],
   "source": [
    "import random\n",
    "\n",
    "x = random.choice(range(100))\n",
    "y = random.choice(range(200))\n",
    "if x > y:\n",
    "    print('x:',x)\n",
    "elif x == y:\n",
    "    print('x+y:', x + y)\n",
    "else:\n",
    "    print('y:',y)"
   ]
  },
  {
   "cell_type": "markdown",
   "metadata": {},
   "source": [
    "BMI 指数（即身体质量指数，简称体质指数又称体重，英文为 Body Mass Index，简称BMI），是用体重公斤数除以身高米数平方得出的数字"
   ]
  },
  {
   "cell_type": "code",
   "execution_count": 22,
   "metadata": {},
   "outputs": [
    {
     "name": "stdout",
     "output_type": "stream",
     "text": [
      "----欢迎使用BMI计算程序----\n",
      "请键入您的姓名:John\n",
      "请键入您的身高(m):1.78\n",
      "请键入您的体重(kg):80\n",
      "请键入你的性别(F/M)M\n",
      "姓名: John  BMI: 25.24933720489837  身体状态:超重\n",
      "感谢 John 先生在 Wed May 12 18:59:45 2021 使用本程序,祝您身体健康!\n"
     ]
    }
   ],
   "source": [
    "print('----欢迎使用BMI计算程序----')\n",
    "name=input('请键入您的姓名:')\n",
    "height=eval(input('请键入您的身高(m):'))\n",
    "weight=eval(input('请键入您的体重(kg):'))\n",
    "gender=input('请键入你的性别(F/M)')\n",
    "BMI=float(float(weight)/(float(height)**2))\n",
    "#公式\n",
    "if BMI<=18.4:\n",
    "    print('姓名:',name,' BMI:', BMI, ' 身体状态:偏瘦')\n",
    "elif BMI<=23.9:\n",
    "    print('姓名:',name,' BMI:', BMI, ' 身体状态:正常')\n",
    "elif BMI<=27.9:\n",
    "    print('姓名:',name,' BMI:', BMI, ' 身体状态:超重')\n",
    "elif BMI>=28:\n",
    "    print('姓名:',name,' BMI:', BMI, ' 身体状态:肥胖')\n",
    "import time;\n",
    "#time模块\n",
    "nowtime=(time.asctime(time.localtime(time.time())))\n",
    "if gender=='M':\n",
    "    print('感谢',name,'先生在',nowtime,'使用本程序,祝您身体健康!')\n",
    "if gender=='F':\n",
    "    print('感谢',name,'女士在',nowtime,'使用本程序,祝您身体健康!')"
   ]
  },
  {
   "cell_type": "markdown",
   "metadata": {},
   "source": [
    "下表列出了不同数值类型的 true 和 false 情况\n",
    "* 类型，False, True\n",
    "* 布尔, False(与0等价), True(与1等价)\n",
    "* 数值， 0与0.0，非零的数值\n",
    "* 字符串, ''与\"\"（空字符串）, 非空字符串\n",
    "* 容器, [] {} set(), 至少有一个元素的容器对象\n",
    "* None, None, 非None对象"
   ]
  },
  {
   "cell_type": "code",
   "execution_count": 23,
   "metadata": {},
   "outputs": [
    {
     "name": "stdout",
     "output_type": "stream",
     "text": [
      "Help on built-in function eval in module builtins:\n",
      "\n",
      "eval(source, globals=None, locals=None, /)\n",
      "    Evaluate the given source in the context of globals and locals.\n",
      "    \n",
      "    The source may be a string representing a Python expression\n",
      "    or a code object as returned by compile().\n",
      "    The globals must be a dictionary and locals can be any mapping,\n",
      "    defaulting to the current globals and locals.\n",
      "    If only globals is given, locals defaults to it.\n",
      "\n"
     ]
    }
   ],
   "source": [
    "help(eval)"
   ]
  },
  {
   "cell_type": "code",
   "execution_count": 25,
   "metadata": {},
   "outputs": [
    {
     "name": "stdout",
     "output_type": "stream",
     "text": [
      "True\n",
      "'' is equal with None\n",
      "list is none\n",
      "Diction is none\n"
     ]
    }
   ],
   "source": [
    "if -1:\n",
    "    print('True')\n",
    "\n",
    "if '':\n",
    "    print('empty string')\n",
    "else:\n",
    "    print(\"'' is equal with None\")\n",
    "    \n",
    "li = []\n",
    "if li:\n",
    "    print('True')\n",
    "else:\n",
    "    print('list is none')\n",
    "    \n",
    "dic = {}\n",
    "if dic:\n",
    "    print('True')\n",
    "else:\n",
    "    print('Diction is none')"
   ]
  },
  {
   "cell_type": "markdown",
   "metadata": {},
   "source": [
    "使用and, or作为if判断中的条件"
   ]
  },
  {
   "cell_type": "code",
   "execution_count": 13,
   "metadata": {},
   "outputs": [
    {
     "name": "stdout",
     "output_type": "stream",
     "text": [
      "不都是True\n"
     ]
    }
   ],
   "source": [
    "a = True\n",
    "b = False\n",
    "if a and b:\n",
    "    print('都是True')\n",
    "else:\n",
    "    print('不都是True')"
   ]
  },
  {
   "cell_type": "code",
   "execution_count": 16,
   "metadata": {},
   "outputs": [
    {
     "name": "stdout",
     "output_type": "stream",
     "text": [
      "至少一个是True\n"
     ]
    }
   ],
   "source": [
    "a = True\n",
    "b = False\n",
    "if a or b:\n",
    "    print('至少一个是True')\n",
    "else:\n",
    "    print('都是False')"
   ]
  },
  {
   "cell_type": "code",
   "execution_count": null,
   "metadata": {},
   "outputs": [],
   "source": []
  },
  {
   "cell_type": "markdown",
   "metadata": {},
   "source": [
    "使用pythonic的代码，通过if语句从列表中获取符合条件的数据"
   ]
  },
  {
   "cell_type": "code",
   "execution_count": 20,
   "metadata": {},
   "outputs": [
    {
     "name": "stdout",
     "output_type": "stream",
     "text": [
      "[[100, 0.8], [50, 0.9]]\n",
      "1 a\n",
      "2 b\n",
      "3 None\n",
      "4 q\n",
      "5 q\n"
     ]
    }
   ],
   "source": [
    "test_simi = [[100, 0.8], [120, 0.3], [50, 0.9], [78, 0.3]]\n",
    "outputlist = [test for test in test_simi if test[1] > 0.6]\n",
    "print(outputlist)\n",
    "\n",
    "list1 = [1, 2, 3, 4, 5]\n",
    "list2 = ['a', 'b', None, 'q','q', 'u']\n",
    "for a, b in zip(list1, list2):\n",
    "    print(a, b)"
   ]
  },
  {
   "cell_type": "code",
   "execution_count": null,
   "metadata": {},
   "outputs": [],
   "source": []
  }
 ],
 "metadata": {
  "kernelspec": {
   "display_name": "Python 3",
   "language": "python",
   "name": "python3"
  },
  "language_info": {
   "codemirror_mode": {
    "name": "ipython",
    "version": 3
   },
   "file_extension": ".py",
   "mimetype": "text/x-python",
   "name": "python",
   "nbconvert_exporter": "python",
   "pygments_lexer": "ipython3",
   "version": "3.6.7"
  },
  "toc": {
   "base_numbering": 1,
   "nav_menu": {},
   "number_sections": true,
   "sideBar": true,
   "skip_h1_title": false,
   "title_cell": "Table of Contents",
   "title_sidebar": "Contents",
   "toc_cell": false,
   "toc_position": {},
   "toc_section_display": true,
   "toc_window_display": false
  }
 },
 "nbformat": 4,
 "nbformat_minor": 2
}
