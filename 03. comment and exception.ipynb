{
 "cells": [
  {
   "cell_type": "markdown",
   "metadata": {},
   "source": [
    "# 注释"
   ]
  },
  {
   "cell_type": "markdown",
   "metadata": {},
   "source": [
    "单行注释符号： #"
   ]
  },
  {
   "cell_type": "code",
   "execution_count": 1,
   "metadata": {},
   "outputs": [
    {
     "name": "stdout",
     "output_type": "stream",
     "text": [
      "10000\n"
     ]
    }
   ],
   "source": [
    "print(100 * 100) # 输出100*100"
   ]
  },
  {
   "cell_type": "markdown",
   "metadata": {},
   "source": [
    "多行注释符号\n",
    "''''''"
   ]
  },
  {
   "cell_type": "code",
   "execution_count": 2,
   "metadata": {},
   "outputs": [
    {
     "data": {
      "text/plain": [
       "'\\n这是单引号多行注释\\n可以将大段说明注释，放在这里\\n'"
      ]
     },
     "execution_count": 2,
     "metadata": {},
     "output_type": "execute_result"
    }
   ],
   "source": [
    "'''\n",
    "这是单引号多行注释\n",
    "可以将大段说明注释，放在这里\n",
    "'''"
   ]
  },
  {
   "cell_type": "code",
   "execution_count": 3,
   "metadata": {},
   "outputs": [
    {
     "data": {
      "text/plain": [
       "'\\n这是双引号多行注释\\n可以将大段说明注释，放在这里\\n'"
      ]
     },
     "execution_count": 3,
     "metadata": {},
     "output_type": "execute_result"
    }
   ],
   "source": [
    "\"\"\"\n",
    "这是双引号多行注释\n",
    "可以将大段说明注释，放在这里\n",
    "\"\"\"\n",
    "# print(mystr)"
   ]
  },
  {
   "cell_type": "markdown",
   "metadata": {},
   "source": [
    "## 通过注释的方式设置方法说明信息"
   ]
  },
  {
   "cell_type": "code",
   "execution_count": 1,
   "metadata": {},
   "outputs": [],
   "source": [
    "from lxml import etree\n",
    "def get_html_root_node_for_xpath(file):\n",
    "    \"\"\"\n",
    "    Parse an HTML file from disk, then return the root\n",
    "    node for next xpath parsing process.\n",
    "    :param file: it must be html file format\n",
    "    :return: xpath object for HTML tree\n",
    "    \"\"\"\n",
    "    with open(file, 'r', encoding='utf-8', errors='ignore') as f:\n",
    "        htmlbytes = bytes(bytearray(f.read(), encoding='utf-8'))\n",
    "        # 解决因乱码导致html对象为None的问题\n",
    "        html = etree.HTML(htmlbytes, parser=etree.HTMLParser(encoding='utf-8'))\n",
    "        return html"
   ]
  },
  {
   "cell_type": "markdown",
   "metadata": {},
   "source": [
    "如果按照这种方式加入方法说明，即可按照通用的help方法，随时查看这个方法的说明信息了"
   ]
  },
  {
   "cell_type": "markdown",
   "metadata": {},
   "source": [
    "对于复杂函数，注释的目的是说明函数中代码的算法"
   ]
  },
  {
   "cell_type": "code",
   "execution_count": 2,
   "metadata": {},
   "outputs": [],
   "source": [
    "def check_min_max(cells_df,\n",
    "                  cell_index,\n",
    "                  compare_value,\n",
    "                  refer_datapoint,\n",
    "                  target_datapoint,\n",
    "                  cache_list: list):\n",
    "        \"\"\"\n",
    "        对于min：\n",
    "        获取前面最近的max值: latest_max\n",
    "        如果前面没有max值，则获取全表最小的min: latest_min\n",
    "        否则根据latest_max获取后面最近的min: latest_min，用latest_min替代当前的min\n",
    "        缓存latest_min\n",
    "        对于max：\n",
    "        获取后面最近的min值：latest_min\n",
    "        如果后面没有min值，则获取全表最大的max:latest_max\n",
    "        否则根据latest_min获取前面最大的max: latest_max，用latest_max替代当前的max\n",
    "        缓存latest_max\n",
    "        :param cells_df:\n",
    "        :param cell_index:\n",
    "        :param compare_value:\n",
    "        :param refer_datapoint:\n",
    "        :param target_datapoint:\n",
    "        :param cache_list:\n",
    "        :return:\n",
    "        \"\"\"\n",
    "        if compare_value not in cache_list:\n",
    "            latest_target_value = None\n",
    "            if 'min' in target_datapoint:\n",
    "                temp_refer_df = cells_df[cells_df[refer_datapoint] <= compare_value]\n",
    "                if len(temp_refer_df) > 0:\n",
    "                    latest_refer_value = max(temp_refer_df[refer_datapoint])\n",
    "                    temp_target_df = cells_df[cells_df[target_datapoint] >= latest_refer_value]\n",
    "                    if len(temp_target_df) > 0:\n",
    "                        latest_target_value = min(temp_target_df[target_datapoint])\n",
    "                    else:\n",
    "                        latest_target_value = compare_value\n",
    "                else:\n",
    "                    latest_target_value = min(cells_df[target_datapoint])\n",
    "\n",
    "            if 'max' in target_datapoint:\n",
    "                temp_refer_df = cells_df[cells_df[refer_datapoint] >= compare_value]\n",
    "                if len(temp_refer_df) > 0:\n",
    "                    latest_refer_value = min(temp_refer_df[refer_datapoint])\n",
    "                    temp_target_df = cells_df[cells_df[target_datapoint] <= latest_refer_value]\n",
    "                    if len(temp_target_df) > 0:\n",
    "                        latest_target_value = max(temp_target_df[target_datapoint])\n",
    "                    else:\n",
    "                        latest_target_value = compare_value\n",
    "                else:\n",
    "                    latest_target_value = max(cells_df[target_datapoint])\n",
    "\n",
    "            if latest_target_value is not None:\n",
    "                cells_df.loc[cell_index, target_datapoint] = latest_target_value\n",
    "                if latest_target_value not in cache_list:\n",
    "                    cache_list.append(latest_target_value)"
   ]
  },
  {
   "cell_type": "code",
   "execution_count": 3,
   "metadata": {},
   "outputs": [
    {
     "name": "stdout",
     "output_type": "stream",
     "text": [
      "Help on function gethtmlrootnodeforxpath in module __main__:\n",
      "\n",
      "gethtmlrootnodeforxpath(file)\n",
      "    Parse an HTML file from disk, then return the root\n",
      "    node for next xpath parsing process.\n",
      "    - @file: it must be html file format\n",
      "\n"
     ]
    }
   ],
   "source": [
    "help(gethtmlrootnodeforxpath)"
   ]
  },
  {
   "cell_type": "code",
   "execution_count": 4,
   "metadata": {},
   "outputs": [
    {
     "name": "stdout",
     "output_type": "stream",
     "text": [
      "Help on class dict in module builtins:\n",
      "\n",
      "class dict(object)\n",
      " |  dict() -> new empty dictionary\n",
      " |  dict(mapping) -> new dictionary initialized from a mapping object's\n",
      " |      (key, value) pairs\n",
      " |  dict(iterable) -> new dictionary initialized as if via:\n",
      " |      d = {}\n",
      " |      for k, v in iterable:\n",
      " |          d[k] = v\n",
      " |  dict(**kwargs) -> new dictionary initialized with the name=value pairs\n",
      " |      in the keyword argument list.  For example:  dict(one=1, two=2)\n",
      " |  \n",
      " |  Methods defined here:\n",
      " |  \n",
      " |  __contains__(self, key, /)\n",
      " |      True if D has a key k, else False.\n",
      " |  \n",
      " |  __delitem__(self, key, /)\n",
      " |      Delete self[key].\n",
      " |  \n",
      " |  __eq__(self, value, /)\n",
      " |      Return self==value.\n",
      " |  \n",
      " |  __ge__(self, value, /)\n",
      " |      Return self>=value.\n",
      " |  \n",
      " |  __getattribute__(self, name, /)\n",
      " |      Return getattr(self, name).\n",
      " |  \n",
      " |  __getitem__(...)\n",
      " |      x.__getitem__(y) <==> x[y]\n",
      " |  \n",
      " |  __gt__(self, value, /)\n",
      " |      Return self>value.\n",
      " |  \n",
      " |  __init__(self, /, *args, **kwargs)\n",
      " |      Initialize self.  See help(type(self)) for accurate signature.\n",
      " |  \n",
      " |  __iter__(self, /)\n",
      " |      Implement iter(self).\n",
      " |  \n",
      " |  __le__(self, value, /)\n",
      " |      Return self<=value.\n",
      " |  \n",
      " |  __len__(self, /)\n",
      " |      Return len(self).\n",
      " |  \n",
      " |  __lt__(self, value, /)\n",
      " |      Return self<value.\n",
      " |  \n",
      " |  __ne__(self, value, /)\n",
      " |      Return self!=value.\n",
      " |  \n",
      " |  __new__(*args, **kwargs) from builtins.type\n",
      " |      Create and return a new object.  See help(type) for accurate signature.\n",
      " |  \n",
      " |  __repr__(self, /)\n",
      " |      Return repr(self).\n",
      " |  \n",
      " |  __setitem__(self, key, value, /)\n",
      " |      Set self[key] to value.\n",
      " |  \n",
      " |  __sizeof__(...)\n",
      " |      D.__sizeof__() -> size of D in memory, in bytes\n",
      " |  \n",
      " |  clear(...)\n",
      " |      D.clear() -> None.  Remove all items from D.\n",
      " |  \n",
      " |  copy(...)\n",
      " |      D.copy() -> a shallow copy of D\n",
      " |  \n",
      " |  fromkeys(iterable, value=None, /) from builtins.type\n",
      " |      Returns a new dict with keys from iterable and values equal to value.\n",
      " |  \n",
      " |  get(...)\n",
      " |      D.get(k[,d]) -> D[k] if k in D, else d.  d defaults to None.\n",
      " |  \n",
      " |  items(...)\n",
      " |      D.items() -> a set-like object providing a view on D's items\n",
      " |  \n",
      " |  keys(...)\n",
      " |      D.keys() -> a set-like object providing a view on D's keys\n",
      " |  \n",
      " |  pop(...)\n",
      " |      D.pop(k[,d]) -> v, remove specified key and return the corresponding value.\n",
      " |      If key is not found, d is returned if given, otherwise KeyError is raised\n",
      " |  \n",
      " |  popitem(...)\n",
      " |      D.popitem() -> (k, v), remove and return some (key, value) pair as a\n",
      " |      2-tuple; but raise KeyError if D is empty.\n",
      " |  \n",
      " |  setdefault(...)\n",
      " |      D.setdefault(k[,d]) -> D.get(k,d), also set D[k]=d if k not in D\n",
      " |  \n",
      " |  update(...)\n",
      " |      D.update([E, ]**F) -> None.  Update D from dict/iterable E and F.\n",
      " |      If E is present and has a .keys() method, then does:  for k in E: D[k] = E[k]\n",
      " |      If E is present and lacks a .keys() method, then does:  for k, v in E: D[k] = v\n",
      " |      In either case, this is followed by: for k in F:  D[k] = F[k]\n",
      " |  \n",
      " |  values(...)\n",
      " |      D.values() -> an object providing a view on D's values\n",
      " |  \n",
      " |  ----------------------------------------------------------------------\n",
      " |  Data and other attributes defined here:\n",
      " |  \n",
      " |  __hash__ = None\n",
      "\n"
     ]
    }
   ],
   "source": [
    "help(dict)"
   ]
  },
  {
   "cell_type": "markdown",
   "metadata": {},
   "source": [
    "# 异常处理"
   ]
  },
  {
   "cell_type": "markdown",
   "metadata": {},
   "source": [
    "作为Python初学者，在刚学习Python编程时，经常会看到一些报错信息，在前面我们没有提及，这章节我们会专门介绍。\n",
    "\n",
    "Python有两种错误很容易辨认：语法错误和异常。"
   ]
  },
  {
   "cell_type": "markdown",
   "metadata": {},
   "source": [
    "## 语法错误"
   ]
  },
  {
   "cell_type": "markdown",
   "metadata": {},
   "source": [
    "语法错误是初学python时，经常遇到的"
   ]
  },
  {
   "cell_type": "code",
   "execution_count": 5,
   "metadata": {},
   "outputs": [
    {
     "ename": "SyntaxError",
     "evalue": "Missing parentheses in call to 'print'. Did you mean print(\"Hello world\")? (<ipython-input-5-9fb80848b1b7>, line 1)",
     "output_type": "error",
     "traceback": [
      "\u001b[1;36m  File \u001b[1;32m\"<ipython-input-5-9fb80848b1b7>\"\u001b[1;36m, line \u001b[1;32m1\u001b[0m\n\u001b[1;33m    print \"Hello world\"\u001b[0m\n\u001b[1;37m                      ^\u001b[0m\n\u001b[1;31mSyntaxError\u001b[0m\u001b[1;31m:\u001b[0m Missing parentheses in call to 'print'. Did you mean print(\"Hello world\")?\n"
     ]
    }
   ],
   "source": [
    "print \"Hello world\""
   ]
  },
  {
   "cell_type": "markdown",
   "metadata": {},
   "source": [
    "上述错误是因为，在Python3，print已经作为函数使用："
   ]
  },
  {
   "cell_type": "code",
   "execution_count": 6,
   "metadata": {},
   "outputs": [
    {
     "name": "stdout",
     "output_type": "stream",
     "text": [
      "Hello world\n"
     ]
    }
   ],
   "source": [
    "print('Hello world')"
   ]
  },
  {
   "cell_type": "markdown",
   "metadata": {},
   "source": [
    "## 异常"
   ]
  },
  {
   "cell_type": "markdown",
   "metadata": {},
   "source": [
    "即便Python程序的语法是正确的，在运行它的时候，也有可能发生错误。运行期检测到的错误被称为异常。\n",
    "\n",
    "例如：\n",
    ">读取文件不存在<br>\n",
    "网络连接超时错误<br>\n",
    "内存溢出错误<br>\n",
    "内存不足导致的错误<br>\n",
    "下标越界错误<br>\n",
    "空引用错误<br>\n",
    "\n",
    "<b><font color='red'>90%以上的bug，源自下标越界或者空引用错误</font></b>\n",
    "\n",
    "大多数的异常都不会被程序处理，都以错误信息的形式展现在这里:"
   ]
  },
  {
   "cell_type": "code",
   "execution_count": 7,
   "metadata": {},
   "outputs": [
    {
     "ename": "AttributeError",
     "evalue": "'NoneType' object has no attribute 'format'",
     "output_type": "error",
     "traceback": [
      "\u001b[1;31m---------------------------------------------------------------------------\u001b[0m",
      "\u001b[1;31mAttributeError\u001b[0m                            Traceback (most recent call last)",
      "\u001b[1;32m<ipython-input-7-6706d92072fa>\u001b[0m in \u001b[0;36m<module>\u001b[1;34m()\u001b[0m\n\u001b[0;32m      1\u001b[0m \u001b[0ma\u001b[0m \u001b[1;33m=\u001b[0m \u001b[1;32mNone\u001b[0m\u001b[1;33m\u001b[0m\u001b[1;33m\u001b[0m\u001b[0m\n\u001b[1;32m----> 2\u001b[1;33m \u001b[0mprint\u001b[0m\u001b[1;33m(\u001b[0m\u001b[0ma\u001b[0m\u001b[1;33m.\u001b[0m\u001b[0mformat\u001b[0m\u001b[1;33m(\u001b[0m\u001b[1;34m'ww'\u001b[0m\u001b[1;33m)\u001b[0m\u001b[1;33m)\u001b[0m\u001b[1;33m\u001b[0m\u001b[1;33m\u001b[0m\u001b[0m\n\u001b[0m",
      "\u001b[1;31mAttributeError\u001b[0m: 'NoneType' object has no attribute 'format'"
     ]
    }
   ],
   "source": [
    "a = None\n",
    "print(a.format('ww'))"
   ]
  },
  {
   "cell_type": "code",
   "execution_count": 8,
   "metadata": {},
   "outputs": [
    {
     "ename": "ZeroDivisionError",
     "evalue": "division by zero",
     "output_type": "error",
     "traceback": [
      "\u001b[1;31m---------------------------------------------------------------------------\u001b[0m",
      "\u001b[1;31mZeroDivisionError\u001b[0m                         Traceback (most recent call last)",
      "\u001b[1;32m<ipython-input-8-0b280f36835c>\u001b[0m in \u001b[0;36m<module>\u001b[1;34m()\u001b[0m\n\u001b[1;32m----> 1\u001b[1;33m \u001b[1;36m10\u001b[0m \u001b[1;33m*\u001b[0m \u001b[1;33m(\u001b[0m\u001b[1;36m1\u001b[0m\u001b[1;33m/\u001b[0m\u001b[1;36m0\u001b[0m\u001b[1;33m)\u001b[0m\u001b[1;33m\u001b[0m\u001b[1;33m\u001b[0m\u001b[0m\n\u001b[0m",
      "\u001b[1;31mZeroDivisionError\u001b[0m: division by zero"
     ]
    }
   ],
   "source": [
    "10 * (1/0)"
   ]
  },
  {
   "cell_type": "code",
   "execution_count": 9,
   "metadata": {},
   "outputs": [
    {
     "ename": "NameError",
     "evalue": "name 'spam' is not defined",
     "output_type": "error",
     "traceback": [
      "\u001b[1;31m---------------------------------------------------------------------------\u001b[0m",
      "\u001b[1;31mNameError\u001b[0m                                 Traceback (most recent call last)",
      "\u001b[1;32m<ipython-input-9-c98bb92cdcac>\u001b[0m in \u001b[0;36m<module>\u001b[1;34m()\u001b[0m\n\u001b[1;32m----> 1\u001b[1;33m \u001b[1;36m4\u001b[0m \u001b[1;33m+\u001b[0m \u001b[0mspam\u001b[0m\u001b[1;33m*\u001b[0m\u001b[1;36m3\u001b[0m\u001b[1;33m\u001b[0m\u001b[1;33m\u001b[0m\u001b[0m\n\u001b[0m",
      "\u001b[1;31mNameError\u001b[0m: name 'spam' is not defined"
     ]
    }
   ],
   "source": [
    "4 + spam*3"
   ]
  },
  {
   "cell_type": "code",
   "execution_count": 10,
   "metadata": {},
   "outputs": [
    {
     "ename": "TypeError",
     "evalue": "unsupported operand type(s) for +: 'int' and 'str'",
     "output_type": "error",
     "traceback": [
      "\u001b[1;31m---------------------------------------------------------------------------\u001b[0m",
      "\u001b[1;31mTypeError\u001b[0m                                 Traceback (most recent call last)",
      "\u001b[1;32m<ipython-input-10-0a88d3bd0f9a>\u001b[0m in \u001b[0;36m<module>\u001b[1;34m()\u001b[0m\n\u001b[1;32m----> 1\u001b[1;33m \u001b[1;36m2\u001b[0m \u001b[1;33m+\u001b[0m \u001b[1;34m'2'\u001b[0m\u001b[1;33m\u001b[0m\u001b[1;33m\u001b[0m\u001b[0m\n\u001b[0m\u001b[0;32m      2\u001b[0m \u001b[1;31m# '2' + 2\u001b[0m\u001b[1;33m\u001b[0m\u001b[1;33m\u001b[0m\u001b[1;33m\u001b[0m\u001b[0m\n",
      "\u001b[1;31mTypeError\u001b[0m: unsupported operand type(s) for +: 'int' and 'str'"
     ]
    }
   ],
   "source": [
    "2 + '2'\n",
    "# '2' + 2"
   ]
  },
  {
   "cell_type": "markdown",
   "metadata": {},
   "source": [
    "异常以不同的类型出现，这些类型都作为信息的一部分打印出来: 例子中的类型有 ZeroDivisionError，NameError 和 TypeError。\n",
    "\n",
    "错误信息的前面部分显示了异常发生的上下文，并以调用栈的形式显示具体信息。"
   ]
  },
  {
   "cell_type": "markdown",
   "metadata": {},
   "source": [
    "## 异常处理"
   ]
  },
  {
   "cell_type": "markdown",
   "metadata": {},
   "source": [
    "以下例子中，让用户输入一个合法的整数，但是允许用户中断这个程序（使用 Control-C 或者操作系统提供的方法）。\n",
    "\n",
    "用户中断的信息会引发一个 KeyboardInterrupt 异常。\n",
    "\n",
    "此外，如果输入的内容，不能被转换为整数，也会触发这个异常"
   ]
  },
  {
   "cell_type": "code",
   "execution_count": 12,
   "metadata": {},
   "outputs": [
    {
     "name": "stdout",
     "output_type": "stream",
     "text": [
      "Please enter a number: a\n",
      "Oops!  That was no valid number.  Try again   \n",
      "Please enter a number: t\n",
      "Oops!  That was no valid number.  Try again   \n",
      "Please enter a number: 3\n"
     ]
    }
   ],
   "source": [
    "while True:\n",
    "    try:\n",
    "        x = int(input(\"Please enter a number: \"))\n",
    "        break\n",
    "    except ValueError:\n",
    "        print(\"Oops!  That was no valid number.  Try again   \")"
   ]
  },
  {
   "cell_type": "markdown",
   "metadata": {},
   "source": [
    "try语句按照如下方式工作；\n",
    "\n",
    "- 首先，执行try子句（在关键字try和关键字except之间的语句）\n",
    "- 如果没有异常发生，忽略except子句，try子句执行后结束。\n",
    "- 如果在执行try子句的过程中发生了异常，那么try子句余下的部分将被忽略。如果异常的类型和 except 之后的名称相符，那么对应的except子句将被执行。最后执行 try 语句之后的代码。\n",
    "- 如果一个异常没有与任何的except匹配，那么这个异常将会传递给上层的try中。\n",
    "- 一个 try 语句可能包含多个except子句，分别来处理不同的特定的异常。最多只有一个分支会被执行。\n",
    "\n",
    "处理程序将只针对对应的try子句中的异常进行处理，而不是其他的 try 的处理程序中的异常。\n",
    "\n",
    "一个except子句可以同时处理多个异常，这些异常将被放在一个括号里成为一个元组，例如:"
   ]
  },
  {
   "cell_type": "code",
   "execution_count": 19,
   "metadata": {},
   "outputs": [],
   "source": [
    "try:\n",
    "    pass\n",
    "except (RuntimeError, TypeError, NameError):\n",
    "    pass"
   ]
  },
  {
   "cell_type": "markdown",
   "metadata": {},
   "source": [
    "最后一个except子句可以忽略异常的名称，它将被当作通配符使用。你可以使用这种方法打印一个错误信息，然后再次把异常抛出。"
   ]
  },
  {
   "cell_type": "code",
   "execution_count": 15,
   "metadata": {},
   "outputs": [
    {
     "name": "stdout",
     "output_type": "stream",
     "text": [
      "100\n",
      "\n"
     ]
    }
   ],
   "source": [
    "import sys\n",
    "try:\n",
    "    f = open('myfile.txt')\n",
    "    s = f.readline()\n",
    "    print(s)\n",
    "    i = int(s.strip())\n",
    "except OSError as err:\n",
    "    print(\"OS error: {0}\".format(err))\n",
    "except ValueError:\n",
    "    print(\"Could not convert data to an integer.\")\n",
    "except Exception as e:\n",
    "    print(\"Unexpected error:\", sys.exc_info()[0])\n",
    "    raise"
   ]
  },
  {
   "cell_type": "markdown",
   "metadata": {},
   "source": [
    "try except 语句还有一个可选的else子句，如果使用这个子句，那么必须放在所有的except子句之后。\n",
    "\n",
    "这个子句将在try子句没有发生任何异常的时候执行。例如:"
   ]
  },
  {
   "cell_type": "code",
   "execution_count": 16,
   "metadata": {},
   "outputs": [
    {
     "name": "stdout",
     "output_type": "stream",
     "text": [
      "Handle file: -f begin\n",
      "cannot open -f\n",
      "Handle file: -f end\n",
      "Handle file: C:\\Users\\bhe\\AppData\\Roaming\\jupyter\\runtime\\kernel-7cb29b94-463b-4573-973a-2ae562768683.json begin\n",
      "C:\\Users\\bhe\\AppData\\Roaming\\jupyter\\runtime\\kernel-7cb29b94-463b-4573-973a-2ae562768683.json has 12 lines\n",
      "Handle file: C:\\Users\\bhe\\AppData\\Roaming\\jupyter\\runtime\\kernel-7cb29b94-463b-4573-973a-2ae562768683.json end\n"
     ]
    }
   ],
   "source": [
    "for arg in sys.argv[1:]:\n",
    "    print('Handle file: {0} begin'.format(arg))\n",
    "    try:\n",
    "        f = open(arg, 'r')\n",
    "    except IOError:\n",
    "        print('cannot open', arg)\n",
    "    else:\n",
    "        print(arg, 'has', len(f.readlines()), 'lines')\n",
    "        f.close()\n",
    "    print('Handle file: {0} end'.format(arg))"
   ]
  },
  {
   "cell_type": "markdown",
   "metadata": {},
   "source": [
    "使用 else 子句比把所有的语句都放在 try 子句里面要好，这样可以避免一些意想不到的、而except又没有捕获的异常。\n",
    "\n",
    "异常处理并不仅仅处理那些直接发生在try子句中的异常，而且还能处理子句中调用的函数（甚至间接调用的函数）里抛出的异常。例如:"
   ]
  },
  {
   "cell_type": "code",
   "execution_count": 18,
   "metadata": {},
   "outputs": [
    {
     "name": "stdout",
     "output_type": "stream",
     "text": [
      "Handling run-time error: division by zero\n",
      "None\n"
     ]
    },
    {
     "name": "stderr",
     "output_type": "stream",
     "text": [
      "Traceback (most recent call last):\n",
      "  File \"<ipython-input-18-fb9e0cf47e7d>\", line 6, in <module>\n",
      "    this_fails()\n",
      "  File \"<ipython-input-18-fb9e0cf47e7d>\", line 3, in this_fails\n",
      "    x = 1/0\n",
      "ZeroDivisionError: division by zero\n"
     ]
    }
   ],
   "source": [
    "import traceback\n",
    "def this_fails():\n",
    "    x = 1/0\n",
    "\n",
    "try:\n",
    "    this_fails()\n",
    "except ZeroDivisionError as err:\n",
    "    print('Handling run-time error:', err)\n",
    "    print(traceback.print_exc())"
   ]
  },
  {
   "cell_type": "markdown",
   "metadata": {},
   "source": [
    "## 抛出异常"
   ]
  },
  {
   "cell_type": "markdown",
   "metadata": {},
   "source": [
    "Python 使用 raise 语句抛出一个指定的异常。例如:"
   ]
  },
  {
   "cell_type": "code",
   "execution_count": 19,
   "metadata": {},
   "outputs": [
    {
     "ename": "ValueError",
     "evalue": "Sum should not greater than 100",
     "output_type": "error",
     "traceback": [
      "\u001b[1;31m---------------------------------------------------------------------------\u001b[0m",
      "\u001b[1;31mValueError\u001b[0m                                Traceback (most recent call last)",
      "\u001b[1;32m<ipython-input-19-10d77583c93d>\u001b[0m in \u001b[0;36m<module>\u001b[1;34m()\u001b[0m\n\u001b[0;32m      2\u001b[0m \u001b[0mb\u001b[0m \u001b[1;33m=\u001b[0m \u001b[1;36m100\u001b[0m\u001b[1;33m\u001b[0m\u001b[1;33m\u001b[0m\u001b[0m\n\u001b[0;32m      3\u001b[0m \u001b[1;32mif\u001b[0m \u001b[0ma\u001b[0m \u001b[1;33m+\u001b[0m \u001b[0mb\u001b[0m \u001b[1;33m>\u001b[0m \u001b[1;36m100\u001b[0m\u001b[1;33m:\u001b[0m\u001b[1;33m\u001b[0m\u001b[1;33m\u001b[0m\u001b[0m\n\u001b[1;32m----> 4\u001b[1;33m     \u001b[1;32mraise\u001b[0m \u001b[0mValueError\u001b[0m\u001b[1;33m(\u001b[0m\u001b[1;34m'Sum should not greater than 100'\u001b[0m\u001b[1;33m)\u001b[0m\u001b[1;33m\u001b[0m\u001b[1;33m\u001b[0m\u001b[0m\n\u001b[0m",
      "\u001b[1;31mValueError\u001b[0m: Sum should not greater than 100"
     ]
    }
   ],
   "source": [
    "a = 5\n",
    "b = 100\n",
    "if a + b > 100:\n",
    "    raise ValueError('Sum should not greater than 100')"
   ]
  },
  {
   "cell_type": "markdown",
   "metadata": {},
   "source": [
    "raise 唯一的一个参数指定了要被抛出的异常。它必须是一个异常的实例或者是异常的类（也就是 Exception 的子类）。\n",
    "\n",
    "如果你只想知道这是否抛出了一个异常，并不想去处理它，那么一个简单的 raise 语句就可以再次把它抛出。"
   ]
  },
  {
   "cell_type": "code",
   "execution_count": 20,
   "metadata": {},
   "outputs": [
    {
     "name": "stdout",
     "output_type": "stream",
     "text": [
      "An exception flew by!\n"
     ]
    },
    {
     "ename": "NameError",
     "evalue": "HiThere",
     "output_type": "error",
     "traceback": [
      "\u001b[1;31m---------------------------------------------------------------------------\u001b[0m",
      "\u001b[1;31mNameError\u001b[0m                                 Traceback (most recent call last)",
      "\u001b[1;32m<ipython-input-20-bf6ef4926f8c>\u001b[0m in \u001b[0;36m<module>\u001b[1;34m()\u001b[0m\n\u001b[0;32m      1\u001b[0m \u001b[1;32mtry\u001b[0m\u001b[1;33m:\u001b[0m\u001b[1;33m\u001b[0m\u001b[1;33m\u001b[0m\u001b[0m\n\u001b[1;32m----> 2\u001b[1;33m     \u001b[1;32mraise\u001b[0m \u001b[0mNameError\u001b[0m\u001b[1;33m(\u001b[0m\u001b[1;34m'HiThere'\u001b[0m\u001b[1;33m)\u001b[0m\u001b[1;33m\u001b[0m\u001b[1;33m\u001b[0m\u001b[0m\n\u001b[0m\u001b[0;32m      3\u001b[0m \u001b[1;32mexcept\u001b[0m \u001b[0mNameError\u001b[0m\u001b[1;33m:\u001b[0m\u001b[1;33m\u001b[0m\u001b[1;33m\u001b[0m\u001b[0m\n\u001b[0;32m      4\u001b[0m     \u001b[0mprint\u001b[0m\u001b[1;33m(\u001b[0m\u001b[1;34m'An exception flew by!'\u001b[0m\u001b[1;33m)\u001b[0m\u001b[1;33m\u001b[0m\u001b[1;33m\u001b[0m\u001b[0m\n\u001b[0;32m      5\u001b[0m     \u001b[1;32mraise\u001b[0m\u001b[1;33m\u001b[0m\u001b[1;33m\u001b[0m\u001b[0m\n",
      "\u001b[1;31mNameError\u001b[0m: HiThere"
     ]
    }
   ],
   "source": [
    "try:\n",
    "    raise NameError('HiThere')\n",
    "except NameError:\n",
    "    print('An exception flew by!')\n",
    "    raise"
   ]
  },
  {
   "cell_type": "markdown",
   "metadata": {},
   "source": [
    "## 获取完整堆栈信息"
   ]
  },
  {
   "cell_type": "markdown",
   "metadata": {},
   "source": [
    "异常信息，有时还不是很完整，如果需要输出完整的堆栈信息，可以使用<b>traceback</b>包\n",
    "\n",
    "<b>这对于调试跟踪异常代码，非常非常有用!!</b>"
   ]
  },
  {
   "cell_type": "code",
   "execution_count": 29,
   "metadata": {},
   "outputs": [
    {
     "name": "stdout",
     "output_type": "stream",
     "text": [
      "HiThere\n"
     ]
    },
    {
     "name": "stderr",
     "output_type": "stream",
     "text": [
      "Traceback (most recent call last):\n",
      "  File \"<ipython-input-29-3378560ec777>\", line 3, in <module>\n",
      "    raise NameError('HiThere')\n",
      "NameError: HiThere\n"
     ]
    }
   ],
   "source": [
    "import traceback\n",
    "try:\n",
    "    raise NameError('HiThere')\n",
    "except NameError as e:\n",
    "    print(e)\n",
    "    traceback.print_exc()"
   ]
  },
  {
   "cell_type": "markdown",
   "metadata": {},
   "source": [
    "## 使用异常编码的技巧"
   ]
  },
  {
   "cell_type": "markdown",
   "metadata": {},
   "source": [
    "### 重试因网络原因发生的异常"
   ]
  },
  {
   "cell_type": "markdown",
   "metadata": {},
   "source": [
    "我们尝试下载文件，或者读取网站信息时，如果遇到超时或者连接错误，往往会进行重试操作，以下是相关的示范"
   ]
  },
  {
   "cell_type": "code",
   "execution_count": 20,
   "metadata": {},
   "outputs": [],
   "source": [
    "import json\n",
    "import time\n",
    "from urllib import request\n",
    "\n",
    "def querydatabyurl(url, headers):\n",
    "    res = None\n",
    "    count = 1\n",
    "    while True:\n",
    "        try:\n",
    "            req = request.Request(url=url, headers=headers)\n",
    "            res = request.urlopen(req)\n",
    "            res = res.read().decode(encoding='utf-8', errors='ignore')\n",
    "            break\n",
    "        except Exception as e:\n",
    "            print(e)\n",
    "            time.sleep(3)\n",
    "            if count == 10:\n",
    "                break\n",
    "        count += 1\n",
    "    if res is not None:\n",
    "        dic = json.loads(res)\n",
    "        return dic['result']\n",
    "    else:\n",
    "        return None"
   ]
  },
  {
   "cell_type": "markdown",
   "metadata": {},
   "source": [
    "### 处理文件时，异常是必须加入的"
   ]
  },
  {
   "cell_type": "code",
   "execution_count": 27,
   "metadata": {},
   "outputs": [],
   "source": [
    "import os\n",
    "import shutil\n",
    "\n",
    "\n",
    "def remove_document(docfolder, doctxt=None):\n",
    "    \"\"\"\n",
    "    删除某文件夹下方的所有文件，但保留文件夹结构，包括子文件夹\n",
    "    \"\"\"\n",
    "    try:\n",
    "        print('delete old folder local data start')\n",
    "        if os.path.exists(docfolder):\n",
    "            # 慎重使用，千万千万！！\n",
    "            shutil.rmtree(docfolder)\n",
    "        os.makedirs(docfolder)\n",
    "        if doctxt != None and len(doctxt) > 0 and os.path.exists(doctxt):\n",
    "            os.remove(doctxt)\n",
    "        print('delete old folder local data end')\n",
    "    except Exception as e:\n",
    "        print(e)"
   ]
  },
  {
   "cell_type": "markdown",
   "metadata": {},
   "source": [
    "### 某些子程序，哪怕处理遇到异常，也不希望影响主流程，就必须在子程序中加入异常处理"
   ]
  },
  {
   "cell_type": "code",
   "execution_count": 22,
   "metadata": {},
   "outputs": [
    {
     "name": "stdout",
     "output_type": "stream",
     "text": [
      "2018-04-10\n",
      "下面这句会出现异常\n",
      "time data '贰零壹捌四月十日零点' does not match format '%Y-%m-%d'\n",
      "\n"
     ]
    }
   ],
   "source": [
    "import datetime\n",
    "effectivedate = '2018-05-01'\n",
    "mydate = '2018-04-10'\n",
    "def get_proper_date(effectivedate, mydate):\n",
    "    properdate = ''\n",
    "    if len(mydate) == 10:\n",
    "        try:\n",
    "            comparedate = datetime.datetime.strptime(mydate, '%Y-%m-%d')\n",
    "            if (effectivedate is None or \n",
    "                comparedate >= datetime.datetime.strptime(effectivedate, '%Y-%m-%d') \n",
    "                - datetime.timedelta(days=180)):\n",
    "                if len(properdate) == 0:\n",
    "                    properdate = mydate\n",
    "                elif comparedate > datetime.datetime.strptime(properdate, '%Y-%m-%d'):\n",
    "                    properdate = mydate\n",
    "        except Exception as e:\n",
    "            print(e)\n",
    "    return properdate\n",
    "\n",
    "print(get_proper_date(effectivedate, mydate))\n",
    "\n",
    "print('下面这句会出现异常')\n",
    "mydate = '贰零壹捌四月十日零点'\n",
    "print(get_proper_date(effectivedate, mydate))"
   ]
  },
  {
   "cell_type": "code",
   "execution_count": null,
   "metadata": {},
   "outputs": [],
   "source": []
  }
 ],
 "metadata": {
  "kernelspec": {
   "display_name": "Python 3",
   "language": "python",
   "name": "python3"
  },
  "language_info": {
   "codemirror_mode": {
    "name": "ipython",
    "version": 3
   },
   "file_extension": ".py",
   "mimetype": "text/x-python",
   "name": "python",
   "nbconvert_exporter": "python",
   "pygments_lexer": "ipython3",
   "version": "3.6.7"
  },
  "toc": {
   "base_numbering": 1,
   "nav_menu": {},
   "number_sections": true,
   "sideBar": true,
   "skip_h1_title": false,
   "title_cell": "Table of Contents",
   "title_sidebar": "Contents",
   "toc_cell": false,
   "toc_position": {},
   "toc_section_display": true,
   "toc_window_display": false
  }
 },
 "nbformat": 4,
 "nbformat_minor": 2
}
