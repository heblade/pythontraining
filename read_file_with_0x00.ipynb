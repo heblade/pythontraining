{
 "cells": [
  {
   "cell_type": "code",
   "execution_count": 11,
   "metadata": {},
   "outputs": [],
   "source": [
    "import os"
   ]
  },
  {
   "cell_type": "code",
   "execution_count": 12,
   "metadata": {},
   "outputs": [],
   "source": [
    "file_path = r'./txt/data.txt'"
   ]
  },
  {
   "cell_type": "code",
   "execution_count": 13,
   "metadata": {},
   "outputs": [],
   "source": [
    "with open(file_path, encoding='utf-8') as f:\n",
    "    txt_list = [text.replace('\\x00', ' ') for text in f.readlines()]"
   ]
  },
  {
   "cell_type": "code",
   "execution_count": 14,
   "metadata": {},
   "outputs": [
    {
     "data": {
      "text/plain": [
       "'\"BRST R BRS BRST BRST S T FACTS HEET B STBRST {{{BRST R}}}July 2019 BR BRSTBRST Dear Investors and my dear advisor friends ;\\tAashish P Somaiyaa MD and CEO\\t“{{{Let’s recap some facts . The}}} portfolios we run at Motilal Oswal AMC…\\tIn mee ngs with investors , private bankers and advisors over last few days , it is o en quoted we are apprehensive on our exis ng equity posi ons and unsure of further investments despite an unexpectedly strong elec on mandate because :\\t1 . Ni y has run up to all  me high 2 . Ni y PE is high\\t3 . Earnings growth is not coming through 4 . Everyone is expec ng and hence awai ng a correc on in the “markets” . ( We will revisit later why I chose to quote unquote the word markets ! (\\tBut let me tell you , the current scenario and the reac on of investors to this scenario is a very unique case of cogni ve bias i . e . using mental shortcuts ( heuris cs ( that the brain uses to make decisions or to make judgements . The speciﬁc biases here are related to “anchoring”'"
      ]
     },
     "execution_count": 14,
     "metadata": {},
     "output_type": "execute_result"
    }
   ],
   "source": [
    "txt_list[0][0:1000]"
   ]
  },
  {
   "cell_type": "code",
   "execution_count": 10,
   "metadata": {},
   "outputs": [
    {
     "data": {
      "text/plain": [
       "'\"BRST R BRS BRST BRST S T FACTS HEET B STBRST {{{BRST R}}}July 2019 BR BRSTBRST Dear Investors and my dear advisor friends ;\\tAashish P Somaiyaa MD and CEO\\t“{{{Let’s recap some facts . The}}} portfolios we run at Motilal Oswal AMC…\\tIn mee ngs with investors , private bankers and advisors over last few days , it is o en quoted we are apprehensive on our exis ng equity posi ons and unsure of further investments despite an unexpectedly strong elec on mandate because :\\t1 . Ni y has run up to all  me high 2 . Ni y PE is high\\t3 . Earnings growth is not coming through 4 . Everyone is expec ng and hence awai ng a correc on in the “markets” . ( We will revisit later why I chose to quote unquote the word markets ! (\\tBut let me tell you , the current scenario and the reac on of investors to this scenario is a very unique case of cogni ve bias i . e . using mental shortcuts ( heuris cs ( that the brain uses to make decisions or to make judgements . The speciﬁc biases here are related to “anchoring”'"
      ]
     },
     "execution_count": 10,
     "metadata": {},
     "output_type": "execute_result"
    }
   ],
   "source": [
    "[text.replace('\\x00', ' ') for text in txt_list][0][0:1000]"
   ]
  },
  {
   "cell_type": "code",
   "execution_count": null,
   "metadata": {},
   "outputs": [],
   "source": []
  }
 ],
 "metadata": {
  "kernelspec": {
   "display_name": "Python 3",
   "language": "python",
   "name": "python3"
  },
  "language_info": {
   "codemirror_mode": {
    "name": "ipython",
    "version": 3
   },
   "file_extension": ".py",
   "mimetype": "text/x-python",
   "name": "python",
   "nbconvert_exporter": "python",
   "pygments_lexer": "ipython3",
   "version": "3.6.7"
  }
 },
 "nbformat": 4,
 "nbformat_minor": 4
}
