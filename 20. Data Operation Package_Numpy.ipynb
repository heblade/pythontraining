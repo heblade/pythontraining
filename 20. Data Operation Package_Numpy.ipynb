{
 "cells": [
  {
   "cell_type": "markdown",
   "metadata": {},
   "source": [
    "# Numpy 入门及实践"
   ]
  },
  {
   "cell_type": "markdown",
   "metadata": {},
   "source": [
    "## Numpy 安装"
   ]
  },
  {
   "cell_type": "markdown",
   "metadata": {},
   "source": [
    "通过如下方式可以方便安装Numpy：\n",
    "```\n",
    "pip install numpy\n",
    "```\n",
    "如果是windows系统，可以直接去这个网站: [Unofficial Windows Binaries for Python Extension Packages](https://www.lfd.uci.edu/~gohlke/pythonlibs/), 下载对应的numpy版本，如：numpy‑1.15.2+mkl‑cp36‑cp36m‑win_amd64.whl, 需要确认本地python版本，如果是3.6，那么下载这个即可。否则选择对应的版本组件。<br>\n",
    "下载完成后还是通过pip安装:\n",
    "```\n",
    "pip install yourpath/numpy‑1.15.2+mkl‑cp36‑cp36m‑win_amd64.whl\n",
    "```\n",
    "本课件主要内容源于：[Numpy Tutorial](https://www.machinelearningplus.com/python/numpy-tutorial-part1-array-python-examples/)，力求深入浅出~~~"
   ]
  },
  {
   "cell_type": "markdown",
   "metadata": {},
   "source": [
    "## Numpy 介绍"
   ]
  },
  {
   "cell_type": "markdown",
   "metadata": {},
   "source": [
    "Numpy是在python中用于科学计算和数据操作的最基本和强大的包。<br>\n",
    "如果你打算从事数据分析或机器学习项目，那么几乎必须了解numpy的使用方式。<br>\n",
    "**numpy的许多函数不仅是用C实现了，还使用了BLAS（一般Windows下link到MKL的，Linux下link到OpenBLAS）。基本上那些BLAS实现在每种操作上都进行了高度优化，例如使用AVX向量指令集，甚至能比你自己用C实现快上许多，更不要说和用Python实现的比。**<br>\n",
    "因为其他用于数据分析的包（比如Pandas）是建立在numpy之上的，而用于构建机器学习应用程序的scikit-learn包也同样适用于numpy。<br>\n",
    "那么numpy提供了什么呢？<br>\n",
    "在核心中，numpy提供了优秀的ndarray对象，而不是n维数组。<br>\n",
    "在一个“ndarray”对象中，也就是“数组”，您可以存储同一数据类型的多个项目。它是array对象相关的基础设施，使得numpy非常方便地执行数学和数据操作。<br>\n",
    "您可能想知道，“我可以在python列表中存储数字和其他对象，并通过列表、for循环等进行各种计算和操作。我需要一个numpy数组来做什么？”<br>\n",
    "Well, 使用numpy数组的列表有非常重要的优势。<br>\n",
    "为了理解这一点，让我们首先看看如何创建一个numpy数组。<br>"
   ]
  },
  {
   "cell_type": "markdown",
   "metadata": {},
   "source": [
    "# 数组(ndarray)部分"
   ]
  },
  {
   "cell_type": "markdown",
   "metadata": {},
   "source": [
    "## 如何创建numpy数组"
   ]
  },
  {
   "cell_type": "markdown",
   "metadata": {},
   "source": [
    "创建一个numpy数组有多种方法，本文尽可能涵盖。<br>\n",
    "然而，最常见的一种方法是传递一个列表或如同列表的对象，并以此通过```np.array```函数创建numpy数组。"
   ]
  },
  {
   "cell_type": "code",
   "execution_count": 1,
   "metadata": {
    "ExecuteTime": {
     "end_time": "2022-12-07T08:50:28.075901Z",
     "start_time": "2022-12-07T08:50:27.982966Z"
    }
   },
   "outputs": [
    {
     "name": "stdout",
     "output_type": "stream",
     "text": [
      "<class 'numpy.ndarray'>\n",
      "[0 1 2 3 4]\n",
      "[0, 1, 2, 3, 4]\n"
     ]
    }
   ],
   "source": [
    "import numpy as np\n",
    "# 通过list创建np.array对象\n",
    "samplelist = [0, 1, 2, 3, 4]\n",
    "arrld = np.array(samplelist)\n",
    "\n",
    "# 打印array与其对应的type\n",
    "print(type(arrld))\n",
    "print(arrld)\n",
    "print(samplelist)"
   ]
  },
  {
   "cell_type": "markdown",
   "metadata": {},
   "source": [
    "数组和列表之间的关键区别在于，数组被设计用来处理矢量化操作，而python列表则不是"
   ]
  },
  {
   "cell_type": "markdown",
   "metadata": {},
   "source": [
    ">### 附注：什么是向量？\n",
    "在数学中，向量（也称为欧几里得向量、几何向量、矢量），指具有大小（magnitude）和方向的量。它可以形象化地表示为带箭头的线段。箭头所指：代表向量的方向；线段长度：代表向量的大小。与向量对应的只有大小，没有方向的量叫做数量（物理学中称标量）。<br>\n",
    "如果用R<sup>n</sup>表示n个实数的有序集，Rn中的一个向量就是一个n元有序组，R<sup>n</sup> = {(x1, x2,……xn) | xi ∈ R}<br>\n",
    "向量的记法：印刷体记作粗体的字母（如a、b、u、v），书写时在字母顶上加一小箭头“→”。如果给定向量的起点（A）和终点（B），可将向量记作  。实际上向量有多种记法，可以用元组表示一个向量，如 (x1, x2) 或 < x1, x2>。在线性代数中，n元向量可以用n×1矩阵表示，如："
   ]
  },
  {
   "cell_type": "markdown",
   "metadata": {},
   "source": [
    "<img src='./image/vector.png' />"
   ]
  },
  {
   "cell_type": "markdown",
   "metadata": {},
   "source": [
    "这意味着，如果你应用一个函数，它会在数组中的每一个item上执行，而不是在整个数组对象上执行。<br>\n",
    "假设想要将列表中的每一项都+2, 直观的方法是这样的："
   ]
  },
  {
   "cell_type": "code",
   "execution_count": 3,
   "metadata": {
    "ExecuteTime": {
     "end_time": "2022-11-23T09:14:33.671248Z",
     "start_time": "2022-11-23T09:14:30.583424Z"
    }
   },
   "outputs": [
    {
     "name": "stdout",
     "output_type": "stream",
     "text": [
      "[0, 1, 2, 3, 4]\n"
     ]
    },
    {
     "ename": "TypeError",
     "evalue": "can only concatenate list (not \"int\") to list",
     "output_type": "error",
     "traceback": [
      "\u001b[1;31m---------------------------------------------------------------------------\u001b[0m",
      "\u001b[1;31mTypeError\u001b[0m                                 Traceback (most recent call last)",
      "Cell \u001b[1;32mIn [3], line 3\u001b[0m\n\u001b[0;32m      1\u001b[0m \u001b[38;5;66;03m# 这个操作会报错\u001b[39;00m\n\u001b[0;32m      2\u001b[0m \u001b[38;5;28mprint\u001b[39m(samplelist)\n\u001b[1;32m----> 3\u001b[0m samplelist \u001b[38;5;241m=\u001b[39m \u001b[43msamplelist\u001b[49m\u001b[43m \u001b[49m\u001b[38;5;241;43m+\u001b[39;49m\u001b[43m \u001b[49m\u001b[38;5;241;43m2\u001b[39;49m\n\u001b[0;32m      4\u001b[0m \u001b[38;5;28mprint\u001b[39m(samplelist)\n",
      "\u001b[1;31mTypeError\u001b[0m: can only concatenate list (not \"int\") to list"
     ]
    }
   ],
   "source": [
    "# 这个操作会报错\n",
    "print(samplelist)\n",
    "samplelist = samplelist + 2\n",
    "print(samplelist)"
   ]
  },
  {
   "cell_type": "markdown",
   "metadata": {},
   "source": [
    "但是可以通过ndarray完成这个操作："
   ]
  },
  {
   "cell_type": "code",
   "execution_count": 4,
   "metadata": {
    "ExecuteTime": {
     "end_time": "2022-11-23T09:15:35.840647Z",
     "start_time": "2022-11-23T09:15:35.825500Z"
    }
   },
   "outputs": [
    {
     "name": "stdout",
     "output_type": "stream",
     "text": [
      "[2 3 4 5 6]\n",
      "[0 1 2 3 4]\n",
      "[-1  0  1  2  3]\n",
      "[0 2 4 6 8]\n",
      "[0.  0.5 1.  1.5 2. ]\n"
     ]
    }
   ],
   "source": [
    "print(arrld + 2)\n",
    "print(arrld)\n",
    "print(arrld - 1)\n",
    "print(arrld * 2)\n",
    "print(arrld / 2)"
   ]
  },
  {
   "cell_type": "markdown",
   "metadata": {},
   "source": [
    "另一个特点是，一旦创建了numpy数组，就不能扩展它的大小。<br>\n",
    "要做到这一点，您必须创建一个新的数组。但是这种扩展大小的行为在列表中是很自然的。<br>\n",
    "这就是numpy中的1d数组，这个看似很简单。<br>\n",
    "不过还可以通过一个复合列表来创建一个类似于2d数组的矩阵。<br>\n",
    "注意打印list与打印ndarray的显示区别，numpy的ndarray其实是矩阵的概念"
   ]
  },
  {
   "cell_type": "code",
   "execution_count": 5,
   "metadata": {
    "ExecuteTime": {
     "end_time": "2022-11-23T09:18:33.330779Z",
     "start_time": "2022-11-23T09:18:33.317854Z"
    }
   },
   "outputs": [
    {
     "name": "stdout",
     "output_type": "stream",
     "text": [
      "[[0, 1, 2], [3, 4, 5], [6, 7, 8]]\n",
      "[[0 1 2]\n",
      " [3 4 5]\n",
      " [6 7 8]]\n"
     ]
    }
   ],
   "source": [
    "# 根据复合列表创建2d array\n",
    "list2d = [[0, 1, 2], [3, 4, 5], [6, 7, 8]]\n",
    "# print(list2d+2)\n",
    "print(list2d)\n",
    "arr2d = np.array(list2d)\n",
    "print(arr2d)"
   ]
  },
  {
   "cell_type": "markdown",
   "metadata": {},
   "source": [
    "你也可以通过设置dtype参数来指定数据类型。一些最常用的numpy dtype是：“float”、“int”、“bool”、“str”和“object”。<br>\n",
    "为了控制内存分配，你可以选择使用“float32”、“float64”、“int8”、“int16”或“int32”。"
   ]
  },
  {
   "cell_type": "code",
   "execution_count": 6,
   "metadata": {
    "ExecuteTime": {
     "end_time": "2022-11-23T09:19:25.120966Z",
     "start_time": "2022-11-23T09:19:25.104133Z"
    }
   },
   "outputs": [
    {
     "name": "stdout",
     "output_type": "stream",
     "text": [
      "[[0. 1. 2.]\n",
      " [3. 4. 5.]\n",
      " [6. 7. 8.]]\n",
      "[[0.7 1.7 2.7]\n",
      " [3.7 4.7 5.7]\n",
      " [6.7 7.7 8.7]]\n"
     ]
    }
   ],
   "source": [
    "# Create a float 2d array\n",
    "arr2d_f = np.array(list2d, dtype='float')\n",
    "# arr2d_f = np.array(list2d)\n",
    "print(arr2d_f)\n",
    "arr2d_f = arr2d_f + 0.7\n",
    "print(arr2d_f)"
   ]
  },
  {
   "cell_type": "markdown",
   "metadata": {},
   "source": [
    "每个数字后面的小数点表示浮点数据类型，还可以使用astype方法将其转换为不同的数据类型。"
   ]
  },
  {
   "cell_type": "code",
   "execution_count": 7,
   "metadata": {
    "ExecuteTime": {
     "end_time": "2022-11-23T09:20:58.785841Z",
     "start_time": "2022-11-23T09:20:58.773708Z"
    }
   },
   "outputs": [
    {
     "name": "stdout",
     "output_type": "stream",
     "text": [
      "[[0.7 1.7 2.7]\n",
      " [3.7 4.7 5.7]\n",
      " [6.7 7.7 8.7]]\n",
      "[[0 1 2]\n",
      " [3 4 5]\n",
      " [6 7 8]]\n"
     ]
    }
   ],
   "source": [
    "# Convert to 'int' datatype\n",
    "print(arr2d_f)\n",
    "arr2d_i = arr2d_f.astype('int')\n",
    "\n",
    "print(arr2d_i)"
   ]
  },
  {
   "cell_type": "code",
   "execution_count": 8,
   "metadata": {
    "ExecuteTime": {
     "end_time": "2022-11-23T09:21:43.860521Z",
     "start_time": "2022-11-23T09:21:43.845140Z"
    }
   },
   "outputs": [
    {
     "name": "stdout",
     "output_type": "stream",
     "text": [
      "[['0' '1' '2']\n",
      " ['3' '4' '5']\n",
      " ['6' '7' '8']]\n"
     ]
    }
   ],
   "source": [
    "# Convert to int then to str datatype\n",
    "arr2d_s = arr2d_f.astype('int').astype('str')\n",
    "print(arr2d_s)\n",
    "# print(arr2d_s + 1)"
   ]
  },
  {
   "cell_type": "markdown",
   "metadata": {},
   "source": [
    "一个numpy数组必须具有相同数据类型的所有条目，这是与列表相比，另一个显著的区别。<br>\n",
    "但是，如果不确定数组将持有何种数据类型，或者想要在同一个数组中共存字符和数字，可以将dtype设置为“object”。"
   ]
  },
  {
   "cell_type": "code",
   "execution_count": 9,
   "metadata": {
    "ExecuteTime": {
     "end_time": "2022-11-23T09:22:49.680309Z",
     "start_time": "2022-11-23T09:22:49.656040Z"
    }
   },
   "outputs": [
    {
     "name": "stdout",
     "output_type": "stream",
     "text": [
      "[ True False  True  True]\n"
     ]
    }
   ],
   "source": [
    "# Create a boolean array\n",
    "arr2d_b = np.array([1, 0, 10, -1], dtype='bool')\n",
    "print(arr2d_b)\n",
    "\n",
    "# a = 0\n",
    "# if a is not None:\n",
    "#     a += 1\n",
    "# else:\n",
    "#     a += 2\n",
    "# print(a)"
   ]
  },
  {
   "cell_type": "code",
   "execution_count": 10,
   "metadata": {
    "ExecuteTime": {
     "end_time": "2022-11-23T09:24:13.846084Z",
     "start_time": "2022-11-23T09:24:13.823261Z"
    }
   },
   "outputs": [
    {
     "name": "stdout",
     "output_type": "stream",
     "text": [
      "<class 'numpy.ndarray'>\n",
      "[1 'a']\n"
     ]
    }
   ],
   "source": [
    "arr1d_obj = np.array([1, 'a'], dtype='object')\n",
    "print(type(arr1d_obj))\n",
    "print(arr1d_obj)"
   ]
  },
  {
   "cell_type": "code",
   "execution_count": 14,
   "metadata": {
    "ExecuteTime": {
     "end_time": "2022-11-23T09:26:50.689742Z",
     "start_time": "2022-11-23T09:26:50.652496Z"
    }
   },
   "outputs": [
    {
     "ename": "TypeError",
     "evalue": "can only concatenate str (not \"int\") to str",
     "output_type": "error",
     "traceback": [
      "\u001b[1;31m---------------------------------------------------------------------------\u001b[0m",
      "\u001b[1;31mTypeError\u001b[0m                                 Traceback (most recent call last)",
      "Cell \u001b[1;32mIn [14], line 1\u001b[0m\n\u001b[1;32m----> 1\u001b[0m \u001b[43marr1d_obj\u001b[49m\u001b[43m[\u001b[49m\u001b[38;5;241;43m1\u001b[39;49m\u001b[43m]\u001b[49m\u001b[43m \u001b[49m\u001b[38;5;241;43m+\u001b[39;49m\u001b[43m \u001b[49m\u001b[38;5;241;43m2\u001b[39;49m\n",
      "\u001b[1;31mTypeError\u001b[0m: can only concatenate str (not \"int\") to str"
     ]
    }
   ],
   "source": [
    "arr1d_obj[1] + 2"
   ]
  },
  {
   "cell_type": "markdown",
   "metadata": {},
   "source": [
    "最终，可以通过```tolist()```方法，将numpy的ndarray对象，转换回python的list对象"
   ]
  },
  {
   "cell_type": "code",
   "execution_count": 15,
   "metadata": {
    "ExecuteTime": {
     "end_time": "2022-11-23T09:27:16.235242Z",
     "start_time": "2022-11-23T09:27:16.223785Z"
    }
   },
   "outputs": [
    {
     "name": "stdout",
     "output_type": "stream",
     "text": [
      "<class 'list'>\n"
     ]
    }
   ],
   "source": [
    "print(type(arr1d_obj.tolist()))"
   ]
  },
  {
   "cell_type": "markdown",
   "metadata": {},
   "source": [
    "以下是numpy的数组(ndarray)与python list的主要区别：\n",
    ">* ndarray支持矢量化操作，而list则不支持。\n",
    "* 一旦创建了ndarray，就不能改变它的向量成员的数目。将不得不创建一个新的ndarray或覆盖现有的ndarray。\n",
    "* 每个ndarray都有一个且只有一个dtype。所有的items都应该是dtype。\n",
    "* 一个等价的numpy ndarray占用的空间比python列表的要少得多。"
   ]
  },
  {
   "cell_type": "markdown",
   "metadata": {},
   "source": [
    "## 如何检查numpy array的大小和形状？"
   ]
  },
  {
   "cell_type": "markdown",
   "metadata": {},
   "source": [
    "每个数组都有一些我想要理解的属性，以便了解数组。<br>\n",
    "让我们考虑一下刚刚创建的2维数组。因为它是由2维列表创建的，所以它有两个维度，可以显示为行和列，就像在矩阵中一样。<br>\n",
    "如果我从3维列表创建数组，它会有三个维度，就像在一个立方体中一样。等等。<br>\n",
    "让我们假设你得到了一个不是你亲自创建的numpy向量。为了了解这个数组，你想要探索的是什么？<br>\n",
    "好吧，我想知道：\n",
    "* 它有多少维度：1维，2维，...，n维(ndim)\n",
    "* 每个dimension（shape）有多少items\n",
    "* 它的数据类型（dtype）是什么？\n",
    "* 它的总数量（size）是多少？\n",
    "* 数组中的前几个items（通过索引）的样本"
   ]
  },
  {
   "cell_type": "code",
   "execution_count": 4,
   "metadata": {
    "ExecuteTime": {
     "end_time": "2022-12-07T08:51:00.203251Z",
     "start_time": "2022-12-07T08:51:00.191254Z"
    }
   },
   "outputs": [
    {
     "name": "stdout",
     "output_type": "stream",
     "text": [
      "[[1. 2. 3. 4.]\n",
      " [3. 4. 5. 6.]\n",
      " [5. 6. 7. 8.]]\n",
      "Shape:  (3, 4)\n",
      "Datatype:  float64\n",
      "Size:  12\n",
      "Num Dimensions:  2\n"
     ]
    }
   ],
   "source": [
    "# Create a 2d array with 3 rows and 4 columns\n",
    "list2 = [[1, 2, 3, 4],[3, 4, 5, 6], [5, 6, 7, 8]]\n",
    "arr2 = np.array(list2, dtype='float')\n",
    "print(arr2)\n",
    "# shape\n",
    "print('Shape: ', arr2.shape)\n",
    "\n",
    "# dtype\n",
    "print('Datatype: ', arr2.dtype)\n",
    "\n",
    "# size\n",
    "print('Size: ', arr2.size)\n",
    "\n",
    "# ndim\n",
    "print('Num Dimensions: ', arr2.ndim)"
   ]
  },
  {
   "cell_type": "markdown",
   "metadata": {},
   "source": [
    "三维数据可以理解为(Height, Width, Channel)"
   ]
  },
  {
   "cell_type": "code",
   "execution_count": 5,
   "metadata": {
    "ExecuteTime": {
     "end_time": "2022-12-07T08:51:02.780589Z",
     "start_time": "2022-12-07T08:51:02.773587Z"
    }
   },
   "outputs": [
    {
     "name": "stdout",
     "output_type": "stream",
     "text": [
      "[[[1. 2.]\n",
      "  [3. 4.]]\n",
      "\n",
      " [[3. 4.]\n",
      "  [5. 6.]]\n",
      "\n",
      " [[5. 6.]\n",
      "  [7. 8.]]]\n",
      "Shape:  (3, 2, 2)\n",
      "Datatype:  float64\n",
      "Size:  12\n",
      "Num Dimensions:  3\n"
     ]
    }
   ],
   "source": [
    "# Create a 3d array\n",
    "list3 = [[[1, 2], [3, 4]],[[3, 4], [5, 6]], [[5, 6], [7, 8]]]\n",
    "arr3 = np.array(list3, dtype='float')\n",
    "print(arr3)\n",
    "# shape\n",
    "print('Shape: ', arr3.shape)\n",
    "\n",
    "# dtype\n",
    "print('Datatype: ', arr3.dtype)\n",
    "\n",
    "# size\n",
    "print('Size: ', arr3.size)\n",
    "\n",
    "# ndim\n",
    "print('Num Dimensions: ', arr3.ndim)"
   ]
  },
  {
   "cell_type": "markdown",
   "metadata": {},
   "source": [
    "### Numpy对张量(Tensor)的简单操作"
   ]
  },
  {
   "cell_type": "markdown",
   "metadata": {},
   "source": [
    "以三维Tensor为例，其中axis=-1是对最里面的一个维度操作，如numpy.sum(tensor, axis=-1)，即对第2维度进行操作，即对Channel进行相加。"
   ]
  },
  {
   "cell_type": "code",
   "execution_count": 3,
   "metadata": {
    "ExecuteTime": {
     "end_time": "2022-12-07T08:50:52.539591Z",
     "start_time": "2022-12-07T08:50:52.532592Z"
    }
   },
   "outputs": [
    {
     "name": "stdout",
     "output_type": "stream",
     "text": [
      "(2, 3, 4)\n",
      "[[[ 1.   2.   3.   4. ]\n",
      "  [ 4.   5.   6.   5. ]\n",
      "  [ 5.   6.   7.   8. ]]\n",
      "\n",
      " [[ 1.1  2.1  3.1  4.1]\n",
      "  [ 4.1  5.1  6.1  7.1]\n",
      "  [ 8.1  9.1 10.1 11.1]]]\n",
      "对Channel维度进行加和\n",
      "[[10.  20.  26. ]\n",
      " [10.4 22.4 38.4]]\n",
      "对Height维度进行加和\n",
      "[[ 2.1  4.1  6.1  8.1]\n",
      " [ 8.1 10.1 12.1 12.1]\n",
      " [13.1 15.1 17.1 19.1]]\n",
      "对Width维度进行加和\n",
      "[[10.  13.  16.  17. ]\n",
      " [13.3 16.3 19.3 22.3]]\n",
      "对Channel维度进行加和\n",
      "[[10.  20.  26. ]\n",
      " [10.4 22.4 38.4]]\n"
     ]
    }
   ],
   "source": [
    "import numpy as np\n",
    "a = [[[1, 2, 3, 4], \n",
    "      [4, 5, 6, 5],\n",
    "      [5, 6, 7, 8]], \n",
    "     [[1.1, 2.1, 3.1, 4.1], \n",
    "      [4.1, 5.1, 6.1, 7.1],\n",
    "      [8.1, 9.1, 10.1, 11.1]]]\n",
    "arr_a = np.array(a, dtype='float')\n",
    "print(arr_a.shape)\n",
    "print(arr_a)\n",
    "print('对Channel维度进行加和')\n",
    "print( np.sum(a, axis=-1))\n",
    "print('对Height维度进行加和')\n",
    "print( np.sum(a, axis=0))\n",
    "print('对Width维度进行加和')\n",
    "print( np.sum(a, axis=1))\n",
    "print('对Channel维度进行加和')\n",
    "print( np.sum(a, axis=2))"
   ]
  },
  {
   "cell_type": "markdown",
   "metadata": {},
   "source": [
    "## 如何从一个array中抽取特定的items？"
   ]
  },
  {
   "cell_type": "markdown",
   "metadata": {},
   "source": [
    "以arr2为例："
   ]
  },
  {
   "cell_type": "code",
   "execution_count": 20,
   "metadata": {
    "ExecuteTime": {
     "end_time": "2022-11-23T09:44:31.036514Z",
     "start_time": "2022-11-23T09:44:31.026806Z"
    }
   },
   "outputs": [
    {
     "name": "stdout",
     "output_type": "stream",
     "text": [
      "[[1. 2. 3. 4.]\n",
      " [3. 4. 5. 6.]\n",
      " [5. 6. 7. 8.]]\n"
     ]
    }
   ],
   "source": [
    "print(arr2)"
   ]
  },
  {
   "cell_type": "markdown",
   "metadata": {},
   "source": [
    "您可以使用从0开始的索引来提取数组的特定部分，类似于如何处理python列表。<br>\n",
    "但是与列表不同的是，numpy数组可以选择性地接受方括号中的许多参数，因为有多个维度。\n",
    "在中括号中，加入逗号，是指分别对行列进行操作，其中行是逗号前面的数，列是逗号后面的数"
   ]
  },
  {
   "cell_type": "code",
   "execution_count": 22,
   "metadata": {
    "ExecuteTime": {
     "end_time": "2022-11-23T09:48:19.888353Z",
     "start_time": "2022-11-23T09:48:19.829108Z"
    }
   },
   "outputs": [
    {
     "name": "stdout",
     "output_type": "stream",
     "text": [
      "(3, 4)\n",
      "获取前两行数据\n",
      "[[1. 2. 3. 4.]\n",
      " [3. 4. 5. 6.]]\n",
      "\n",
      "[[3. 4. 5. 6.]\n",
      " [5. 6. 7. 8.]]\n",
      "\n",
      "arr2\n",
      "[[1. 2. 3. 4.]\n",
      " [3. 4. 5. 6.]\n",
      " [5. 6. 7. 8.]]\n",
      "\n",
      "前两行的前两列数据\n",
      "[[1. 2.]\n",
      " [3. 4.]]\n",
      "\n",
      "[[1. 2.]\n",
      " [3. 4.]\n",
      " [5. 6.]]\n",
      "\n",
      "[[1. 2.]\n",
      " [3. 4.]]\n",
      "下面的代码会出错\n",
      "[[1, 2, 3, 4], [3, 4, 5, 6], [5, 6, 7, 8]]\n",
      "<class 'list'>\n"
     ]
    },
    {
     "ename": "TypeError",
     "evalue": "list indices must be integers or slices, not tuple",
     "output_type": "error",
     "traceback": [
      "\u001b[1;31m---------------------------------------------------------------------------\u001b[0m",
      "\u001b[1;31mTypeError\u001b[0m                                 Traceback (most recent call last)",
      "Cell \u001b[1;32mIn [22], line 20\u001b[0m\n\u001b[0;32m     18\u001b[0m \u001b[38;5;28mprint\u001b[39m(list2)\n\u001b[0;32m     19\u001b[0m \u001b[38;5;28mprint\u001b[39m(\u001b[38;5;28mtype\u001b[39m(list2))\n\u001b[1;32m---> 20\u001b[0m \u001b[38;5;28mprint\u001b[39m(\u001b[43mlist2\u001b[49m\u001b[43m[\u001b[49m\u001b[43m:\u001b[49m\u001b[38;5;241;43m2\u001b[39;49m\u001b[43m,\u001b[49m\u001b[43m \u001b[49m\u001b[43m:\u001b[49m\u001b[38;5;241;43m2\u001b[39;49m\u001b[43m]\u001b[49m)\n",
      "\u001b[1;31mTypeError\u001b[0m: list indices must be integers or slices, not tuple"
     ]
    }
   ],
   "source": [
    "# Extract the first 2 rows and columns\n",
    "print(arr2.shape)\n",
    "print('获取前两行数据')\n",
    "print(arr2[:2])\n",
    "print()\n",
    "print(arr2[1:])\n",
    "print()\n",
    "print('arr2')\n",
    "print(arr2)\n",
    "print()\n",
    "print('前两行的前两列数据')\n",
    "print(arr2[:2, :2])\n",
    "print()\n",
    "print(arr2[:, :2])\n",
    "print()\n",
    "print(arr2[:-1, :2])\n",
    "print('下面的代码会出错')\n",
    "print(list2)\n",
    "print(type(list2))\n",
    "print(list2[:2, :2])  # error"
   ]
  },
  {
   "cell_type": "markdown",
   "metadata": {},
   "source": [
    "另外，numpy数组支持布尔索引。<br>\n",
    "一个布尔索引数组与数组被过滤的shape是相同的，它只包含True和False。与True positions相对应的值保留在输出中。"
   ]
  },
  {
   "cell_type": "code",
   "execution_count": 23,
   "metadata": {
    "ExecuteTime": {
     "end_time": "2022-11-23T09:49:17.767156Z",
     "start_time": "2022-11-23T09:49:17.740994Z"
    }
   },
   "outputs": [
    {
     "name": "stdout",
     "output_type": "stream",
     "text": [
      "[[1. 2. 3. 4.]\n",
      " [3. 4. 5. 6.]\n",
      " [5. 6. 7. 8.]]\n",
      "\n",
      "[[False False False False]\n",
      " [False False  True  True]\n",
      " [ True  True  True  True]]\n"
     ]
    }
   ],
   "source": [
    "# Get the boolean output by applying the condition to each element.\n",
    "b = arr2 > 4\n",
    "print(arr2)\n",
    "print()\n",
    "print(b)"
   ]
  },
  {
   "cell_type": "markdown",
   "metadata": {},
   "source": [
    "### 如何翻转行与整个数组?"
   ]
  },
  {
   "cell_type": "markdown",
   "metadata": {},
   "source": [
    "翻转numpy的数组，如同如何操作python中的列表。<br>\n",
    "但是如果需要完全翻转数组，则需要操作所有的Axies（维：Dimensions）"
   ]
  },
  {
   "cell_type": "code",
   "execution_count": 24,
   "metadata": {
    "ExecuteTime": {
     "end_time": "2022-11-23T09:50:27.078082Z",
     "start_time": "2022-11-23T09:50:27.060537Z"
    }
   },
   "outputs": [
    {
     "name": "stdout",
     "output_type": "stream",
     "text": [
      "[[1. 2. 3. 4.]\n",
      " [3. 4. 5. 6.]\n",
      " [5. 6. 7. 8.]]\n"
     ]
    }
   ],
   "source": [
    "print(arr2)"
   ]
  },
  {
   "cell_type": "markdown",
   "metadata": {},
   "source": [
    "><b>先回忆切片写法，如果这个不了解，下面的课程没法进行了</b>，比如:"
   ]
  },
  {
   "cell_type": "markdown",
   "metadata": {},
   "source": [
    "<--回忆切片写法开始--->"
   ]
  },
  {
   "cell_type": "code",
   "execution_count": 25,
   "metadata": {
    "ExecuteTime": {
     "end_time": "2022-11-23T09:50:38.275663Z",
     "start_time": "2022-11-23T09:50:38.256663Z"
    }
   },
   "outputs": [
    {
     "name": "stdout",
     "output_type": "stream",
     "text": [
      "[3, 5, 7]\n"
     ]
    }
   ],
   "source": [
    "mylist = [1, 2, 3, 4, 5, 6, 7, 8]\n",
    "# 从第3个数，到第7个数，步长为2: \n",
    "# [开始:结束:步长]\n",
    "#（索引从0开始，所以索引2为从3开始，根据要头去尾原则，事实上索引7只能取到7而不是8。）\n",
    "print(mylist[2:7:2])\n",
    "# [2, 7)"
   ]
  },
  {
   "cell_type": "code",
   "execution_count": 26,
   "metadata": {
    "ExecuteTime": {
     "end_time": "2022-11-23T09:53:04.480267Z",
     "start_time": "2022-11-23T09:53:04.459263Z"
    }
   },
   "outputs": [
    {
     "name": "stdout",
     "output_type": "stream",
     "text": [
      "[1, 3, 5, 7]\n"
     ]
    }
   ],
   "source": [
    "# 如果是对整个数组取步长为2的数，则可以省去开始与结束，直接这样写：\n",
    "print(mylist[::2])"
   ]
  },
  {
   "cell_type": "code",
   "execution_count": 27,
   "metadata": {
    "ExecuteTime": {
     "end_time": "2022-11-23T09:53:20.453137Z",
     "start_time": "2022-11-23T09:53:20.445088Z"
    }
   },
   "outputs": [
    {
     "name": "stdout",
     "output_type": "stream",
     "text": [
      "[8, 7, 6, 5, 4, 3, 2, 1]\n"
     ]
    }
   ],
   "source": [
    "# 翻转列表的写法，将步长设置为-1即可\n",
    "print(mylist[::-1])"
   ]
  },
  {
   "cell_type": "markdown",
   "metadata": {},
   "source": [
    "仅仅翻转行,即1 2 3 ... n行数据，变成n ... 3 2 1："
   ]
  },
  {
   "cell_type": "markdown",
   "metadata": {},
   "source": [
    "<--回忆切片写法结束--->"
   ]
  },
  {
   "cell_type": "code",
   "execution_count": 28,
   "metadata": {
    "ExecuteTime": {
     "end_time": "2022-11-23T09:54:04.420151Z",
     "start_time": "2022-11-23T09:54:04.397938Z"
    }
   },
   "outputs": [
    {
     "name": "stdout",
     "output_type": "stream",
     "text": [
      "[[1. 2. 3. 4.]\n",
      " [3. 4. 5. 6.]\n",
      " [5. 6. 7. 8.]]\n",
      "翻转\n",
      "[[5. 6. 7. 8.]\n",
      " [3. 4. 5. 6.]\n",
      " [1. 2. 3. 4.]]\n"
     ]
    }
   ],
   "source": [
    "print(arr2)\n",
    "print('翻转')\n",
    "print(arr2[::-1,])"
   ]
  },
  {
   "cell_type": "markdown",
   "metadata": {},
   "source": [
    "翻转行与列数据："
   ]
  },
  {
   "cell_type": "code",
   "execution_count": 29,
   "metadata": {
    "ExecuteTime": {
     "end_time": "2022-11-23T09:54:20.561775Z",
     "start_time": "2022-11-23T09:54:20.544982Z"
    }
   },
   "outputs": [
    {
     "name": "stdout",
     "output_type": "stream",
     "text": [
      "[[1. 2. 3. 4.]\n",
      " [3. 4. 5. 6.]\n",
      " [5. 6. 7. 8.]]\n",
      "\n",
      "[[8. 7. 6. 5.]\n",
      " [6. 5. 4. 3.]\n",
      " [4. 3. 2. 1.]]\n",
      "矩阵转置\n",
      "[[1. 3. 5.]\n",
      " [2. 4. 6.]\n",
      " [3. 5. 7.]\n",
      " [4. 6. 8.]]\n"
     ]
    }
   ],
   "source": [
    "print(arr2)\n",
    "print()\n",
    "print(arr2[::-1, ::-1])\n",
    "\n",
    "print('矩阵转置')\n",
    "print(arr2.T)"
   ]
  },
  {
   "cell_type": "markdown",
   "metadata": {},
   "source": [
    "### 如何表示缺失的值，以及无穷大？"
   ]
  },
  {
   "cell_type": "markdown",
   "metadata": {},
   "source": [
    "缺失的值，可以通过```np.nan```对象表示，而无穷大可以用```np.inf```对象表示。如例："
   ]
  },
  {
   "cell_type": "code",
   "execution_count": 6,
   "metadata": {
    "ExecuteTime": {
     "end_time": "2022-12-07T08:51:13.515199Z",
     "start_time": "2022-12-07T08:51:13.505197Z"
    }
   },
   "outputs": [
    {
     "name": "stdout",
     "output_type": "stream",
     "text": [
      "[[1. 2. 3. 4.]\n",
      " [3. 4. 5. 6.]\n",
      " [5. 6. 7. 8.]]\n",
      "[[ 1.  2.  3.  4.]\n",
      " [ 3. nan inf  6.]\n",
      " [ 5.  6.  7.  8.]]\n"
     ]
    }
   ],
   "source": [
    "print(arr2)\n",
    "# insert a nan and an inf\n",
    "arr2[1, 1] = np.nan # not a number\n",
    "arr2[1, 2] = np.inf # ininite\n",
    "print(arr2)"
   ]
  },
  {
   "cell_type": "code",
   "execution_count": 31,
   "metadata": {
    "ExecuteTime": {
     "end_time": "2022-11-23T09:58:31.040388Z",
     "start_time": "2022-11-23T09:58:31.020946Z"
    }
   },
   "outputs": [
    {
     "name": "stdout",
     "output_type": "stream",
     "text": [
      "missing_bool\n",
      " [[False False False False]\n",
      " [False  True  True False]\n",
      " [False False False False]]\n",
      "[[ 1.  2.  3.  4.]\n",
      " [ 3. -1. -1.  6.]\n",
      " [ 5.  6.  7.  8.]]\n"
     ]
    }
   ],
   "source": [
    "# replace nan and inf with -1. Don't use arr2 == np.nan\n",
    "missing_bool = np.isnan(arr2) | np.isinf(arr2)\n",
    "print('missing_bool\\n', missing_bool)\n",
    "arr2[missing_bool] = -1\n",
    "print(arr2)"
   ]
  },
  {
   "cell_type": "markdown",
   "metadata": {},
   "source": [
    "### 如何通过ndarray计算均值，最小值，最大值？"
   ]
  },
  {
   "cell_type": "markdown",
   "metadata": {},
   "source": [
    "ndarray有丰富的方法，进行常用的统计运算。"
   ]
  },
  {
   "cell_type": "code",
   "execution_count": 32,
   "metadata": {
    "ExecuteTime": {
     "end_time": "2022-11-23T09:59:51.789525Z",
     "start_time": "2022-11-23T09:59:51.780533Z"
    }
   },
   "outputs": [
    {
     "name": "stdout",
     "output_type": "stream",
     "text": [
      "Mean value is:  3.5833333333333335\n",
      "Max value is:  8.0\n",
      "Min value is:  -1.0\n"
     ]
    }
   ],
   "source": [
    "# mean, max and min\n",
    "print('Mean value is: ', arr2.mean())\n",
    "print('Max value is: ', arr2.max())\n",
    "print('Min value is: ', arr2.min())"
   ]
  },
  {
   "cell_type": "markdown",
   "metadata": {},
   "source": [
    "然而，如果想基于行或者列为单位，计算最小值，可以使用np.amin版本"
   ]
  },
  {
   "cell_type": "code",
   "execution_count": 34,
   "metadata": {
    "ExecuteTime": {
     "end_time": "2022-11-23T10:00:36.073949Z",
     "start_time": "2022-11-23T10:00:36.052702Z"
    }
   },
   "outputs": [
    {
     "name": "stdout",
     "output_type": "stream",
     "text": [
      "[[ 1.  2.  3.  4.]\n",
      " [ 3. -1. -1.  6.]\n",
      " [ 5.  6.  7.  8.]]\n",
      "Column wise minimum:  [ 1. -1. -1.  4.]\n",
      "Row wise minimum:  [ 1. -1.  5.]\n"
     ]
    }
   ],
   "source": [
    "print(arr2)\n",
    "# Row wise and column wise min\n",
    "print('Column wise minimum: ', np.amin(arr2, axis=0))\n",
    "print('Row wise minimum: ', np.amin(arr2, axis=1))"
   ]
  },
  {
   "cell_type": "code",
   "execution_count": 35,
   "metadata": {
    "ExecuteTime": {
     "end_time": "2022-11-23T10:01:42.010858Z",
     "start_time": "2022-11-23T10:01:41.999085Z"
    }
   },
   "outputs": [
    {
     "name": "stdout",
     "output_type": "stream",
     "text": [
      "Column wise maximum:  [5. 6. 7. 8.]\n",
      "Row wise maximum:  [4. 6. 8.]\n"
     ]
    }
   ],
   "source": [
    "# Row wise and column wise max\n",
    "print('Column wise maximum: ', np.amax(arr2, axis=0))\n",
    "print('Row wise maximum: ', np.amax(arr2, axis=1))"
   ]
  },
  {
   "cell_type": "markdown",
   "metadata": {},
   "source": [
    "计算最小的行是可以的。但是如果你想要做其他的计算/函数行呢？它可以用np.apply_over_axis来完成。这个将在未来的topic中进行演示"
   ]
  },
  {
   "cell_type": "code",
   "execution_count": 36,
   "metadata": {
    "ExecuteTime": {
     "end_time": "2022-11-23T10:02:00.120855Z",
     "start_time": "2022-11-23T10:02:00.109278Z"
    }
   },
   "outputs": [
    {
     "name": "stdout",
     "output_type": "stream",
     "text": [
      "[[ 1.  2.  3.  4.]\n",
      " [ 3. -1. -1.  6.]\n",
      " [ 5.  6.  7.  8.]]\n",
      "[ 1.  3.  6. 10. 13. 12. 11. 17. 22. 28. 35. 43.]\n"
     ]
    }
   ],
   "source": [
    "print(arr2)\n",
    "# 计算累加和|\n",
    "print(np.cumsum(arr2))"
   ]
  },
  {
   "cell_type": "markdown",
   "metadata": {},
   "source": [
    "## 如何通过已经存在的array创建新的array？"
   ]
  },
  {
   "cell_type": "markdown",
   "metadata": {},
   "source": [
    "如果你只是将数组的一部分分配给另一个数组，你刚刚创建的新数组实际上是指内存中的父数组。<br>\n",
    "这意味着，如果你对新数组做了任何改动，它也会反映在父数组中。<br>\n",
    "因此，为了避免修改父数组，您需要使用copy（）复制它。所有numpy数组都带有copy（）方法。<br>\n",
    "如下面的例子所示，修改了所谓的子array，父array的相应的值，也被更新了。"
   ]
  },
  {
   "cell_type": "code",
   "execution_count": 7,
   "metadata": {
    "ExecuteTime": {
     "end_time": "2022-12-07T08:53:00.693636Z",
     "start_time": "2022-12-07T08:53:00.679629Z"
    }
   },
   "outputs": [
    {
     "name": "stdout",
     "output_type": "stream",
     "text": [
      "[[ 1.  2.  3.  4.]\n",
      " [ 3. nan inf  6.]\n",
      " [ 5.  6.  7.  8.]]\n",
      "arr2a\n",
      "\n",
      "[[ 1.  2.]\n",
      " [ 3. nan]]\n",
      "arr2a[0]\n",
      "<class 'int'>\n",
      "<class 'numpy.float64'>\n",
      "<class 'numpy.ndarray'>\n",
      "arr2a\n",
      "\n",
      "[[100.   2.]\n",
      " [  3.  nan]]\n",
      "arr2\n",
      "\n",
      "[[100.   2.   3.   4.]\n",
      " [  3.  nan  inf   6.]\n",
      " [  5.   6.   7.   8.]]\n"
     ]
    }
   ],
   "source": [
    "# Assign portion of arr2 to arr2a. Doesn't really create a new array.\n",
    "arr2[:1, :1] = 1\n",
    "print(arr2)\n",
    "arr2a = arr2[:2,:2]  \n",
    "print('arr2a\\n')\n",
    "print(arr2a)\n",
    "print('arr2a[0]')\n",
    "print(type(int(arr2a[0][0])))\n",
    "print(type(arr2a[0, 0]))\n",
    "print(type(arr2a[:1, :1]))\n",
    "# arr2a[0, 0] = 100\n",
    "arr2a[:1, :1] = 100  # 100 will reflect in arr2\n",
    "print('arr2a\\n')\n",
    "print(arr2a)\n",
    "print('arr2\\n')\n",
    "print(arr2)"
   ]
  },
  {
   "cell_type": "markdown",
   "metadata": {},
   "source": [
    "下面演示真正的copy方法, 可以发现arr2b的成员操作已经不再影响arr2了："
   ]
  },
  {
   "cell_type": "code",
   "execution_count": 22,
   "metadata": {},
   "outputs": [
    {
     "name": "stdout",
     "output_type": "stream",
     "text": [
      "arr2b\n",
      "\n",
      "[[100.   2.]\n",
      " [  3.  -1.]]\n",
      "arr2b\n",
      "\n",
      "[[101.   2.]\n",
      " [  3.  -1.]]\n",
      "arr2\n",
      "\n",
      "[[100.   2.   3.   4.]\n",
      " [  3.  -1.  -1.   6.]\n",
      " [  5.   6.   7.   8.]]\n"
     ]
    }
   ],
   "source": [
    "# Copy portion of arr2 to arr2b\n",
    "arr2b = arr2[:2, :2].copy()\n",
    "print('arr2b\\n')\n",
    "print(arr2b)\n",
    "arr2b[:1, :1] = 101  # 101 will not reflect in arr2\n",
    "print('arr2b\\n')\n",
    "print(arr2b)\n",
    "print('arr2\\n')\n",
    "print(arr2)"
   ]
  },
  {
   "cell_type": "markdown",
   "metadata": {},
   "source": [
    "## Reshaping与Flattening多维数组"
   ]
  },
  {
   "cell_type": "markdown",
   "metadata": {},
   "source": [
    "Reshaping的目的是改变物品的排列方式，使矩阵的形状发生变化，同时保持相同数量的维度。<br>\n",
    "然而，Flattening(扁平化)将把一个多维数组转换成一个平面的一维数组。而不是其他形状。<br>\n",
    "首先，尝试把arr2数组从3x4 reshape为4x3数组。"
   ]
  },
  {
   "cell_type": "code",
   "execution_count": 46,
   "metadata": {},
   "outputs": [
    {
     "name": "stdout",
     "output_type": "stream",
     "text": [
      "original arr2: \n",
      "\n",
      "[[101.   2.   3.   4.]\n",
      " [  3.  -1.  -1.   6.]\n",
      " [  5.   6.   7.   8.]]\n"
     ]
    }
   ],
   "source": [
    "import numpy as np\n",
    "print('original arr2: \\n')\n",
    "print(arr2)"
   ]
  },
  {
   "cell_type": "code",
   "execution_count": 47,
   "metadata": {},
   "outputs": [
    {
     "name": "stdout",
     "output_type": "stream",
     "text": [
      "Reshaped arr2: \n",
      "\n",
      "[[101.   2.   3.]\n",
      " [  4.   3.  -1.]\n",
      " [ -1.   6.   5.]\n",
      " [  6.   7.   8.]]\n"
     ]
    }
   ],
   "source": [
    "print('Reshaped arr2: \\n')\n",
    "print(arr2.reshape(4, 3))"
   ]
  },
  {
   "cell_type": "code",
   "execution_count": 49,
   "metadata": {},
   "outputs": [
    {
     "name": "stdout",
     "output_type": "stream",
     "text": [
      "Flatten arr2: \n",
      "\n",
      "[101.   2.   3.   4.   3.  -1.  -1.   6.   5.   6.   7.   8.]\n"
     ]
    }
   ],
   "source": [
    "print('Flatten arr2: \\n')\n",
    "print(arr2.flatten())"
   ]
  },
  {
   "cell_type": "markdown",
   "metadata": {},
   "source": [
    "### Flatten与Ravel的区别是什么？"
   ]
  },
  {
   "cell_type": "markdown",
   "metadata": {},
   "source": [
    "有两种流行的方法来实现扁平化。这是使用```flatten()```方法，另一个使用```ravel()```方法。\n",
    "<br><b>Ravel和Flatten之间的区别在于，使用Ravel创建的新数组实际上是对父数组的引用。</b>所以，对新数组的任何修改都会影响到父节点。但是，内存被有效利用的，因为它没有创建副本。<br>"
   ]
  },
  {
   "cell_type": "code",
   "execution_count": 50,
   "metadata": {},
   "outputs": [
    {
     "name": "stdout",
     "output_type": "stream",
     "text": [
      "b1:\n",
      "[88.  2.  3.  4.  3. -1. -1.  6.  5.  6.  7.  8.]\n",
      "对b1的修改没有影响到arr2本身\n",
      "\n",
      "arr2:\n",
      "[[101.   2.   3.   4.]\n",
      " [  3.  -1.  -1.   6.]\n",
      " [  5.   6.   7.   8.]]\n"
     ]
    }
   ],
   "source": [
    "# Flatten的示例\n",
    "b1 = arr2.flatten()\n",
    "b1[0] = 88\n",
    "print('b1:')\n",
    "print(b1)\n",
    "print('对b1的修改没有影响到arr2本身')\n",
    "print()\n",
    "print('arr2:')\n",
    "print(arr2)"
   ]
  },
  {
   "cell_type": "code",
   "execution_count": 52,
   "metadata": {},
   "outputs": [
    {
     "name": "stdout",
     "output_type": "stream",
     "text": [
      "b2:\n",
      "[99.  2.  3.  4.  3. -1. -1.  6.  5.  6.  7.  8.]\n",
      "\n",
      "对b2的修改影响到arr2本身\n",
      "\n",
      "arr2:\n",
      "[[99.  2.  3.  4.]\n",
      " [ 3. -1. -1.  6.]\n",
      " [ 5.  6.  7.  8.]]\n"
     ]
    }
   ],
   "source": [
    "# Ravel的示例\n",
    "b2 = arr2.ravel()\n",
    "b2[0] = 99\n",
    "print('b2:')\n",
    "print(b2)\n",
    "print()\n",
    "print('对b2的修改影响到arr2本身')\n",
    "print()\n",
    "print('arr2:')\n",
    "print(arr2)"
   ]
  },
  {
   "cell_type": "markdown",
   "metadata": {},
   "source": [
    "<font color='red'><b>第七章将介绍掌握linspace, logspace, random的方法，对于机器学习中需要自动生成一批数据的场景，非常有用</b></font>"
   ]
  },
  {
   "cell_type": "markdown",
   "metadata": {},
   "source": [
    "## 如何通过numpy创建sequences, repetitions与random numbers？"
   ]
  },
  {
   "cell_type": "markdown",
   "metadata": {},
   "source": [
    "```np.arrange```函数可以作为ndarray对象，创建数字sequences"
   ]
  },
  {
   "cell_type": "code",
   "execution_count": 62,
   "metadata": {},
   "outputs": [
    {
     "name": "stdout",
     "output_type": "stream",
     "text": [
      "[0 1 2 3 4]\n",
      "[0 1 2 3 4 5 6 7 8 9]\n",
      "[0 2 4 6 8]\n",
      "[10  9  8  7  6  5  4  3  2  1]\n"
     ]
    }
   ],
   "source": [
    "# Lower limit is 0 be default\n",
    "print(np.arange(5))  \n",
    "\n",
    "# 0 to 9\n",
    "print(np.arange(0, 10))  \n",
    "\n",
    "# 0 to 9 with step of 2\n",
    "print(np.arange(0, 10, 2))  \n",
    "\n",
    "# 10 to 1, decreasing order\n",
    "print(np.arange(10, 0, -1))"
   ]
  },
  {
   "cell_type": "markdown",
   "metadata": {},
   "source": [
    "可以使用```np.arange```来设置起始和结束位置。但是如果将注意力集中在矩阵中的item数量上，将不得不手动计算适当的step值。\n",
    "比如说，想要在1到50之间创建一个10个数字的数组，你能计算出step的值是多少吗？\n",
    "这里可以使用```np.linspace```解决手动计算step的问题。\n",
    "Linespace对于构建虚拟数据，非常使用"
   ]
  },
  {
   "cell_type": "code",
   "execution_count": 65,
   "metadata": {},
   "outputs": [
    {
     "name": "stdout",
     "output_type": "stream",
     "text": [
      "[ 1.    6.44 11.89 17.33 22.78 28.22 33.67 39.11 44.56 50.  ]\n"
     ]
    }
   ],
   "source": [
    "import numpy as np\n",
    "# start at 1 and end at 50\n",
    "print(np.linspace(start=1, stop=50, num=10, dtype=float))"
   ]
  },
  {
   "cell_type": "markdown",
   "metadata": {},
   "source": [
    "注意，由于显式地强迫dtype为int，所以由于四舍五入，数字不是等距的。\n",
    "类似于```np.linspace```，也有```np.logspace```，只是成员是按照对数方法增长。在```np.logspace```，base是幂的基底，默认值是10，所以开始点和结束点是10的幂，start为1代表10的1次方，stop为50代表10的50次方，num为10代表需要从start与end之间取10个数。我们看下面的例子。"
   ]
  },
  {
   "cell_type": "code",
   "execution_count": 66,
   "metadata": {},
   "outputs": [
    {
     "name": "stdout",
     "output_type": "stream",
     "text": [
      "[1.00e+01 2.78e+06 7.74e+11 2.15e+17 5.99e+22 1.67e+28 4.64e+33 1.29e+39\n",
      " 3.59e+44 1.00e+50]\n"
     ]
    }
   ],
   "source": [
    "# Limit the number of digits after the decimal to 2\n",
    "np.set_printoptions(precision=2)  \n",
    "\n",
    "# Start at 10^1 and end at 10^50\n",
    "print(np.logspace(start=1, stop=50, num=10, base=10))"
   ]
  },
  {
   "cell_type": "markdown",
   "metadata": {},
   "source": [
    "下面的例子，是幂的基底是2的例子, 即start为2^1 = 2, end为2^10 = 1024，并取区间的10个数："
   ]
  },
  {
   "cell_type": "code",
   "execution_count": 70,
   "metadata": {},
   "outputs": [
    {
     "name": "stdout",
     "output_type": "stream",
     "text": [
      "[   2.    4.    8.   16.   32.   64.  128.  256.  512. 1024.]\n"
     ]
    }
   ],
   "source": [
    "print(np.logspace(start=1, stop=10, num=10, base=2))"
   ]
  },
  {
   "cell_type": "markdown",
   "metadata": {},
   "source": [
    "## ```np.zeros```和```np.ones```，可以创建所需形状的数组，其中所有的项都是0或1。"
   ]
  },
  {
   "cell_type": "code",
   "execution_count": 74,
   "metadata": {},
   "outputs": [
    {
     "name": "stdout",
     "output_type": "stream",
     "text": [
      "np.zeros的用法: \n",
      "\n",
      "[[0. 0.]\n",
      " [0. 0.]]\n",
      "\n",
      "\n",
      "np.ones的用法: \n",
      "\n",
      "[[1. 1.]\n",
      " [1. 1.]]\n"
     ]
    }
   ],
   "source": [
    "print('np.zeros的用法: \\n')\n",
    "print(np.zeros([2, 2]))\n",
    "print('\\n')\n",
    "print('np.ones的用法: \\n')\n",
    "print(np.ones([2, 2]))"
   ]
  },
  {
   "cell_type": "markdown",
   "metadata": {},
   "source": [
    "### 如何创建重复的sequences？"
   ]
  },
  {
   "cell_type": "markdown",
   "metadata": {},
   "source": [
    "```np.tile```将整个列表或数组重复n遍。<br>\n",
    "然而，```np.repeat```的用途是重复每个item n遍。"
   ]
  },
  {
   "cell_type": "code",
   "execution_count": 77,
   "metadata": {},
   "outputs": [
    {
     "name": "stdout",
     "output_type": "stream",
     "text": [
      "Tile:    [1 2 3 1 2 3 1 2 3]\n",
      "Repeat:  [1 1 1 2 2 2 3 3 3]\n"
     ]
    }
   ],
   "source": [
    "a = [1, 2, 3]\n",
    "# Repeat whole of 'a' two times\n",
    "# 单位是矩阵本身\n",
    "print('Tile:   ', np.tile(a, 3))\n",
    "\n",
    "# Repeat each element of 'a' two times\n",
    "# 单位是矩阵中的每个item\n",
    "print('Repeat: ', np.repeat(a, 3))"
   ]
  },
  {
   "cell_type": "markdown",
   "metadata": {},
   "source": [
    "### 如何生成随机数？"
   ]
  },
  {
   "cell_type": "markdown",
   "metadata": {},
   "source": [
    "```random``` 模块提供了很好的方法，可以生成任意给定shape的随机数（包括统计学中的随机分布）"
   ]
  },
  {
   "cell_type": "code",
   "execution_count": 84,
   "metadata": {},
   "outputs": [
    {
     "name": "stdout",
     "output_type": "stream",
     "text": [
      "随机2x2数组：\n",
      "\n",
      "[[0.9  0.34]\n",
      " [0.51 0.25]]\n",
      "\n",
      "\n",
      "随机2x2正态分布数组：\n",
      "\n",
      "[[ 1.41 -0.06]\n",
      " [-1.58  2.23]]\n",
      "\n",
      "\n",
      "随机2x2，位于0-10之间的整数数组：\n",
      "\n",
      "[[6 3]\n",
      " [1 2]]\n",
      "\n",
      "\n",
      "随机数，位于0~1之间的浮点数：\n",
      "\n",
      "0.13304294391695726\n",
      "\n",
      "\n",
      "随机2x2，位于0~1之间的浮点数：\n",
      "\n",
      "[[0.46 0.4 ]\n",
      " [0.21 0.19]]\n",
      "\n",
      "\n",
      "随机10个字母，且范围为a, e, i, o, u：\n",
      "\n",
      "['o' 'i' 'o' 'e' 'a' 'u' 'a' 'o' 'o' 'i']\n",
      "\n",
      "\n",
      "随机10个字母，范围为a, e, i, o, u, 且每个字母的出现概率已经给定（p参数的和应该为1）：\n",
      "\n",
      "['a' 'o' 'u' 'o' 'o' 'a' 'a' 'a' 'a' 'u' 'o' 'i' 'e' 'i' 'a' 'a' 'o' 'a'\n",
      " 'a' 'e' 'o' 'i' 'o' 'u' 'a' 'a' 'o' 'o' 'i' 'a' 'a' 'a' 'a' 'o' 'u' 'a'\n",
      " 'o' 'o' 'o' 'o' 'a' 'o' 'e' 'o' 'a' 'o' 'e' 'o' 'a' 'o' 'i' 'a' 'o' 'a'\n",
      " 'o' 'o' 'a' 'o' 'e' 'o' 'i' 'a' 'u' 'o' 'a' 'a' 'a' 'e' 'a' 'u' 'o' 'o'\n",
      " 'e' 'a' 'i' 'a' 'u' 'a' 'i' 'a' 'o' 'o' 'a' 'o' 'a' 'o' 'e' 'a' 'a' 'a'\n",
      " 'a' 'i' 'o' 'o' 'o' 'e' 'o' 'e' 'o' 'u']\n"
     ]
    }
   ],
   "source": [
    "# Random numbers between [0,1) of shape 2,2\n",
    "print('随机2x2数组：\\n')\n",
    "print(np.random.rand(2,2))\n",
    "print('\\n')\n",
    "# the Normal distribution with mean=0 and variance=1 of shape 2,2\n",
    "print('随机2x2正态分布数组：\\n')\n",
    "print(np.random.randn(2,2))\n",
    "print('\\n')\n",
    "# Random integers between [0, 10) of shape 2,2\n",
    "print('随机2x2，位于0-10之间的整数数组：\\n')\n",
    "print(np.random.randint(0, 10, size=[2,2]))\n",
    "print('\\n')\n",
    "# One random number between [0,1)\n",
    "print('随机数，位于0~1之间的浮点数：\\n')\n",
    "print(np.random.random())\n",
    "print('\\n')\n",
    "# Random numbers between [0,1) of shape 2,2\n",
    "print('随机2x2，位于0~1之间的浮点数：\\n')\n",
    "print(np.random.random(size=[2,2]))\n",
    "print('\\n')\n",
    "# Pick 10 items from a given list, with equal probability\n",
    "print('随机10个字母，且范围为a, e, i, o, u：\\n')\n",
    "print(np.random.choice(['a', 'e', 'i', 'o', 'u'], size=10))  \n",
    "print('\\n')\n",
    "# Pick 10 items from a given list with a predefined probability 'p'\n",
    "print('随机10个字母，范围为a, e, i, o, u, 且每个字母的出现概率已经给定（p参数的和应该为1）：\\n')\n",
    "print(np.random.choice(['a', 'e', 'i', 'o', 'u'], \n",
    "                       size=100, p=[0.3, 0.1, 0.1, 0.4, 0.1])) "
   ]
  },
  {
   "cell_type": "markdown",
   "metadata": {},
   "source": [
    "现在，每次运行上述函数时，都会得到一组不同的随机数。<br>\n",
    "如果想每次都重复相同的随机数字，你需要设置种子或随机状态。这个可以是任何值。唯一的要求是，必须在每次想要生成相同的随机数集时，将种子设置为相同的值。<br>\n",
    "一旦```np.random.RandomState```被创建，则所有的```np.random```模块对已创建的随机数对象可用。<br>\n",
    "下面这两个例子是等价的"
   ]
  },
  {
   "cell_type": "code",
   "execution_count": 87,
   "metadata": {},
   "outputs": [
    {
     "name": "stdout",
     "output_type": "stream",
     "text": [
      "[[0.67 0.49]\n",
      " [0.83 0.03]]\n"
     ]
    }
   ],
   "source": [
    "# Create the random state\n",
    "rn = np.random.RandomState(99)\n",
    "\n",
    "# Create random numbers between [0,1) of shape 2,2\n",
    "print(rn.rand(2,2))"
   ]
  },
  {
   "cell_type": "code",
   "execution_count": 88,
   "metadata": {},
   "outputs": [
    {
     "name": "stdout",
     "output_type": "stream",
     "text": [
      "[[0.67 0.49]\n",
      " [0.83 0.03]]\n"
     ]
    }
   ],
   "source": [
    "# Set the random seed\n",
    "np.random.seed(99)\n",
    "\n",
    "# Create random numbers between [0,1) of shape 2,2\n",
    "print(np.random.rand(2,2))"
   ]
  },
  {
   "cell_type": "markdown",
   "metadata": {},
   "source": [
    "### 如何获得唯一的items与counts?"
   ]
  },
  {
   "cell_type": "markdown",
   "metadata": {},
   "source": [
    "如何获取矩阵中的唯一items以及各个item出现的频次呢？<br>\n",
    "```np.unique```方法可以被用来获得唯一项。<br>\n",
    "如果想对每个项目重复计数，请将```return_counts```参数设为True."
   ]
  },
  {
   "cell_type": "code",
   "execution_count": 90,
   "metadata": {},
   "outputs": [
    {
     "name": "stdout",
     "output_type": "stream",
     "text": [
      "[8 8 3 7 7 0 4 2 5 2]\n"
     ]
    }
   ],
   "source": [
    "# Create random integers of size 10 between [0,10)\n",
    "# 设置seed的目的，是确保每次执行都获得相同的随机数\n",
    "np.random.seed(100)\n",
    "arr_rand = np.random.randint(0, 10, size=10)\n",
    "print(arr_rand)"
   ]
  },
  {
   "cell_type": "code",
   "execution_count": 91,
   "metadata": {},
   "outputs": [
    {
     "name": "stdout",
     "output_type": "stream",
     "text": [
      "Unique items :  [0 2 3 4 5 7 8]\n",
      "Counts       :  [1 2 1 1 1 2 2]\n"
     ]
    }
   ],
   "source": [
    "# Get the unique items and their counts\n",
    "uniqs, counts = np.unique(arr_rand, return_counts=True)\n",
    "print(\"Unique items : \", uniqs)\n",
    "print(\"Counts       : \", counts)"
   ]
  },
  {
   "cell_type": "markdown",
   "metadata": {},
   "source": [
    "## Numpy中array和matrix用于矩阵乘法及其区别"
   ]
  },
  {
   "cell_type": "markdown",
   "metadata": {},
   "source": [
    "在NumPy中，array用于表示通用的N维数组，matrix则特定用于线性代数计算。<br>\n",
    "array和matrix都可以用来表示矩阵，二者在进行乘法操作时，有一些不同之处。"
   ]
  },
  {
   "cell_type": "markdown",
   "metadata": {},
   "source": [
    "使用array时，运算\\*用于计算数量积（点乘），函数```dot()```用于计算[矢量积（叉乘）](https://baike.baidu.com/item/%E7%9F%A9%E9%98%B5%E4%B9%98%E6%B3%95)，例子如下："
   ]
  },
  {
   "cell_type": "code",
   "execution_count": 110,
   "metadata": {},
   "outputs": [
    {
     "name": "stdout",
     "output_type": "stream",
     "text": [
      "矩阵a与b点乘的计算方法: \n",
      "\n",
      "1x5=5  2x6=12\n",
      "3x7=21 4x8=32\n",
      "a * b = \n",
      " [[ 5 12]\n",
      " [21 32]]\n",
      "\n",
      "矩阵a与b叉乘的计算方法: \n",
      "\n",
      "1x5+2x7=19  1x4+2x8=22\n",
      "3x5+4x7=43  3x6+4x8=50\n",
      "[[1 2]\n",
      " [3 4]]\n",
      "[[5 6]\n",
      " [7 8]]\n",
      "np.dot(a, b) = \n",
      " [[19 22]\n",
      " [43 50]]\n"
     ]
    }
   ],
   "source": [
    "import numpy as np\n",
    "a = np.array([[1, 2], \n",
    "              [3, 4]])\n",
    "b = np.array([[5, 6], \n",
    "              [7, 8]])\n",
    "print('矩阵a与b点乘的计算方法: \\n')\n",
    "print('1x5=5  2x6=12')\n",
    "print('3x7=21 4x8=32')\n",
    "print('a * b = \\n', a * b)\n",
    "print()\n",
    "print('矩阵a与b叉乘的计算方法: \\n')\n",
    "print('1x5+2x7=19  1x4+2x8=22')\n",
    "print('3x5+4x7=43  3x6+4x8=50')\n",
    "print(a)\n",
    "print(b)\n",
    "print('np.dot(a, b) = \\n', np.dot(a, b))"
   ]
  },
  {
   "cell_type": "markdown",
   "metadata": {},
   "source": [
    "可见，当a和b为array时， ```a * b``` 计算了a和b的数量积（对应Matlab的 ```a .* b``` ）， ```dot(a, b)``` 计算了a和b的矢量积（对应Matlab的 ```a * b``` ）"
   ]
  },
  {
   "cell_type": "markdown",
   "metadata": {},
   "source": [
    "与array不同的是，使用matrix时，运算符 \\* 用于计算矢量积，函数 ```multiply()``` 用于计算数量积，例子如："
   ]
  },
  {
   "cell_type": "code",
   "execution_count": 111,
   "metadata": {},
   "outputs": [
    {
     "name": "stdout",
     "output_type": "stream",
     "text": [
      "a * b = \n",
      " [[19 22]\n",
      " [43 50]]\n",
      "np.multiply(a, b) = \n",
      " [[ 5 12]\n",
      " [21 32]]\n"
     ]
    }
   ],
   "source": [
    "a = np.mat('1 2; 3 4')\n",
    "b = np.mat('5 6; 7 8')\n",
    "print('a * b = \\n', a * b)\n",
    "print('np.multiply(a, b) = \\n', np.multiply(a, b))"
   ]
  },
  {
   "cell_type": "markdown",
   "metadata": {},
   "source": [
    "可见，当a和b为matrix时， ```a * b``` 计算了a和b的矢量积， ```multiply(a, b)``` 计算了a和b的数量积。当使用matrix时，无论是生成矩阵还是计算，Numpy的风格和Matlab更加贴近，降低了语言切换时的负担。"
   ]
  },
  {
   "cell_type": "markdown",
   "metadata": {},
   "source": [
    "## Numpy的其他简单矩阵用法"
   ]
  },
  {
   "cell_type": "markdown",
   "metadata": {},
   "source": [
    "矩阵转置的方法很简单，使用T即可："
   ]
  },
  {
   "cell_type": "code",
   "execution_count": 112,
   "metadata": {},
   "outputs": [
    {
     "name": "stdout",
     "output_type": "stream",
     "text": [
      "[[1 3]\n",
      " [2 4]]\n"
     ]
    }
   ],
   "source": [
    "a = np.array([[1, 2], \n",
    "              [3, 4]])\n",
    "a = a.T\n",
    "print(a)"
   ]
  },
  {
   "cell_type": "markdown",
   "metadata": {},
   "source": [
    "创建所有值都是1的矩阵"
   ]
  },
  {
   "cell_type": "code",
   "execution_count": 115,
   "metadata": {},
   "outputs": [
    {
     "name": "stdout",
     "output_type": "stream",
     "text": [
      "[[1.2 1.2]\n",
      " [1.2 1.2]\n",
      " [1.2 1.2]]\n"
     ]
    }
   ],
   "source": [
    "print(np.ones((3, 2)))"
   ]
  },
  {
   "cell_type": "markdown",
   "metadata": {},
   "source": [
    "创建所有值都是0的矩阵"
   ]
  },
  {
   "cell_type": "code",
   "execution_count": 43,
   "metadata": {},
   "outputs": [
    {
     "name": "stdout",
     "output_type": "stream",
     "text": [
      "[[0. 0. 0.]\n",
      " [0. 0. 0.]]\n"
     ]
    }
   ],
   "source": [
    "print(np.zeros((2, 3)))"
   ]
  },
  {
   "cell_type": "markdown",
   "metadata": {},
   "source": [
    "创建3维单位矩阵："
   ]
  },
  {
   "cell_type": "code",
   "execution_count": 116,
   "metadata": {},
   "outputs": [
    {
     "name": "stdout",
     "output_type": "stream",
     "text": [
      "[[1. 0. 0.]\n",
      " [0. 1. 0.]\n",
      " [0. 0. 1.]]\n"
     ]
    }
   ],
   "source": [
    "print(np.eye(3))"
   ]
  },
  {
   "cell_type": "markdown",
   "metadata": {},
   "source": [
    "创建主对角线矩阵"
   ]
  },
  {
   "cell_type": "code",
   "execution_count": 117,
   "metadata": {},
   "outputs": [
    {
     "name": "stdout",
     "output_type": "stream",
     "text": [
      "[[4 0 0 0 0]\n",
      " [0 5 0 0 0]\n",
      " [0 0 6 0 0]\n",
      " [0 0 0 7 0]\n",
      " [0 0 0 0 8]]\n"
     ]
    }
   ],
   "source": [
    "y = np.array([4, 5, 6, 7, 8])\n",
    "print(np.diag(y))"
   ]
  },
  {
   "cell_type": "code",
   "execution_count": 107,
   "metadata": {},
   "outputs": [
    {
     "name": "stdout",
     "output_type": "stream",
     "text": [
      "<class 'list'>\n",
      "['F00000VFZT', 'F00000VFZY', 'F00000VG6B', 'F00000VG68', 'F00000VGC7', 'F00000VGC8', 'F00000VGCN', 'F00000VGCO', 'F00000VFZX', 'F00000VG02', 'F00000VG6D', 'F00000VG6A']\n"
     ]
    }
   ],
   "source": [
    "import re\n",
    "text = '''F00000VFZT\n",
    "F00000VFZY\n",
    "F00000VG6B\n",
    "F00000VG68\n",
    "F00000VGC7\n",
    "F0  0000VGC8\n",
    "F00000VGCN\n",
    "F00000VGCO\n",
    "F000  00VFZX\n",
    "F00000VG02\n",
    "\n",
    "\n",
    "\n",
    "F0000 0VG6D\n",
    "F00000VG6A'''\n",
    "# text_list = text.split('\\n')\n",
    "text_list = [re.sub('\\s', '', text) \n",
    "             for text \n",
    "             in text.split('\\n') \n",
    "             if len(text) > 0]\n",
    "print(type(text_list))\n",
    "print(text_list)"
   ]
  },
  {
   "cell_type": "code",
   "execution_count": 109,
   "metadata": {},
   "outputs": [
    {
     "name": "stdout",
     "output_type": "stream",
     "text": [
      "<class 'str'>\n",
      "'F00000VFZT','F00000VFZY','F00000VG6B','F00000VG68','F00000VGC7','F00000VGC8','F00000VGCN','F00000VGCO','F00000VFZX','F00000VG02','F00000VG6D','F00000VG6A'\n"
     ]
    }
   ],
   "source": [
    "new_text = ','.join([\"'{0}'\".format(text) for text in text_list])\n",
    "print(type(new_text))\n",
    "print(new_text)"
   ]
  },
  {
   "cell_type": "code",
   "execution_count": 105,
   "metadata": {},
   "outputs": [
    {
     "name": "stdout",
     "output_type": "stream",
     "text": [
      "[\"'F00000VFZT'\", \"'F00000VFZY'\", \"'F00000VG6B'\", \"'F00000VG68'\", \"'F00000VGC7'\", \"'F00000VGC8'\", \"'F00000VGCN'\", \"'F00000VGCO'\", \"'F00000VFZX'\", \"'F00000VG02'\", \"'F00000VG6D'\", \"'F00000VG6A'\"]\n"
     ]
    }
   ],
   "source": [
    "print([\"'{0}'\".format(text) for text in text_list])"
   ]
  },
  {
   "cell_type": "code",
   "execution_count": null,
   "metadata": {},
   "outputs": [],
   "source": []
  }
 ],
 "metadata": {
  "kernelspec": {
   "display_name": "Python 3 (ipykernel)",
   "language": "python",
   "name": "python3"
  },
  "language_info": {
   "codemirror_mode": {
    "name": "ipython",
    "version": 3
   },
   "file_extension": ".py",
   "mimetype": "text/x-python",
   "name": "python",
   "nbconvert_exporter": "python",
   "pygments_lexer": "ipython3",
   "version": "3.8.10"
  },
  "latex_envs": {
   "LaTeX_envs_menu_present": true,
   "autoclose": false,
   "autocomplete": true,
   "bibliofile": "biblio.bib",
   "cite_by": "apalike",
   "current_citInitial": 1,
   "eqLabelWithNumbers": true,
   "eqNumInitial": 1,
   "hotkeys": {
    "equation": "Ctrl-E",
    "itemize": "Ctrl-I"
   },
   "labels_anchors": false,
   "latex_user_defs": false,
   "report_style_numbering": false,
   "user_envs_cfg": false
  },
  "toc": {
   "base_numbering": 1,
   "nav_menu": {},
   "number_sections": true,
   "sideBar": true,
   "skip_h1_title": false,
   "title_cell": "Table of Contents",
   "title_sidebar": "Contents",
   "toc_cell": false,
   "toc_position": {
    "height": "calc(100% - 180px)",
    "left": "10px",
    "top": "150px",
    "width": "270.655px"
   },
   "toc_section_display": true,
   "toc_window_display": true
  }
 },
 "nbformat": 4,
 "nbformat_minor": 2
}
