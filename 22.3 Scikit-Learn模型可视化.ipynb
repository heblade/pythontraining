{
 "cells": [
  {
   "cell_type": "markdown",
   "metadata": {},
   "source": [
    "# Scikit Learn模型可视化"
   ]
  },
  {
   "cell_type": "markdown",
   "metadata": {},
   "source": [
    "## 工具： Yellowbrick"
   ]
  },
  {
   "cell_type": "markdown",
   "metadata": {},
   "source": [
    "Yellowbrick 是一套名为「Visualizers」的视觉诊断工具，它扩展了 Scikit-Learn API 以允许我们监督模型的选择过程。简而言之，Yellowbrick 将 Scikit-Learn 与 Matplotlib 结合在一起，并以传统 Scikit-Learn 的方式对模型进行可视化。"
   ]
  },
  {
   "cell_type": "markdown",
   "metadata": {},
   "source": [
    "### 可视化器"
   ]
  },
  {
   "cell_type": "markdown",
   "metadata": {},
   "source": [
    "可视化器（Visualizers）是一种从数据中学习的估计器，其主要目标是创建可理解模型选择过程的可视化。在 Scikit-Learn 的术语中，它们类似于转换器（transformer），其在可视化数据空间或包装模型估计器上类似「ModelCV」（例如 RidgeCV 和 LassoCV）方法的过程。Yellowbrick 的主要目标是创建一个类似于 Scikit-Learn 的 API，其中一些流行的可视化器包括："
   ]
  },
  {
   "cell_type": "markdown",
   "metadata": {},
   "source": [
    "#### 特征可视化"
   ]
  },
  {
   "cell_type": "markdown",
   "metadata": {},
   "source": [
    "- Rank Features：单个或成对特征排序以检测关系\n",
    "- Radial Visualization：围绕圆形图分离实例\n",
    "- PCA Projection：基于主成分分析映射实例\n",
    "- Manifold Visualization：通过流形学习实现高维可视化\n",
    "- Feature Importances：基于模型性能对特征进行排序\n",
    "- Recursive Feature Elimination：按重要性搜索最佳特征子集\n",
    "- Scatter and Joint Plots：通过特征选择直接进行数据可视化"
   ]
  },
  {
   "cell_type": "markdown",
   "metadata": {},
   "source": [
    "#### 分类可视化"
   ]
  },
  {
   "cell_type": "markdown",
   "metadata": {},
   "source": [
    "- Class Balance：了解类别分布如何影响模型\n",
    "- Class Prediction Error：展示分类的误差与主要来源\n",
    "- Classification Report：可视化精度、召回率和 F1 分数的表征\n",
    "- ROC/AUC Curves：受试者工作曲线和曲线下面积\n",
    "- Confusion Matrices：类别决策制定的视觉描述\n",
    "- Discrimination Threshold：搜索最佳分离二元类别的阈值"
   ]
  },
  {
   "cell_type": "markdown",
   "metadata": {},
   "source": [
    "#### 回归可视化"
   ]
  },
  {
   "cell_type": "markdown",
   "metadata": {},
   "source": [
    "- Prediction Error Plots：沿着目标域寻找模型崩溃的原因\n",
    "- Residuals Plot：以残差的方式展示训练和测试数据中的差异\n",
    "- Alpha Selection：展示 alpha 的选择如何影响正则化"
   ]
  },
  {
   "cell_type": "markdown",
   "metadata": {},
   "source": [
    "#### 聚类可视化"
   ]
  },
  {
   "cell_type": "markdown",
   "metadata": {},
   "source": [
    "- K-Elbow Plot：使用肘法（elbow method）和多个指标来选择 k\n",
    "- Silhouette Plot：通过可视化轮廓系数值来选择 k"
   ]
  },
  {
   "cell_type": "markdown",
   "metadata": {},
   "source": [
    "#### 模型选择可视化"
   ]
  },
  {
   "cell_type": "markdown",
   "metadata": {},
   "source": [
    "- Validation Curve：对模型的单个超参数进行调整\n",
    "- Learning Curve：展示模型是否能从更多的数据或更低的复杂性中受益"
   ]
  },
  {
   "cell_type": "markdown",
   "metadata": {},
   "source": [
    "#### 文本可视化"
   ]
  },
  {
   "cell_type": "markdown",
   "metadata": {},
   "source": [
    "- Term Frequency：可视化语料库中词项的频率分布\n",
    "- t-SNE Corpus Visualization：使用随机近邻嵌入来投影文档"
   ]
  },
  {
   "cell_type": "code",
   "execution_count": null,
   "metadata": {},
   "outputs": [],
   "source": []
  }
 ],
 "metadata": {
  "kernelspec": {
   "display_name": "Python 3 (ipykernel)",
   "language": "python",
   "name": "python3"
  },
  "language_info": {
   "codemirror_mode": {
    "name": "ipython",
    "version": 3
   },
   "file_extension": ".py",
   "mimetype": "text/x-python",
   "name": "python",
   "nbconvert_exporter": "python",
   "pygments_lexer": "ipython3",
   "version": "3.8.10"
  },
  "toc": {
   "base_numbering": 1,
   "nav_menu": {},
   "number_sections": true,
   "sideBar": true,
   "skip_h1_title": false,
   "title_cell": "Table of Contents",
   "title_sidebar": "Contents",
   "toc_cell": false,
   "toc_position": {},
   "toc_section_display": true,
   "toc_window_display": true
  }
 },
 "nbformat": 4,
 "nbformat_minor": 2
}
