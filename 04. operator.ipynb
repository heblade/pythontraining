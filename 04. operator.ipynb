{
 "cells": [
  {
   "cell_type": "markdown",
   "metadata": {},
   "source": [
    ".\n",
    "# 运算符"
   ]
  },
  {
   "cell_type": "markdown",
   "metadata": {},
   "source": [
    "## 1 算术运算符"
   ]
  },
  {
   "cell_type": "markdown",
   "metadata": {},
   "source": [
    "* \\+ 加 - 两个对象相加\n",
    "* \\- 减 - 得到负数或是一个数减去另一个数\n",
    "* \\* 乘 - 两个数相乘或是返回一个被重复若干次的字符串\n",
    "* / 除 - x 除以 y\n",
    "* % 取模 - 返回除法的余数\n",
    "* \\*\\* 幂 - 返回x的y次幂\n",
    "* // 取整除 - 返回商的整数部分"
   ]
  },
  {
   "cell_type": "code",
   "execution_count": 4,
   "metadata": {},
   "outputs": [
    {
     "name": "stdout",
     "output_type": "stream",
     "text": [
      "a is 24, b is 5, c is 0\n",
      "1. c 的值为： 29\n",
      "2. c 的值为： 19\n",
      "3. c 的值为： 120\n",
      "4. c 的值为： 4.8\n",
      "5.0\n",
      "4.1 c 的值为： 4\n",
      "5. c 的值为： 4\n",
      "6. c 的值为： 8\n",
      "7. c 的值为： 2\n"
     ]
    }
   ],
   "source": [
    "a = 24\n",
    "b = 5\n",
    "c = 0\n",
    "\n",
    "print(\"a is {0}, b is {1}, c is {2}\".format(a, b, c))\n",
    "c = a + b\n",
    "print (\"1. c 的值为：\", c)\n",
    " \n",
    "c = a - b\n",
    "print (\"2. c 的值为：\", c)\n",
    " \n",
    "c = a * b\n",
    "print (\"3. c 的值为：\", c)\n",
    " \n",
    "c = a / b\n",
    "print (\"4. c 的值为：\", c)\n",
    "print(round(a/b, 0))\n",
    "c = a // b\n",
    "print (\"4.1 c 的值为：\", c)\n",
    " \n",
    "c = a % b\n",
    "print (\"5. c 的值为：\", c)\n",
    " \n",
    "# 修改变量 a 、b 、c\n",
    "a = 2\n",
    "b = 3\n",
    "c = a**b \n",
    "print (\"6. c 的值为：\", c)\n",
    " \n",
    "a = 10\n",
    "b = 5\n",
    "c = a//b \n",
    "print (\"7. c 的值为：\", c)"
   ]
  },
  {
   "cell_type": "markdown",
   "metadata": {},
   "source": [
    "## 2 比较(关系)运算符\n",
    "* == 等于 - 比较对象是否相等\n",
    "* != 不等于 - 比较两个对象是否不相等\n",
    "* \\> 大于 - 返回x是否大于y\n",
    "* < 小于 - 返回x是否小于y。所有比较运算符返回1表示真，返回0表示假。这分别与特殊的变量True和False等价\n",
    "* \\>= 大于等于 - 返回x是否大于等于y\n",
    "* <= 小于等于 - 返回x是否小于等于y"
   ]
  },
  {
   "cell_type": "code",
   "execution_count": 1,
   "metadata": {},
   "outputs": [
    {
     "name": "stdout",
     "output_type": "stream",
     "text": [
      "a is 21, b is 10\n",
      "1. a 不等于 b\n",
      "2. a 不等于 b\n",
      "3. a 大于等于 b\n",
      "4. a 大于 b\n",
      "a is 5, b is 20\n",
      "5. a 小于等于 b\n",
      "6. b 大于等于 a\n"
     ]
    }
   ],
   "source": [
    "a = 21\n",
    "b = 10\n",
    "print(\"a is {0}, b is {1}\".format(a, b))\n",
    "\n",
    "if ( a == b ):\n",
    "    print (\"1. a 等于 b\")\n",
    "else:\n",
    "    print (\"1. a 不等于 b\")\n",
    "\n",
    "if ( a != b ):\n",
    "    print (\"2. a 不等于 b\")\n",
    "else:\n",
    "    print (\"2. a 等于 b\")\n",
    "\n",
    "if ( a < b ):\n",
    "    print (\"3. a 小于 b\")\n",
    "else:\n",
    "    print (\"3. a 大于等于 b\")\n",
    "    \n",
    "if ( a > b ):\n",
    "    print (\"4. a 大于 b\")\n",
    "else:\n",
    "    print (\"4. a 小于等于 b\")\n",
    "\n",
    "# 修改变量 a 和 b 的值\n",
    "a = 5;\n",
    "b = 20;\n",
    "print(\"a is {0}, b is {1}\".format(a, b))\n",
    "if ( a <= b ):\n",
    "    print (\"5. a 小于等于 b\")\n",
    "else:\n",
    "    print (\"5. a 大于  b\")\n",
    "\n",
    "if ( b >= a ):\n",
    "    print (\"6. b 大于等于 a\")\n",
    "else:\n",
    "    print (\"6. b 小于 a\")"
   ]
  },
  {
   "cell_type": "code",
   "execution_count": 2,
   "metadata": {},
   "outputs": [
    {
     "name": "stdout",
     "output_type": "stream",
     "text": [
      "True\n"
     ]
    }
   ],
   "source": [
    "a = 5.0\n",
    "b = 5\n",
    "print(a == b)"
   ]
  },
  {
   "cell_type": "markdown",
   "metadata": {},
   "source": [
    "## 3 赋值运算符\n",
    "* = 简单的赋值运算符 c = a + b 将 a + b 的运算结果赋值为 c\n",
    "* \\+= 加法赋值运算符 c += a 等效于 c = c + a\n",
    "* \\-= 减法赋值运算符 c -= a 等效于 c = c - a\n",
    "* \\*= 乘法赋值运算符 c \\*= a 等效于 c = c \\* a\n",
    "* /= 除法赋值运算符 c /= a 等效于 c = c / a\n",
    "* %= 取模赋值运算符 c %= a 等效于 c = c % a\n",
    "* \\*\\*= 幂赋值运算符 c \\*\\*= a 等效于 c = c \\*\\* a\n",
    "* //= 取整除赋值运算符 c //= a 等效于 c = c // a"
   ]
  },
  {
   "cell_type": "code",
   "execution_count": 6,
   "metadata": {},
   "outputs": [
    {
     "name": "stdout",
     "output_type": "stream",
     "text": [
      "a is 21, b is 10, c is 0\n",
      "1. c 的值为： 31\n",
      "2. c 的值为： 52\n",
      "3. c 的值为： 1092\n",
      "4. c 的值为： 52.0\n",
      "5. c 的值为： 2\n",
      "6. c 的值为： 2097152\n",
      "c //= a is 99864\n",
      "7. c 的值为： 99864\n"
     ]
    }
   ],
   "source": [
    "a = 21\n",
    "b = 10\n",
    "c = 0\n",
    "print(\"a is {0}, b is {1}, c is {2}\".format(a, b, c))\n",
    "  \n",
    "c = a + b\n",
    "print (\"1. c 的值为：\", c)\n",
    " \n",
    "c += a\n",
    "print (\"2. c 的值为：\", c)\n",
    " \n",
    "c *= a\n",
    "print (\"3. c 的值为：\", c)\n",
    " \n",
    "c /= a \n",
    "print (\"4. c 的值为：\", c)\n",
    " \n",
    "c = 2\n",
    "c %= a\n",
    "print (\"5. c 的值为：\", c)\n",
    " \n",
    "c **= a\n",
    "print (\"6. c 的值为：\", c)\n",
    "c //= a\n",
    "print('c //= a is {0}'.format(c))\n",
    "# c //= a\n",
    "print (\"7. c 的值为：\", c)"
   ]
  },
  {
   "cell_type": "markdown",
   "metadata": {},
   "source": [
    "## 4 位运算符\n",
    "* 按位运算符是把数字看作二进制来进行计算的\n",
    "* & 按位与运算符：参与运算的两个值,如果两个相应位都为1,则该位的结果为1,否则为0\n",
    "    * (a & b) 输出结果 12 ，二进制解释： 0000 1100\n",
    "* | 按位或运算符：只要对应的二个二进位有一个为1时，结果位就为1。\n",
    "    * (a | b) 输出结果 61 ，二进制解释： 0011 1101\n",
    "* ^ 按位异或运算符：当两对应的二进位相异时，结果为1\n",
    "    * (a ^ b) 输出结果 49 ，二进制解释： 0011 0001\n",
    "* ~ 按位取反运算符：对数据的每个二进制位取反,即把1变为0,把0变为1 。~x 类似于 -x-1\n",
    "    * (~a ) 输出结果 -61 ，二进制解释： 1100 0011，在一个有符号二进制数的补码形式。\n",
    "* << 左移动运算符：运算数的各二进位全部左移若干位，由 << 右边的数字指定了移动的位数，高位丢弃，低位补0。\n",
    "    * a << 2 输出结果 240 ，二进制解释： 1111 0000\n",
    "* \\>\\> 右移动运算符：把\"\\>\\>\"左边的运算数的各二进位全部右移若干位，\\>\\> 右边的数字指定了移动的位数\n",
    "    * a\\>\\> 2 输出结果 15 ，二进制解释： 0000 1111"
   ]
  },
  {
   "cell_type": "code",
   "execution_count": 7,
   "metadata": {},
   "outputs": [
    {
     "name": "stdout",
     "output_type": "stream",
     "text": [
      "1. c 的值为： 12\n",
      "2. c 的值为： 61\n",
      "3. c 的值为： 49\n",
      "4. c 的值为： -61\n",
      "5. c 的值为： 240\n",
      "6. c 的值为： 15\n"
     ]
    }
   ],
   "source": [
    "a = 60            # 60 = 0011 1100 \n",
    "b = 13            # 13 = 0000 1101 \n",
    "c = 0\n",
    " \n",
    "c = a & b;        # 12 = 0000 1100\n",
    "print (\"1. c 的值为：\", c)\n",
    " \n",
    "c = a | b;        # 61 = 0011 1101 \n",
    "print (\"2. c 的值为：\", c)\n",
    " \n",
    "c = a ^ b;        # 49 = 0011 0001\n",
    "print (\"3. c 的值为：\", c)\n",
    " \n",
    "c = ~a;           # -61 = 1100 0011\n",
    "print (\"4. c 的值为：\", c)\n",
    " \n",
    "c = a << 2;       # 240 = 1111 0000\n",
    "print (\"5. c 的值为：\", c)\n",
    " \n",
    "c = a >> 2;       # 15 = 0000 1111\n",
    "print (\"6. c 的值为：\", c)"
   ]
  },
  {
   "cell_type": "markdown",
   "metadata": {},
   "source": [
    "## 5 逻辑运算符\n",
    "* 加入变量a =10, b = 20\n",
    "* and x and y 布尔\"与\" - 如果 x 为 False，x and y 返回 False，否则它返回 y 的计算值\n",
    "    * (a and b) 返回 20\n",
    "* or x or y 布尔\"或\" - 如果 x 是 True，它返回 x 的值，否则它返回 y 的计算值\n",
    "    * (a or b) 返回 10\n",
    "* not not x 布尔\"非\" - 如果 x 为 True，返回 False 。如果 x 为 False，它返回 True\n",
    "    * not (a and b) 返回False"
   ]
  },
  {
   "cell_type": "code",
   "execution_count": 10,
   "metadata": {},
   "outputs": [
    {
     "name": "stdout",
     "output_type": "stream",
     "text": [
      "a = 10, b = 20\n",
      "1. 变量 a 和 b 都为 true\n",
      "2. 变量 a 和 b 都为 true，或其中一个变量为 true\n",
      "a = 0, b = 20\n",
      "3. 变量 a 和 b 有一个不为 true\n",
      "4. 变量 a 和 b 都为 true，或其中一个变量为 true\n",
      "5. 变量 a 和 b 都为 false，或其中一个变量为 false\n"
     ]
    }
   ],
   "source": [
    "a = 10\n",
    "b = 20\n",
    "# if -1:\n",
    "#     print('ok')\n",
    "print('a = {0}, b = {1}'.format(a, b))\n",
    "if  a and b :\n",
    "    print (\"1. 变量 a 和 b 都为 true\")\n",
    "else:\n",
    "    print (\"1. 变量 a 和 b 有一个不为 true\")\n",
    "if ( a or b ):\n",
    "    print (\"2. 变量 a 和 b 都为 true，或其中一个变量为 true\")\n",
    "else:\n",
    "    print (\"2. 变量 a 和 b 都不为 true\")\n",
    "    \n",
    "# 修改变量 a 的值\n",
    "a = 0\n",
    "print('a = {0}, b = {1}'.format(a, b))\n",
    "if ( a and b ):\n",
    "    print (\"3. 变量 a 和 b 都为 true\")\n",
    "else:\n",
    "    print (\"3. 变量 a 和 b 有一个不为 true\")\n",
    "    \n",
    "if ( a or b):\n",
    "    print (\"4. 变量 a 和 b 都为 true，或其中一个变量为 true\")\n",
    "else:\n",
    "    print (\"4. 变量 a 和 b 都不为 true\")\n",
    "if not( a and b ):\n",
    "    print (\"5. 变量 a 和 b 都为 false，或其中一个变量为 false\")\n",
    "else:\n",
    "    print (\"5. 变量 a 和 b 都为 true\")"
   ]
  },
  {
   "cell_type": "markdown",
   "metadata": {},
   "source": [
    "## 6 成员运算符\n",
    "* in 如果在指定的序列中找到值返回 True，否则返回 False\n",
    "    * x 在 y 序列中 , 如果 x 在 y 序列中返回 True\n",
    "* not in 如果在指定的序列中没有找到值返回 True，否则返回 False\n",
    "    * x 不在 y 序列中 , 如果 x 不在 y 序列中返回 True"
   ]
  },
  {
   "cell_type": "code",
   "execution_count": 12,
   "metadata": {},
   "outputs": [
    {
     "name": "stdout",
     "output_type": "stream",
     "text": [
      "a is 10, b is 20\n",
      "1. 变量 a 不在给定的列表中 list 中\n",
      "2. 变量 b 不在给定的列表中 list 中\n",
      "a is 2, b is 20\n",
      "3. 变量 a 在给定的列表中 list 中\n"
     ]
    }
   ],
   "source": [
    "a = 10\n",
    "b = 20\n",
    "print('a is {0}, b is {1}'.format(a, b))\n",
    "mylist = [1, 2, 3, 4, 5 ];\n",
    " \n",
    "if ( a in mylist ):\n",
    "   print (\"1. 变量 a 在给定的列表中 list 中\")\n",
    "else:\n",
    "   print (\"1. 变量 a 不在给定的列表中 list 中\")\n",
    " \n",
    "if ( b not in mylist ):\n",
    "   print (\"2. 变量 b 不在给定的列表中 list 中\")\n",
    "else:\n",
    "   print (\"2. 变量 b 在给定的列表中 list 中\")\n",
    " \n",
    "# 修改变量 a 的值\n",
    "a = 2\n",
    "print('a is {0}, b is {1}'.format(a, b))\n",
    "if ( a in mylist ):\n",
    "   print (\"3. 变量 a 在给定的列表中 list 中\")\n",
    "else:\n",
    "   print (\"3. 变量 a 不在给定的列表中 list 中\")"
   ]
  },
  {
   "cell_type": "markdown",
   "metadata": {},
   "source": [
    "## 7 身份运算符\n",
    "* is is 是判断两个标识符是不是引用自一个对象\n",
    "    * x is y, 类似 id(x) == id(y) , 如果引用的是同一个对象则返回 True，否则返回 False\n",
    "* is not is not 是判断两个标识符是不是引用自不同对象\n",
    "    * x is not y ， 类似 id(a) != id(b)。如果引用的不是同一个对象则返回结果 True，否则返回 False"
   ]
  },
  {
   "cell_type": "code",
   "execution_count": 14,
   "metadata": {},
   "outputs": [
    {
     "name": "stdout",
     "output_type": "stream",
     "text": [
      "a is 20, b is 20, id of a is 1401056608, id of b is 1401056608\n",
      "1. a 和 b 有相同的标识\n",
      "2. a 和 b 有相同的标识\n",
      "a is 20, b is 30, id of a is 1401056608, id of b is 1401056928\n",
      "3. a 和 b 没有相同的标识\n",
      "4. a 和 b 没有相同的标识\n",
      "a is b False\n",
      "2656078178992\n",
      "2656078178928\n",
      "False\n",
      "True\n"
     ]
    }
   ],
   "source": [
    "# < 256的整数，如果值相等，则分配同样的内存id，所以用is，他们返回true\n",
    "a = 20\n",
    "b = 20\n",
    "print('a is {0}, b is {1}, id of a is {2}, id of b is {3}'.format(a, b, id(a), id(b)))\n",
    "\n",
    "if ( a is b ):\n",
    "   print (\"1. a 和 b 有相同的标识\")\n",
    "else:\n",
    "   print (\"1. a 和 b 没有相同的标识\")\n",
    " \n",
    "if ( id(a) == id(b) ):\n",
    "   print (\"2. a 和 b 有相同的标识\")\n",
    "else:\n",
    "   print (\"2. a 和 b 没有相同的标识\")\n",
    " \n",
    "# 修改变量 b 的值\n",
    "b = 30\n",
    "print('a is {0}, b is {1}, id of a is {2}, id of b is {3}'.format(a, b, id(a), id(b)))\n",
    "if ( a is b ):\n",
    "   print (\"3. a 和 b 有相同的标识\")\n",
    "else:\n",
    "   print (\"3. a 和 b 没有相同的标识\")\n",
    " \n",
    "if ( a is not b ):\n",
    "   print (\"4. a 和 b 没有相同的标识\")\n",
    "else:\n",
    "   print (\"4. a 和 b 有相同的标识\")\n",
    "\n",
    "# > 256的整数，比如257，如果两个整数都是257，根据位数分配原理，id地址不同，所以哪怕值相同，但是>256,用is\n",
    "# 也是得到False的值\n",
    "a = 257\n",
    "b = 257\n",
    "print( 'a is b', a is b)\n",
    "print(id(a))\n",
    "print(id(b))\n",
    "\n",
    "# 整数相比，必须用 ==\n",
    "print(a is b)\n",
    "print(a == b)"
   ]
  },
  {
   "cell_type": "markdown",
   "metadata": {},
   "source": [
    "## 8 运算符优先级\n",
    "从高到低优先级的运算符如下：\n",
    "* \\*\\*\t指数 (最高优先级)\n",
    "* ~ \\+ \\-\t按位翻转, 一元加号和减号 (最后两个的方法名为 +@ 和 -@)\n",
    "* \\* / % //\t乘，除，取模和取整除\n",
    "* \\+ \\-\t加法减法\n",
    "* \\>\\> <<\t右移，左移运算符\n",
    "* &\t位 'AND'\n",
    "* ^ |\t位运算符\n",
    "* <= < \\> \\>=\t比较运算符\n",
    "* <\\> == !=\t等于运算符\n",
    "* = %= /= //= \\-= \\+= \\*= \\*\\*=\t赋值运算符\n",
    "* is is not\t身份运算符\n",
    "* in not in\t成员运算符\n",
    "* and or not\t逻辑运算符"
   ]
  },
  {
   "cell_type": "code",
   "execution_count": 15,
   "metadata": {},
   "outputs": [
    {
     "name": "stdout",
     "output_type": "stream",
     "text": [
      "(a + b) * c / d 运算结果为： 90.0\n",
      "((a + b) * c) / d 运算结果为： 90.0\n",
      "(a + b) * (c / d) 运算结果为： 90.0\n",
      "a + (b * c) / d 运算结果为： 50.0\n"
     ]
    }
   ],
   "source": [
    "a = 20\n",
    "b = 10\n",
    "c = 15\n",
    "d = 5\n",
    "e = 0\n",
    " \n",
    "e = (a + b) * c / d       #( 30 * 15 ) / 5\n",
    "print (\"(a + b) * c / d 运算结果为：\",  e)\n",
    " \n",
    "e = ((a + b) * c) / d     # (30 * 15 ) / 5\n",
    "print (\"((a + b) * c) / d 运算结果为：\",  e)\n",
    " \n",
    "e = (a + b) * (c / d);    # (30) * (15/5)\n",
    "print (\"(a + b) * (c / d) 运算结果为：\",  e)\n",
    " \n",
    "e = a + (b * c) / d;      #  20 + (150/5)\n",
    "print (\"a + (b * c) / d 运算结果为：\",  e)"
   ]
  },
  {
   "cell_type": "code",
   "execution_count": 21,
   "metadata": {},
   "outputs": [
    {
     "name": "stdout",
     "output_type": "stream",
     "text": [
      "0 1\n",
      "0 2\n",
      "0 3\n",
      "\n",
      "0 1\n",
      "0 2\n",
      "0 3\n",
      "0 4\n"
     ]
    }
   ],
   "source": [
    "a = '0'\n",
    "x = 1\n",
    "while x < 4:\n",
    "    print(a, x)\n",
    "    x += 1 \n",
    "print()\n",
    "for i in range(4):\n",
    "    print(a, i+1)"
   ]
  },
  {
   "cell_type": "code",
   "execution_count": null,
   "metadata": {},
   "outputs": [],
   "source": []
  }
 ],
 "metadata": {
  "kernelspec": {
   "display_name": "Python 3",
   "language": "python",
   "name": "python3"
  },
  "language_info": {
   "codemirror_mode": {
    "name": "ipython",
    "version": 3
   },
   "file_extension": ".py",
   "mimetype": "text/x-python",
   "name": "python",
   "nbconvert_exporter": "python",
   "pygments_lexer": "ipython3",
   "version": "3.6.7"
  },
  "toc": {
   "base_numbering": 1,
   "nav_menu": {},
   "number_sections": true,
   "sideBar": true,
   "skip_h1_title": false,
   "title_cell": "Table of Contents",
   "title_sidebar": "Contents",
   "toc_cell": false,
   "toc_position": {},
   "toc_section_display": true,
   "toc_window_display": false
  }
 },
 "nbformat": 4,
 "nbformat_minor": 2
}
