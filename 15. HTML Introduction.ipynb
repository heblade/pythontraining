{
 "cells": [
  {
   "cell_type": "markdown",
   "metadata": {},
   "source": [
    "# HTML 介绍（HTML5 标准）"
   ]
  },
  {
   "cell_type": "markdown",
   "metadata": {},
   "source": [
    "Python的常用场景包括网络爬虫(Web Crawler)，一般通过requests+bs4+xpath组合，或者Scrapy实现更强大的爬虫组件。<br>\n",
    "实现爬虫功能的前提在于，需要非常熟悉HTML，否则爬取的页面无法进行便捷的解析与数据提取。<br>\n",
    "我们日常工作中，会遇到很多网页为载体的金融报告，如SEC文档，大部分是网页文件，如果想提取相关的金融数据，了解并理解HTML标签的含义，就非常必要了。"
   ]
  },
  {
   "cell_type": "markdown",
   "metadata": {},
   "source": [
    "HTML教程，网上有很多，推荐看菜鸟教程的这一篇：[HTML教程](http://www.runoob.com/html/html-tutorial.html)。\n",
    "<br>\n",
    "<img src='./image/2018-09-02 17_56_07-HTML.png' />\n",
    "<br>\n",
    "这篇课件的目的是将相对重要的部分进行重点强调，而且提供面对面的重点讲解部分~~~"
   ]
  },
  {
   "cell_type": "markdown",
   "metadata": {},
   "source": [
    "## HTML在线编辑器\n",
    "推荐使用: [WEB在线编辑器](https://c.runoob.com/front-end/61)<br>\n",
    "如果需要练习HTML，可以去在线编辑器尝试一下。<br>\n",
    "<img src='./image/2018-09-02 17_58_36-HTML_CSS_JS.png' />"
   ]
  },
  {
   "cell_type": "markdown",
   "metadata": {},
   "source": [
    "## 敲黑板重点部分\n",
    "* HTML不是一种编程语言，而是一种标记语言\n",
    "* HTML文件后缀名：htm, html <br>\n",
    "前者是：超文本标记(Hypertext Markup) <br>\n",
    "后者是：超文本标记语言(Hypertext Markup Language)\n",
    "可以说htm = html <br>\n",
    "同时，这两种都是静态网页文件的扩展名，扩展名可以互相更换而不会引起错误（这是指打开而言，但是对于一个链接来说，如果它指向的是一个htm文件，而那个htm文件被更改为html文件，那么是找不到这个链接的）<br>\n",
    "后缀名选择: 推荐使用长后缀名<b>html</b>"
   ]
  },
  {
   "cell_type": "markdown",
   "metadata": {},
   "source": [
    "* HTML标签是由尖括号包围的关键词，比如```<html>```\n",
    "* HTML标签，通常是成对出现的，比如```<b>粗体字</b>```，或者这样理解:```<标签>内容</标签>```"
   ]
  },
  {
   "cell_type": "markdown",
   "metadata": {},
   "source": [
    "* HTML中不支持空格，回车，制表符，它们都会被解析成一个<b><font color=red>空白</font></b>字符：<br>\n",
    "```<P>M                 o                       r\n",
    "    ning\n",
    "    star</P>```"
   ]
  },
  {
   "cell_type": "markdown",
   "metadata": {},
   "source": [
    "<P>M                 o                       r<br>\n",
    "    ning\n",
    "            star</P>"
   ]
  },
  {
   "cell_type": "markdown",
   "metadata": {},
   "source": [
    "* ```<!DOCTYPE>```声明有助于浏览器中正确显示网页"
   ]
  },
  {
   "cell_type": "markdown",
   "metadata": {},
   "source": [
    "* 网页正文编码一般用UTF-8，具体编码如下：<br>\n",
    "```\n",
    "<!DOCTYPE html>\n",
    "<html>\n",
    "<head>\n",
    "<meta charset=\"utf-8\">\n",
    "<title>Morningstar</title>\n",
    "</head>\n",
    "<body>\n",
    "    <h1>我的第一个标题</h1>\n",
    "    <p>我的第一个段落。</p>\n",
    "</body>\n",
    "</html>\n",
    "```"
   ]
  },
  {
   "cell_type": "markdown",
   "metadata": {},
   "source": [
    "<!DOCTYPE html>\n",
    "<html>\n",
    "<head>\n",
    "<meta charset=\"utf-8\">\n",
    "<title>Morningstar</title>\n",
    "</head>\n",
    "<body>\n",
    "    <!-- 这是一个注释-->\n",
    "    <h1>我的第一个标题</h1>\n",
    "    <h2>我的第二个标题</h2>\n",
    "    <p>我的第一个段落。</p>\n",
    "    <br>我的第一个换行。\n",
    "    <br>我的第一个换行。\n",
    "</body>\n",
    "</html>"
   ]
  },
  {
   "cell_type": "markdown",
   "metadata": {},
   "source": [
    "* 尽可能使用小写标签，比如```<div>```，而不是```<DIV>```"
   ]
  },
  {
   "cell_type": "markdown",
   "metadata": {},
   "source": [
    "* HTML元素可以设置属性，常用的属性有： class， id, style, title等。了解属性的写法，可以用于xpath的属性过滤"
   ]
  },
  {
   "cell_type": "markdown",
   "metadata": {},
   "source": [
    "* HTML注释: ```<!-- 这是一个注释-->```"
   ]
  },
  {
   "cell_type": "markdown",
   "metadata": {},
   "source": [
    "* 如何查看html源码<br>\n",
    "在浏览器，如Chrome，右键单击页面，选择View page source：<br>\n",
    "<img src='./image/2018-09-02 18_31_29-HTML.png' /> <br>\n",
    "即可浏览具体的html源码:<br>\n",
    "<img src='./image/2018-09-02 18_33_43-view-source.html.png'>"
   ]
  },
  {
   "cell_type": "markdown",
   "metadata": {},
   "source": [
    "* 如何定位html元素 <br>\n",
    "在网页选取想要查看html元素的内容，右键->选择Insepect<br>\n",
    "<img src='./image/2018-09-02 18_35_31-HTML.png' /> <br>\n",
    "即可定位到具体的html元素：<br>\n",
    "<img src='./image/2018-09-02 18_37_49-HTML.png' />"
   ]
  },
  {
   "cell_type": "markdown",
   "metadata": {},
   "source": [
    "* SEC文档中数据，大多位于div, p, table这些元素中"
   ]
  },
  {
   "cell_type": "markdown",
   "metadata": {},
   "source": [
    "* 要学会使用div元素进行布局"
   ]
  },
  {
   "cell_type": "markdown",
   "metadata": {},
   "source": [
    "<!DOCTYPE html>\n",
    "<html>\n",
    "<head> \n",
    "<meta charset=\"utf-8\"> \n",
    "<title>html教程</title> \n",
    "</head>\n",
    "<body>\n",
    " \n",
    "<div id=\"container\" style=\"width:500px\">\n",
    "    <div id=\"header\" style=\"background-color:#FFA500;\">\n",
    "    <h1 style=\"margin-bottom:0;\">主要的网页标题</h1></div>\n",
    "    <div id=\"menu\" style=\"background-color:#FFD700;height:200px;width:100px;float:left;\">\n",
    "    <b>菜单</b><br>\n",
    "    HTML<br>\n",
    "    CSS<br>\n",
    "    JavaScript</div>\n",
    "    <div id=\"content\" style=\"background-color:#EEEEEE;height:200px;width:400px;float:left;\">\n",
    "    内容在这里</div>\n",
    "    <div id=\"footer\" style=\"background-color:#FFA500;clear:both;text-align:center;\">\n",
    "    版权 © morningstar.com</div>\n",
    "</div>\n",
    "</body>\n",
    "</html>"
   ]
  },
  {
   "cell_type": "markdown",
   "metadata": {},
   "source": [
    "* HTML样式<br>\n",
    "SEC文档中的样式，最多使用方式是通过```<标签 style=\"...\"> </标签```的形式，我们可以通过对样式过滤，得到确定的内容。<br>\n",
    "如：```<div style=\"background-color:yellow;\">这是一个DIV。</div>```<br>\n",
    "<div style=\"background-color:yellow;\">这是一个DIV。</div>"
   ]
  },
  {
   "cell_type": "markdown",
   "metadata": {},
   "source": [
    "* 金融相关的文档中，有很多数据是通过表格展示的。<br>\n",
    "表格的经典构成标签组合如下:<br>\n",
    "```\n",
    "<table>\n",
    "    <tbody>\n",
    "        <tr>\n",
    "            <td>列1</td>\n",
    "            <td>列2</td>\n",
    "        </tr>\n",
    "        <tr>\n",
    "            <td>列1内容</td>\n",
    "            <td>列2内容<td>\n",
    "        </tr>\n",
    "  </tbody>\n",
    "</table>\n",
    "```\n",
    "<table>\n",
    "    <tbody>\n",
    "        <tr>\n",
    "            <td>列1</td>\n",
    "            <td>列2</td>\n",
    "        </tr>\n",
    "        <tr>\n",
    "            <td>列1内容</td>\n",
    "            <td>列2内容<td>\n",
    "        </tr>\n",
    "  </tbody>\n",
    "</table>"
   ]
  },
  {
   "cell_type": "markdown",
   "metadata": {},
   "source": [
    "* 经典的SEC HTML文档示例"
   ]
  },
  {
   "cell_type": "markdown",
   "metadata": {},
   "source": [
    "<!--MS_RAW_xiv-497e.htm-->\n",
    "\n",
    "<!--DOCUMENT START-->\n",
    "\n",
    "<html>\n",
    "<head>\n",
    "<title></title>\n",
    "<!--Licensed to: Security Benefit\n",
    "    Document created using EDGARfilings PROfile 4.2.0.0\n",
    "    Copyright 1995 - 2017 Summit Financial Printing, LLC.  All rights reserved.-->\n",
    "</head>\n",
    "<body style=\"FONT-SIZE: 10pt; FONT-FAMILY: Arial\" bgcolor=\"#ffffff\" text=\"#000000\">\n",
    "<div>\n",
    "<div id=\"DSPFPageHeader\"></div>\n",
    "\n",
    "<table id=\"zfe59f500c6eb4f13a9846b5d76206250\" style=\"FONT-SIZE: 10pt; FONT-FAMILY: Arial; WIDTH: 100%; BORDER-COLLAPSE: collapse\" cellspacing=\"0\" cellpadding=\"0\">\n",
    "<tr>\n",
    "<td style=\"HEIGHT: 40pt; WIDTH: 100%; VERTICAL-ALIGN: top; BACKGROUND-COLOR: #808080\">&#160;</td>\n",
    "</tr>\n",
    "</table>\n",
    "\n",
    "<div style=\"LINE-HEIGHT: 1.25\"><br style=\"LINE-HEIGHT: 1.25\">\n",
    "</div>\n",
    "\n",
    "<table id=\"z2af6c552f5ee4590a71b3fece372d6e6\" style=\"FONT-SIZE: 10pt; FONT-FAMILY: Arial; WIDTH: 100%; BORDER-COLLAPSE: collapse\" cellspacing=\"0\" cellpadding=\"3\" align=\"center\" border=\"0\">\n",
    "<tr>\n",
    "<td style=\"BORDER-LEFT-WIDTH: 1px; BORDER-RIGHT-WIDTH: 1px; WIDTH: 30%; VERTICAL-ALIGN: bottom; WHITE-SPACE: nowrap; BORDER-BOTTOM: #000000 1px solid; BORDER-TOP-WIDTH: 1px\">\n",
    "<div style=\"FONT-SIZE: 10pt; FONT-FAMILY: Arial, sans-serif; FONT-WEIGHT: bold; TEXT-ALIGN: left; LINE-HEIGHT: 1.25\">\n",
    "<div style=\"FONT-SIZE: 10pt; FONT-FAMILY: Arial, sans-serif; FONT-WEIGHT: bold; TEXT-ALIGN: left; LINE-HEIGHT: 1.25\">\n",
    "<div style=\"FONT-SIZE: 10pt; FONT-FAMILY: Arial, sans-serif; FONT-WEIGHT: bold; TEXT-ALIGN: left; LINE-HEIGHT: 1.25\">AEA Valuebuilder Variable Annuity</div>\n",
    "\n",
    "NEA Valuebuilder Retirement Income Director Variable Annuity</div>\n",
    "\n",
    "NEA Valuebuilder Variable Annuity</div>\n",
    "</td>\n",
    "<td style=\"BORDER-LEFT-WIDTH: 1px; BORDER-RIGHT-WIDTH: 1px; WIDTH: 40%; VERTICAL-ALIGN: top; BORDER-BOTTOM: #000000 1px solid; BORDER-TOP-WIDTH: 1px\">&#160;</td>\n",
    "<td style=\"BORDER-LEFT-WIDTH: 1px; BORDER-RIGHT-WIDTH: 1px; WIDTH: 30%; VERTICAL-ALIGN: bottom; BORDER-BOTTOM: #000000 1px solid; BORDER-TOP-WIDTH: 1px\">&#160;</td>\n",
    "</tr>\n",
    "\n",
    "<tr>\n",
    "<td style=\"BORDER-TOP: #000000 0.5pt solid; WIDTH: 30%; VERTICAL-ALIGN: top; WHITE-SPACE: nowrap\">\n",
    "<div style=\"FONT-SIZE: 10pt; FONT-FAMILY: Arial, sans-serif; FONT-WEIGHT: bold; FONT-STYLE: italic; TEXT-ALIGN: center; LINE-HEIGHT: 1.25\">Issued by:</div>\n",
    "</td>\n",
    "<td style=\"BORDER-TOP: #000000 0.5pt solid; WIDTH: 40%; VERTICAL-ALIGN: top\">&#160;</td>\n",
    "<td style=\"BORDER-TOP: #000000 0.5pt solid; WIDTH: 30%; VERTICAL-ALIGN: top\">&#160;</td>\n",
    "</tr>\n",
    "\n",
    "<tr>\n",
    "<td style=\"WIDTH: 30%; VERTICAL-ALIGN: top; WHITE-SPACE: nowrap\">\n",
    "<div style=\"FONT-SIZE: 10pt; FONT-FAMILY: Arial, sans-serif; FONT-WEIGHT: bold; FONT-STYLE: italic; TEXT-ALIGN: left; LINE-HEIGHT: 1.25\">Security Benefit Life Insurance Company</div>\n",
    "\n",
    "<div style=\"FONT-SIZE: 10pt; FONT-FAMILY: Arial, sans-serif; FONT-WEIGHT: bold; FONT-STYLE: italic; TEXT-ALIGN: left; LINE-HEIGHT: 1.25\">One Security Benefit Place</div>\n",
    "\n",
    "<div style=\"FONT-SIZE: 10pt; FONT-FAMILY: Arial, sans-serif; FONT-WEIGHT: bold; FONT-STYLE: italic; TEXT-ALIGN: left; LINE-HEIGHT: 1.25\">Topeka, Kansas 66636-0001</div>\n",
    "</td>\n",
    "<td style=\"WIDTH: 40%; VERTICAL-ALIGN: top\">&#160;</td>\n",
    "<td style=\"WIDTH: 30%; VERTICAL-ALIGN: top\">&#160;</td>\n",
    "</tr>\n",
    "</table>\n",
    "\n",
    "<div style=\"FONT-SIZE: 16pt; FONT-FAMILY: Arial, sans-serif; FONT-WEIGHT: bold; TEXT-ALIGN: center; MARGIN-TOP: 24pt; LINE-HEIGHT: 1.25\">Supplement Dated June 23, 2017</div>\n",
    "\n",
    "<div style=\"MARGIN-BOTTOM: 24pt; FONT-SIZE: 16pt; FONT-FAMILY: Arial, sans-serif; FONT-WEIGHT: bold; TEXT-ALIGN: center; LINE-HEIGHT: 1.25\">To Prospectus Dated May 1, 2017</div>\n",
    "\n",
    "<div style=\"MARGIN-BOTTOM: 9pt; FONT-SIZE: 10pt; FONT-FAMILY: Arial, sans-serif; TEXT-ALIGN: left; LINE-HEIGHT: 1.25\"><font style=\"FONT-SIZE: 10pt; FONT-FAMILY: Arial, sans-serif; FONT-WEIGHT: bold\">Effective June&#160;5, 2017</font>, the name of the following underlying fund changed. The corresponding Subaccount also changed its name accordingly. All references to the former name in the current prospectus are hereby changed to reflect the new name.</div>\n",
    "\n",
    "<table id=\"zfdc9495eac6b4f2eb16ed4dac6634046\" style=\"FONT-SIZE: 10pt; FONT-FAMILY: Arial; WIDTH: 30%; BORDER-COLLAPSE: collapse\" cellspacing=\"0\" cellpadding=\"3\" align=\"center\" border=\"0\">\n",
    "<tr>\n",
    "<td style=\"BORDER-TOP: #000000 1pt double; BORDER-RIGHT: #000000 1pt double; WIDTH: 15%; VERTICAL-ALIGN: middle; BORDER-BOTTOM: #000000 1pt double; BORDER-LEFT: #000000 1pt double\">\n",
    "<div style=\"FONT-SIZE: 10pt; FONT-FAMILY: Arial, sans-serif; FONT-WEIGHT: bold; TEXT-ALIGN: center; LINE-HEIGHT: 1.25\">Former Name</div>\n",
    "</td>\n",
    "<td style=\"BORDER-TOP: #000000 1pt double; BORDER-RIGHT: #000000 1pt double; WIDTH: 15%; VERTICAL-ALIGN: middle; BORDER-BOTTOM: #000000 1pt double; BORDER-LEFT: #000000 1pt double\">\n",
    "<div style=\"FONT-SIZE: 10pt; FONT-FAMILY: Arial, sans-serif; FONT-WEIGHT: bold; TEXT-ALIGN: center; LINE-HEIGHT: 1.25\">New Name</div>\n",
    "</td>\n",
    "</tr>\n",
    "\n",
    "<tr>\n",
    "<td style=\"BORDER-TOP: #000000 1pt double; BORDER-RIGHT: #000000 1pt double; WIDTH: 15%; VERTICAL-ALIGN: middle; WHITE-SPACE: nowrap; BORDER-BOTTOM: #000000 1pt double; BORDER-LEFT: #000000 1pt double\">\n",
    "<div style=\"FONT-SIZE: 10pt; FONT-FAMILY: Arial, sans-serif; TEXT-ALIGN: center; LINE-HEIGHT: 1.25\">Janus Overseas</div>\n",
    "</td>\n",
    "<td style=\"BORDER-TOP: #000000 1pt double; BORDER-RIGHT: #000000 1pt double; WIDTH: 15%; VERTICAL-ALIGN: middle; WHITE-SPACE: nowrap; BORDER-BOTTOM: #000000 1pt double; BORDER-LEFT: #000000 1pt double\">\n",
    "<div style=\"FONT-SIZE: 10pt; FONT-FAMILY: Arial, sans-serif; TEXT-ALIGN: center; LINE-HEIGHT: 1.25\">Janus Henderson Overseas</div>\n",
    "</td>\n",
    "</tr>\n",
    "</table>\n",
    "\n",
    "<div style=\"MARGIN-BOTTOM: 9pt; FONT-SIZE: 10pt; FONT-FAMILY: Arial, sans-serif; TEXT-ALIGN: left; MARGIN-TOP: 9pt; LINE-HEIGHT: 1.25\"><font style=\"FONT-SIZE: 10pt; FONT-FAMILY: Arial, sans-serif; FONT-WEIGHT: bold\">Effective June 23, 2017</font>, the INTECH U.S. Core Fund merged into the Janus Henderson U.S. Managed Volatility Fund. The Company will no longer make available the INTECH U.S. Core Fund as an investment option under the Contract.</div>\n",
    "\n",
    "<div style=\"MARGIN-BOTTOM: 9pt; FONT-SIZE: 10pt; FONT-FAMILY: Arial, sans-serif; TEXT-ALIGN: left; LINE-HEIGHT: 1.25\">The &#8220;Objectives for Underlying Funds &#8211; INTECH U.S. Core&#8221; section of the Prospectus is deleted in its entirety and replaced with the following:</div>\n",
    "\n",
    "<table id=\"z1291c7b9caf94fc09d1cd7347f635ae0\" style=\"FONT-SIZE: 10pt; FONT-FAMILY: Arial; WIDTH: 100%; BORDER-COLLAPSE: collapse\" cellspacing=\"0\" cellpadding=\"3\" align=\"center\" border=\"0\">\n",
    "<tr>\n",
    "<td style=\"FONT-SIZE: 10pt; BORDER-TOP: #000000 1pt double; BORDER-RIGHT: #000000 1pt double; WIDTH: 27%; VERTICAL-ALIGN: bottom; BORDER-BOTTOM: #000000 1pt double; BORDER-LEFT: #000000 1pt double\">\n",
    "<div style=\"FONT-FAMILY: Arial, sans-serif; FONT-WEIGHT: bold; TEXT-ALIGN: center; LINE-HEIGHT: 1.25\">Underlying Funds</div>\n",
    "</td>\n",
    "<td style=\"BORDER-TOP: #000000 1pt double; BORDER-RIGHT: #000000 1pt double; WIDTH: 10%; VERTICAL-ALIGN: bottom; BORDER-BOTTOM: #000000 1pt double; BORDER-LEFT: #000000 1pt double\">\n",
    "<div style=\"FONT-SIZE: 10pt; FONT-FAMILY: Arial, sans-serif; FONT-WEIGHT: bold; COLOR: #000000; TEXT-ALIGN: center; LINE-HEIGHT: 1.25\">Share Class</div>\n",
    "\n",
    "<div style=\"FONT-SIZE: 10pt; FONT-FAMILY: Arial, sans-serif; FONT-WEIGHT: bold; COLOR: #000000; TEXT-ALIGN: center; LINE-HEIGHT: 1.25\">(if applicable)</div>\n",
    "</td>\n",
    "<td style=\"FONT-SIZE: 10pt; BORDER-TOP: #000000 1pt double; BORDER-RIGHT: #000000 1pt double; WIDTH: 22%; VERTICAL-ALIGN: bottom; BORDER-BOTTOM: #000000 1pt double; BORDER-LEFT: #000000 1pt double\">\n",
    "<div style=\"FONT-FAMILY: Arial, sans-serif; FONT-WEIGHT: bold; COLOR: #000000; TEXT-ALIGN: center; LINE-HEIGHT: 1.25\">Investment Objective</div>\n",
    "</td>\n",
    "<td style=\"FONT-SIZE: 10pt; BORDER-TOP: #000000 1pt double; BORDER-RIGHT: #000000 1pt double; WIDTH: 20%; VERTICAL-ALIGN: bottom; BORDER-BOTTOM: #000000 1pt double; BORDER-LEFT: #000000 1pt double\">\n",
    "<div style=\"FONT-FAMILY: Arial, sans-serif; FONT-WEIGHT: bold; COLOR: #000000; TEXT-ALIGN: center; LINE-HEIGHT: 1.25\">Investment Adviser</div>\n",
    "</td>\n",
    "<td style=\"BORDER-TOP: #000000 1pt double; BORDER-RIGHT: #000000 1pt double; WIDTH: 21%; VERTICAL-ALIGN: bottom; BORDER-BOTTOM: #000000 1pt double; BORDER-LEFT: #000000 1pt double\">\n",
    "<div style=\"FONT-SIZE: 10pt; FONT-FAMILY: Arial, sans-serif; FONT-WEIGHT: bold; COLOR: #000000; TEXT-ALIGN: center; LINE-HEIGHT: 1.25\">Sub-Adviser (if applicable)</div>\n",
    "</td>\n",
    "</tr>\n",
    "\n",
    "<tr>\n",
    "<td style=\"FONT-SIZE: 10pt; BORDER-TOP: #000000 1pt double; BORDER-RIGHT: #000000 1pt double; WIDTH: 27%; VERTICAL-ALIGN: top; WHITE-SPACE: nowrap; BORDER-BOTTOM: #000000 1pt double; BORDER-LEFT: #000000 1pt double\">\n",
    "<div style=\"FONT-FAMILY: Arial, sans-serif; TEXT-ALIGN: left; LINE-HEIGHT: 1.25\">Janus Henderson U.S. Managed Volatility</div>\n",
    "</td>\n",
    "<td style=\"FONT-SIZE: 10pt; BORDER-TOP: #000000 1pt double; BORDER-RIGHT: #000000 1pt double; WIDTH: 10%; VERTICAL-ALIGN: top; BORDER-BOTTOM: #000000 1pt double; BORDER-LEFT: #000000 1pt double\">\n",
    "<div style=\"FONT-FAMILY: Arial, sans-serif; COLOR: #000000; TEXT-ALIGN: center; LINE-HEIGHT: 1.25\">S</div>\n",
    "</td>\n",
    "<td style=\"FONT-SIZE: 10pt; BORDER-TOP: #000000 1pt double; BORDER-RIGHT: #000000 1pt double; WIDTH: 22%; VERTICAL-ALIGN: top; WHITE-SPACE: nowrap; BORDER-BOTTOM: #000000 1pt double; BORDER-LEFT: #000000 1pt double\">\n",
    "<div style=\"FONT-FAMILY: Arial, sans-serif; COLOR: #000000; TEXT-ALIGN: left; LINE-HEIGHT: 1.25\">Seeks long-term growth of capital.</div>\n",
    "</td>\n",
    "<td style=\"FONT-SIZE: 10pt; BORDER-TOP: #000000 1pt double; BORDER-RIGHT: #000000 1pt double; WIDTH: 20%; VERTICAL-ALIGN: top; WHITE-SPACE: nowrap; BORDER-BOTTOM: #000000 1pt double; BORDER-LEFT: #000000 1pt double\">\n",
    "<div style=\"FONT-FAMILY: Arial, sans-serif; COLOR: #000000; TEXT-ALIGN: left; LINE-HEIGHT: 1.25\">Janus Capital Mgmt.&#160;LLC</div>\n",
    "</td>\n",
    "<td style=\"FONT-SIZE: 10pt; BORDER-TOP: #000000 1pt double; BORDER-RIGHT: #000000 1pt double; WIDTH: 21%; VERTICAL-ALIGN: top; WHITE-SPACE: nowrap; BORDER-BOTTOM: #000000 1pt double; BORDER-LEFT: #000000 1pt double\">\n",
    "<div style=\"FONT-FAMILY: Arial, sans-serif; COLOR: #000000; TEXT-ALIGN: left; LINE-HEIGHT: 1.25\">INTECH Investment Mgmt.&#160;LLC</div>\n",
    "</td>\n",
    "</tr>\n",
    "</table>\n",
    "\n",
    "<div style=\"FONT-SIZE: 11pt; FONT-FAMILY: Arial, sans-serif; FONT-WEIGHT: bold; TEXT-ALIGN: center; MARGIN-TOP: 12pt; LINE-HEIGHT: 1.25\">Please Retain This Supplement For Future Reference</div>\n",
    "\n",
    "<br>\n",
    "</div>\n",
    "</body>\n",
    "</html>\n",
    "<!--DOCUMENT END-->"
   ]
  },
  {
   "cell_type": "code",
   "execution_count": null,
   "metadata": {},
   "outputs": [],
   "source": []
  }
 ],
 "metadata": {
  "kernelspec": {
   "display_name": "Python 3",
   "language": "python",
   "name": "python3"
  },
  "language_info": {
   "codemirror_mode": {
    "name": "ipython",
    "version": 3
   },
   "file_extension": ".py",
   "mimetype": "text/x-python",
   "name": "python",
   "nbconvert_exporter": "python",
   "pygments_lexer": "ipython3",
   "version": "3.6.7"
  },
  "latex_envs": {
   "LaTeX_envs_menu_present": true,
   "autoclose": false,
   "autocomplete": true,
   "bibliofile": "biblio.bib",
   "cite_by": "apalike",
   "current_citInitial": 1,
   "eqLabelWithNumbers": true,
   "eqNumInitial": 1,
   "hotkeys": {
    "equation": "Ctrl-E",
    "itemize": "Ctrl-I"
   },
   "labels_anchors": false,
   "latex_user_defs": false,
   "report_style_numbering": false,
   "user_envs_cfg": false
  },
  "toc": {
   "base_numbering": 1,
   "nav_menu": {},
   "number_sections": true,
   "sideBar": true,
   "skip_h1_title": false,
   "title_cell": "Table of Contents",
   "title_sidebar": "Contents",
   "toc_cell": false,
   "toc_position": {},
   "toc_section_display": true,
   "toc_window_display": false
  }
 },
 "nbformat": 4,
 "nbformat_minor": 2
}
