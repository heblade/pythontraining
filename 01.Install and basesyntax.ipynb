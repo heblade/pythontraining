{
 "cells": [
  {
   "cell_type": "markdown",
   "metadata": {},
   "source": [
    "# Python安装"
   ]
  },
  {
   "cell_type": "markdown",
   "metadata": {},
   "source": [
    "具体安装可以参见这篇文章: [python3环境搭建](http://www.runoob.com/python3/python3-install.html)"
   ]
  },
  {
   "cell_type": "markdown",
   "metadata": {},
   "source": [
    "<b><font color='red'>请尽量安装3.6即可，现在大部分Python包，都支持3.7了，包括TensorFlow。可以这样说，TensorFlow能支持什么版本的Python，就安装什么版本的Python。</font></b>"
   ]
  },
  {
   "cell_type": "markdown",
   "metadata": {},
   "source": [
    "## 安装注意事项"
   ]
  },
  {
   "cell_type": "markdown",
   "metadata": {},
   "source": [
    "### 安装32位还是64位版本？"
   ]
  },
  {
   "cell_type": "markdown",
   "metadata": {},
   "source": [
    "这样说吧，都9102年了，就别安装32位的了。\n",
    "\n",
    "Python安装版本非常多，仅仅3.0以上版本就有3.0~3.11，建议安装3.7.9这个稳定版本"
   ]
  },
  {
   "cell_type": "markdown",
   "metadata": {},
   "source": [
    "- 安装文件下载地址：[Python3.7.9 Windows x86-64 executable installer](https://www.python.org/ftp/python/3.7.9/python-3.7.9-amd64.exe)\n",
    "<img src='./image/install.png' />\n",
    "- 举个例子：Tensorflow必须64位的python，目前支持python版本，只有64位（毕竟是张量运算，需要内存支持）"
   ]
  },
  {
   "cell_type": "markdown",
   "metadata": {},
   "source": [
    "### Windows环境需要Visual C++ SDK（可选，如果这一步不会安装先搁置，安装Python包遇到问题再说）"
   ]
  },
  {
   "cell_type": "markdown",
   "metadata": {},
   "source": [
    "我们在Windows环境安装python组件包时，最常见的错误是：<b>ERROR MICROSOFT VISUAL C++ 14.0 IS REQUIRED</b>\n",
    "\n",
    "原因：Windows下面的Python需要Visual C++库的SDK作为编译工具，例如：\n",
    "\n",
    "setuptools.extension.Extension或者numpy.distutils.core.Extension。\n",
    "\n",
    "而在Linux或Max系统，编译器已经集成了C++库。"
   ]
  },
  {
   "cell_type": "markdown",
   "metadata": {},
   "source": [
    "<b>解决方案</b>"
   ]
  },
  {
   "cell_type": "markdown",
   "metadata": {},
   "source": [
    "参见：[FIX PYTHON 3 ON WINDOWS ERROR MICROSOFT VISUAL C++ 14.0 IS REQUIRED](https://www.scivision.co/python-windows-visual-c++-14-required/), 这篇文章详细描述了解决方案。\n",
    "\n",
    "可以从如下链接，下载[Build Tools for Visual Studio](https://visualstudio.microsoft.com/zh-hans/downloads)"
   ]
  },
  {
   "cell_type": "markdown",
   "metadata": {},
   "source": [
    "选择Visual Studio 2019社区版"
   ]
  },
  {
   "cell_type": "markdown",
   "metadata": {},
   "source": [
    "<img src='./image/vs2019_com.png'/>"
   ]
  },
  {
   "cell_type": "markdown",
   "metadata": {},
   "source": [
    "- 因为需要6G磁盘空间，建议选择非系统盘，作为安装路径。但是强制安装在C盘的文件大小也有几个G\n",
    "- 安装选项，选择下图红框内的内容进行安装"
   ]
  },
  {
   "cell_type": "markdown",
   "metadata": {},
   "source": [
    "<img src='./image/vs2019.jpg' />"
   ]
  },
  {
   "cell_type": "markdown",
   "metadata": {},
   "source": [
    "### pip安装python组件包"
   ]
  },
  {
   "cell_type": "markdown",
   "metadata": {},
   "source": [
    "一般来说，Python组件包，可以通过pip install 组件包名称进行安装。"
   ]
  },
  {
   "cell_type": "markdown",
   "metadata": {},
   "source": [
    "pip命令是python安装之后，自带的python组件安装工具"
   ]
  },
  {
   "cell_type": "markdown",
   "metadata": {},
   "source": [
    "使用pip安装python组件的示例："
   ]
  },
  {
   "cell_type": "markdown",
   "metadata": {},
   "source": [
    "```pip install pandas```"
   ]
  },
  {
   "cell_type": "markdown",
   "metadata": {},
   "source": [
    "但是连接国外的站点安装，效率太慢，所以我们可以通过从国内镜像进行下载安装。\n",
    "\n",
    "pip的安装镜像地址设置如下："
   ]
  },
  {
   "cell_type": "markdown",
   "metadata": {},
   "source": [
    "#### Mac或Linux系统的配置文件路径"
   ]
  },
  {
   "cell_type": "markdown",
   "metadata": {},
   "source": [
    "~/.pip/pip.conf"
   ]
  },
  {
   "cell_type": "markdown",
   "metadata": {},
   "source": [
    "#### Windows系统的配置文件路径"
   ]
  },
  {
   "cell_type": "markdown",
   "metadata": {},
   "source": [
    "```%HOMEPATH%\\pip\\pip.ini```\n",
    "\n",
    "如：C:\\Users\\账户名称\\pip\\pip.ini"
   ]
  },
  {
   "cell_type": "markdown",
   "metadata": {},
   "source": [
    "#### 镜像地址"
   ]
  },
  {
   "cell_type": "markdown",
   "metadata": {},
   "source": [
    "阿里云：http://mirrors.aliyun.com/pypi/simple/\n",
    "\n",
    "中国科技大学：https://pypi.mirrors.ustc.edu.cn/simple/\n",
    "\n",
    "豆瓣：http://pypi.douban.com/simple/\n",
    "\n",
    "清华大学：https://pypi.tuna.tsinghua.edu.cn/simple/"
   ]
  },
  {
   "cell_type": "markdown",
   "metadata": {},
   "source": [
    "#### 镜像使用方法"
   ]
  },
  {
   "cell_type": "markdown",
   "metadata": {},
   "source": [
    "编辑 pip配置文件，如下所示：\n",
    "\n",
    "```\n",
    "[global]\n",
    "index-url = http://mirrors.aliyun.com/pypi/simple/\n",
    "[install]\n",
    "trusted-host=mirrors.aliyun.com\n",
    "```"
   ]
  },
  {
   "cell_type": "markdown",
   "metadata": {},
   "source": [
    "### 提前下载各种需要的python安装文件"
   ]
  },
  {
   "cell_type": "markdown",
   "metadata": {},
   "source": [
    "whl格式本质上是一个压缩包，里面包含了py文件，以及经过编译的pyd文件。使得可以在不具备编译环境的情况下，选择合适自己的python环境进行安装。\n",
    "\n",
    "安装方法很简单，进入命令行输入：pip install xxxx.whl\n",
    "\n",
    "或者如果是升级：pip install -U xxxx.whl"
   ]
  },
  {
   "cell_type": "markdown",
   "metadata": {},
   "source": [
    "著名的非官方适用Windows环境的whl的下载地址：[Unofficial Windows Binaries for Python Extension Packages](https://www.lfd.uci.edu/~gohlke/pythonlibs/)"
   ]
  },
  {
   "cell_type": "markdown",
   "metadata": {},
   "source": [
    "#### 下载哪个安装文件？"
   ]
  },
  {
   "cell_type": "markdown",
   "metadata": {},
   "source": [
    "很多刚入坑的同学，看到那么多安装文件列表，可能会蒙圈，如何选择是一个问题。\n",
    "如:<img src='./image/numpyinstall.png' />"
   ]
  },
  {
   "cell_type": "markdown",
   "metadata": {},
   "source": [
    "可能会产生，我是谁，我在哪，我要干什么的错觉，其实选择安装文件很简单：\n",
    "- 确定python版本，如3.7x，那么就筛选含有<b>cp37m</b>的下载列表；\n",
    "- 确定python运行环境，如果是64位，那么就选择含有<b>amd64</b>的下载列表\n",
    "- 确定安装包版本，Numpy目前1.15.4是稳定版本，那么就选择含有<b>1.15.4</b>的下载列表\n",
    "- 经过这样的一番选择，就得到唯一的一个下载选项：numpy‑1.15.4+mkl‑cp37‑cp37m‑win_amd64.whl"
   ]
  },
  {
   "cell_type": "markdown",
   "metadata": {},
   "source": [
    "这个只是举个例子，安装tensorflow的时候，tensorflow会自动安装依赖组件numpy的"
   ]
  },
  {
   "cell_type": "markdown",
   "metadata": {},
   "source": [
    "### 无法import sklearn (Scikit-Learn无法加载)"
   ]
  },
  {
   "cell_type": "markdown",
   "metadata": {},
   "source": [
    "(这个是之前scikit learn的老问题，目前开发商已经解决)"
   ]
  },
  {
   "cell_type": "markdown",
   "metadata": {},
   "source": [
    "- 原因：Scikit-Learn需要Numpy+MKL才能加载，纯Numpy无法加载Scikit-Learn\n",
    "- 解决方案：下载包含MKL的Numpy版本：[numpy‑1.15.4+mkl‑cp36‑cp36m‑win_amd64.whl](https://www.lfd.uci.edu/~gohlke/pythonlibs/#numpy)\n",
    "- 安装whl文件：进入到whl的下载路径，直接pip安装，如：\n",
    "\n",
    "```\n",
    "pip install numpy-1.15.2+mkl-cp36-cp36m-win_amd64.whl\n",
    "```"
   ]
  },
  {
   "cell_type": "markdown",
   "metadata": {},
   "source": [
    "### Python运行时，遇到No Module xxx该怎么办？"
   ]
  },
  {
   "cell_type": "markdown",
   "metadata": {},
   "source": [
    "缺什么补什么，即缺少什么模块就通过pip安装就好了。"
   ]
  },
  {
   "cell_type": "markdown",
   "metadata": {},
   "source": [
    "比如Pandas：\n",
    "- 读取Excel需要xlrd模块，那么就通过```pip install xlrd```进行安装\n",
    "- 写入Excel需要openpyxl模型，那么就通过```pip install openpyxl```进行安装\n"
   ]
  },
  {
   "cell_type": "markdown",
   "metadata": {},
   "source": [
    "### 我提供的一个安装超超多包的python脚本（选用）"
   ]
  },
  {
   "cell_type": "markdown",
   "metadata": {},
   "source": [
    "地址位于课件根目录的: install_need_package.py\n",
    "\n",
    "对应的安装包目录位于根目录的: all_requirements.txt\n",
    "\n",
    "因为我是通过```pip freeze > all_requirements.txt```生成的组件包列表文件，可以说应有尽有了。。。\n",
    "\n",
    "**强调一遍：如果是Windows系统，一定先安装Visual Studio 2015或者Visual Studio 2017啊**"
   ]
  },
  {
   "cell_type": "markdown",
   "metadata": {},
   "source": [
    "安装包目录如下：\n",
    "```\n",
    "absl-py==0.13.0\n",
    "argcomplete==1.12.3\n",
    "argon2-cffi==21.1.0\n",
    "asn1crypto==1.4.0\n",
    "astunparse==1.6.3\n",
    "attrs==21.2.0\n",
    "awswrangler==2.10.0\n",
    "backcall==0.2.0\n",
    "backports.entry-points-selectable==1.1.0\n",
    "beautifulsoup4==4.9.3\n",
    "bleach==4.1.0\n",
    "boto3==1.18.31\n",
    "botocore==1.21.31\n",
    "CacheControl==0.12.6\n",
    "cachetools==4.2.2\n",
    "cachy==0.3.0\n",
    "certifi==2021.5.30\n",
    "cffi==1.14.6\n",
    "chardet==4.0.0\n",
    "charset-normalizer==2.0.4\n",
    "cleo==0.8.1\n",
    "click==8.0.1\n",
    "clikit==0.6.2\n",
    "cloudpickle==1.6.0\n",
    "colorama==0.4.4\n",
    "crashtest==0.3.1\n",
    "crypto==1.4.1\n",
    "cycler==0.10.0\n",
    "dask==2021.8.1\n",
    "debugpy==1.4.1\n",
    "decorator==5.0.9\n",
    "defusedxml==0.7.1\n",
    "distlib==0.3.2\n",
    "entrypoints==0.3\n",
    "et-xmlfile==1.1.0\n",
    "filelock==3.0.12\n",
    "flatbuffers==1.12\n",
    "fsspec==2021.7.0\n",
    "gast==0.3.3\n",
    "google-auth==1.35.0\n",
    "google-auth-oauthlib==0.4.5\n",
    "google-pasta==0.2.0\n",
    "grpcio==1.32.0\n",
    "h5py==2.10.0\n",
    "html5lib==1.1\n",
    "huggingface-hub==0.0.12\n",
    "idna==2.10\n",
    "importlib-metadata==1.7.0\n",
    "ipykernel==6.3.1\n",
    "ipython==7.27.0\n",
    "ipython-genutils==0.2.0\n",
    "ipywidgets==7.6.3\n",
    "jedi==0.18.0\n",
    "Jinja2==3.0.1\n",
    "jmespath==0.10.0\n",
    "joblib==1.0.1\n",
    "jsonschema==3.2.0\n",
    "jupyter==1.0.0\n",
    "jupyter-client==7.0.2\n",
    "jupyter-console==6.4.0\n",
    "jupyter-core==4.7.1\n",
    "jupyterlab-pygments==0.1.2\n",
    "jupyterlab-widgets==1.0.0\n",
    "Keras-Preprocessing==1.1.2\n",
    "keyring==21.8.0\n",
    "kiwisolver==1.3.2\n",
    "locket==0.2.1\n",
    "lockfile==0.12.2\n",
    "lxml==4.6.3\n",
    "Markdown==3.3.4\n",
    "MarkupSafe==2.0.1\n",
    "matplotlib==3.4.3\n",
    "matplotlib-inline==0.1.2\n",
    "mcli==0.3.36\n",
    "mistune==0.8.4\n",
    "msgpack==1.0.2\n",
    "Naked==0.1.31\n",
    "nbclient==0.5.4\n",
    "nbconvert==6.1.0\n",
    "nbformat==5.1.3\n",
    "nest-asyncio==1.5.1\n",
    "notebook==6.4.3\n",
    "numpy==1.19.5\n",
    "oauthlib==3.1.1\n",
    "openpyxl==3.0.7\n",
    "opt-einsum==3.3.0\n",
    "packaging==20.9\n",
    "pandas==1.3.2\n",
    "pandocfilters==1.4.3\n",
    "parso==0.8.2\n",
    "partd==1.2.0\n",
    "pastel==0.2.1\n",
    "patsy==0.5.1\n",
    "pexpect==4.8.0\n",
    "pg8000==1.20.0\n",
    "pickleshare==0.7.5\n",
    "Pillow==8.3.1\n",
    "pkginfo==1.7.1\n",
    "platformdirs==2.2.0\n",
    "poetry==1.1.8\n",
    "poetry-core==1.0.4\n",
    "progressbar==2.5\n",
    "prometheus-client==0.11.0\n",
    "prompt-toolkit==3.0.20\n",
    "protobuf==3.17.3\n",
    "psutil==5.8.0\n",
    "ptyprocess==0.7.0\n",
    "pyarrow==4.0.1\n",
    "pyasn1==0.4.8\n",
    "pyasn1-modules==0.2.8\n",
    "pycparser==2.20\n",
    "pycryptodomex==3.10.1\n",
    "Pygments==2.10.0\n",
    "pylev==1.4.0\n",
    "PyMySQL==1.0.2\n",
    "pyparsing==2.4.7\n",
    "pyrsistent==0.18.0\n",
    "python-dateutil==2.8.2\n",
    "pytz==2021.1\n",
    "pywin32==301\n",
    "pywin32-ctypes==0.2.0\n",
    "pywinpty==1.1.3\n",
    "PyYAML==5.4.1\n",
    "pyzmq==22.2.1\n",
    "qtconsole==5.1.1\n",
    "QtPy==1.11.2\n",
    "redshift-connector==2.0.885\n",
    "regex==2021.8.28\n",
    "requests==2.25.1\n",
    "requests-oauthlib==1.3.0\n",
    "requests-toolbelt==0.9.1\n",
    "rsa==4.7.2\n",
    "s3transfer==0.5.0\n",
    "sacremoses==0.0.45\n",
    "scikit-learn==0.24.2\n",
    "scipy==1.7.1\n",
    "scramp==1.4.1\n",
    "Send2Trash==1.8.0\n",
    "sentencepiece==0.1.96\n",
    "seqeval==1.2.2\n",
    "shellescape==3.8.1\n",
    "shellingham==1.4.0\n",
    "six==1.15.0\n",
    "sklearn==0.0\n",
    "soupsieve==2.2.1\n",
    "statsmodels==0.12.2\n",
    "swifter==1.0.9\n",
    "tensorboard==2.6.0\n",
    "tensorboard-data-server==0.6.1\n",
    "tensorboard-plugin-wit==1.8.0\n",
    "tensorflow-estimator==2.4.0\n",
    "tensorflow-gpu==2.4.0\n",
    "termcolor==1.1.0\n",
    "terminado==0.11.1\n",
    "testpath==0.5.0\n",
    "threadpoolctl==2.2.0\n",
    "tokenizers==0.10.3\n",
    "tomlkit==0.7.2\n",
    "toolz==0.11.1\n",
    "tornado==6.1\n",
    "tqdm==4.62.2\n",
    "traitlets==5.1.0\n",
    "transformers==4.9.2\n",
    "typing-extensions==3.7.4.3\n",
    "urllib3==1.26.6\n",
    "virtualenv==20.7.2\n",
    "wcwidth==0.2.5\n",
    "webencodings==0.5.1\n",
    "Werkzeug==2.0.1\n",
    "widgetsnbextension==3.5.1\n",
    "wrapt==1.12.1\n",
    "zipp==3.5.0\n",
    "\n",
    "```"
   ]
  },
  {
   "cell_type": "markdown",
   "metadata": {},
   "source": [
    "## 安装Jupyter Notebook"
   ]
  },
  {
   "cell_type": "markdown",
   "metadata": {},
   "source": [
    "Jupyter Notebook的作用在于，既可以很方便Python技术栈的写作，又可以很方便演示与执行相关的代码。"
   ]
  },
  {
   "cell_type": "markdown",
   "metadata": {},
   "source": [
    "官网的介绍是：Jupyter Notebook是一个Web应用程序，允许您创建和共享包含实时代码，方程，可视化和说明文本的文档。 用途包括：数据清理和转换，数值模拟，统计建模，机器学习等等。"
   ]
  },
  {
   "cell_type": "markdown",
   "metadata": {},
   "source": [
    "安装非常简单，只需要在控制台命令行工具，输入如下命令并执行，即可完成安装："
   ]
  },
  {
   "cell_type": "markdown",
   "metadata": {},
   "source": [
    "```pip install jupyter```"
   ]
  },
  {
   "cell_type": "markdown",
   "metadata": {},
   "source": [
    "之后，通过命令行工具，将目录切换到jupyter notebook生成的文件目录下，执行："
   ]
  },
  {
   "cell_type": "markdown",
   "metadata": {},
   "source": [
    "```jupyter notebook```"
   ]
  },
  {
   "cell_type": "markdown",
   "metadata": {},
   "source": [
    "即可如同浏览网页一样，使用jupyter notebook生成的文件"
   ]
  },
  {
   "cell_type": "markdown",
   "metadata": {},
   "source": [
    "如图所示，访问```http://localhost:8888/?token=784028b6370ebfde9ae3ba93ca03a944c60450f61f701cd1```, 即可进入jupyter notebook的操作界面，每次启动的时候都会启动不同的token"
   ]
  },
  {
   "cell_type": "markdown",
   "metadata": {},
   "source": [
    "<img src='./image/start_jupyter.png' />"
   ]
  },
  {
   "cell_type": "markdown",
   "metadata": {},
   "source": [
    "<img src='./image/jupyter_list.png' />"
   ]
  },
  {
   "cell_type": "markdown",
   "metadata": {},
   "source": [
    "# Python能做什么"
   ]
  },
  {
   "cell_type": "markdown",
   "metadata": {},
   "source": [
    "几年前 Python 在国内还只是一门小众语言。\n",
    "\n",
    "但从 2011开始到现在，Python 的百度搜索指数翻了10 倍，从下图看得出 Python 在国内的流行度已经直逼 Java，大有赶超之势\n",
    "<img src='./image/pcj.png' />"
   ]
  },
  {
   "cell_type": "markdown",
   "metadata": {},
   "source": [
    "目前从热力图来看，中国是使用python最热的国家之一：\n",
    "<img src='./image/firerange.png' />"
   ]
  },
  {
   "cell_type": "markdown",
   "metadata": {},
   "source": [
    "那么国内这几年 Python 怎么突然就火起来了？\n",
    "\n",
    "究其原因，大概可以从分3个阶段来分析。\n",
    "\n",
    "12~14年是云计算最火的几年，大批创业公司和巨头挤破头地进军云计算领域，大家都在做IAAS，最著名的云计算开源平台OpenStack 就是基于Python 开发的，为此催生出不少Python 岗位\n",
    "\n",
    "14~15年是「大众创新，万众创业」口号喊得最响两年，北京大街小巷似乎人人都是创业者，O2O、P2P产品如雨后春笋般冒出，什么语言最适合快速搭建原型？当然是Python，Python 的开发速度一个顶三。\n",
    "\n",
    "16~17年人工智能火遍大江南北，AlphaGO 的出现让业界为之兴奋，人工智能不再是概念，而人工智能、机器学习的首选语言就是Python。\n",
    "<img src='./image/mlp.jpeg' />\n",
    "这两年特别是网络爬虫火得一塌糊涂，10个写爬虫的9个在用Python，曾经有一段时间知乎的Python话题全部被爬虫相关的帖子刷屏，为什么爬虫这么火，这个还是跟大数据有关，因为数据挖掘、分析、机器学习、人工智能都需要大数据的支撑，而真正有大数据的厂商没几个，所以小厂不得不通过爬虫去获取数据。\n",
    "\n",
    "为什么偏偏就 Python 火了，其它语言没有？\n",
    "\n",
    "Ruby on Rails 最火的那几年，有人问Python 之父吉多·范罗苏姆怎么看，他说：\"Python 不需要杀手级应用，因为如果是这样的话，Python 在其它方面的作用就被忽略了。\"\n",
    "\n",
    "Python 在网络爬虫、数据分析、AI、机器学习、Web开发、金融、运维、测试等多个领域都有不俗的表现，从来没有哪一种语言可以同时在这么多领域扎根"
   ]
  },
  {
   "cell_type": "markdown",
   "metadata": {},
   "source": [
    "# 开始Python的开发学习之旅。。。"
   ]
  },
  {
   "cell_type": "markdown",
   "metadata": {},
   "source": [
    "# 编码字符集\n",
    "默认情况下，Python3 源码文件以UTF-8编码，所有字符串都是unicode字符串。当然也可以为源文件指定不同的编码"
   ]
  },
  {
   "cell_type": "code",
   "execution_count": 1,
   "metadata": {},
   "outputs": [],
   "source": [
    "# -*- coding: cp-1252 -*-"
   ]
  },
  {
   "cell_type": "code",
   "execution_count": 2,
   "metadata": {},
   "outputs": [],
   "source": [
    "# -*- coding: utf-8 -*-"
   ]
  },
  {
   "cell_type": "markdown",
   "metadata": {},
   "source": [
    "# 标识符\n",
    "1. 第一个字符必须是字母表中字母或下划线 _ 。\n",
    "2. 标识符的其他的部分由字母、数字和下划线组成。\n",
    "3. 标识符对大小写敏感。\n",
    "4. 非ASCII标识符也是允许的了"
   ]
  },
  {
   "cell_type": "code",
   "execution_count": 1,
   "metadata": {},
   "outputs": [
    {
     "name": "stdout",
     "output_type": "stream",
     "text": [
      "32支参赛队\n",
      "A\n"
     ]
    },
    {
     "ename": "NameError",
     "evalue": "name 'ASHARE' is not defined",
     "output_type": "error",
     "traceback": [
      "\u001b[1;31m---------------------------------------------------------------------------\u001b[0m",
      "\u001b[1;31mNameError\u001b[0m                                 Traceback (most recent call last)",
      "\u001b[1;32m<ipython-input-1-59e03a856202>\u001b[0m in \u001b[0;36m<module>\u001b[1;34m()\u001b[0m\n\u001b[0;32m      4\u001b[0m \u001b[0mprint\u001b[0m\u001b[1;33m(\u001b[0m\u001b[0m世界杯2018\u001b[0m\u001b[1;33m)\u001b[0m\u001b[1;33m\u001b[0m\u001b[1;33m\u001b[0m\u001b[0m\n\u001b[0;32m      5\u001b[0m \u001b[0mprint\u001b[0m\u001b[1;33m(\u001b[0m\u001b[0mashare\u001b[0m\u001b[1;33m)\u001b[0m\u001b[1;33m\u001b[0m\u001b[1;33m\u001b[0m\u001b[0m\n\u001b[1;32m----> 6\u001b[1;33m \u001b[0mprint\u001b[0m\u001b[1;33m(\u001b[0m\u001b[0mASHARE\u001b[0m\u001b[1;33m)\u001b[0m\u001b[1;33m\u001b[0m\u001b[1;33m\u001b[0m\u001b[0m\n\u001b[0m",
      "\u001b[1;31mNameError\u001b[0m: name 'ASHARE' is not defined"
     ]
    }
   ],
   "source": [
    "世界杯2018 = '32支参赛队'\n",
    "ashare = 'A'\n",
    "b = 5\n",
    "print(世界杯2018)\n",
    "print(ashare)\n",
    "print(ASHARE)"
   ]
  },
  {
   "cell_type": "markdown",
   "metadata": {},
   "source": [
    "# python保留字\n",
    "保留字即关键字，我们不能把它们用作任何标识符名称。Python 的标准库提供了一个 keyword 模块，可以输出当前版本的所有关键字"
   ]
  },
  {
   "cell_type": "code",
   "execution_count": 11,
   "metadata": {},
   "outputs": [
    {
     "name": "stdout",
     "output_type": "stream",
     "text": [
      "['False', 'None', 'True', 'and', 'as', 'assert', 'break', 'class', 'continue', 'def', 'del', 'elif', 'else', 'except', 'finally', 'for', 'from', 'global', 'if', 'import', 'in', 'is', 'lambda', 'nonlocal', 'not', 'or', 'pass', 'raise', 'return', 'try', 'while', 'with', 'yield']\n"
     ]
    }
   ],
   "source": [
    "import keyword\n",
    "print(keyword.kwlist)"
   ]
  },
  {
   "cell_type": "markdown",
   "metadata": {},
   "source": [
    "# 注释\n",
    "1. 单行注释以#开头\n",
    "2. 多行注释可以有多个#号，还有'''和\"\"\""
   ]
  },
  {
   "cell_type": "code",
   "execution_count": 1,
   "metadata": {},
   "outputs": [],
   "source": [
    "# 第一个注释\n",
    "# 第二个注释\n",
    "'''\n",
    "You know nothing, Jon Snow.\n",
    "'''\n",
    "winter = \"\"\"\n",
    "Winter is coming!\n",
    "\"\"\""
   ]
  },
  {
   "cell_type": "code",
   "execution_count": 2,
   "metadata": {},
   "outputs": [
    {
     "name": "stdout",
     "output_type": "stream",
     "text": [
      "\n",
      "Winter is coming!\n",
      "\n"
     ]
    }
   ],
   "source": [
    "print(winter)"
   ]
  },
  {
   "cell_type": "markdown",
   "metadata": {},
   "source": [
    "# 行与缩进\n",
    "1. python最具特色的就是使用缩进来表示代码块，不需要使用大括号 {} 。\n",
    "2. 缩进的空格数是可变的，但是同一个代码块的语句必须包含相同的缩进空格数\n",
    "3. 缩进必须一致，否则会报错"
   ]
  },
  {
   "cell_type": "code",
   "execution_count": 6,
   "metadata": {},
   "outputs": [
    {
     "name": "stdout",
     "output_type": "stream",
     "text": [
      "True\n"
     ]
    }
   ],
   "source": [
    "if True:\n",
    "    print('True')\n",
    "else:\n",
    "    print(\"False\")"
   ]
  },
  {
   "cell_type": "code",
   "execution_count": 7,
   "metadata": {},
   "outputs": [
    {
     "ename": "IndentationError",
     "evalue": "expected an indented block (<ipython-input-7-06ec62a09bbf>, line 2)",
     "output_type": "error",
     "traceback": [
      "\u001b[1;36m  File \u001b[1;32m\"<ipython-input-7-06ec62a09bbf>\"\u001b[1;36m, line \u001b[1;32m2\u001b[0m\n\u001b[1;33m    print('True')\u001b[0m\n\u001b[1;37m        ^\u001b[0m\n\u001b[1;31mIndentationError\u001b[0m\u001b[1;31m:\u001b[0m expected an indented block\n"
     ]
    }
   ],
   "source": [
    "if True:\n",
    "print('True')\n",
    "else:\n",
    "    print(\"False\")"
   ]
  },
  {
   "cell_type": "markdown",
   "metadata": {},
   "source": [
    "# 多行语句\n",
    "可以使用反斜杠\\来实现多行语句。\n",
    "学会这个很重要，否则代码太长很难读"
   ]
  },
  {
   "cell_type": "code",
   "execution_count": 8,
   "metadata": {},
   "outputs": [
    {
     "name": "stdout",
     "output_type": "stream",
     "text": [
      "6\n"
     ]
    }
   ],
   "source": [
    "a, b, c = 1, 2, 3\n",
    "totable = a + b + c\n",
    "total = a + \\\n",
    "        b + \\\n",
    "        c\n",
    "# 在有括号的情况下，不需要加反斜杠\n",
    "total = (a+\n",
    "         b+\n",
    "         c)\n",
    "print(total)"
   ]
  },
  {
   "cell_type": "markdown",
   "metadata": {},
   "source": [
    "在 [], {}, 或 () 中的多行语句，不需要使用反斜杠(\\\\)，一般每一行末尾是逗号\n",
    "```\n",
    "name = 'Tom'\n",
    "```"
   ]
  },
  {
   "cell_type": "code",
   "execution_count": 9,
   "metadata": {},
   "outputs": [
    {
     "name": "stdout",
     "output_type": "stream",
     "text": [
      "['itemone', 'itemtwo', 'itemthree']\n"
     ]
    }
   ],
   "source": [
    "total = ['itemone',\n",
    "         'itemtwo',\n",
    "         'itemthree']\n",
    "print(total)"
   ]
  },
  {
   "cell_type": "code",
   "execution_count": 10,
   "metadata": {},
   "outputs": [
    {
     "name": "stdout",
     "output_type": "stream",
     "text": [
      "wwww\n",
      "wwww\n",
      "wwww\\nwwww\n"
     ]
    }
   ],
   "source": [
    "what = 'wwww\\nwwww'\n",
    "print(what)\n",
    "# raw\n",
    "what = r'wwww\\nwwww'\n",
    "print(what)"
   ]
  },
  {
   "cell_type": "markdown",
   "metadata": {},
   "source": [
    "# 数字(number)类型\n",
    "python中数字有四种类型：整数、布尔型、浮点数和复数。\n",
    "\n",
    "1. int (整数), 如 1, 只有一种整数类型 int，表示为长整型，没有 python2 中的 Long。\n",
    "2. bool (布尔), 如 True。\n",
    "3. float (浮点数), 如 1.23、3E-2\n",
    "4. complex (复数), 如 1 + 2j、 1.1 + 2.2j"
   ]
  },
  {
   "cell_type": "code",
   "execution_count": 13,
   "metadata": {},
   "outputs": [
    {
     "name": "stdout",
     "output_type": "stream",
     "text": [
      "<class 'bool'>\n",
      "True\n",
      "ok\n"
     ]
    }
   ],
   "source": [
    "isok = True\n",
    "print(type(isok))\n",
    "print(isok)\n",
    "\n",
    "if isok:\n",
    "    print('ok')"
   ]
  },
  {
   "cell_type": "code",
   "execution_count": 14,
   "metadata": {},
   "outputs": [
    {
     "data": {
      "text/plain": [
       "False"
      ]
     },
     "execution_count": 14,
     "metadata": {},
     "output_type": "execute_result"
    }
   ],
   "source": [
    "isok == '1'"
   ]
  },
  {
   "cell_type": "code",
   "execution_count": 16,
   "metadata": {},
   "outputs": [
    {
     "name": "stdout",
     "output_type": "stream",
     "text": [
      "ok\n",
      "strange\n",
      "not\n"
     ]
    }
   ],
   "source": [
    "# python中，非0数，都是True, 天然的False为：0与None\n",
    "is_ok = 1\n",
    "not_ok = 0\n",
    "if is_ok:\n",
    "    print('ok')\n",
    "\n",
    "strange = -1\n",
    "if strange:\n",
    "    print('strange')\n",
    "else:\n",
    "    print('normal')\n",
    "\n",
    "none = None\n",
    "if none:\n",
    "    print('none')\n",
    "else:\n",
    "    print('not')"
   ]
  },
  {
   "cell_type": "code",
   "execution_count": 18,
   "metadata": {},
   "outputs": [
    {
     "name": "stdout",
     "output_type": "stream",
     "text": [
      "empty list\n"
     ]
    }
   ],
   "source": [
    "mylist = []\n",
    "if mylist:\n",
    "    print('with list')\n",
    "else:\n",
    "    print('empty list')\n",
    "    \n",
    "if mylist == 0:\n",
    "    print(1)"
   ]
  },
  {
   "cell_type": "markdown",
   "metadata": {},
   "source": [
    "# 字符串 (string)\n",
    "1. python中单引号和双引号使用完全相同。\n",
    "2. 使用三引号('''或\"\"\")可以指定一个多行字符串。\n",
    "3. 转义符 '\\\\'\n",
    "4. 反斜杠可以用来转义，使用r可以让反斜杠不发生转义。。 如 r\"this is a line with \\\\n\" 则\\\\n会显示，并不是换行。\n",
    "5. 按字面意义级联字符串，如\"this \" \"is \" \"string\"会被自动转换为this is string。\n",
    "6. 字符串可以用 + 运算符连接在一起，用 * 运算符重复。\n",
    "7. Python 中的字符串有两种索引方式，从左往右以 0 开始，从右往左以 -1 开始。\n",
    "8. Python中的字符串不能改变。\n",
    "9. Python 没有单独的字符类型(char)，一个字符就是长度为 1 的字符串。\n",
    "10. 字符串的截取的语法格式如下：变量[头下标:尾下标]"
   ]
  },
  {
   "cell_type": "code",
   "execution_count": 20,
   "metadata": {},
   "outputs": [
    {
     "name": "stdout",
     "output_type": "stream",
     "text": [
      "字符串\n",
      "这是一个句子。\n",
      "\n",
      "这是一个段落，\n",
      "可以由多行组成\n"
     ]
    }
   ],
   "source": [
    "word = '字符串'\n",
    "sentence = \"这是一个句子。\"\n",
    "paragraph = \"\"\"\n",
    "这是一个段落，\n",
    "可以由多行组成\"\"\"\n",
    "\n",
    "# print(word, '\\n', sentence, '\\n', paragraph)\n",
    "print('{0}\\n{1}\\n{2}'.format(word, sentence, paragraph))"
   ]
  },
  {
   "cell_type": "code",
   "execution_count": 22,
   "metadata": {},
   "outputs": [
    {
     "name": "stdout",
     "output_type": "stream",
     "text": [
      "Runoob\n",
      "Runoo\n",
      "b\n",
      "noo\n",
      "noob\n",
      "RunoobRunoobRunoobRunoobRunoobRunoobRunoobRunoobRunoobRunoob\n",
      "Runoob你好\n",
      "a: hello\n",
      "------------------------------\n",
      "hello\n",
      "runoob\n",
      "hello\\nrunoob\n"
     ]
    }
   ],
   "source": [
    "# 取索引，a : b，取出的为从a到b-1，头部闭区间，尾部开区间\n",
    "str='Runoob'\n",
    " \n",
    "print(str)                 # 输出字符串\n",
    "print(str[0:-1])           # 输出第一个到倒数第二个的所有字符\n",
    "print(str[0])              # 输出字符串第一个字符\n",
    "print(str[2:5])            # 输出从第三个开始到第五个的字符\n",
    "print(str[2:])             # 输出从第三个开始的后的所有字符\n",
    "print(str * 10)             # 输出字符串十次\n",
    "print(str + '你好')        # 连接字符串\n",
    "\n",
    "str = \"a: {0}\".format('hello')\n",
    "print(str)\n",
    "print('------------------------------')\n",
    " \n",
    "print('hello\\nrunoob')      # 使用反斜杠(\\)+n转义特殊字符\n",
    "print(r'hello\\nrunoob')     # 在字符串前面添加一个 r，表示原始字符串，不会发生转义"
   ]
  },
  {
   "cell_type": "markdown",
   "metadata": {},
   "source": [
    "# 空行\n",
    "1. 函数之间或类的方法之间用空行分隔，表示一段新的代码的开始。类和函数入口之间也用一行空行分隔，以突出函数入口的开始。\n",
    "\n",
    "2. 空行与代码缩进不同，空行并不是Python语法的一部分。书写时不插入空行，Python解释器运行也不会出错。但是空行的作用在于分隔两段不同功能或含义的代码，<b>便于日后代码的维护或重构。</b>\n",
    "\n",
    "3. 记住：空行也是程序代码的一部分。\n",
    "4. 一般方法与方法之间，建议空两行"
   ]
  },
  {
   "cell_type": "markdown",
   "metadata": {},
   "source": [
    "# 等待用户输入\n",
    "执行下面的程序在按回车键后就会等待用户输入"
   ]
  },
  {
   "cell_type": "code",
   "execution_count": 23,
   "metadata": {},
   "outputs": [
    {
     "name": "stdout",
     "output_type": "stream",
     "text": [
      "\n",
      "\n",
      "按下enter键后退出23123\n",
      "23123\n"
     ]
    }
   ],
   "source": [
    "a = input(\"\\n\\n按下enter键后退出\")\n",
    "print(a)"
   ]
  },
  {
   "cell_type": "markdown",
   "metadata": {},
   "source": [
    "# 同一行显示多条语句\n",
    "Python可以在同一行中使用多条语句，语句之间使用分号(;)分割，以下是一个简单的实例\n",
    "## <font color = 'red'>不建议这样做，可读性差，单行长度过长，不容易维护</font>"
   ]
  },
  {
   "cell_type": "code",
   "execution_count": 25,
   "metadata": {},
   "outputs": [
    {
     "name": "stdout",
     "output_type": "stream",
     "text": [
      "runoob\n"
     ]
    }
   ],
   "source": [
    "import sys; x = 'runoob'; sys.stdout.write(x + '\\n')"
   ]
  },
  {
   "cell_type": "markdown",
   "metadata": {},
   "source": [
    "# 多个语句构成代码组\n",
    "1. 缩进相同的一组语句构成一个代码块，我们称之代码组。\n",
    "2. 像if、while、def和class这样的复合语句，首行以关键字开始，以冒号( : )结束，该行之后的一行或多行代码构成代码组。\n",
    "3. 我们将首行及后面的代码组称为一个子句(clause)。"
   ]
  },
  {
   "cell_type": "code",
   "execution_count": 24,
   "metadata": {},
   "outputs": [
    {
     "name": "stdout",
     "output_type": "stream",
     "text": [
      "False\n",
      "True\n",
      "20 > 0\n"
     ]
    }
   ],
   "source": [
    "condition1 = 0 > 20\n",
    "condition2 = 20 > 0\n",
    "print(condition1)\n",
    "print(condition2)\n",
    "if condition1 : \n",
    "    print('0 > 20')\n",
    "elif condition2 : \n",
    "    print('20 > 0')\n",
    "else : \n",
    "    print('no result')"
   ]
  },
  {
   "cell_type": "markdown",
   "metadata": {},
   "source": [
    "# print输出\n",
    "print 默认输出是换行的，<font color='red'>如果要实现不换行需要在变量末尾加上 end=\"\"</font>"
   ]
  },
  {
   "cell_type": "code",
   "execution_count": 25,
   "metadata": {},
   "outputs": [
    {
     "name": "stdout",
     "output_type": "stream",
     "text": [
      "a\n",
      "b\n",
      "---------\n",
      "a b a b\n",
      "a b\n"
     ]
    }
   ],
   "source": [
    "x=\"a\"\n",
    "y=\"b\"\n",
    "# 换行输出\n",
    "print( x )\n",
    "print( y )\n",
    " \n",
    "print('---------')\n",
    "# 不换行输出\n",
    "print( x, end=\" \" )\n",
    "print( y, end=\" \" )\n",
    "print(x, y)\n",
    "print('{0} {1}'.format(x, y))"
   ]
  },
  {
   "cell_type": "markdown",
   "metadata": {},
   "source": [
    "# import 与 from...import\n",
    "1. 在 python 用 import 或者 from...import 来导入相应的模块。\n",
    "2. 将整个模块(somemodule)导入，格式为： import somemodule\n",
    "3. 从某个模块中导入某个函数,格式为： from somemodule import somefunction\n",
    "4. 从某个模块中导入多个函数,格式为： from somemodule import firstfunc, secondfunc, thirdfunc\n",
    "5. 将某个模块中的全部函数导入，格式为： from somemodule import *\n",
    "6. 对于常用的组件，如Numpy, Pandas, 一般都是用\n",
    "```\n",
    "import numpy as np\n",
    "import pandas as pd\n",
    "```\n",
    "7. 对于机器学习的一些库，因为类特别多，所以使用from...import比较多，如：\n",
    "```\n",
    "from sklearn.ensemble import RandomForestClassifier, GradientBoostingClassifier \n",
    "```"
   ]
  },
  {
   "cell_type": "markdown",
   "metadata": {},
   "source": [
    "# 命令行参数\n",
    "很多程序可以执行一些操作来查看一些基本信息，Python可以使用-h参数查看各参数帮助信息\n",
    "```\n",
    "$ python -h\n",
    "usage: python [option] ... [-c cmd | -m mod | file | -] [arg] ...\n",
    "Options and arguments (and corresponding environment variables):\n",
    "-c cmd : program passed in as string (terminates option list)\n",
    "-d     : debug output from parser (also PYTHONDEBUG=x)\n",
    "-E     : ignore environment variables (such as PYTHONPATH)\n",
    "-h     : print this help message and exit\n",
    "\n",
    "[ etc. ]\n",
    "```"
   ]
  },
  {
   "cell_type": "markdown",
   "metadata": {},
   "source": [
    "但是在代码中，如果想看某个函数的说明，可以使用help(函数名)的方式，如"
   ]
  },
  {
   "cell_type": "code",
   "execution_count": 26,
   "metadata": {},
   "outputs": [
    {
     "name": "stdout",
     "output_type": "stream",
     "text": [
      "Help on class list in module builtins:\n",
      "\n",
      "class list(object)\n",
      " |  list() -> new empty list\n",
      " |  list(iterable) -> new list initialized from iterable's items\n",
      " |  \n",
      " |  Methods defined here:\n",
      " |  \n",
      " |  __add__(self, value, /)\n",
      " |      Return self+value.\n",
      " |  \n",
      " |  __contains__(self, key, /)\n",
      " |      Return key in self.\n",
      " |  \n",
      " |  __delitem__(self, key, /)\n",
      " |      Delete self[key].\n",
      " |  \n",
      " |  __eq__(self, value, /)\n",
      " |      Return self==value.\n",
      " |  \n",
      " |  __ge__(self, value, /)\n",
      " |      Return self>=value.\n",
      " |  \n",
      " |  __getattribute__(self, name, /)\n",
      " |      Return getattr(self, name).\n",
      " |  \n",
      " |  __getitem__(...)\n",
      " |      x.__getitem__(y) <==> x[y]\n",
      " |  \n",
      " |  __gt__(self, value, /)\n",
      " |      Return self>value.\n",
      " |  \n",
      " |  __iadd__(self, value, /)\n",
      " |      Implement self+=value.\n",
      " |  \n",
      " |  __imul__(self, value, /)\n",
      " |      Implement self*=value.\n",
      " |  \n",
      " |  __init__(self, /, *args, **kwargs)\n",
      " |      Initialize self.  See help(type(self)) for accurate signature.\n",
      " |  \n",
      " |  __iter__(self, /)\n",
      " |      Implement iter(self).\n",
      " |  \n",
      " |  __le__(self, value, /)\n",
      " |      Return self<=value.\n",
      " |  \n",
      " |  __len__(self, /)\n",
      " |      Return len(self).\n",
      " |  \n",
      " |  __lt__(self, value, /)\n",
      " |      Return self<value.\n",
      " |  \n",
      " |  __mul__(self, value, /)\n",
      " |      Return self*value.n\n",
      " |  \n",
      " |  __ne__(self, value, /)\n",
      " |      Return self!=value.\n",
      " |  \n",
      " |  __new__(*args, **kwargs) from builtins.type\n",
      " |      Create and return a new object.  See help(type) for accurate signature.\n",
      " |  \n",
      " |  __repr__(self, /)\n",
      " |      Return repr(self).\n",
      " |  \n",
      " |  __reversed__(...)\n",
      " |      L.__reversed__() -- return a reverse iterator over the list\n",
      " |  \n",
      " |  __rmul__(self, value, /)\n",
      " |      Return self*value.\n",
      " |  \n",
      " |  __setitem__(self, key, value, /)\n",
      " |      Set self[key] to value.\n",
      " |  \n",
      " |  __sizeof__(...)\n",
      " |      L.__sizeof__() -- size of L in memory, in bytes\n",
      " |  \n",
      " |  append(...)\n",
      " |      L.append(object) -> None -- append object to end\n",
      " |  \n",
      " |  clear(...)\n",
      " |      L.clear() -> None -- remove all items from L\n",
      " |  \n",
      " |  copy(...)\n",
      " |      L.copy() -> list -- a shallow copy of L\n",
      " |  \n",
      " |  count(...)\n",
      " |      L.count(value) -> integer -- return number of occurrences of value\n",
      " |  \n",
      " |  extend(...)\n",
      " |      L.extend(iterable) -> None -- extend list by appending elements from the iterable\n",
      " |  \n",
      " |  index(...)\n",
      " |      L.index(value, [start, [stop]]) -> integer -- return first index of value.\n",
      " |      Raises ValueError if the value is not present.\n",
      " |  \n",
      " |  insert(...)\n",
      " |      L.insert(index, object) -- insert object before index\n",
      " |  \n",
      " |  pop(...)\n",
      " |      L.pop([index]) -> item -- remove and return item at index (default last).\n",
      " |      Raises IndexError if list is empty or index is out of range.\n",
      " |  \n",
      " |  remove(...)\n",
      " |      L.remove(value) -> None -- remove first occurrence of value.\n",
      " |      Raises ValueError if the value is not present.\n",
      " |  \n",
      " |  reverse(...)\n",
      " |      L.reverse() -- reverse *IN PLACE*\n",
      " |  \n",
      " |  sort(...)\n",
      " |      L.sort(key=None, reverse=False) -> None -- stable sort *IN PLACE*\n",
      " |  \n",
      " |  ----------------------------------------------------------------------\n",
      " |  Data and other attributes defined here:\n",
      " |  \n",
      " |  __hash__ = None\n",
      "\n"
     ]
    }
   ],
   "source": [
    "help(list)"
   ]
  },
  {
   "cell_type": "code",
   "execution_count": 35,
   "metadata": {
    "scrolled": false
   },
   "outputs": [
    {
     "name": "stdout",
     "output_type": "stream",
     "text": [
      "Help on built-in function print in module builtins:\n",
      "\n",
      "print(...)\n",
      "    print(value, ..., sep=' ', end='\\n', file=sys.stdout, flush=False)\n",
      "    \n",
      "    Prints the values to a stream, or to sys.stdout by default.\n",
      "    Optional keyword arguments:\n",
      "    file:  a file-like object (stream); defaults to the current sys.stdout.\n",
      "    sep:   string inserted between values, default a space.\n",
      "    end:   string appended after the last value, default a newline.\n",
      "    flush: whether to forcibly flush the stream.\n",
      "\n"
     ]
    }
   ],
   "source": [
    "help(print)"
   ]
  },
  {
   "cell_type": "code",
   "execution_count": 38,
   "metadata": {},
   "outputs": [
    {
     "name": "stdout",
     "output_type": "stream",
     "text": [
      "[['aaa', 'bbb', 'werer']]\n",
      "[['aaa', 'bbb', 'werer'], ['bb', 'cc', 'www']]\n"
     ]
    }
   ],
   "source": [
    "a = []\n",
    "a.append(['aaa', 'bbb', 'werer'])\n",
    "print(a)\n",
    "a.append(['bb', 'cc', 'www'])\n",
    "print(a)"
   ]
  },
  {
   "cell_type": "code",
   "execution_count": null,
   "metadata": {},
   "outputs": [],
   "source": []
  }
 ],
 "metadata": {
  "kernelspec": {
   "display_name": "tensorflow2",
   "language": "python",
   "name": "tensorflow2"
  },
  "latex_envs": {
   "LaTeX_envs_menu_present": true,
   "autoclose": false,
   "autocomplete": true,
   "bibliofile": "biblio.bib",
   "cite_by": "apalike",
   "current_citInitial": 1,
   "eqLabelWithNumbers": true,
   "eqNumInitial": 1,
   "hotkeys": {
    "equation": "Ctrl-E",
    "itemize": "Ctrl-I"
   },
   "labels_anchors": false,
   "latex_user_defs": false,
   "report_style_numbering": false,
   "user_envs_cfg": false
  },
  "toc": {
   "base_numbering": 1,
   "nav_menu": {},
   "number_sections": true,
   "sideBar": true,
   "skip_h1_title": false,
   "title_cell": "Table of Contents",
   "title_sidebar": "Contents",
   "toc_cell": false,
   "toc_position": {
    "height": "calc(100% - 180px)",
    "left": "10px",
    "top": "150px",
    "width": "386.766px"
   },
   "toc_section_display": true,
   "toc_window_display": false
  }
 },
 "nbformat": 4,
 "nbformat_minor": 2
}
