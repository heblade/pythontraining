{
 "cells": [
  {
   "cell_type": "markdown",
   "metadata": {},
   "source": [
    "## 以Keras为例的神经网络模型"
   ]
  },
  {
   "cell_type": "markdown",
   "metadata": {},
   "source": [
    "### 神经网络的基础：感知机"
   ]
  },
  {
   "cell_type": "markdown",
   "metadata": {},
   "source": [
    "感知机在机器学习中有举足轻重的地位，它是SVM和神经网络的基础。\n",
    "\n",
    "总的来说，感知机是机器学习、数据挖掘、神经网络、深度学习等当前计算机行业热门研究方向的基础。"
   ]
  },
  {
   "cell_type": "markdown",
   "metadata": {},
   "source": [
    "感知器的最初概念可以追溯到Warren McCulloch和Walter Pitts在1943年的研究Warren McCulloch和Walter Pitts在1943年的研究，他们将生物神经元类比成带有二值输出的简单逻辑门。\n",
    "\n",
    "以更直观的方式来看，神经元可被理解为生物大脑中神经网络的子节点。\n",
    "\n",
    "在这里，变量信号抵达树突。输入信号在神经细胞体内聚集，当聚集的信号强度超过一定的阈值，就会产生一个输出信号，并被树突传递下去。 "
   ]
  },
  {
   "cell_type": "markdown",
   "metadata": {},
   "source": [
    "<img src='./image/gzj6.png' />"
   ]
  },
  {
   "cell_type": "markdown",
   "metadata": {},
   "source": [
    "后来，Frank Rosenblatt 1957年发表了一篇论文《The perceptron, a perceiving and recognizing automaton Project Para》。这篇文章最大的贡献就是基于神经元定义了感知机算法的概念。并说明了，感知机算法的目的，就是针对多维特征的样本集合，学习一个权值向量W，使得W乘以输入特征向量X之后，基于乘积，可以判断一个神经元是否被激活。 "
   ]
  },
  {
   "cell_type": "markdown",
   "metadata": {},
   "source": [
    "根据感知器的分类示例："
   ]
  },
  {
   "cell_type": "markdown",
   "metadata": {},
   "source": [
    "<img src='./image/gzj.jpg' />"
   ]
  },
  {
   "cell_type": "markdown",
   "metadata": {},
   "source": [
    "<img src='./image/gzj2.png' />"
   ]
  },
  {
   "cell_type": "markdown",
   "metadata": {},
   "source": [
    "从机器学习的角度来讲，感知器属于监督学习（supervised learning），它是一个单层的二分类器。"
   ]
  },
  {
   "cell_type": "markdown",
   "metadata": {},
   "source": [
    "感知器是如何工作的呢？如图："
   ]
  },
  {
   "cell_type": "markdown",
   "metadata": {},
   "source": [
    "<img src='./image/gzj3.png' />"
   ]
  },
  {
   "cell_type": "markdown",
   "metadata": {},
   "source": [
    "本例中的感知机有三个输入: x1,x2,x3 。通常，它可以有更多或者更少的输入。Rosenblatt提出了一种计算输出的简单的规则。他引入了权重（weight）， w1,w2,… ，等实数来表示各个输入对于输出的重要程度。神经元的输出是0还是1，由加权和 ∑<sub>j</sub>w<sub>j</sub>x<sub>j</sub> 是否小于或者大于某一个阈值（threshold value）。和权重一样，阈值也是一个实数，同时它是神经元的一个参数。使用更严密的代数形式来表示"
   ]
  },
  {
   "cell_type": "markdown",
   "metadata": {},
   "source": [
    "<img src='./image/gzj5.png' />"
   ]
  },
  {
   "cell_type": "markdown",
   "metadata": {},
   "source": [
    "这就是感知机的工作方式。"
   ]
  },
  {
   "cell_type": "markdown",
   "metadata": {},
   "source": [
    "#### 广义线性模型下的感知机"
   ]
  },
  {
   "cell_type": "markdown",
   "metadata": {},
   "source": [
    "感知机模型是一个二分类模型，和线性回归模型一样，感知机模型一般会使用一些特征函数φ(x)，将输入空间映射到新的特征空间中，再进行计算。\n",
    "\n",
    "感知机模型对应于特征空间中将实例划分为正负两类的分离超平面，故而是判别式模型。感知机模型的数学表达式如下:"
   ]
  },
  {
   "cell_type": "markdown",
   "metadata": {},
   "source": [
    "<img src='./image/gzj8.png' />"
   ]
  },
  {
   "cell_type": "markdown",
   "metadata": {},
   "source": [
    "其工作模型如下："
   ]
  },
  {
   "cell_type": "markdown",
   "metadata": {},
   "source": [
    "<img src='./image/gzj9.png' />"
   ]
  },
  {
   "cell_type": "markdown",
   "metadata": {},
   "source": [
    "至此，神经网络的输入层，隐藏层，连接层以及输出层就有雏形了。"
   ]
  },
  {
   "cell_type": "markdown",
   "metadata": {},
   "source": [
    "这里f(.)叫做激活函数(Activation function)，也可以理解为f(x) = sign(w*x+b)。\n",
    "\n",
    "在神经网络中，激活函数，是非线性函数，例如："
   ]
  },
  {
   "cell_type": "markdown",
   "metadata": {},
   "source": [
    "<img src='./image/gzj10.png' />"
   ]
  },
  {
   "cell_type": "markdown",
   "metadata": {},
   "source": [
    "可以理解为+1为正例，-1为负例，即激活函数达到输出结果的目的，即二分类。也有正例是1，负例是0的做法"
   ]
  },
  {
   "cell_type": "markdown",
   "metadata": {},
   "source": [
    "这个激活函数，也被称为单位阶跃函数:"
   ]
  },
  {
   "cell_type": "markdown",
   "metadata": {},
   "source": [
    "<img src='./image/gzj11.png' />"
   ]
  },
  {
   "cell_type": "markdown",
   "metadata": {},
   "source": [
    "#### 感知机的缺点"
   ]
  },
  {
   "cell_type": "markdown",
   "metadata": {},
   "source": [
    "感知机是线性的模型，其不能表达复杂的函数，不能出来线性不可分的问题，其连异或问题(XOR）都无法解决，因为异或问题是线性不可分的，怎样解决这个问题呢，通常有两种做法。 \n",
    "\n",
    "其一：用更多的感知机去进行学习，这也就是人工神经网络的由来。 \n",
    "\n",
    "其二：用非线性模型，核技巧，如SVM进行处理。"
   ]
  },
  {
   "cell_type": "markdown",
   "metadata": {},
   "source": [
    "附注：通过与门，与非门，或门，实现异或门的图示："
   ]
  },
  {
   "cell_type": "markdown",
   "metadata": {},
   "source": [
    "<img src='./image/gzj12.png' />"
   ]
  },
  {
   "cell_type": "markdown",
   "metadata": {},
   "source": [
    "<img src='./image/gzjxor.jpg' />"
   ]
  },
  {
   "cell_type": "markdown",
   "metadata": {},
   "source": [
    "或者更直观通过下图表示，通过多个感知机解决线性不可分问题"
   ]
  },
  {
   "cell_type": "markdown",
   "metadata": {},
   "source": [
    "<img src='./image/gzj13.png' />"
   ]
  },
  {
   "cell_type": "markdown",
   "metadata": {},
   "source": [
    "### 神经网络"
   ]
  },
  {
   "cell_type": "markdown",
   "metadata": {},
   "source": [
    "典型的神经网络图示："
   ]
  },
  {
   "cell_type": "markdown",
   "metadata": {},
   "source": [
    "<img src='./image/netro1.png' />"
   ]
  },
  {
   "cell_type": "markdown",
   "metadata": {},
   "source": [
    "可以发现一个神经网络有很多小的感知机组成"
   ]
  },
  {
   "cell_type": "markdown",
   "metadata": {},
   "source": [
    "<img src='./image/netro2.png' />"
   ]
  },
  {
   "cell_type": "markdown",
   "metadata": {},
   "source": [
    "z为一个简单的线性分类器，g(z)为对其加上激活函数(Active function)"
   ]
  },
  {
   "cell_type": "markdown",
   "metadata": {},
   "source": [
    "#### 神经网络激活函数"
   ]
  },
  {
   "cell_type": "markdown",
   "metadata": {},
   "source": [
    "激活函数是为了解决神经网络线性不可分的问题，神经网络用于实现复杂的函数，非线性激活函数可以使神经网络随意逼近复杂函数。\n",
    "\n",
    "没有激活函数带来的非线性，多层神经网络和单层无异。\n",
    "\n",
    "其特性如下："
   ]
  },
  {
   "cell_type": "markdown",
   "metadata": {},
   "source": [
    "- <b>非线性</b>： 当激活函数是线性的时候，一个两层的神经网络就可以逼近基本上所有的函数了。但是，如果激活函数是恒等激活函数的时候（即f(x)=xf(x)=x），就不满足这个性质了，而且如果MLP使用的是恒等激活函数，那么其实整个网络跟单层神经网络是等价的。\n",
    "\n",
    "- <b>可微性</b>： 当优化方法是基于梯度的时候，这个性质是必须的。\n",
    "- <b>单调性</b>： 当激活函数是单调的时候，单层网络能够保证是凸函数。\n",
    "- <b>f(x)≈x</b>： 当激活函数满足这个性质的时候，如果参数的初始化是random的很小的值，那么神经网络的训练将会很高效；如果不满足这个性质，那么就需要很用心的去设置初始值。\n",
    "- <b>输出值的范围</b>： 当激活函数输出值是 有限 的时候，基于梯度的优化方法会更加 稳定，因为特征的表示受有限权值的影响更显著；当激活函数的输出是 无限 的时候，模型的训练会更加高效，不过在这种情况小，一般需要更小的learning rate."
   ]
  },
  {
   "cell_type": "markdown",
   "metadata": {},
   "source": [
    "激活函数也叫传递函数，有许多种类如下图所示："
   ]
  },
  {
   "cell_type": "markdown",
   "metadata": {},
   "source": [
    "<img src='./image/netro3.png' />"
   ]
  },
  {
   "cell_type": "markdown",
   "metadata": {},
   "source": [
    "上图从左至右，从上到下分别为sigmoid,tanh,relu,leaky，其中在人工神经网络中常用的是sigmoid函数，卷积神经网络中常用的是relu."
   ]
  },
  {
   "cell_type": "markdown",
   "metadata": {},
   "source": [
    "Sigmoid: <img src='./image/sigmoid.svg' />\n",
    "<br>Sigmoid的导数：Sigmoid * (1 - Sigmoid)"
   ]
  },
  {
   "cell_type": "markdown",
   "metadata": {},
   "source": [
    "Tanh(双曲正切)：<img src='./image/tanh.jpg' />"
   ]
  },
  {
   "cell_type": "markdown",
   "metadata": {},
   "source": [
    "Relu(线性整流函数):又称修正线性单元, 是一种人工神经网络中常用的激活函数（activation function），通常指代以斜坡函数及其变种为代表的非线性函数。"
   ]
  },
  {
   "cell_type": "markdown",
   "metadata": {},
   "source": [
    "其数学公式为：f(x)=max(0,x)"
   ]
  },
  {
   "cell_type": "markdown",
   "metadata": {},
   "source": [
    "Leaky Relu: 其数学公式为：\n",
    "\n",
    "f(x)=max(0.1x, x) \n",
    "\n",
    "Leaky ReLU 的概念是：当 x < 0 时，它得到 0.1 的正梯度。\n",
    "\n",
    "该函数一定程度上缓解了 dead ReLU 问题，但是使用该函数的结果并不连贯。\n",
    "\n",
    "尽管它具备 ReLU 激活函数的所有特征，如计算高效、快速收敛、在正区域内不会饱和。\n",
    "<br><font color='red'>Tanh，Relu与Leaky Relu多用于隐藏层的激活函数，Sigmoid函数现在更多用于二分类神经网络模型输出层，作为分类器，已经很少在隐藏层使用Sigmoid作为激活函数了</font>"
   ]
  },
  {
   "cell_type": "markdown",
   "metadata": {},
   "source": [
    "对于多分类器，其激活函数一般使用Softmax，Softmax往往是作为神经网络输出层的分类器用，目前所有的神经网络模型，没有在隐藏层使用Softmax的:\n",
    "<br><img src='./image/softmax.jpg' />"
   ]
  },
  {
   "cell_type": "markdown",
   "metadata": {},
   "source": [
    "Softmax的公式为：\n",
    "<br><img src='./image/softmax_formular.png'>\n",
    "<br>Softmax的导数：softmax的值 - 1"
   ]
  },
  {
   "cell_type": "markdown",
   "metadata": {},
   "source": [
    "为什么需要激活函数？"
   ]
  },
  {
   "cell_type": "markdown",
   "metadata": {},
   "source": [
    "简单来说有两个原因：\n",
    "\n",
    "> - 是否允许当前的信号传递过去，或者以多大的信号传递过去\n",
    "- 使其变成非线性"
   ]
  },
  {
   "cell_type": "markdown",
   "metadata": {},
   "source": [
    "我们不能将所有的信号都传递到下一层，因此要有选择的进行传递，即激励函数可以做到这一点。\n",
    "\n",
    "同时如果不加激励函数，直接让信号过去，那么相当于线性分类器，并没有改变分类器的本质。"
   ]
  },
  {
   "cell_type": "markdown",
   "metadata": {},
   "source": [
    "#### 神经网络优化函数"
   ]
  },
  {
   "cell_type": "markdown",
   "metadata": {},
   "source": [
    "优化算法的功能，是通过改善训练方式，来<b>最小化(或最大化)损失函数E(x)</b>。"
   ]
  },
  {
   "cell_type": "markdown",
   "metadata": {},
   "source": [
    "模型内部有些参数，是用来计算测试集中目标值Y的真实值和预测值的偏差程度的，基于这些参数，就形成了损失函数E(x)。\n",
    "\n",
    "比如说，权重(W)和偏差(b)就是这样的内部参数，一般用于计算输出值，在训练神经网络模型时起到主要作用。\n",
    "\n",
    "在有效地训练模型并产生准确结果时，模型的内部参数起到了非常重要的作用。\n",
    "\n",
    "这也是为什么我们应该用各种优化策略和算法，来更新和计算影响模型训练和模型输出的网络参数，使其逼近或达到最优值。"
   ]
  },
  {
   "cell_type": "markdown",
   "metadata": {},
   "source": [
    "优化算法分为两大类："
   ]
  },
  {
   "cell_type": "markdown",
   "metadata": {},
   "source": [
    "1. 一阶优化算法\n",
    "\n",
    "这种算法使用各参数的梯度值来最小化或最大化损失函数E(x)。最常用的一阶优化算法是梯度下降。\n",
    "\n",
    "函数梯度：导数dy/dx的多变量表达式，用来表示y相对于x的瞬时变化率。往往为了计算多变量函数的导数时，会用梯度取代导数，并使用偏导数来计算梯度。梯度和导数之间的一个主要区别是函数的梯度形成了一个向量场。\n",
    "\n",
    "因此，对单变量函数，使用导数来分析；而梯度是基于多变量函数而产生的。更多理论细节在这里不再进行详细解释。"
   ]
  },
  {
   "cell_type": "markdown",
   "metadata": {},
   "source": [
    "对应一阶偏导数的矩阵，成为Jacobian矩阵（雅克比矩阵）:"
   ]
  },
  {
   "cell_type": "markdown",
   "metadata": {},
   "source": [
    "<img src='./image/Jacobian.jpg' />"
   ]
  },
  {
   "cell_type": "markdown",
   "metadata": {},
   "source": [
    "2. 二阶优化算法\n",
    "\n",
    "二阶优化算法使用了二阶导数(也叫做Hessian方法)来最小化或最大化损失函数。\n",
    "\n",
    "由于二阶导数的计算成本很高，所以这种方法并没有广泛使用。"
   ]
  },
  {
   "cell_type": "markdown",
   "metadata": {},
   "source": [
    "对应二阶偏导数的矩阵，称为Hessian矩阵："
   ]
  },
  {
   "cell_type": "markdown",
   "metadata": {},
   "source": [
    "<img src='./image/hessian.jpg' />"
   ]
  },
  {
   "cell_type": "markdown",
   "metadata": {},
   "source": [
    "优化算法用于优化学习速率，让网络用最快的训练次数达到最优，还能防止过拟合。 "
   ]
  },
  {
   "cell_type": "markdown",
   "metadata": {},
   "source": [
    "##### 常用神经网络优化算法"
   ]
  },
  {
   "cell_type": "markdown",
   "metadata": {},
   "source": [
    "###### 梯度下降"
   ]
  },
  {
   "cell_type": "markdown",
   "metadata": {},
   "source": [
    "在训练和优化智能系统时，梯度下降是一种最重要的技术和基础。梯度下降的功能是：\n",
    "\n",
    ">通过寻找最小值，控制方差，更新模型参数，最终使模型收敛\n",
    "\n",
    "网络更新参数的公式为：θ=θ−η×∇(θ).J(θ)，其中η是学习率，∇(θ).J(θ)是损失函数J(θ)对参数θ的梯度。\n",
    "\n",
    ">∇的念法:Nabla, 微分算子，又称为哈密顿算子。<img src='./image/nubla.svg' />\n",
    "i,j,k是沿x,y,z轴正方向的单位向量\n",
    "\n",
    "这是在神经网络中最常用的优化算法。\n",
    "\n",
    "如今，梯度下降主要用于在神经网络模型中进行权重更新，即在一个方向上更新和调整模型的参数，来最小化损失函数。\n",
    "\n",
    "2006年引入的反向传播技术，使得训练深层神经网络成为可能。\n",
    "\n",
    "反向传播技术是先在前向传播中计算输入信号的乘积及其对应的权重，然后将激活函数作用于这些乘积的总和。\n",
    "\n",
    "这种将输入信号转换为输出信号的方式，是一种对复杂非线性函数进行建模的重要手段，并引入了非线性激活函数，使得模型能够学习到几乎任意形式的函数映射。\n",
    "\n",
    "然后，在网络的反向传播过程中回传相关误差，使用<b>梯度下降</b>更新权重值，通过计算误差函数E相对于权重参数W的梯度，在损失函数梯度的相反方向上更新权重参数。\n",
    "\n",
    "<img src='./image/wg.png' />\n",
    "\n",
    "如图：权重更新方向与梯度方向相反\n",
    "\n",
    "这显示了权重更新过程与梯度矢量误差的方向相反，其中U形曲线为梯度。\n",
    "\n",
    "要注意到，当权重值W太小或太大时，会存在较大的误差，需要更新和优化权重，使其转化为合适值，所以我们试图在与梯度相反的方向找到一个局部最优值。\n",
    "\n",
    "反向传播相关内容，将在后续内容详细阐述"
   ]
  },
  {
   "cell_type": "markdown",
   "metadata": {},
   "source": [
    "##### 梯度下降的变体"
   ]
  },
  {
   "cell_type": "markdown",
   "metadata": {},
   "source": [
    "传统的批量梯度下降将计算整个数据集梯度，但只会进行一次更新，因此在处理大型数据集时速度很慢且难以控制，甚至导致内存溢出。\n",
    "\n",
    "权重更新的快慢是由学习率η决定的，并且可以在凸面误差曲面中收敛到全局最优值，在非凸曲面中可能趋于局部最优值。\n",
    "\n",
    "使用标准形式的批量梯度下降还有一个问题，就是在训练大型数据集时存在冗余的权重更新。\n",
    "\n",
    "标准梯度下降的上述问题在随机梯度下降方法中得到了解决。"
   ]
  },
  {
   "cell_type": "markdown",
   "metadata": {},
   "source": [
    "###### 1. 随机梯度下降(SGD)\n",
    "\n",
    "随机梯度下降（Stochastic gradient descent，SGD）对每个训练样本进行参数更新，每次执行都进行一次更新，且执行速度更快。\n",
    "\n",
    "θ=θ−η⋅∇(θ) × J(θ;x(i);y(i))，其中x(i)和y(i)为训练样本。\n",
    "\n",
    "频繁的更新使得参数间具有高方差，损失函数会以不同的强度波动。\n",
    "\n",
    "这实际上是一件好事，因为它有助于我们发现新的和可能更优的局部最小值，而标准梯度下降将只会收敛到某个局部最优值。\n",
    "\n",
    "但SGD的问题是，由于频繁的更新和波动，最终将收敛到最小限度，并会因波动频繁存在超调量。\n",
    "\n",
    "虽然已经表明，当缓慢降低学习率η时，标准梯度下降的收敛模式与SGD的模式相同。"
   ]
  },
  {
   "cell_type": "markdown",
   "metadata": {},
   "source": [
    "###### 2. 小批量梯度下降(Mini Batch Gradient Descent)"
   ]
  },
  {
   "cell_type": "markdown",
   "metadata": {},
   "source": [
    "为了避免SGD和标准梯度下降中存在的问题，一个改进方法为小批量梯度下降（Mini Batch Gradient Descent），因为对每个批次中的n个训练样本，这种方法只执行一次更新。\n",
    "\n",
    "使用小批量梯度下降的优点是：\n",
    "\n",
    "1) 可以减少参数更新的波动，最终得到效果更好和更稳定的收敛。\n",
    "\n",
    "2) 还可以使用最新的深层学习库中通用的矩阵优化方法，使计算小批量数据的梯度更加高效。\n",
    "\n",
    "3) 通常来说，小批量样本的大小范围是从50到256，可以根据实际问题而有所不同。\n",
    "\n",
    "4) 在训练神经网络时，通常都会选择小批量梯度下降算法。\n",
    "\n",
    "这种方法有时候还是被称为SGD。"
   ]
  },
  {
   "cell_type": "markdown",
   "metadata": {},
   "source": [
    "###### 使用梯度下降及其变体时面临的挑战\n",
    "\n",
    "1. 很难选择出合适的学习率。太小的学习率会导致网络收敛过于缓慢，而学习率太大可能会影响收敛，并导致损失函数在最小值上波动，甚至出现梯度发散。\n",
    "\n",
    "\n",
    "2. 此外，相同的学习率并不适用于所有的参数更新。如果训练集数据很稀疏，且特征频率非常不同，则不应该将其全部更新到相同的程度，但是对于很少出现的特征，应使用更大的更新率。\n",
    "\n",
    "\n",
    "3. 在神经网络中，最小化非凸误差函数的另一个关键挑战是避免陷于多个其他局部最小值中。实际上，问题并非源于局部极小值，而是来自鞍点，即一个维度向上倾斜且另一维度向下倾斜的点。这些鞍点通常被相同误差值的平面所包围，这使得SGD算法很难脱离出来，因为梯度在所有维度上接近于零。"
   ]
  },
  {
   "cell_type": "markdown",
   "metadata": {},
   "source": [
    "##### 进一步优化梯度下降"
   ]
  },
  {
   "cell_type": "markdown",
   "metadata": {},
   "source": [
    "###### 1. 动量（Momentum）"
   ]
  },
  {
   "cell_type": "markdown",
   "metadata": {},
   "source": [
    "上述SGD和MBGD算法都存在样本选择的随机性，因此含有较多的噪声。\n",
    "\n",
    "而momentum能解决上述噪声问题，尤其在面对小而较多噪声的梯度时，它往往能加速学习速率。"
   ]
  },
  {
   "cell_type": "markdown",
   "metadata": {},
   "source": [
    "<img src='./image/sgdm.jpg' />"
   ]
  },
  {
   "cell_type": "markdown",
   "metadata": {},
   "source": [
    "动量（Momentum）的技术，通过优化相关方向的训练和弱化无关方向的振荡，来加速SGD训练。\n",
    "\n",
    "换句话说，这种新方法将上个步骤中更新向量的分量’γ’添加到当前更新向量。"
   ]
  },
  {
   "cell_type": "markdown",
   "metadata": {},
   "source": [
    "<img src='./image/momentum.png' />"
   ]
  },
  {
   "cell_type": "markdown",
   "metadata": {},
   "source": [
    "动量项γ通常设定为0.9，或相近的某个值。\n",
    "\n",
    "这里的动量与经典物理学中的动量是一致的，就像从山上投出一个球，在下落过程中收集动量，小球的速度不断增加。\n",
    "\n",
    "在参数更新过程中，其原理类似：\n",
    "\n",
    "1) 使网络能更优和更稳定的收敛；\n",
    "\n",
    "2) 减少振荡过程。\n",
    "\n",
    "当其梯度指向实际移动方向时，动量项γ增大；当梯度与实际移动方向相反时，γ减小。\n",
    "\n",
    "这种方式意味着动量项只对相关样本进行参数更新，减少了不必要的参数更新，从而得到更快且稳定的收敛，也减少了振荡过程。"
   ]
  },
  {
   "cell_type": "markdown",
   "metadata": {},
   "source": [
    "motentum方法的缺点主要在于，下坡的过程中动量越来越大，在最低点的速度太大了，可能又冲上坡导致错过极小点。"
   ]
  },
  {
   "cell_type": "markdown",
   "metadata": {},
   "source": [
    "###### 2. Nesterov梯度加速法 (Nesterov accelerated gradient (NAG))"
   ]
  },
  {
   "cell_type": "markdown",
   "metadata": {},
   "source": [
    "这是对motentum算法进行的改进。\n",
    "\n",
    "一位名叫Yurii Nesterov研究员，认为动量方法存在一个问题：\n",
    "\n",
    "如果一个滚下山坡的球，盲目沿着斜坡下滑，这是非常不合适的。\n",
    "\n",
    "一个更聪明的球应该要注意到它将要去哪，因此在上坡再次向上倾斜时小球应该进行减速。\n",
    "\n",
    "实际上，当小球达到曲线上的最低点时，动量相当高。\n",
    "\n",
    "由于高动量可能会导致其完全地错过最小值，因此小球不知道何时进行减速，故继续向上移动。\n",
    "\n",
    "Yurii Nesterov在1983年发表了一篇关于解决动量问题的论文，因此，我们把这种方法叫做Nestrov梯度加速法。\n",
    "\n",
    "在该方法中，他提出先根据之前的动量进行大步跳跃，然后计算梯度进行校正，从而实现参数更新。\n",
    "\n",
    "这种预更新方法能防止大幅振荡，不会错过最小值，并对参数更新更加敏感。\n",
    "\n",
    "给算法增加了预见能力，事先估计出下一个参数处的梯度，用于对当前计算的梯度进行校正。 "
   ]
  },
  {
   "cell_type": "markdown",
   "metadata": {},
   "source": [
    "<img src='./image/nag.png' />"
   ]
  },
  {
   "cell_type": "markdown",
   "metadata": {},
   "source": [
    "现在，我们通过使网络更新与误差函数的斜率相适应，并依次加速SGD，也可根据每个参数的重要性来调整和更新对应参数，以执行更大或更小的更新幅度。"
   ]
  },
  {
   "cell_type": "markdown",
   "metadata": {},
   "source": [
    "###### 3. Adagrad方法"
   ]
  },
  {
   "cell_type": "markdown",
   "metadata": {},
   "source": [
    "Adagrad方法是通过参数来调整合适的学习率η，对稀疏参数进行大幅更新和对频繁参数进行小幅更新。\n",
    "\n",
    "因此，Adagrad方法非常适合处理稀疏数据。"
   ]
  },
  {
   "cell_type": "markdown",
   "metadata": {},
   "source": [
    "在时间步长中，Adagrad方法基于每个参数计算的过往梯度，为不同参数θ设置不同的学习率。\n",
    "\n",
    "先前，每个参数θ(i)使用相同的学习率，每次会对所有参数θ进行更新。\n",
    "\n",
    "在每个时间步t中，Adagrad通过分母项来达到不同参数具有不同学习率的目的：，更新对应参数，然后进行向量化。\n",
    "\n",
    "为了简单起见，我们把在t时刻参数θ(i)的损失函数梯度设为g(t,i)。"
   ]
  },
  {
   "cell_type": "markdown",
   "metadata": {},
   "source": [
    "<img src='./image/adagrad.png' />"
   ]
  },
  {
   "cell_type": "markdown",
   "metadata": {},
   "source": [
    "其中G<sub>t</sub>是一个对角阵。"
   ]
  },
  {
   "cell_type": "markdown",
   "metadata": {},
   "source": [
    "Adagrad方法的主要好处是，不需要手工来调整学习率。大多数参数使用了默认值0.01，且保持不变。\n",
    "\n",
    "Adagrad方法的主要缺点是，学习率η总是在降低和衰减。\n",
    "\n",
    "因为每个附加项都是正的，在分母中累积了多个平方梯度值，故累积的总和在训练期间保持增长。这反过来又导致学习率下降，变为很小数量级的数字，该模型完全停止学习，停止获取新的额外知识。\n",
    "\n",
    "因为随着学习速度的越来越小，模型的学习能力迅速降低，而且收敛速度非常慢，需要很长的训练和学习，即学习速度降低。"
   ]
  },
  {
   "cell_type": "markdown",
   "metadata": {},
   "source": [
    "###### 4. AdaDelta方法"
   ]
  },
  {
   "cell_type": "markdown",
   "metadata": {},
   "source": [
    "AdaDelta将分母改进为固定时间长度内的梯度平方和。\n",
    "\n",
    "实际操作中，为了使分母可以收敛（不至于无限增大），采用一个dicount factor求出<b>平均的梯度平方和</b>。\n",
    "\n",
    "与之前无效地存储w先前的平方梯度不同，梯度的和被递归地定义为所有先前平方梯度的衰减平均值。\n",
    "\n",
    "作为与动量项相似的分数γ，在t时刻的滑动平均值Eg²仅仅取决于先前的平均值和当前梯度值。"
   ]
  },
  {
   "cell_type": "markdown",
   "metadata": {},
   "source": [
    "Eg²=γ.Eg²+(1−γ).g²(t)，其中γ设置为与动量项相近的值，约为0.9。"
   ]
  },
  {
   "cell_type": "markdown",
   "metadata": {},
   "source": [
    "<img src='./image/adadelta_1.png' />"
   ]
  },
  {
   "cell_type": "markdown",
   "metadata": {},
   "source": [
    "由于分母是梯度平方和的均值的平方根（root mean squared——RMS），因此可以写作： "
   ]
  },
  {
   "cell_type": "markdown",
   "metadata": {},
   "source": [
    "<img src='./image/adadelta_2.png' />"
   ]
  },
  {
   "cell_type": "markdown",
   "metadata": {},
   "source": [
    "AdaDelta方法的另一个优点是，已经不需要设置一个默认的学习率。"
   ]
  },
  {
   "cell_type": "markdown",
   "metadata": {},
   "source": [
    "###### 5. RMSProp"
   ]
  },
  {
   "cell_type": "markdown",
   "metadata": {},
   "source": [
    "RMSProp是由Hinton发明的，跟AdaDelta基本一样。"
   ]
  },
  {
   "cell_type": "markdown",
   "metadata": {},
   "source": [
    "<img src='./image/rmsprop.png' />"
   ]
  },
  {
   "cell_type": "markdown",
   "metadata": {},
   "source": [
    "通常将η设为0.001"
   ]
  },
  {
   "cell_type": "markdown",
   "metadata": {},
   "source": [
    "###### 目前已完成的改进"
   ]
  },
  {
   "cell_type": "markdown",
   "metadata": {},
   "source": [
    "1) 为每个参数计算出不同学习率；\n",
    "\n",
    "2) 也计算了动量项momentum；\n",
    "\n",
    "3) 防止学习率衰减或梯度消失等问题的出现。"
   ]
  },
  {
   "cell_type": "markdown",
   "metadata": {},
   "source": [
    "###### 还可以做什么改进？"
   ]
  },
  {
   "cell_type": "markdown",
   "metadata": {},
   "source": [
    "在之前的方法中计算了每个参数的对应学习率，但是为什么不计算每个参数的对应动量变化并独立存储呢？\n",
    "\n",
    "这就是<b>Adam</b>算法提出的改良点。"
   ]
  },
  {
   "cell_type": "markdown",
   "metadata": {},
   "source": [
    "###### 5. Adam(Adaptive Moment Estimation)算法"
   ]
  },
  {
   "cell_type": "markdown",
   "metadata": {},
   "source": [
    "Adam算法即自适应时刻估计方法（Adaptive Moment Estimation），能计算每个参数的自适应学习率。\n",
    "\n",
    "这个方法不仅存储了AdaDelta先前平方梯度的指数衰减平均值，而且保持了先前梯度M(t)的指数衰减平均值，或者说Adam不仅利用梯度平方和，也利用梯度的和。\n",
    "\n",
    "这一点与动量类似"
   ]
  },
  {
   "cell_type": "markdown",
   "metadata": {},
   "source": [
    "第一个公式通过衰减系数β1计算了梯度的第一时刻平均值。\n",
    "\n",
    "第二个公式利用衰减系数β2 计算梯度的第二时刻非中心方差值。"
   ]
  },
  {
   "cell_type": "markdown",
   "metadata": {},
   "source": [
    "<img src='./image/adam.png' />"
   ]
  },
  {
   "cell_type": "markdown",
   "metadata": {},
   "source": [
    "通常将m<sub>t</sub>和v<sub>t</sub>都初始化为零向量。\n",
    "\n",
    "由于β1 and β2都是接近于1的衰减系数，m<sub>t</sub>和v<sub>t</sub>刚开始总是会接近于0。\n",
    "\n",
    "为了解决这个问题，利用下面的方式对m<sub>t</sub>和v<sub>t</sub>进行改进："
   ]
  },
  {
   "cell_type": "markdown",
   "metadata": {},
   "source": [
    "<img src='./image/adam_1.png' />"
   ]
  },
  {
   "cell_type": "markdown",
   "metadata": {},
   "source": [
    ">由于衰减系数接近1，分母1−βt1是一个接近0的小数，新的m^t就会在mt的基础上放大好多倍，也就不再容易趋于0了。 "
   ]
  },
  {
   "cell_type": "markdown",
   "metadata": {},
   "source": [
    "然后公式更新为："
   ]
  },
  {
   "cell_type": "markdown",
   "metadata": {},
   "source": [
    "<img src='./image/adam_2.png' />"
   ]
  },
  {
   "cell_type": "markdown",
   "metadata": {},
   "source": [
    "其中，β1设为0.9，β2设为0.9999，ϵ设为10-8。"
   ]
  },
  {
   "cell_type": "markdown",
   "metadata": {},
   "source": [
    "##### 如何选择优化算法？"
   ]
  },
  {
   "cell_type": "markdown",
   "metadata": {},
   "source": [
    "> - 如果你的数据很稀疏，那应该选择有自适应性的优化函数。这样你就不用对学习速率进行调优，因为你的数据本来就小，神经网络学习耗时也小。这种情况你更应该关心网络分类的准确率。\n",
    "- RMSprop, Adadelta 和 Adam 非常相似，在相同的情况下表现都很好。\n",
    "- 偏置校验让Adam的效果稍微比RMSprop好一点\n",
    "- 进行过很好的参数调优的SGD+Momentum算法效果好于Adagrad/Adadelta"
   ]
  },
  {
   "cell_type": "markdown",
   "metadata": {},
   "source": [
    "我们可以对不同的参数方案和他们如何快速优化有一个直观的认识： "
   ]
  },
  {
   "cell_type": "markdown",
   "metadata": {},
   "source": [
    "<img src='./image/optimizer.gif' />"
   ]
  },
  {
   "cell_type": "markdown",
   "metadata": {},
   "source": [
    "特别观察一下SGD，红色的那条线，从图中可以看出SGD实际上是所有方法中最慢的一个，所以在实际中很少应用它，我们可以使用更好的方案。"
   ]
  },
  {
   "cell_type": "markdown",
   "metadata": {},
   "source": [
    "<b><font color='red'>如果你不知道为你的神经网络选择哪种优化算法，就直接选Adam吧！</font><b>"
   ]
  },
  {
   "cell_type": "markdown",
   "metadata": {},
   "source": [
    "#### 神经网络过拟合问题"
   ]
  },
  {
   "cell_type": "markdown",
   "metadata": {},
   "source": [
    "神经网络的表达能力是非常强大的，只有给予足够多的神经元，通常其都面临着过拟合的问题。"
   ]
  },
  {
   "cell_type": "markdown",
   "metadata": {},
   "source": [
    ">名词解释\n",
    "<br><b>过拟合(over-fitting)</b>: <br>所谓过拟合（over-fitting）其实就是所建的机器学习模型或者是深度学习模型在训练样本中表现得过于优越，导致在验证数据集以及测试数据集中表现不佳。\n",
    "<br>打个比喻就是当我需要建立好一个模型之后，比如是识别一只狗狗的模型，我需要对这个模型进行训练。\n",
    "<br>恰好，我训练样本中的所有训练图片都是二哈，那么经过多次迭代训练之后，模型训练好了，并且在训练集中表现得很好。基本上二哈身上的所有特点都涵括进去，那么问题来了！\n",
    "<br>假如我的测试样本是一只金毛呢？将一只金毛的测试样本放进这个识别狗狗的模型中，很有可能模型最后输出的结果就是金毛不是一条狗（因为这个模型基本上是按照二哈的特征去打造的）。\n",
    "<br>所以这样就造成了模型过拟合，虽然在训练集上表现得很好，但是在测试集中表现得恰好相反，在性能的角度上讲就是协方差过大（variance is large），同样在测试集上的损失函数（cost function）会表现得很大。\n",
    "<br>\n",
    "<br><b>欠拟合(under-fitting): </b>\n",
    "<br>相对过拟合欠拟合还是比较容易理解。\n",
    "<br>还是拿刚才的模型来说，可能二哈被提取的特征比较少，导致训练出来的模型不能很好地匹配，表现得很差，甚至二哈都无法识别。\n"
   ]
  },
  {
   "cell_type": "markdown",
   "metadata": {},
   "source": [
    ">过拟合与欠拟合的图例："
   ]
  },
  {
   "cell_type": "markdown",
   "metadata": {},
   "source": [
    "<img src='./image/fittingresult.png' />"
   ]
  },
  {
   "cell_type": "markdown",
   "metadata": {},
   "source": [
    "<img src='./image/netro4.png' />"
   ]
  },
  {
   "cell_type": "markdown",
   "metadata": {},
   "source": [
    "因此，过多的隐含层和神经元的节点，会带来过拟合的问题。\n",
    "\n",
    "对于神经网络，参数膨胀原因可能是因为随着网路深度的增加，同时参数也不断增加，并且增加速度、规模都很大。那么可以<b>采取减少神经网络规模（深度）的方法</b>。\n",
    "\n",
    "同常来说<font color='red'><b>不应该通过降低神经网络的参数量来减少过拟合</b></font>，可以用<b>正则化项</b>对其进行惩罚或者通过<font color='red'>dropout</font>进行一部分神经元的随机失活。\n",
    "\n"
   ]
  },
  {
   "cell_type": "markdown",
   "metadata": {},
   "source": [
    "<img src='./image/dropout.png' />"
   ]
  },
  {
   "cell_type": "markdown",
   "metadata": {},
   "source": [
    "其实最关键的是：<font color='red'><b>增大训练样本规模</b></font>防止过拟合。"
   ]
  },
  {
   "cell_type": "markdown",
   "metadata": {},
   "source": [
    "增大训练样本其实是很难的工作，一般来说，我们会先将机器学习/ 神经网络相关的代码先写好。\n",
    "\n",
    "然后将一定范围的文档，根据关键字跑出疑似正例的语句集合，并请Analyst对这些语句做出类别判定并标记tag，作为最初的样本。\n",
    "\n",
    "这个最初样本即可作为训练集建模，先让模型框架跑起来，之后根据测试集的情况，补充或修订训练集。\n",
    "\n",
    "大致的流程如下图："
   ]
  },
  {
   "cell_type": "markdown",
   "metadata": {},
   "source": [
    "<img src='./image/modelcircle.png' />"
   ]
  },
  {
   "cell_type": "markdown",
   "metadata": {},
   "source": [
    "#### 神经网络欠拟合问题"
   ]
  },
  {
   "cell_type": "markdown",
   "metadata": {},
   "source": [
    "欠拟合基本上都会发生在训练刚开始的时候，经过不断训练之后欠拟合应该不怎么考虑了。\n",
    "\n",
    "但是如果真的还是存在的话，可以通过增加网络复杂度或者在模型中增加多点特征点，这些都是很好解决欠拟合的方法。"
   ]
  },
  {
   "cell_type": "markdown",
   "metadata": {},
   "source": [
    "#### 神经网络反向传播算法(Back Propagation)"
   ]
  },
  {
   "cell_type": "markdown",
   "metadata": {},
   "source": [
    "神经网络的训练算法：反向传播算法(Back Propagation)分二步进行，即正向传播和反向传播。这两个过程简述如下：\n",
    "\n",
    "1．正向传播\n",
    "\n",
    "输入的样本从输入层经过隐单元一层一层进行处理，传向输出层；在逐层处理的过程中。在输出层把当前输出和期望输出进行比较，如果现行输出不等于期望输出，则进入反向传播过程。\n",
    "\n",
    "2．反向传播\n",
    "\n",
    "反向传播时，把误差信号按原来正向传播的通路反向传回，逐层修改连接权值，以望代价函数趋向最小。"
   ]
  },
  {
   "cell_type": "markdown",
   "metadata": {},
   "source": [
    "反向传播算法的核心目的是对于神经网络中的任何weight或bias计算：损失函数C关于它们的偏导数∂C/∂w. 这个式子能够帮助我们知道当我们改变w或b的时候，损失函数C是怎么变化的。\n",
    "\n",
    "虽然计算这个式子可能有一点复杂，但是它提供了一种自然的，直观的解释，所以说反向传播算法并不仅仅是一种快速学习算法，它提供给我们具体的见解，帮助我们理解改变神经网络的参数是如何改变神经网络行为的。所以说反向传播算法是很值得我们去深入学习的。"
   ]
  },
  {
   "cell_type": "markdown",
   "metadata": {},
   "source": [
    ">名词解释\n",
    "- 损失函数、代价函数与目标函数\n",
    "<br>不严格的说，损失函数和代价函数是同一个东西，目标函数是一个与他们相关但更广的概念，对于目标函数来说在有约束条件下的最小化就是损失函数（loss function）\n",
    "<br>把最大化或者最小化的函数称为目标函数\n",
    "<br>把需要最小化的函数称为代价函数或者损失函数，因为我们的优化是最小化代价或者损失。\n",
    "<br>也就是代价函数与损失函数也属于目标函数，有些目标是最大化，那么就不能叫做损失函数或者代价函数了。\n",
    "<br>更直观的定义:\n",
    "<br>Loss Function 是定义在单个样本上的，算的是一个样本的误差。\n",
    "<br>Cost Function 是定义在整个训练集上的，是所有样本误差的平均，也就是损失函数的平均。\n",
    "<br>Object Function（目标函数 ）定义为：Cost Function + 正则化项。\n",
    "<br>神经网络一般通过最大似然得到代价函数，一般会求负对数似然，而这个负对数似然，可以通过交叉熵实现。而使用MSE，即均方差的话，容易出现饱和函数的情况。这是神经网络的损失函数，大多采用交叉熵的主要原因。\n",
    "<br>如图：\n",
    "<br><img src='./image/mlfunction.png' />\n"
   ]
  },
  {
   "cell_type": "markdown",
   "metadata": {},
   "source": [
    ">目标函数，损失函数，代价函数的探讨\n",
    "<br><img src='./image/mlfunction2.png' />\n",
    "<br><img src='./image/mlfunction3.png' />"
   ]
  },
  {
   "cell_type": "markdown",
   "metadata": {},
   "source": [
    "##### 反向传播的直观描述\n",
    "\n",
    "有这么一个神经网络:"
   ]
  },
  {
   "cell_type": "markdown",
   "metadata": {},
   "source": [
    "<img src='./image/netro5.png' />"
   ]
  },
  {
   "cell_type": "markdown",
   "metadata": {},
   "source": [
    "假设每个训练样本为(向量x, 向量t)，其中向量x是训练样本的特征，而向量t是样本的目标值\n",
    "\n",
    "首先，我们根据样本的特征向量x，计算出神经网络中每个隐藏层节点的输出a<sub>i</sub>，以及输出层每个节点的输出y<sub>i</sub>。\n",
    "\n",
    "然后，我们按照下面的方法计算出每个节点的误差项δ<sub>i</sub>：\n",
    "- 对于输出层节点i:"
   ]
  },
  {
   "cell_type": "markdown",
   "metadata": {},
   "source": [
    "<img src='./image/netrof1.png' />"
   ]
  },
  {
   "cell_type": "markdown",
   "metadata": {},
   "source": [
    "其中δ<sub>i</sub>是节点i的误差项，y<sub>i</sub>是节点i的输出值，t<sub>i</sub>是样本对应于节点i的目标值。\n",
    "\n",
    "举个例子，根据上图，对于输出层节点8来说，它的输出值为y<sub>1</sub>，而样本的目标值是t<sub>1</sub>，代入上面的公式得到节点8的误差项应该是δ<sub>8</sub>:"
   ]
  },
  {
   "cell_type": "markdown",
   "metadata": {},
   "source": [
    "<img src='./image/netrof2.png' />"
   ]
  },
  {
   "cell_type": "markdown",
   "metadata": {},
   "source": [
    "- 对于隐藏层节点"
   ]
  },
  {
   "cell_type": "markdown",
   "metadata": {},
   "source": [
    "<img src='./image/netrof3.png' />"
   ]
  },
  {
   "cell_type": "markdown",
   "metadata": {},
   "source": [
    "其中，a<sub>i</sub>是节点i的输出值，w<sub>ki</sub>是节点i到它的下一层节点k的连接的权重，δ<sub>k</sub>是节点i的下一层节点k的误差项。例如，对于隐藏层节点4来说，计算方法如下："
   ]
  },
  {
   "cell_type": "markdown",
   "metadata": {},
   "source": [
    "<img src='./image/netrof4.png' />"
   ]
  },
  {
   "cell_type": "markdown",
   "metadata": {},
   "source": [
    "最后，更新每个连接上的权值："
   ]
  },
  {
   "cell_type": "markdown",
   "metadata": {},
   "source": [
    "<img src='./image/netrof5.png' />"
   ]
  },
  {
   "cell_type": "markdown",
   "metadata": {},
   "source": [
    "其中，w<sub>ji</sub>是节点i到节点j的权重，η(eta)是一个成为学习速率的常数，δ<sub>j</sub>是节点j的误差项，x<sub>ji</sub>是节点i传递给节点j的输入。例如，权重w<sub>84</sub>的更新方法如下："
   ]
  },
  {
   "cell_type": "markdown",
   "metadata": {},
   "source": [
    "<img src='./image/netrof6.png' />"
   ]
  },
  {
   "cell_type": "markdown",
   "metadata": {},
   "source": [
    "类似的，权值w<sub>41</sub>的更新方法如下："
   ]
  },
  {
   "cell_type": "markdown",
   "metadata": {},
   "source": [
    "<img src='./image/netrof7.png' />"
   ]
  },
  {
   "cell_type": "markdown",
   "metadata": {},
   "source": [
    "偏置项的输入值永远为1。例如，节点w<sub>4b</sub>的偏置项应该按照下面的方法计算："
   ]
  },
  {
   "cell_type": "markdown",
   "metadata": {},
   "source": [
    "<img src='./image/netrof8.png' />"
   ]
  },
  {
   "cell_type": "markdown",
   "metadata": {},
   "source": [
    "我们已经介绍了神经网络每个节点误差项的计算和权重更新方法。\n",
    "\n",
    "显然，计算一个节点的误差项，需要先计算每个与其相连的下一层节点的误差项。\n",
    "\n",
    "这就要求误差项的计算顺序必须是从输出层开始，然后反向依次计算每个隐藏层的误差项，直到与输入层相连的那个隐藏层。\n",
    "\n",
    "这就是反向传播算法的名字的含义。当所有节点的误差项计算完毕后，我们就可以根据式5来更新所有的权重"
   ]
  },
  {
   "cell_type": "markdown",
   "metadata": {},
   "source": [
    "以上就是基本的反向传播算法，并不是很复杂，您弄清楚了么？"
   ]
  },
  {
   "cell_type": "markdown",
   "metadata": {},
   "source": [
    "##### 反向传播算法的推导"
   ]
  },
  {
   "cell_type": "markdown",
   "metadata": {},
   "source": [
    "反向传播算法其实就是链式求导法则的应用。"
   ]
  },
  {
   "cell_type": "markdown",
   "metadata": {},
   "source": [
    "注意：下面的数学公式部分，看看即可，如果感兴趣可以去：[零基础入门深度学习(3) - 神经网络和反向传播算法](https://www.zybuluo.com/hanbingtao/note/476663#an1)深入学习"
   ]
  },
  {
   "cell_type": "markdown",
   "metadata": {},
   "source": [
    "首先我们看4个方程式："
   ]
  },
  {
   "cell_type": "markdown",
   "metadata": {},
   "source": [
    "<img src='./image/netrof9.png' />"
   ]
  },
  {
   "cell_type": "markdown",
   "metadata": {},
   "source": [
    "- BP1：方程一：输出层的error(计算最后一层神经网络产生的错误) δ<sup>L</sup>\n",
    "- BP2: 方程二：用当前层error表示下一层error(由后往前，计算每一层神经网络产生的错误)\n",
    "- BP3: 方程三：error等价于损失函数C对bias的变化率(计算权重的梯度)\n",
    "- BP4: 方程四：损失函数C对weights的变化率(计算偏置的梯度)"
   ]
  },
  {
   "cell_type": "markdown",
   "metadata": {},
   "source": [
    "附注：Hadamard积,数学表示为：s⊙t"
   ]
  },
  {
   "cell_type": "markdown",
   "metadata": {},
   "source": [
    ">反向传播要基于常见的线性代数运算，像矩阵的加、乘等等。但是有一种运算是不常见的。例如，s和t是两个相同维度的向量，我们使用s⊙t表示两个向量按元素的积（elementwise product），因此 s⊙t 的元素 (s⊙t)<sub>j</sub>=s<sub>j</sub>t<sub>j</sub> 。如："
   ]
  },
  {
   "cell_type": "markdown",
   "metadata": {},
   "source": [
    "<img src='./image/vectorpointmul.png' />"
   ]
  },
  {
   "cell_type": "markdown",
   "metadata": {},
   "source": [
    "这四个方程的证明主要用到<font color='red'>多元函数微分的链式法则</font>，举例证明公式BP1:"
   ]
  },
  {
   "cell_type": "markdown",
   "metadata": {},
   "source": [
    "<img src='./image/netrof10.png' />"
   ]
  },
  {
   "cell_type": "markdown",
   "metadata": {},
   "source": [
    "BP2, BP3, BP4可以根据上面的参考文章学习，或自行推导, 推导过程参见：[反向传播算法（过程及公式推导）](https://blog.csdn.net/u014313009/article/details/51039334)"
   ]
  },
  {
   "cell_type": "markdown",
   "metadata": {},
   "source": [
    "##### 反向传播算法梯度计算"
   ]
  },
  {
   "cell_type": "markdown",
   "metadata": {},
   "source": [
    "<img src='./image/netrof11.png' />"
   ]
  },
  {
   "cell_type": "markdown",
   "metadata": {},
   "source": [
    "从算法的流程也可以明白为什么它被称为反向传播算法，因为我们是从最后一层的δ<sup>L</sup>开始反向计算前面的δ<sup>l</sup>的。\n",
    "\n",
    "因为损失函数是关于神经网络输出的函数，所以为了得到损失函数关于前面层的参数的梯度就需要不断的应用求导链式法则，一层层向前推导得到我们需要的关系的表达式。"
   ]
  },
  {
   "cell_type": "markdown",
   "metadata": {},
   "source": [
    "##### 反向传播为什么被认为是快速的算法？"
   ]
  },
  {
   "cell_type": "markdown",
   "metadata": {},
   "source": [
    "反向传播算法的聪明之处在于我们只需要一次正向遍历神经网络和一次反向遍历神经网络，就可以计算出所有的梯度∂C/∂w<sub>j</sub>\n",
    "\n",
    "正向遍历计算a<sup>l</sup><sub>j</sub>和z<sup>l</sup><sub>j</sub>，反向遍历计算各个δ<sup>l</sup><sub>j</sub>，然后经过简单计算就得到了需要的梯度值。\n",
    "\n",
    "所以说虽然从形式上可能会觉得反向传播算法更复杂，但其实它的计算量更少，算法更高效。"
   ]
  },
  {
   "cell_type": "markdown",
   "metadata": {},
   "source": [
    "##### 反向传播算法的应用意义"
   ]
  },
  {
   "cell_type": "markdown",
   "metadata": {},
   "source": [
    "神经网络的训练规则是根据激活函数是sigmoid函数、平方和误差、全连接网络、随机梯度下降优化算法。\n",
    "\n",
    "如果激活函数不同、误差计算方式不同、网络连接结构不同、优化算法不同，则具体的训练规则也会不一样。\n",
    "\n",
    "但是无论怎样，训练规则的推导方式都是一样的，应用链式求导法则进行推导即可。"
   ]
  },
  {
   "cell_type": "markdown",
   "metadata": {},
   "source": [
    "##### <font color='red'>用简洁的方式解释更新权重以及与损失函数之间的关系</font>"
   ]
  },
  {
   "cell_type": "markdown",
   "metadata": {},
   "source": [
    "反向传播时权重更新，简单来说，大致如下：\n",
    "\n",
    "W(n+1)=Wn-学习率×梯度\n",
    "\n",
    "损失函数的作用：\n",
    "<br>评估更新后权重W(n+1)得到的预测值，与实际值的误差值，误差越小越收敛\n",
    "<br>简单来说，就是验证与评估更新后的权重是否合理。\n",
    "\n",
    "<br>如果把神经网络比喻成车间，样本X就是原料，权重什么的就是炼丹炉，厄……锅炉相关的参数。\n",
    "<br>Y就是产品的硬性指标，Yhat是根据参数炼出的丹药\n",
    "<br>那么损失函数就是质检员，他们得到产品不合格指标，确定是否要回炉重造\n",
    "<br>如果需要，就根据权重更新公式，更新锅炉的生产环境的权重参数\n",
    "然后迭代……\n",
    "\n",
    "<br>损失函数以交叉熵为例，Y是真实值，如果是二分类，yhat往往是通过Sigmoid计算得到的预测值（写为yhat，是因为经常用一克拉戴帽的方式表示）\n",
    "<br><font color='red'>交叉熵是极大似然估计的直接产物，常在分类问题中作为logistic回归和neural network的损失函数出现。交叉熵的凸性较为复杂，它在logistic回归中是权重w的凸函数（因为Logistic回归的激活函数是Sigmoid或Softmax），但在neural network中却不是凸的。\n",
    "<br>参见：[凸还是非凸？交叉熵在softmax和neural network中的不同凸性](https://blog.csdn.net/RHONYN/article/details/80342126)\n",
    "<br>此外，如果采用Sigmoid作为激活函数，则MSE（均方差）为非凸函数，易陷入局部最优。\n",
    "<br>此外，MSE比交叉熵容易出现梯度弥散，根据计算MSE的梯度一般是交叉熵的1/4或者更小。</font>"
   ]
  },
  {
   "cell_type": "markdown",
   "metadata": {},
   "source": [
    "##### 反向传播算法的白话说明"
   ]
  },
  {
   "cell_type": "markdown",
   "metadata": {},
   "source": [
    "[大白话讲解BP算法](https://blog.csdn.net/zhaomengszu/article/details/77834845)\n",
    "<br>相关的代码参见该课件系列中的：24.0.0 手写最简单的神经网络.ipynb"
   ]
  },
  {
   "cell_type": "markdown",
   "metadata": {},
   "source": [
    "#### 揭开神经网络的盖头"
   ]
  },
  {
   "cell_type": "markdown",
   "metadata": {},
   "source": [
    "经过了这么多准备工作，我们看看神经网络究竟是什么。\n",
    "\n",
    "先看看多层感知机，顾名思义，就是有多个隐含层的感知机，我们看一下多层感知机的结构："
   ]
  },
  {
   "cell_type": "markdown",
   "metadata": {},
   "source": [
    "<img src='./image/mp.jpg' />"
   ]
  },
  {
   "cell_type": "markdown",
   "metadata": {},
   "source": [
    "多层感知机可以摆脱早期离散传输函数的束缚。\n",
    "\n",
    "使用sigmoid或tanh等连续函数模拟神经元对激励的响应。\n",
    "\n",
    "在训练算法上则使用Werbos发明的反向传播BP算法。\n",
    "\n",
    "这货:多层感知机就是我们现在所说的神经网络NN——神经网络听起来不知道比感知机高端到哪里去了！\n",
    "\n",
    "多层感知机解决了之前无法模拟异或逻辑的缺陷，同时更多的层数也让网络更能够刻画现实世界中的复杂情形。"
   ]
  },
  {
   "cell_type": "markdown",
   "metadata": {},
   "source": [
    "##### 神经网络开始阶段的困境"
   ]
  },
  {
   "cell_type": "markdown",
   "metadata": {},
   "source": [
    "随着神经网络层数的加深，优化函数越来越容易陷入局部最优解，并且这个“陷阱”越来越偏离真正的全局最优。\n",
    "\n",
    "利用有限数据训练的深层网络，性能还不如较浅层网络。\n",
    "\n",
    "同时，另一个不可忽略的问题是随着网络层数增加，“梯度消失”现象更加严重。\n",
    "\n",
    "具体来说，我们常常使用sigmoid作为神经元的输入输出函数。\n",
    "\n",
    "对于幅度为1的信号，在BP反向传播梯度时，每传递一层，梯度衰减为原来的0.25。\n",
    "\n",
    "层数一多，梯度指数衰减后低层基本上接受不到有效的训练信号。"
   ]
  },
  {
   "cell_type": "markdown",
   "metadata": {},
   "source": [
    "##### 解决困境的思路"
   ]
  },
  {
   "cell_type": "markdown",
   "metadata": {},
   "source": [
    "###### a. 预训练\n",
    "2006年，Hinton利用预训练方法缓解了局部最优解问题，将隐含层推动到了7层，神经网络真正意义上有了“深度”，由此揭开了深度学习的热潮。\n",
    "\n",
    "这里的“深度”并没有固定的定义——在语音识别中4层网络就能够被认为是“较深的”，而在图像识别中20层以上的网络屡见不鲜。"
   ]
  },
  {
   "cell_type": "markdown",
   "metadata": {},
   "source": [
    "###### b. 改变激活函数"
   ]
  },
  {
   "cell_type": "markdown",
   "metadata": {},
   "source": [
    "为了克服梯度消失，ReLU、maxout等传输函数代替了 sigmoid，形成了如今 DNN 的基本形式。"
   ]
  },
  {
   "cell_type": "markdown",
   "metadata": {},
   "source": [
    "##### DNN的新困境"
   ]
  },
  {
   "cell_type": "markdown",
   "metadata": {},
   "source": [
    "<img src='./image/dnn.jpg' />"
   ]
  },
  {
   "cell_type": "markdown",
   "metadata": {},
   "source": [
    "如图所示，我们看到全连接DNN的结构里下层神经元和所有上层神经元都能够形成连接，带来的潜在问题是参数数量的膨胀。\n",
    "\n",
    "假设输入的是一幅像素为1K*1K的图像，隐含层有1M个节点，光这一层就有10^12个权重需要训练，这不仅容易过拟合，而且极容易陷入局部最优。\n",
    "\n",
    "此时我们可以引出卷积神经网络CNN的课题"
   ]
  },
  {
   "cell_type": "markdown",
   "metadata": {},
   "source": [
    "### 卷积神经网络(CNN)"
   ]
  },
  {
   "cell_type": "markdown",
   "metadata": {},
   "source": [
    "卷积神经网络（Convolutional Neural Networks, CNN）是一类包含卷积或相关计算且具有深度结构的前馈神经网络（Feedforward Neural Networks），是深度学习（deep learning）的代表算法之一  。由于卷积神经网络能够进行平移不变分类（shift-invariant classification），因此也被称为“平移不变人工神经网络（Shift-Invariant Artificial Neural Networks, SIANN）”"
   ]
  },
  {
   "cell_type": "markdown",
   "metadata": {},
   "source": [
    "为了解决当神经网络的深度、节点数变大，会导致过拟合、参数过多等问题，加入如下思考："
   ]
  },
  {
   "cell_type": "markdown",
   "metadata": {},
   "source": [
    "- 通过抽取只依赖图像里小的子区域的局部特征，然后利用这些特征的信息就可以融合到后续处理阶段中，从而检测更高级的特征，最后产生图像整体的信息。\n",
    "- 距离较近的像素的相关性要远大于距离较远像素的相关性。\n",
    "- 对于图像的一个区域有用的局部特征可能对于图像的其他区域也有用，例如感兴趣的物体发生平移的情形。"
   ]
  },
  {
   "cell_type": "markdown",
   "metadata": {},
   "source": [
    "#### 特性：局部连接(Sparse Connectivity)与权值共享(Shared Weights)"
   ]
  },
  {
   "cell_type": "markdown",
   "metadata": {},
   "source": [
    "下图是一个很经典的图示，左边是全连接，右边是局部连接。"
   ]
  },
  {
   "cell_type": "markdown",
   "metadata": {},
   "source": [
    "<img src='./image/cnnlocal.jpg' />"
   ]
  },
  {
   "cell_type": "markdown",
   "metadata": {},
   "source": [
    "对于一个1000 × 1000的输入图像而言，如果下一个隐藏层的神经元数目为10^6个，采用全连接则有1000 × 1000 × 10^6 = 10^12个权值参数，如此数目巨大的参数几乎难以训练；\n",
    "\n",
    "而采用<b>局部连接</b>，隐藏层的每个神经元仅与图像中10 × 10的局部图像相连接，那么此时的权值参数数量为10 × 10 × 10^6 = 10^8，将直接减少4个数量级。"
   ]
  },
  {
   "cell_type": "markdown",
   "metadata": {},
   "source": [
    "尽管减少了几个数量级，但参数数量依然较多。能不能再进一步减少呢？能！方法就是<b>权值共享</b>"
   ]
  },
  {
   "cell_type": "markdown",
   "metadata": {},
   "source": [
    "<img src='./image/cnnsw.jpg' />"
   ]
  },
  {
   "cell_type": "markdown",
   "metadata": {},
   "source": [
    "具体做法是，在局部连接中隐藏层的每一个神经元连接的是一个10 × 10的局部图像，因此有10 × 10个权值参数，将这10 × 10个权值参数共享给剩下的神经元，也就是说隐藏层中10^6个神经元的权值参数相同，那么此时不管隐藏层神经元的数目是多少，需要训练的参数就是这 10 × 10个权值参数（也就是卷积核(也称滤波器)的大小）"
   ]
  },
  {
   "cell_type": "markdown",
   "metadata": {},
   "source": [
    "这大概就是CNN的一个神奇之处，尽管只有这么少的参数，依旧有出色的性能。\n",
    "\n",
    "但是，这样仅提取了图像的一种特征，如果要多提取出一些特征，可以增加多个卷积核，不同的卷积核能够得到图像的不同映射下的特征，称之为Feature Map。\n",
    "\n",
    "如果有100个卷积核，最终的权值参数也仅为100 × 100 = 10^4个而已。另外，偏置参数也是共享的，同一种滤波器共享一个。\n",
    "\n",
    "卷积神经网络的核心思想是：局部感受野(local field)，权值共享以及时间或空间亚采样这三种思想结合起来，获得了某种程度的位移、尺度、形变不变性"
   ]
  },
  {
   "cell_type": "markdown",
   "metadata": {},
   "source": [
    "#### 网络结构"
   ]
  },
  {
   "cell_type": "markdown",
   "metadata": {},
   "source": [
    "下图是一个经典的CNN结构，称为LeNet-5网络"
   ]
  },
  {
   "cell_type": "markdown",
   "metadata": {},
   "source": [
    "<img src='./image/lenet5.png' />"
   ]
  },
  {
   "cell_type": "markdown",
   "metadata": {},
   "source": [
    "可以看出，CNN中主要有两种类型的网络层，分别是卷积层和池化/采样层(Pooling)。\n",
    "\n",
    "卷积层的作用是提取图像的各种特征；\n",
    "\n",
    "池化层的作用是对原始特征信号进行抽象，从而大幅度减少训练参数，另外还可以减轻模型过拟合的程度"
   ]
  },
  {
   "cell_type": "markdown",
   "metadata": {},
   "source": [
    "#### 前向传播"
   ]
  },
  {
   "cell_type": "markdown",
   "metadata": {},
   "source": [
    "##### 卷积层(Convolutional Layer)"
   ]
  },
  {
   "cell_type": "markdown",
   "metadata": {},
   "source": [
    "全连接层的方式对于图像数据来说似乎显得不这么友好，因为图像本身具有“二维空间特征”，通俗点说就是局部特性。\n",
    "\n",
    "譬如我们看一张猫的图片，可能看到猫的眼镜或者嘴巴就知道这是张猫片，而不需要说每个部分都看完了才知道，啊，原来这个是猫啊。\n",
    "\n",
    "所以如果我们可以用某种方式对一张图片的某个典型特征识别，那么这张图片的类别也就知道了。这个时候就产生了卷积的概念。"
   ]
  },
  {
   "cell_type": "markdown",
   "metadata": {},
   "source": [
    "卷积层是卷积核在上一级输入层上通过逐一滑动窗口计算而得，卷积核中的每一个参数都相当于传统神经网络中的权值参数，与对应的局部像素相连接，将卷积核的各个参数与对应的局部像素值相乘之和，（通常还要再加上一个偏置参数），得到卷积层上的结果。如下图所示。"
   ]
  },
  {
   "cell_type": "markdown",
   "metadata": {},
   "source": [
    "<img src='./image/cnncl.png' />"
   ]
  },
  {
   "cell_type": "markdown",
   "metadata": {},
   "source": [
    "下面的动图能够更好地解释卷积过程："
   ]
  },
  {
   "cell_type": "markdown",
   "metadata": {},
   "source": [
    "<img src='./image/convolved.gif' />"
   ]
  },
  {
   "cell_type": "markdown",
   "metadata": {},
   "source": [
    "再详细一些，举一个例子，现在有一个4*4的图像，我们设计两个卷积核，看看运用卷积核后图片会变成什么样"
   ]
  },
  {
   "cell_type": "markdown",
   "metadata": {},
   "source": [
    "<img src='./image/cnnclcal.png' />"
   ]
  },
  {
   "cell_type": "markdown",
   "metadata": {},
   "source": [
    "由上图可以看到，原始图片是一张灰度图片,每个位置表示的是像素值，0表示白色，1表示黑色，（0，1）区间的数值表示灰色。对于这个4*4的图像，我们采用两个2*2的卷积核来计算。\n",
    "\n",
    "设定步长为1，即每次以2*2的固定窗口往右滑动一个单位。以第一个卷积核filter1为例，计算过程如下："
   ]
  },
  {
   "cell_type": "markdown",
   "metadata": {},
   "source": [
    "```\n",
    "feature_map1(1,1) = 1*1 + 0*(-1) + 1*1 + 1*(-1) = 1 \n",
    "feature_map1(1,2) = 0*1 + 1*(-1) + 1*1 + 1*(-1) = -1 \n",
    "feature_map1(3,3) = 1*1 + 0*(-1) + 1*1 + 0*(-1) = 2\n",
    "```"
   ]
  },
  {
   "cell_type": "markdown",
   "metadata": {},
   "source": [
    "可以看到这就是最简单的内积公式。feature_map1(1,1)表示在通过第一个卷积核计算完后得到的feature_map的第一行第一列的值，随着卷积核的窗口不断的滑动，我们可以计算出一个3*3的feature_map1;同理可以计算通过第二个卷积核进行卷积运算后的feature_map2，那么这一层卷积操作就完成了。\n",
    "\n",
    "feature_map尺寸计算公式：[ (原图片尺寸 -卷积核尺寸)/ 步长 ] + 1。"
   ]
  },
  {
   "cell_type": "markdown",
   "metadata": {},
   "source": [
    "我们可以看到，同一层的神经元可以共享卷积核，那么对于高位数据的处理将会变得非常简单。\n",
    "\n",
    "并且使用卷积核后图片的尺寸变小，方便后续计算，并且我们不需要手动去选取特征，只用设计好卷积核的尺寸，数量和滑动的步长就可以让它自己去训练了，省时又省力啊。"
   ]
  },
  {
   "cell_type": "markdown",
   "metadata": {},
   "source": [
    "###### 为什么卷积核有效？"
   ]
  },
  {
   "cell_type": "markdown",
   "metadata": {},
   "source": [
    "为什么使用卷积核计算后分类效果要由于普通的神经网络呢？\n",
    "\n",
    "我们仔细来看一下上面计算的结果：\n",
    "\n",
    "通过第一个卷积核计算后的feature_map是一个三维数据，在第三列的绝对值最大，说明原始图片上对应的地方有一条<b>垂直方向的特征</b>，即像素数值变化较大；\n",
    "\n",
    "而通过第二个卷积核计算后，第三列的数值为0，第二行的数值绝对值最大，说明原始图片上对应的地方有一条<b>水平方向的特征</b>。"
   ]
  },
  {
   "cell_type": "markdown",
   "metadata": {},
   "source": [
    "仔细思考一下，这个时候，我们设计的两个卷积核分别能够提取，或者说检测出原始图片的特定的特征。\n",
    "\n",
    "此时我们其实就可以把卷积核就理解为特征提取器啊！\n",
    "\n",
    "现在就明白了，为什么我们只需要把图片数据灌进去，设计好卷积核的尺寸、数量和滑动的步长就可以让自动提取出图片的某些特征，从而达到分类的效果啊！\n",
    "\n",
    "注：\n",
    "\n",
    "1.此处的卷积运算是两个卷积核大小的矩阵的内积运算，不是矩阵乘法。即相同位置的数字相乘再相加求和。不要弄混淆了。\n",
    "\n",
    "2.卷积核的公式有很多，这只是最简单的一种。我们所说的卷积核在数字信号处理里也叫滤波器，那滤波器的种类就多了，均值滤波器，高斯滤波器，拉普拉斯滤波器等等，不过，不管是什么滤波器，都只是一种数学运算，无非就是计算更复杂一点。\n",
    "\n",
    "3.每一层的卷积核大小和个数可以自己定义，不过一般情况下，根据实验得到的经验来看，会在越靠近输入层的卷积层设定少量的卷积核，越往后，卷积层设定的卷积核数目就越多"
   ]
  },
  {
   "cell_type": "markdown",
   "metadata": {},
   "source": [
    "##### 5.4.3.3.2 下采样(池化)层(Pooling Layer)"
   ]
  },
  {
   "cell_type": "markdown",
   "metadata": {},
   "source": [
    "通过卷积层获得了图像的特征之后，理论上我们可以直接使用这些特征训练分类器（如softmax），但是这样做将面临巨大的计算量的挑战，而且容易产生过拟合的现象。\n",
    "\n",
    "为了进一步降低网络训练参数及模型的过拟合程度，我们对卷积层进行池化/采样(Pooling)处理。\n",
    "\n",
    "池化规模一般为2x2\n",
    "\n",
    "池化层的主要目的是通过降采样的方式，在不影响图像质量的情况下，压缩图片，减少参数。\n",
    "\n",
    "池化/采样的方式通常有以下几种：\n",
    "\n",
    "- Max-Pooling: 选择Pooling窗口中的最大值作为采样值；\n",
    "- Mean-ooling: 将Pooling窗口中的所有值相加取平均，以平均值作为采样值；\n",
    "- 高斯池化。借鉴高斯模糊的方法\n",
    "- 可训练池化。训练函数 ff ，接受4个点为输入，输出1个点\n",
    "\n",
    "如下图所示："
   ]
  },
  {
   "cell_type": "markdown",
   "metadata": {},
   "source": [
    "<img src='./image/cnnpool.png' />"
   ]
  },
  {
   "cell_type": "markdown",
   "metadata": {},
   "source": [
    "计算示例: <img src='./image/cnnpool2.png' />"
   ]
  },
  {
   "cell_type": "markdown",
   "metadata": {},
   "source": [
    "简单来说，假设现在设定池化层采用MaxPooling，大小为2*2，步长为1，取每个窗口最大的数值重新，那么图片的尺寸就会由3*3变为2*2：(3-2)+1=2。从上例来看，会有如下变换："
   ]
  },
  {
   "cell_type": "markdown",
   "metadata": {},
   "source": [
    "计算示例: <img src='./image/cnnpool3.png' />"
   ]
  },
  {
   "cell_type": "markdown",
   "metadata": {},
   "source": [
    "###### 为什么采用Max Pooling？"
   ]
  },
  {
   "cell_type": "markdown",
   "metadata": {},
   "source": [
    "从计算方式来看，算是最简单的一种了，取max即可，但是这也引发一个思考，为什么需要Max Pooling，意义在哪里？\n",
    "\n",
    "如果我们只取最大值，那其他的值被舍弃难道就没有影响吗？不会损失这部分信息吗？\n",
    "\n",
    "如果认为这些信息是可损失的，那么是否意味着我们在进行卷积操作后仍然产生了一些不必要的冗余信息呢？"
   ]
  },
  {
   "cell_type": "markdown",
   "metadata": {},
   "source": [
    "其实从上文分析卷积核为什么有效的原因来看，每一个卷积核可以看做一个特征提取器，不同的卷积核负责提取不同的特征，我们例子中设计的第一个卷积核能够提取出“垂直”方向的特征，第二个卷积核能够提取出“水平”方向的特征，那么我们对其进行<b>Max Pooling操作后，提取出的是真正能够识别特征的数值</b>，其余被舍弃的数值，对于我提取特定的特征并没有特别大的帮助。\n",
    "\n",
    "那么在进行后续计算使，减小了feature map的尺寸，从而减少参数，达到减小计算量，且不损失效果的情况。\n",
    "\n",
    "不过并不是所有情况Max Pooling的效果都很好，有时候有些周边信息也会对某个特定特征的识别产生一定效果，那么这个时候舍弃这部分“不重要”的信息，就不划算了。\n",
    "\n",
    "所以具体情况得具体分析，如果加了Max Pooling后效果反而变差了，不如把卷积后不加Max Pooling的结果与卷积后加了Max Pooling的结果输出对比一下，看看Max Pooling是否对卷积核提取特征起了反效果"
   ]
  },
  {
   "cell_type": "markdown",
   "metadata": {},
   "source": [
    "##### 5.4.3.3.3 Flattern层与全连接层"
   ]
  },
  {
   "cell_type": "markdown",
   "metadata": {},
   "source": [
    "到这一步，其实我们的一个完整的前向传播的“卷积部分”就算完成了，如果想要叠加层数，一般也是叠加“Conv-MaxPooing\",通过不断的设计卷积核的尺寸，数量，提取更多的特征，最后识别不同类别的物体。\n",
    "\n",
    "做完Max Pooling后，我们就会把这些数据“拍平”，丢到Flatten层，然后把Flatten层的output放到full connected Layer里，采用softmax对其进行分类。"
   ]
  },
  {
   "cell_type": "markdown",
   "metadata": {},
   "source": [
    "<img src='./image/cnnfc.png' />"
   ]
  },
  {
   "cell_type": "markdown",
   "metadata": {},
   "source": [
    "#### 后向传播"
   ]
  },
  {
   "cell_type": "markdown",
   "metadata": {},
   "source": [
    "##### 卷积层(Convolutional Layer)"
   ]
  },
  {
   "cell_type": "markdown",
   "metadata": {},
   "source": [
    "当一个卷积层L的下一层(L+1)为采样层，并假设我们已经计算得到了采样层的残差，现在计算该卷积层的残差。\n",
    "\n",
    "从LeNet-5网络结构图我们知道，采样层（L+1）的map大小是卷积层L的1/（scale*scale），以scale=2为例，但这两层的map个数是一样的，卷积层L的某个map中的4个单元与L+1层对应map的一个单元关联，可以对采样层的残差与一个scale*scale的全1矩阵进行[克罗内克积](https://baike.baidu.com/item/%E5%85%8B%E7%BD%97%E5%86%85%E5%85%8B%E7%A7%AF/6282573?fr=aladdin) 进行扩充，使得采样层的残差的维度与上一层的输出map的维度一致。"
   ]
  },
  {
   "cell_type": "markdown",
   "metadata": {},
   "source": [
    "克罗内克积示例：<img src='./image/hadamard.jpg' />"
   ]
  },
  {
   "cell_type": "markdown",
   "metadata": {},
   "source": [
    "扩展过程："
   ]
  },
  {
   "cell_type": "markdown",
   "metadata": {},
   "source": [
    "<img src='./image/cnnbcl.png' />"
   ]
  },
  {
   "cell_type": "markdown",
   "metadata": {},
   "source": [
    "利用卷积计算卷积层的残差："
   ]
  },
  {
   "cell_type": "markdown",
   "metadata": {},
   "source": [
    "<img src='./image/cnnbcl2.png' />"
   ]
  },
  {
   "cell_type": "markdown",
   "metadata": {},
   "source": [
    "##### 5.4.3.4.2 下采样(池化)层(Pooling Layer)"
   ]
  },
  {
   "cell_type": "markdown",
   "metadata": {},
   "source": [
    "当某个采样层L的下一层是卷积层(L+1)，并假设我们已经计算出L+1层的残差，现在计算L层的残差。\n",
    "\n",
    "采样层到卷积层直接的连接是有权重和偏置参数的，因此不像卷积层到采样层那样简单。\n",
    "\n",
    "现再假设L层第j个map Mj与L+1层的M2j关联，按照BP的原理，L层的残差Dj是L+1层残差D2j的加权和，但是这里的困难在于，我们很难理清M2j的那些单元通过哪些权重与Mj的哪些单元关联，这里需要两个小的变换（rot180°和padding）："
   ]
  },
  {
   "cell_type": "markdown",
   "metadata": {},
   "source": [
    "rot180°：旋转：表示对矩阵进行180度旋转（可通过行对称交换和列对称交换完成）"
   ]
  },
  {
   "cell_type": "code",
   "execution_count": null,
   "metadata": {
    "ExecuteTime": {
     "end_time": "2023-01-04T06:06:16.183489Z",
     "start_time": "2023-01-04T06:06:16.100788Z"
    }
   },
   "outputs": [],
   "source": [
    "import numpy as np\n",
    "def fz(a):\n",
    "    return a[::-1]\n",
    "\n",
    "def rot180(mat):\n",
    "    return np.array(fz(list(map(fz, mat))))\n"
   ]
  },
  {
   "cell_type": "code",
   "execution_count": null,
   "metadata": {
    "ExecuteTime": {
     "end_time": "2023-01-04T06:06:17.162662Z",
     "start_time": "2023-01-04T06:06:17.148665Z"
    }
   },
   "outputs": [],
   "source": [
    "A = np.arange(16).reshape((4,4))\n",
    "B = rot180(A)\n",
    "print(A)\n",
    "print(B)"
   ]
  },
  {
   "cell_type": "markdown",
   "metadata": {},
   "source": [
    "Zero padding:扩充"
   ]
  },
  {
   "cell_type": "markdown",
   "metadata": {},
   "source": [
    "我们的图片由4\\*4，通过卷积层变为3\\*3，再通过池化层变化2\\*2，如果我们再添加层，那么图片岂不是会越变越小？\n",
    "\n",
    "这个时候我们就会引出“Zero Padding”（补零），它可以帮助我们保证每次经过卷积或池化输出后图片的大小不变，如，上述例子我们如果加入Zero Padding，再采用3\\*3的卷积核，那么变换后的图片尺寸与原图片尺寸相同，如下图所示："
   ]
  },
  {
   "cell_type": "markdown",
   "metadata": {},
   "source": [
    "<img src='./image/cnnpadding.png' />"
   ]
  },
  {
   "cell_type": "markdown",
   "metadata": {},
   "source": [
    "通常情况下，我们希望图片做完卷积操作后保持图片大小不变，所以我们一般会选择尺寸为3\\*3的卷积核和1的zero padding，或者5\\*5的卷积核与2的zero padding。\n",
    "\n",
    "这样通过计算后，可以保留图片的原始尺寸。\n",
    "\n",
    "那么加入zero padding后的feature_map尺寸 =( width + 2 * padding_size - filter_size )/stride + 1"
   ]
  },
  {
   "cell_type": "markdown",
   "metadata": {},
   "source": [
    "比如: 如果原矩阵为4x4，则width为3， 如果需要加1个padding size，卷积核为3x3，则filter_size为3，stride为1，则：\n",
    "\n",
    "feature_map size = (4+ 2*1 - 3)/1 + 1 = 4, 即feature_map为4x4的方阵"
   ]
  },
  {
   "cell_type": "markdown",
   "metadata": {},
   "source": [
    "Padding的实现代码如下："
   ]
  },
  {
   "cell_type": "code",
   "execution_count": null,
   "metadata": {
    "ExecuteTime": {
     "end_time": "2023-01-04T06:06:24.838657Z",
     "start_time": "2023-01-04T06:06:24.831709Z"
    }
   },
   "outputs": [],
   "source": [
    "def padding(in_data, size):\n",
    "    cur_r, cur_w = in_data.shape[0], in_data.shape[1]\n",
    "    new_r = cur_r + size * 2\n",
    "    new_w = cur_w + size * 2\n",
    "    ret = np.zeros((new_r, new_w))\n",
    "    ret[size:cur_r + size, size:cur_w+size] = in_data\n",
    "    return ret"
   ]
  },
  {
   "cell_type": "code",
   "execution_count": null,
   "metadata": {
    "ExecuteTime": {
     "end_time": "2023-01-04T06:06:25.636376Z",
     "start_time": "2023-01-04T06:06:25.628375Z"
    }
   },
   "outputs": [],
   "source": [
    "in_data = np.ones((4,4))\n",
    "print(in_data)"
   ]
  },
  {
   "cell_type": "code",
   "execution_count": null,
   "metadata": {
    "ExecuteTime": {
     "end_time": "2023-01-04T06:06:26.572413Z",
     "start_time": "2023-01-04T06:06:26.565412Z"
    }
   },
   "outputs": [],
   "source": [
    "print(padding(in_data, 1))"
   ]
  },
  {
   "cell_type": "markdown",
   "metadata": {},
   "source": [
    "旋转180度与padding的综合图例，如："
   ]
  },
  {
   "cell_type": "markdown",
   "metadata": {},
   "source": [
    "<img src='./image/cnnrp.png' />"
   ]
  },
  {
   "cell_type": "markdown",
   "metadata": {},
   "source": [
    "#### LeNet-5网络详解"
   ]
  },
  {
   "cell_type": "markdown",
   "metadata": {},
   "source": [
    "以上较详细地介绍了CNN的网络结构和基本原理，下面介绍一个经典的CNN模型：LeNet-5网络。"
   ]
  },
  {
   "cell_type": "markdown",
   "metadata": {},
   "source": [
    "LeNet-5：是Yann LeCun在1998年设计的用于手写数字识别的卷积神经网络，当年美国大多数银行就是用它来识别支票上面的手写数字的，它是早期卷积神经网络中最有代表性的实验系统之一。\n",
    "\n",
    "LenNet-5共有7层（不包括输入层），每层都包含不同数量的训练参数，其中主要有2个卷积层，2个下抽样层（池化层），3个全连接层3种连接方式。"
   ]
  },
  {
   "cell_type": "markdown",
   "metadata": {},
   "source": [
    "##### 1. C1卷积层"
   ]
  },
  {
   "cell_type": "markdown",
   "metadata": {},
   "source": [
    "<img src='./image/lenet51.png' />"
   ]
  },
  {
   "cell_type": "markdown",
   "metadata": {},
   "source": [
    "##### 2. S2池化层"
   ]
  },
  {
   "cell_type": "markdown",
   "metadata": {},
   "source": [
    "<img src='./image/lenet52.png' />"
   ]
  },
  {
   "cell_type": "markdown",
   "metadata": {},
   "source": [
    "##### 3. C3卷积层\n",
    "\n",
    "输入：S2中所有6个或者几个特征map组合\n",
    "\n",
    "卷积核大小：5\\*5\n",
    "\n",
    "卷积核种类：16\n",
    "\n",
    "输出featureMap大小：10\\*10 (14-5+1)=10\n",
    "\n",
    "C3中的每个特征map是连接到S2中的所有6个或者几个特征map的，表示本层的特征map是上一层提取到的特征map的不同组合\n",
    "\n",
    "存在的一个方式是：C3的前6个特征图以S2中3个相邻的特征图子集为输入。接下来6个特征图以S2中4个相邻特征图子集为输入。然后的3个以不相邻的4个特征图子集为输入。最后一个将S2中所有特征图为输入。\n",
    "\n",
    "则：可训练参数：6\\*(3\\*5\\*5+1)+6\\*(4\\*5\\*5+1)+3\\*(4\\*5\\*5+1)+1\\*(6\\*5\\*5+1)=1516\n",
    "\n",
    "连接数：10\\*10\\*1516=151600\n",
    "\n",
    "详细说明：第一次池化之后是第二次卷积，第二次卷积的输出是C3，16个10x10的特征图，卷积核大小是 5\\*5. 我们知道S2 有6个 14\\*14 的特征图，怎么从6 个特征图得到 16个特征图了？ 这里是通过对S2 的特征图特殊组合计算得到的16个特征图。具体如下："
   ]
  },
  {
   "cell_type": "markdown",
   "metadata": {},
   "source": [
    "<img src='./image/lenet53_1.png' />"
   ]
  },
  {
   "cell_type": "markdown",
   "metadata": {},
   "source": [
    ">```\n",
    "C3的前6个feature map（对应上图第一个红框的6列）与S2层相连的3个feature map相连接（上图第一个红框），后面6个feature map与S2层相连的4个feature map相连接（上图第二个红框），后面3个feature map与S2层部分不相连的4个feature map相连接，最后一个与S2层的所有feature map相连。卷积核大小依然为5*5，所以总共有6*(3*5*5+1)+6*(4*5*5+1)+3*(4*5*5+1)+1*(6*5*5+1)=1516个参数。而图像大小为10*10，所以共有151600个连接。\n",
    "```"
   ]
  },
  {
   "cell_type": "markdown",
   "metadata": {},
   "source": [
    "<img src='./image/lenet53.png' />"
   ]
  },
  {
   "cell_type": "markdown",
   "metadata": {},
   "source": [
    "<img src='./image/lenet53_2.png' />"
   ]
  },
  {
   "cell_type": "markdown",
   "metadata": {},
   "source": [
    "##### 4. S4池化层"
   ]
  },
  {
   "cell_type": "markdown",
   "metadata": {},
   "source": [
    "```\n",
    "输入：10*10\n",
    "\n",
    "采样区域：2*2\n",
    "\n",
    "采样方式：4个输入相加，乘以一个可训练参数，再加上一个可训练偏置。结果通过sigmoid\n",
    "\n",
    "采样种类：16\n",
    "\n",
    "输出featureMap大小：5*5（10/2）\n",
    "\n",
    "神经元数量：5*5*16=400\n",
    "\n",
    "连接数：16*（2*2+1）*5*5=2000\n",
    "\n",
    "S4中每个特征图的大小是C3中特征图大小的1/4\n",
    "\n",
    "详细说明：S4是pooling层，窗口大小仍然是2*2，共计16个feature map，C3层的16个10x10的图分别进行以2x2为单位的池化得到16个5x5的特征图。有5x5x5x16=2000个连接。连接的方式与S2层类似。\n",
    "```"
   ]
  },
  {
   "cell_type": "markdown",
   "metadata": {},
   "source": [
    "<img src='./image/lenet54.png' />"
   ]
  },
  {
   "cell_type": "markdown",
   "metadata": {},
   "source": [
    "##### 5. C5卷积层"
   ]
  },
  {
   "cell_type": "markdown",
   "metadata": {},
   "source": [
    "```\n",
    "输入：S4层的全部16个单元特征map（与s4全相连）\n",
    "\n",
    "卷积核大小：5*5\n",
    "\n",
    "卷积核种类：120\n",
    "\n",
    "输出featureMap大小：1*1（5-5+1）\n",
    "\n",
    "可训练参数/连接：120*（16*5*5+1）=48120\n",
    "\n",
    "详细说明：C5层是一个卷积层。由于S4层的16个图的大小为5x5，与卷积核的大小相同，所以卷积后形成的图的大小为1x1。这里形成120个卷积结果。每个都与上一层的16个图相连。所以共有(5x5x16+1)x120 = 48120个参数，同样有48120个连接。\n",
    "```"
   ]
  },
  {
   "cell_type": "markdown",
   "metadata": {},
   "source": [
    "<img src='./image/lenet55.png' />"
   ]
  },
  {
   "cell_type": "markdown",
   "metadata": {},
   "source": [
    "##### 6. F6全连接层"
   ]
  },
  {
   "cell_type": "markdown",
   "metadata": {},
   "source": [
    "```\n",
    "输入：c5 120维向量\n",
    "\n",
    "计算方式：计算输入向量和权重向量之间的点积，再加上一个偏置，结果通过sigmoid函数输出。\n",
    "\n",
    "可训练参数:84*(120+1)=10164\n",
    "\n",
    "详细说明：6层是全连接层。F6层有84个节点，对应于一个7x12的比特图，-1表示白色，1表示黑色，这样每个符号的比特图的黑白色就对应于一个编码。该层的训练参数和连接数是(120 + 1)x84=10164。\n",
    "```\n",
    "\n",
    "<b>倒数第二层是全连接层，输出 K 维度的向量，其中 K 是网络能够预测的类数量。此向量包含任何图像的每个类进行分类的概率。</b>\n",
    "\n",
    "即<b>卷积网络中倒数第二个全连接层的输出才是最后要提取的特征</b>"
   ]
  },
  {
   "cell_type": "markdown",
   "metadata": {},
   "source": [
    "ASCII编码图如下："
   ]
  },
  {
   "cell_type": "markdown",
   "metadata": {},
   "source": [
    "<img src='./image/lenet56_1.png' />"
   ]
  },
  {
   "cell_type": "markdown",
   "metadata": {},
   "source": [
    "<img src='./image/lenet56.png' />"
   ]
  },
  {
   "cell_type": "markdown",
   "metadata": {},
   "source": [
    "##### 7. 输出层-全连接层"
   ]
  },
  {
   "cell_type": "markdown",
   "metadata": {},
   "source": [
    "Output层也是全连接层，共有10个节点，分别代表数字0到9，且如果节点i的值为0，则网络识别的结果是数字i。\n",
    "\n",
    "采用的是径向基函数（RBF）的网络连接方式。假设x是上一层的输入，y是RBF的输出，则RBF输出的计算方式是："
   ]
  },
  {
   "cell_type": "markdown",
   "metadata": {},
   "source": [
    "<img src='./image/rbf.png' />"
   ]
  },
  {
   "cell_type": "markdown",
   "metadata": {},
   "source": [
    "上式w_ij 的值由i的比特图编码确定，i从0到9，j取值从0到7\\*12-1。\n",
    "\n",
    "RBF输出的值越接近于0，则越接近于i，即越接近于i的ASCII编码图，表示当前网络输入的识别结果是字符i。\n",
    "\n",
    "该层有84x10=840个参数和连接。\n",
    "\n",
    "<b>即CNN的最后一层使用分类层（比如 softmax）提供分类输出。</b>"
   ]
  },
  {
   "cell_type": "markdown",
   "metadata": {},
   "source": [
    "<img src='./image/lenet57.png' />"
   ]
  },
  {
   "cell_type": "markdown",
   "metadata": {},
   "source": [
    "数字3通过LeNet-5的识别过程："
   ]
  },
  {
   "cell_type": "markdown",
   "metadata": {},
   "source": [
    "<img src='./image/lenet57_1.png' />"
   ]
  },
  {
   "cell_type": "markdown",
   "metadata": {},
   "source": [
    "理论部分说的非常非常多了，下面看一下如何用Keras做一个mnist，即手写数字的CNN神经网络："
   ]
  },
  {
   "cell_type": "code",
   "execution_count": 1,
   "metadata": {
    "ExecuteTime": {
     "end_time": "2023-01-04T06:32:36.809085Z",
     "start_time": "2023-01-04T06:32:34.244067Z"
    }
   },
   "outputs": [],
   "source": [
    "# import the necessary packages\n",
    "from tensorflow.python.keras import backend as K\n",
    "from tensorflow.python.keras.models import Sequential, load_model\n",
    "from tensorflow.python.keras.layers.convolutional import Conv2D\n",
    "from tensorflow.python.keras.layers.convolutional import MaxPooling2D\n",
    "from tensorflow.python.keras.layers.core import Activation\n",
    "from tensorflow.python.keras.layers.core import Flatten\n",
    "from tensorflow.python.keras.layers.core import Dense\n",
    "from tensorflow.python.keras.datasets import mnist\n",
    "from tensorflow.python.keras.utils import np_utils\n",
    "from tensorflow.keras.optimizers import SGD, RMSprop, Adam\n",
    "import numpy as np\n",
    "import os\n",
    "\n",
    "%matplotlib inline\n",
    "import matplotlib.pyplot as plt"
   ]
  },
  {
   "cell_type": "code",
   "execution_count": 2,
   "metadata": {
    "ExecuteTime": {
     "end_time": "2023-01-04T06:32:38.361694Z",
     "start_time": "2023-01-04T06:32:38.354687Z"
    }
   },
   "outputs": [],
   "source": [
    "np.random.seed(1671)  # for reproducibility"
   ]
  },
  {
   "cell_type": "code",
   "execution_count": 3,
   "metadata": {
    "ExecuteTime": {
     "end_time": "2023-01-04T06:32:38.842737Z",
     "start_time": "2023-01-04T06:32:38.828730Z"
    }
   },
   "outputs": [],
   "source": [
    "#define the convnet \n",
    "class LeNet:\n",
    "    @staticmethod\n",
    "    def build(input_shape, classes):\n",
    "        model = Sequential()\n",
    "        print(input_shape)\n",
    "        # CONV => RELU => POOL\n",
    "        model.add(Conv2D(20, kernel_size=5, padding=\"same\",\n",
    "                         input_shape=input_shape))\n",
    "        model.add(Activation(\"relu\"))\n",
    "        model.add(MaxPooling2D(pool_size=(2, 2), strides=(2, 2)))\n",
    "        # CONV => RELU => POOL\n",
    "        model.add(Conv2D(50, kernel_size=5, padding=\"same\"))\n",
    "        model.add(Activation(\"relu\"))\n",
    "        model.add(MaxPooling2D(pool_size=(2, 2), strides=(2, 2)))\n",
    "        # Flatten => RELU layers\n",
    "        model.add(Flatten())\n",
    "        model.add(Dense(500))\n",
    "        model.add(Activation(\"relu\"))\n",
    "        # a softmax classifier\n",
    "        model.add(Dense(classes))\n",
    "        model.add(Activation(\"softmax\"))\n",
    "\n",
    "        return model"
   ]
  },
  {
   "cell_type": "code",
   "execution_count": 4,
   "metadata": {
    "ExecuteTime": {
     "end_time": "2023-01-04T06:32:39.446552Z",
     "start_time": "2023-01-04T06:32:39.433551Z"
    }
   },
   "outputs": [],
   "source": [
    "# network and training\n",
    "NB_EPOCH = 20\n",
    "BATCH_SIZE = 128\n",
    "VERBOSE = 1\n",
    "OPTIMIZER = Adam()\n",
    "VALIDATION_SPLIT=0.2"
   ]
  },
  {
   "cell_type": "code",
   "execution_count": 5,
   "metadata": {
    "ExecuteTime": {
     "end_time": "2023-01-04T06:32:39.977493Z",
     "start_time": "2023-01-04T06:32:39.960495Z"
    }
   },
   "outputs": [],
   "source": [
    "IMG_ROWS, IMG_COLS = 28, 28 # input image dimensions\n",
    "NB_CLASSES = 10  # number of outputs = number of digits\n",
    "INPUT_SHAPE = (1, IMG_ROWS, IMG_COLS)"
   ]
  },
  {
   "cell_type": "code",
   "execution_count": 6,
   "metadata": {
    "ExecuteTime": {
     "end_time": "2023-01-04T06:32:40.661148Z",
     "start_time": "2023-01-04T06:32:40.459455Z"
    }
   },
   "outputs": [],
   "source": [
    "# data: shuffled and split between train and test sets\n",
    "(X_train, y_train), (X_test, y_test) = mnist.load_data()\n",
    "# 注意:Keras 2.2.5版本已经不支持下面的方法\n",
    "K.set_image_data_format('channels_first')"
   ]
  },
  {
   "cell_type": "code",
   "execution_count": 7,
   "metadata": {
    "ExecuteTime": {
     "end_time": "2023-01-04T06:32:41.035889Z",
     "start_time": "2023-01-04T06:32:40.924991Z"
    }
   },
   "outputs": [],
   "source": [
    "# consider them as float and normalize\n",
    "X_train = X_train.astype('float32')\n",
    "X_test = X_test.astype('float32')\n",
    "X_train /= 255 \n",
    "X_test /= 255  "
   ]
  },
  {
   "cell_type": "markdown",
   "metadata": {},
   "source": [
    "因为训练一次mnist太慢了，为了演示，仅仅训练1000个样本。"
   ]
  },
  {
   "cell_type": "code",
   "execution_count": 8,
   "metadata": {
    "ExecuteTime": {
     "end_time": "2023-01-04T06:32:42.372972Z",
     "start_time": "2023-01-04T06:32:42.354994Z"
    }
   },
   "outputs": [],
   "source": [
    "# we need a 60K x [1 x 28 x 28] shape as input to the CONVNET\n",
    "X_train = X_train[:, np.newaxis, :, :][:1000]\n",
    "X_test = X_test[:, np.newaxis, :, :]"
   ]
  },
  {
   "cell_type": "code",
   "execution_count": 9,
   "metadata": {
    "ExecuteTime": {
     "end_time": "2023-01-04T06:32:42.962153Z",
     "start_time": "2023-01-04T06:32:42.955145Z"
    }
   },
   "outputs": [
    {
     "name": "stdout",
     "output_type": "stream",
     "text": [
      "1000 train samples\n",
      "10000 test samples\n"
     ]
    }
   ],
   "source": [
    "print(X_train.shape[0], 'train samples')\n",
    "print(X_test.shape[0], 'test samples')\n",
    "# print(X_train[0])"
   ]
  },
  {
   "cell_type": "code",
   "execution_count": 10,
   "metadata": {
    "ExecuteTime": {
     "end_time": "2023-01-04T06:32:43.908029Z",
     "start_time": "2023-01-04T06:32:43.896097Z"
    }
   },
   "outputs": [
    {
     "name": "stdout",
     "output_type": "stream",
     "text": [
      "[0. 0. 1. 0. 0. 0. 0. 0. 0. 0.]\n"
     ]
    }
   ],
   "source": [
    "# convert class vectors to binary class matrices\n",
    "y_train = np_utils.to_categorical(y_train[:1000], NB_CLASSES)\n",
    "y_test = np_utils.to_categorical(y_test, NB_CLASSES)\n",
    "print(y_test[1])"
   ]
  },
  {
   "cell_type": "code",
   "execution_count": 16,
   "metadata": {
    "ExecuteTime": {
     "end_time": "2023-01-04T06:34:21.105385Z",
     "start_time": "2023-01-04T06:34:17.793368Z"
    },
    "scrolled": false
   },
   "outputs": [
    {
     "name": "stdout",
     "output_type": "stream",
     "text": [
      "(1, 28, 28)\n",
      "Epoch 1/20\n",
      "7/7 [==============================] - 2s 137ms/step - loss: 2.1147 - accuracy: 0.3038 - val_loss: 1.3148 - val_accuracy: 0.5800\n",
      "Epoch 2/20\n",
      "7/7 [==============================] - 0s 13ms/step - loss: 1.0110 - accuracy: 0.7334 - val_loss: 0.6680 - val_accuracy: 0.7850\n",
      "Epoch 3/20\n",
      "7/7 [==============================] - 0s 13ms/step - loss: 0.5121 - accuracy: 0.8474 - val_loss: 0.6240 - val_accuracy: 0.8250\n",
      "Epoch 4/20\n",
      "7/7 [==============================] - 0s 12ms/step - loss: 0.3948 - accuracy: 0.8859 - val_loss: 0.5653 - val_accuracy: 0.8200\n",
      "Epoch 5/20\n",
      "7/7 [==============================] - 0s 12ms/step - loss: 0.2967 - accuracy: 0.9106 - val_loss: 0.4912 - val_accuracy: 0.8800\n",
      "Epoch 6/20\n",
      "7/7 [==============================] - 0s 12ms/step - loss: 0.2240 - accuracy: 0.9446 - val_loss: 0.4009 - val_accuracy: 0.9000\n",
      "Epoch 7/20\n",
      "7/7 [==============================] - 0s 14ms/step - loss: 0.1784 - accuracy: 0.9496 - val_loss: 0.4045 - val_accuracy: 0.8950\n",
      "Epoch 8/20\n",
      "7/7 [==============================] - 0s 13ms/step - loss: 0.1124 - accuracy: 0.9689 - val_loss: 0.4207 - val_accuracy: 0.8850\n",
      "Epoch 9/20\n",
      "7/7 [==============================] - 0s 12ms/step - loss: 0.1211 - accuracy: 0.9590 - val_loss: 0.3533 - val_accuracy: 0.9100\n",
      "Epoch 10/20\n",
      "7/7 [==============================] - 0s 12ms/step - loss: 0.0914 - accuracy: 0.9745 - val_loss: 0.4460 - val_accuracy: 0.8900\n",
      "Epoch 11/20\n",
      "7/7 [==============================] - 0s 12ms/step - loss: 0.0729 - accuracy: 0.9770 - val_loss: 0.3561 - val_accuracy: 0.9250\n",
      "Epoch 12/20\n",
      "7/7 [==============================] - 0s 12ms/step - loss: 0.0951 - accuracy: 0.9778 - val_loss: 0.4872 - val_accuracy: 0.8800\n",
      "Epoch 13/20\n",
      "7/7 [==============================] - 0s 12ms/step - loss: 0.0816 - accuracy: 0.9772 - val_loss: 0.3443 - val_accuracy: 0.9100\n",
      "Epoch 14/20\n",
      "7/7 [==============================] - 0s 11ms/step - loss: 0.0614 - accuracy: 0.9852 - val_loss: 0.3263 - val_accuracy: 0.9200\n",
      "Epoch 15/20\n",
      "7/7 [==============================] - 0s 13ms/step - loss: 0.0328 - accuracy: 0.9947 - val_loss: 0.3272 - val_accuracy: 0.9350\n",
      "Epoch 16/20\n",
      "7/7 [==============================] - 0s 13ms/step - loss: 0.0194 - accuracy: 0.9955 - val_loss: 0.3264 - val_accuracy: 0.9350\n",
      "Epoch 17/20\n",
      "7/7 [==============================] - 0s 12ms/step - loss: 0.0143 - accuracy: 0.9993 - val_loss: 0.3500 - val_accuracy: 0.9300\n",
      "Epoch 18/20\n",
      "7/7 [==============================] - 0s 12ms/step - loss: 0.0086 - accuracy: 1.0000 - val_loss: 0.3679 - val_accuracy: 0.9350\n",
      "Epoch 19/20\n",
      "7/7 [==============================] - 0s 13ms/step - loss: 0.0070 - accuracy: 1.0000 - val_loss: 0.3796 - val_accuracy: 0.9300\n",
      "Epoch 20/20\n",
      "7/7 [==============================] - 0s 14ms/step - loss: 0.0052 - accuracy: 1.0000 - val_loss: 0.3769 - val_accuracy: 0.9250\n"
     ]
    }
   ],
   "source": [
    "# 如果执行下面的代码出现类似Could not load library cudnn_ops_infer64_8.dll. Error code 126的错误\n",
    "# 可以试着将cu_dnn所需要的dll，拷贝到system32目录中\n",
    "\n",
    "modelpath = './cnnmodel/mnistcnn.h5'\n",
    "model = None\n",
    "history = None\n",
    "# os.remove(modelpath)\n",
    "if os.path.exists(modelpath):\n",
    "    try:\n",
    "        K.clear_session()\n",
    "    except Exception as e:\n",
    "        print(e)\n",
    "    model = load_model(modelpath)\n",
    "else:\n",
    "    # initialize the optimizer and model\n",
    "    model = LeNet.build(input_shape=INPUT_SHAPE, classes=NB_CLASSES)\n",
    "    model.compile(loss=\"categorical_crossentropy\", optimizer=OPTIMIZER,\n",
    "                  metrics=[\"accuracy\"])\n",
    "    history = model.fit(X_train, y_train, \n",
    "                    batch_size=BATCH_SIZE, \n",
    "                    epochs=NB_EPOCH, \n",
    "                    verbose=VERBOSE, \n",
    "                    validation_split=VALIDATION_SPLIT)\n",
    "    model.save(modelpath)"
   ]
  },
  {
   "cell_type": "code",
   "execution_count": 17,
   "metadata": {
    "ExecuteTime": {
     "end_time": "2023-01-04T06:34:25.582924Z",
     "start_time": "2023-01-04T06:34:24.633163Z"
    }
   },
   "outputs": [
    {
     "name": "stdout",
     "output_type": "stream",
     "text": [
      "313/313 [==============================] - 1s 3ms/step - loss: 0.2438 - accuracy: 0.9369\n"
     ]
    }
   ],
   "source": [
    "score = model.evaluate(X_test, y_test, verbose=VERBOSE)"
   ]
  },
  {
   "cell_type": "code",
   "execution_count": 18,
   "metadata": {
    "ExecuteTime": {
     "end_time": "2023-01-04T06:34:26.636551Z",
     "start_time": "2023-01-04T06:34:26.617458Z"
    }
   },
   "outputs": [
    {
     "name": "stdout",
     "output_type": "stream",
     "text": [
      "\n",
      "Test score: 0.2437860667705536\n",
      "Test accuracy: 0.9369000196456909\n"
     ]
    }
   ],
   "source": [
    "print(\"\\nTest score:\", score[0])\n",
    "print('Test accuracy:', score[1])"
   ]
  },
  {
   "cell_type": "code",
   "execution_count": 21,
   "metadata": {
    "ExecuteTime": {
     "end_time": "2023-01-04T06:35:06.507811Z",
     "start_time": "2023-01-04T06:35:06.277151Z"
    }
   },
   "outputs": [
    {
     "name": "stdout",
     "output_type": "stream",
     "text": [
      "dict_keys(['loss', 'accuracy', 'val_loss', 'val_accuracy'])\n"
     ]
    },
    {
     "data": {
      "image/png": "[encoded data removed]",
      "text/plain": [
       "<Figure size 640x480 with 1 Axes>"
      ]
     },
     "metadata": {},
     "output_type": "display_data"
    },
    {
     "data": {
      "image/png": "[encoded data removed]",
      "text/plain": [
       "<Figure size 640x480 with 1 Axes>"
      ]
     },
     "metadata": {},
     "output_type": "display_data"
    }
   ],
   "source": [
    "# list all data in history\n",
    "if history is not None:\n",
    "    print(history.history.keys())\n",
    "    %matplotlib inline\n",
    "    # summarize history for accuracy\n",
    "    plt.plot(history.history['accuracy'])\n",
    "    plt.plot(history.history['val_accuracy'])\n",
    "    plt.title('model accuracy')\n",
    "    plt.ylabel('accuracy')\n",
    "    plt.xlabel('epoch')\n",
    "    plt.legend(['train', 'test'], loc='upper left')\n",
    "    plt.show()\n",
    "    \n",
    "    # summarize history for loss\n",
    "    %matplotlib inline\n",
    "    plt.plot(history.history['loss'])\n",
    "    plt.plot(history.history['val_loss'])\n",
    "    plt.title('model loss')\n",
    "    plt.ylabel('loss')\n",
    "    plt.xlabel('epoch')\n",
    "    plt.legend(['train', 'test'], loc='upper left')\n",
    "    plt.show()"
   ]
  },
  {
   "cell_type": "markdown",
   "metadata": {},
   "source": [
    "### 循环神经网络(RNN)"
   ]
  },
  {
   "cell_type": "markdown",
   "metadata": {},
   "source": [
    "#### RNN概述"
   ]
  },
  {
   "cell_type": "markdown",
   "metadata": {},
   "source": [
    " 1) BP算法,CNN之后, 为什么还有RNN?"
   ]
  },
  {
   "cell_type": "markdown",
   "metadata": {},
   "source": [
    "细想BP算法,CNN(卷积神经网络)我们会发现, 他们的输出都是只考虑前一个输入的影响而不考虑其它时刻输入的影响, 比如简单的猫,狗,手写数字等单个物体的识别具有较好的效果。\n",
    "\n",
    "但是, 对于一些与时间先后有关的, 比如视频的下一时刻的预测,文档前后文内容的预测等, 这些算法的表现就不尽如人意了.因此, RNN就应运而生了。"
   ]
  },
  {
   "cell_type": "markdown",
   "metadata": {},
   "source": [
    "2) 什么是RNN?"
   ]
  },
  {
   "cell_type": "markdown",
   "metadata": {},
   "source": [
    "RNN是一种特殊的神经网络结构, 它是根据\"人的认知是基于过往的经验和记忆\"这一观点提出的。\n",
    "\n",
    "它与DNN,CNN不同的是: 它不仅考虑前一时刻的输入,而且赋予了网络对前面的内容的一种'记忆'功能。\n",
    "\n",
    "RNN之所以称为循环神经网络，即一个序列当前的输出与前面的输出也有关。\n",
    "\n",
    "具体的表现形式为网络会对前面的信息进行记忆并应用于当前输出的计算中，即隐藏层之间的节点不再无连接而是有连接的，并且隐藏层的输入不仅包括输入层的输出还包括上一时刻隐藏层的输出。"
   ]
  },
  {
   "cell_type": "markdown",
   "metadata": {},
   "source": [
    "3) RNN的主要应用领域有哪些呢?"
   ]
  },
  {
   "cell_type": "markdown",
   "metadata": {},
   "source": [
    "RNN的应用领域有很多, 可以说只要考虑时间先后顺序的问题都可以使用RNN来解决.这里主要说一下几个常见的应用领域:\n",
    "\n",
    "   ① <font color='red'>自然语言处理(NLP)</font>: 主要有视频处理, 文本生成, 语言模型, 图像处理\n",
    "\n",
    "   ② 机器翻译, 机器写小说\n",
    "\n",
    "   ③ 语音识别\n",
    "\n",
    "   ④ 图像描述生成\n",
    "\n",
    "   ⑤ 文本相似度计算\n",
    "\n",
    "   ⑥ 音乐推荐、网易考拉商品推荐、Youtube视频推荐等新的应用领域."
   ]
  },
  {
   "cell_type": "markdown",
   "metadata": {},
   "source": [
    "#### RNN详细介绍"
   ]
  },
  {
   "cell_type": "markdown",
   "metadata": {},
   "source": [
    "##### RNN模型结构"
   ]
  },
  {
   "cell_type": "markdown",
   "metadata": {},
   "source": [
    "前面我们说了RNN具有时间\"记忆\"的功能, 那么它是怎么实现所谓的\"记忆\"的呢?"
   ]
  },
  {
   "cell_type": "markdown",
   "metadata": {},
   "source": [
    "<img src='./image/rnn.jpeg' />"
   ]
  },
  {
   "cell_type": "markdown",
   "metadata": {},
   "source": [
    "标准的RNN结构如上图：也就是将上一个时刻的输出加上本时刻的输入，过一个activation，比如tanh，就成了下一个时刻的输出。\n",
    "\n",
    "这是最简单也最好理解的RNN结构。"
   ]
  },
  {
   "cell_type": "markdown",
   "metadata": {},
   "source": [
    "<img src='./image/rnn_1.jpg' />"
   ]
  },
  {
   "cell_type": "markdown",
   "metadata": {},
   "source": [
    "如图1所示, 我们可以看到RNN层级结构较之于CNN来说比较简单, 它主要有输入层,Hidden Layer, 输出层组成。\n",
    "\n",
    "注意：图中没有卷积层与池化层。\n",
    "\n",
    "并且会发现在Hidden Layer 有一个箭头表示数据的循环更新, 这个就是实现时间记忆功能的方法.\n",
    "\n",
    "如果到这里你还是没有搞懂RNN到底是什么意思,那么请继续往下看!"
   ]
  },
  {
   "cell_type": "markdown",
   "metadata": {},
   "source": [
    "<img src='./image/rnn_2.png' />"
   ]
  },
  {
   "cell_type": "markdown",
   "metadata": {},
   "source": [
    "如图所示为Hidden Layer的层级展开图。\n",
    "\n",
    "t-1, t, t+1表示时间序列 \n",
    "\n",
    "X表示输入的样本。 \n",
    "\n",
    "S<sub>t</sub>表示样本在时间t处的的记忆。\n",
    "\n",
    "S<sub>t</sub> = f(W\\*S<sub>t-1</sub> +U\\*X<sub>t</sub>)。\n",
    "\n",
    "W表示输入的权重\n",
    "\n",
    "U表示此刻输入的样本的权重\n",
    "\n",
    "V表示输出的样本权重"
   ]
  },
  {
   "cell_type": "markdown",
   "metadata": {},
   "source": [
    "在t =1时刻, 一般初始化输入S<sub>0</sub>=0, 随机初始化W,U,V, 进行下面的公式计算:"
   ]
  },
  {
   "cell_type": "markdown",
   "metadata": {},
   "source": [
    "<img src='./image/rnn_f1.png' />"
   ]
  },
  {
   "cell_type": "markdown",
   "metadata": {},
   "source": [
    "其中,f和g均为激活函数. 其中f可以是tanh,relu,sigmoid等激活函数，g通常是softmax也可以是其他。"
   ]
  },
  {
   "cell_type": "markdown",
   "metadata": {},
   "source": [
    " 时间就向前推进，此时的状态s<sub>1</sub>作为时刻1的记忆状态将参与下一个时刻的预测活动，也就是:"
   ]
  },
  {
   "cell_type": "markdown",
   "metadata": {},
   "source": [
    "<img src='./image/rnn_f2.png' />"
   ]
  },
  {
   "cell_type": "markdown",
   "metadata": {},
   "source": [
    "以此类推, 可以得到最终的输出值为:"
   ]
  },
  {
   "cell_type": "markdown",
   "metadata": {},
   "source": [
    "<img src='./image/rnn_f3.png' />"
   ]
  },
  {
   "cell_type": "markdown",
   "metadata": {},
   "source": [
    "注意: \n",
    "\n",
    "1. 这里的W,U,V在每个时刻都是相等的(权重共享).\n",
    "\n",
    "2. 隐藏状态可以理解为:  S=f(现有的输入+过去记忆总结) "
   ]
  },
  {
   "cell_type": "markdown",
   "metadata": {},
   "source": [
    "##### 5.4.4.2.2 RNN反向传播"
   ]
  },
  {
   "cell_type": "markdown",
   "metadata": {},
   "source": [
    "前面我们介绍了RNN的前向传播的方式, 那么RNN的权重参数W,U,V都是怎么更新的呢?"
   ]
  },
  {
   "cell_type": "markdown",
   "metadata": {},
   "source": [
    "每一次的输出值O<sub>t</sub>都会产生一个误差值E<sub>t</sub>, 则总的误差可以表示为:<img src='./image/rnn_f4.png' />"
   ]
  },
  {
   "cell_type": "markdown",
   "metadata": {},
   "source": [
    "则<b>损失函数</b>可以使用<b>交叉熵损失函数</b>也可以使用<b>平方误差损失函数</b>."
   ]
  },
  {
   "cell_type": "markdown",
   "metadata": {},
   "source": [
    "由于每一步的输出不仅仅依赖当前步的网络，并且还需要前若干步网络的状态，那么这种BP改版的算法叫做<b>Backpropagation Through Time(BPTT)</b> , 也就是将输出端的误差值反向传递,运用梯度下降法进行更新."
   ]
  },
  {
   "cell_type": "markdown",
   "metadata": {},
   "source": [
    ">为什么提到梯度就要求偏导数？\n",
    "毕竟求偏导的物理意义是：表示在某一方向速度随位置变化的快慢（类似加速度）"
   ]
  },
  {
   "cell_type": "markdown",
   "metadata": {},
   "source": [
    "也就是要求参数的梯度:"
   ]
  },
  {
   "cell_type": "markdown",
   "metadata": {},
   "source": [
    "<img src='./image/rnn_f5.png' />"
   ]
  },
  {
   "cell_type": "markdown",
   "metadata": {},
   "source": [
    "首先我们求解W的更新方法, 由前面的W的更新可以看出它是每个时刻的偏差的偏导数之和. \n",
    "\n",
    "在这里我们以 t = 3时刻为例, 根据链式求导法则可以得到t = 3时刻的偏导数为:"
   ]
  },
  {
   "cell_type": "markdown",
   "metadata": {},
   "source": [
    "<img src='./image/rnn_f6.png' />"
   ]
  },
  {
   "cell_type": "markdown",
   "metadata": {},
   "source": [
    "此时, 根据公式<img src='./image/rnn_f7.png' />， 我们会发现, S3除了和W有关之外, 还和前一时刻S2有关.\n",
    "\n",
    "对于S3直接展开得到下面的式子:"
   ]
  },
  {
   "cell_type": "markdown",
   "metadata": {},
   "source": [
    "<img src='./image/rnn_f8.png' />"
   ]
  },
  {
   "cell_type": "markdown",
   "metadata": {},
   "source": [
    "对于S2直接展开得到下面的式子:"
   ]
  },
  {
   "cell_type": "markdown",
   "metadata": {},
   "source": [
    "<img src='./image/rnn_f9.png' />"
   ]
  },
  {
   "cell_type": "markdown",
   "metadata": {},
   "source": [
    "对于S1直接展开得到下面的式子:"
   ]
  },
  {
   "cell_type": "markdown",
   "metadata": {},
   "source": [
    "<img src='./image/rnn_f10.png' />"
   ]
  },
  {
   "cell_type": "markdown",
   "metadata": {},
   "source": [
    " 将上述三个式子合并得到:"
   ]
  },
  {
   "cell_type": "markdown",
   "metadata": {},
   "source": [
    "<img src='./image/rnn_f11.png' />"
   ]
  },
  {
   "cell_type": "markdown",
   "metadata": {},
   "source": [
    "这样就得到了公式:"
   ]
  },
  {
   "cell_type": "markdown",
   "metadata": {},
   "source": [
    "<img src='./image/rnn_f12.png' />"
   ]
  },
  {
   "cell_type": "markdown",
   "metadata": {},
   "source": [
    "这里要说明的是:<img src='./image/rnn_f13.png' />，<br>表示的是S3对W直接求导, 不考虑S2的影响.(也就是例如y = f(x)*g(x)对x求导一样)"
   ]
  },
  {
   "cell_type": "markdown",
   "metadata": {},
   "source": [
    "其次是对U的更新方法. 由于参数U求解和W求解类似,这里就不在赘述了,最终得到的具体的公式如下:"
   ]
  },
  {
   "cell_type": "markdown",
   "metadata": {},
   "source": [
    "<img src='./image/rnn_f14.png' />"
   ]
  },
  {
   "cell_type": "markdown",
   "metadata": {},
   "source": [
    "最后,给出V的更新公式(V只和输出O有关):"
   ]
  },
  {
   "cell_type": "markdown",
   "metadata": {},
   "source": [
    "<img src='./image/rnn_f15.png' />"
   ]
  },
  {
   "cell_type": "markdown",
   "metadata": {},
   "source": [
    "RNN的特性：\n",
    "\n",
    "a）循环神经网络能够在每个时间节点产生一个输出，且隐单元间的连接是循环的；\n",
    "\n",
    "b）循环神经网络能够在每个时间节点产生一个输出，且该时间节点上的输出仅与下一时间节点的隐单元有循环连接；\n",
    "\n",
    "c）循环神经网络包含带有循环连接的隐单元，且能够处理序列数据并输出单一的预测。"
   ]
  },
  {
   "cell_type": "markdown",
   "metadata": {},
   "source": [
    "#### RNN的一些改进算法"
   ]
  },
  {
   "cell_type": "markdown",
   "metadata": {},
   "source": [
    "前面我们介绍了RNN的算法, 它处理时间序列的问题的效果很好, 但是仍然存在着一些问题, 其中较为严重的是容易出现梯度消失或者梯度爆炸的问题(BP算法和长时间依赖造成的). 注意: 这里的梯度消失和BP的不一样,这里主要指由于时间过长而造成记忆值较小的现象.\n",
    "\n",
    "因此, 就出现了一系列的改进的算法, 这里介绍主要的两种算法: LSTM 和 GRU.\n",
    "\n",
    "LSTM 和 GRU对于梯度消失或者梯度爆炸的问题处理方法主要是:\n",
    "\n",
    "对于<b>梯度消失</b>: 由于它们都有特殊的方式存储”记忆”，那么以前梯度比较大的”记忆”不会像简单的RNN一样马上被抹除，因此可以一定程度上克服梯度消失问题。\n",
    "\n",
    "对于<b>梯度爆炸</b>:用来克服梯度爆炸的问题就是gradient clipping，也就是当你计算的梯度超过阈值c或者小于阈值-c的时候，便把此时的梯度设置成c或-c。 "
   ]
  },
  {
   "cell_type": "markdown",
   "metadata": {},
   "source": [
    "##### LSTM算法（Long Short Term Memory, 长短期记忆网络）"
   ]
  },
  {
   "cell_type": "markdown",
   "metadata": {},
   "source": [
    "LSTM是目前使用最多的时间序列算法，几乎算是标配了。"
   ]
  },
  {
   "cell_type": "markdown",
   "metadata": {},
   "source": [
    "LSTM模型是用来解决simple RNN对于长时期依赖问题（Long Term Dependency），即通过之前提到的但是时间上较为久远的内容进行后续的推理和判断。\n",
    "\n",
    "LSTM的基本思路是引入了门控装置，来处理记忆单元的记忆/遗忘、输入程度、输出程度的问题。\n",
    "\n",
    "通过一定的学习，可以学到何时对各个门开启到何种程度，因为门控也是由有一定可以学习的参数的神经网络来实现的，这样就可以让机器知道何时应该记住某个信息，而何时应该抛弃某个信息。"
   ]
  },
  {
   "cell_type": "markdown",
   "metadata": {},
   "source": [
    "<img src='./image/lstm_1.png' />"
   ]
  },
  {
   "cell_type": "markdown",
   "metadata": {},
   "source": [
    "和RNN不同的是，RNN中：<img src='./image/rnn_f.png' />，就是个简单的线性求和的过程，而LSTM可以通过“门”结构来去除或增加“细胞状态”的信息。\n",
    "\n",
    "从而实现了对重要内容的保留，和对不重要内容的去除，通过Sigmoid层输出一个0到1之间的概率值，描述每个部分有多少量可以通过。\n",
    "\n",
    "0：表示“不允许任务变量通过”\n",
    "1：表示“运行所有变量通过”"
   ]
  },
  {
   "cell_type": "markdown",
   "metadata": {},
   "source": [
    "LSTM的巧妙之处在于通过增加输入门限，遗忘门限和输出门限，使得自循环的权重是变化的，这样一来在模型参数固定的情况下，不同时刻的积分尺度可以动态改变，从而避免了梯度消失或者梯度膨胀的问题。\n",
    "\n",
    ">用于遗忘的门叫做\"遗忘门\", 用于信息增加的叫做\"信息增加门\",最后是用于输出的\"输出门\". \n"
   ]
  },
  {
   "cell_type": "markdown",
   "metadata": {},
   "source": [
    "<b>LSTM的流程是这样的</b>：首先，每一个时刻都有一个输出和cell state，输出就是上面的h，state就是C，那么，对于下一个时刻，把上一个时刻的输出连带着这一个时刻的输入作为整体，当做cell的输入，同时也是控制三个门的输入。\n",
    "\n",
    "首先，先要经过一个遗忘门，forget gate，注意到，sigma (σ)表示sigmoid函数，0到1之间，如果遗忘门的输出结果接近0，表示尽量忘掉上一个时刻的输出，而接近1表示进行记忆；\n",
    "\n",
    "然后，上一个状态残存的部分（Ct-1和ft的乘积）继续向前，它要加上这个状态的输入的信息，那么又遇到了输入门，input gate，这个门表征通过多少量的输入，经过输入门处理后的输入信号（在进入输入门之前要对输入做tanh运算，把值域压缩到[-1,1]范围内）和前面的上一个state的残余加起来，就是这个时刻的细胞状态。\n",
    "\n",
    "这样，细胞状态，就是state完成了从t-1到t时刻的更新，那么输出和状态C有何关系呢？\n",
    "\n",
    "这就是最后一个门，输出门的功能，输出门和tanh后的cell state相乘，结果就是t时刻的输出。"
   ]
  },
  {
   "cell_type": "markdown",
   "metadata": {},
   "source": [
    "<img src='./image/lstm_5.svg' />"
   ]
  },
  {
   "cell_type": "markdown",
   "metadata": {},
   "source": [
    "<img src='./image/lstm_4.png' />"
   ]
  },
  {
   "cell_type": "markdown",
   "metadata": {},
   "source": [
    "此外,LSTM算法的还有一些变种。\n",
    "\n",
    "如图，它增加“peephole connections”层，让门层也接受细胞状态的输入"
   ]
  },
  {
   "cell_type": "markdown",
   "metadata": {},
   "source": [
    "<img src='./image/lstm_2.png' />"
   ]
  },
  {
   "cell_type": "markdown",
   "metadata": {},
   "source": [
    "下图所示为LSTM的另外一种变种算法.它是通过耦合忘记门和更新输入门(第一个和第二个门)；也就是不再单独的考虑忘记什么、增加什么信息，而是一起进行考虑。"
   ]
  },
  {
   "cell_type": "markdown",
   "metadata": {},
   "source": [
    "<img src='./image/lstm_3.png' />"
   ]
  },
  {
   "cell_type": "markdown",
   "metadata": {},
   "source": [
    "<b>具体的LSTM例子</b>"
   ]
  },
  {
   "cell_type": "markdown",
   "metadata": {},
   "source": [
    "文本清洗部分的代码"
   ]
  },
  {
   "cell_type": "code",
   "execution_count": 1,
   "metadata": {
    "ExecuteTime": {
     "end_time": "2023-01-04T06:40:30.505425Z",
     "start_time": "2023-01-04T06:40:26.067104Z"
    }
   },
   "outputs": [],
   "source": [
    "import os\n",
    "import re\n",
    "import spacy\n",
    "import textacy.extract\n",
    "import textacy"
   ]
  },
  {
   "cell_type": "code",
   "execution_count": 2,
   "metadata": {
    "ExecuteTime": {
     "end_time": "2023-01-04T06:40:33.145611Z",
     "start_time": "2023-01-04T06:40:32.776597Z"
    }
   },
   "outputs": [],
   "source": [
    "nlp = spacy.load('en_core_web_sm')"
   ]
  },
  {
   "cell_type": "code",
   "execution_count": 10,
   "metadata": {
    "ExecuteTime": {
     "end_time": "2023-01-04T06:41:24.486250Z",
     "start_time": "2023-01-04T06:41:24.469103Z"
    }
   },
   "outputs": [],
   "source": [
    "def extractverbphrase(text, pattern=r'(<ADV>*<NOUN|PROPN>*<VERB><DET>?<ADV>*<VERB|ADJ>+<ADP>?<DET>?<NUM>*<ADJ>*<NOUN|PROPN>*<ADV>?)|(<VERB>?<NOUN|PROPN>*<ADV>?<VERB><ADP>?<CCONJ>?<ADJ|VERB>*<ADV>?<ADP>?<DET>?<VERB>?<NOUN|PROPN>*)|(<DET>?<ADJ>+<NOUN|PROPN>+)|(<ADV>*<ADJ><ADP><DET>?<VERB|ADJ>*<NOUN|PROPN>*)|(<DET><NOUN><CCONJ><NOUN>)|(<NOUN|PROPN>*<CCONJ>?<NOUN|PROPN>+<ADP><NOUN|PROPN>+)|(<ADP><DET><NOUN|PROPN>+)'):\n",
    "    # ADV: 副词；sample：very, well, exactly, tomorrow, up, down\n",
    "    # VERB: 动词；sample: run, eat, ate, running, eats\n",
    "    # ADJ: 形容词；sample: big, old, green\n",
    "    # DET: 限定词；sample: a, an, this, this, no\n",
    "    # NOUN: 名词；sample: girl, boy, cat, tree\n",
    "    # ADP: 介词；sample: in, to, during\n",
    "    # PROPN: 专属名词；sample: Mary, London, HBO, Google\n",
    "    # CCONJ: 连词；sample: and, or, but\n",
    "    # 参照：http://universaldependencies.org/u/pos/all.html\n",
    "    doc = nlp(text)\n",
    "    patterns = [{'POS': pattern, 'OP': '+'}]\n",
    "    return list(textacy.extract.token_matches(doc, patterns))"
   ]
  },
  {
   "cell_type": "code",
   "execution_count": 11,
   "metadata": {
    "ExecuteTime": {
     "end_time": "2023-01-04T06:41:25.215281Z",
     "start_time": "2023-01-04T06:41:25.199281Z"
    }
   },
   "outputs": [],
   "source": [
    "def replacevariabletextfromtextblock(textblock):\n",
    "    \"\"\"\n",
    "    Variable Text:\n",
    "    1. PROPN words, such as: Mainstay VP Funds Trust, replace them with propn\n",
    "    2. Date part, such as January 1, 2018, replace them with date\n",
    "    3. Number, such as 1, 2, replace with space\n",
    "    :param textblock:\n",
    "    :return:\n",
    "    \"\"\"\n",
    "    # replace date string with \"date\"\n",
    "    datepattern = r'((January|February|March|April|May|June|July|August|September|October|November|December)[\\s]*[0-9]{1,2}[\\s]*,[\\s]*[0-9]{4})|([0-9]{1,2}/[0-9]{1,2}/[0-9]{4})'\n",
    "    textblock = re.sub(datepattern, 'date', textblock)\n",
    "    datepattern = r'\\d{2}\\/\\d{2}\\/(\\d{4}|\\d{2})'\n",
    "    textblock = re.sub(datepattern, 'date', textblock)\n",
    "    # 应对*CTIVP这种情况，无法识别PROPN\n",
    "    textblock = textblock.replace('*', ' ')\n",
    "    textblock = re.sub(r'( ){2,}', ' ', textblock).strip()\n",
    "    # 因为Money Market Fund前缀与后缀词经常是具体的基金公司，\n",
    "    # 所以去除具体基金公司名称的同时，\n",
    "    # 避免其被作为专属名词替换\n",
    "    textblock = textblock.replace(' of ', ' ')\\\n",
    "        .replace(' Inc.', ' ')\\\n",
    "        .replace('&', '')\\\n",
    "        .replace(' LLC ', ' ')\\\n",
    "        .replace(' BlackRock ', ' ')\\\n",
    "        .replace(' SP ', ' ')\\\n",
    "        .replace(' and ', ' ')\n",
    "    textblock = textblock.replace('-', ' ').\\\n",
    "        replace('–', ' ').\\\n",
    "        replace('Addition', 'addition')\n",
    "    textblock = re.sub(r'\\d', ' ', textblock)\n",
    "    textblock = re.sub(r'( ){2,}', ' ', textblock).strip()\n",
    "    phraselist = extractverbphrase(textblock, '<PROPN>+')\n",
    "    phraselist.sort(key=lambda i: len(i), reverse=True)\n",
    "    if len(phraselist) > 0:\n",
    "        for phrase in phraselist:\n",
    "            phrasetext = phrase.text\n",
    "            # avoid remove important words which are related with category\n",
    "            if 'money market fund' in phrasetext.lower():\n",
    "                textblock = textblock.replace(phrasetext, 'money market fund')\n",
    "            noexcludewordlist = ['date',\n",
    "                                 ' merge ',\n",
    "                                 ' merged ',\n",
    "                                 ' merging ',\n",
    "                                 ' merger ',\n",
    "                                 'acquir',\n",
    "                                 'survive',\n",
    "                                 'surviving',\n",
    "                                 'survived',\n",
    "                                 'liquidat',\n",
    "                                 'transfer',\n",
    "                                 'reorganiz',\n",
    "                                 'expense table',\n",
    "                                 'fee summary',\n",
    "                                 'operating expenses',\n",
    "                                 'annual fund',\n",
    "                                 'the adviser',\n",
    "                                 'benefit payment',\n",
    "                                 'variable account option',\n",
    "                                 ' new ',\n",
    "                                 'value',\n",
    "                                 'option',\n",
    "                                 'options']\n",
    "            shouldignore = False\n",
    "            for word in noexcludewordlist:\n",
    "                if word in phrasetext.lower():\n",
    "                    shouldignore = True\n",
    "                    break\n",
    "            if shouldignore:\n",
    "                continue\n",
    "            if not any([phrasetext.lower() == 'fund',\n",
    "                        len(phrasetext.split()) <= 2]):\n",
    "                textblock = textblock.replace(phrasetext, 'propn')\n",
    "    textblock = textblock.replace('PIMCO', ' ')\n",
    "    textblock = re.sub(r'\\W', ' ', textblock)\n",
    "    textblock = re.sub(r'(propn\\s+){2,}', 'propn ', textblock)\n",
    "    textblock = re.sub(r'( ){2,}', ' ', textblock).strip()\n",
    "    return textblock"
   ]
  },
  {
   "cell_type": "code",
   "execution_count": 12,
   "metadata": {
    "ExecuteTime": {
     "end_time": "2023-01-04T06:41:25.900257Z",
     "start_time": "2023-01-04T06:41:25.888253Z"
    }
   },
   "outputs": [],
   "source": [
    "def removespecialchar(sentence):\n",
    "    result = re.sub('\\W', ' ', sentence)\n",
    "    return re.sub('( ){2,}', ' ', result)"
   ]
  },
  {
   "cell_type": "code",
   "execution_count": 13,
   "metadata": {
    "ExecuteTime": {
     "end_time": "2023-01-04T06:41:26.694358Z",
     "start_time": "2023-01-04T06:41:26.682351Z"
    }
   },
   "outputs": [],
   "source": [
    "def lemmatization(sentence, allowed_postags=''):\n",
    "    \"\"\"https://spacy.io/api/annotation\"\"\"\n",
    "    doc = nlp(sentence)\n",
    "    # allowed_postags, such as 'NOUN,ADJ,VERB,ADV',\n",
    "    # 但是大多数情况，不能加allow_postags，否则很多词，比如no,  or就没有了\n",
    "    if len(allowed_postags) > 0:\n",
    "        resultlist = [token.lemma_\n",
    "                      for token\n",
    "                      in doc\n",
    "                      if token.pos_\n",
    "                      in [postag.upper().strip() for postag in allowed_postags.split(',')]]\n",
    "    else:\n",
    "        resultlist =  [token.lemma_ for token in doc]\n",
    "    return resultlist"
   ]
  },
  {
   "cell_type": "code",
   "execution_count": 14,
   "metadata": {
    "ExecuteTime": {
     "end_time": "2023-01-04T06:41:27.536585Z",
     "start_time": "2023-01-04T06:41:27.516584Z"
    }
   },
   "outputs": [],
   "source": [
    "def clearandlemmasentence(sentence,\n",
    "                          stopword='for a an the and in among'):\n",
    "    stoplist = set(stopword.split())\n",
    "    sentence = removespecialchar(sentence).lower().strip()\n",
    "    sentence = ' '.join([word.strip() for word\n",
    "                         in sentence.lower().strip().split()\n",
    "                         if len(word.strip()) > 0\n",
    "                         and word not in stoplist]).strip()\n",
    "    sentence = re.sub(r'(propn\\s+){2,}', 'propn ', sentence)\n",
    "    if len(sentence) == 0:\n",
    "        sentence = 'only for test'\n",
    "    lemmawordlist = lemmatization(sentence)\n",
    "    return lemmawordlist"
   ]
  },
  {
   "cell_type": "code",
   "execution_count": 15,
   "metadata": {
    "ExecuteTime": {
     "end_time": "2023-01-04T06:41:28.080481Z",
     "start_time": "2023-01-04T06:41:28.061410Z"
    }
   },
   "outputs": [],
   "source": [
    "def cleardatafordoc2vector(doc):\n",
    "    temp = ' '.join(\n",
    "        clearandlemmasentence(replacevariabletextfromtextblock(doc),\n",
    "                              'for a an of the and or to after in among as at be been was were is are being b c d e f g h i j k l m n o p q r s t u v w x y z'\n",
    "                              )).strip()\n",
    "    temp = temp.replace('-PRON-', 'pron')\n",
    "    return temp"
   ]
  },
  {
   "cell_type": "code",
   "execution_count": 16,
   "metadata": {
    "ExecuteTime": {
     "end_time": "2023-01-04T06:41:28.706669Z",
     "start_time": "2023-01-04T06:41:28.685731Z"
    }
   },
   "outputs": [
    {
     "name": "stdout",
     "output_type": "stream",
     "text": [
      "class merge into brighthouse fund trust ii neuberger berman genesis portfolio class\n"
     ]
    }
   ],
   "source": [
    "print(cleardatafordoc2vector('(Class B) merged into Brighthouse Funds Trust II: Neuberger Berman Genesis Portfolio (Class B);'))"
   ]
  },
  {
   "cell_type": "markdown",
   "metadata": {},
   "source": [
    "<b>LSTM的训练与预测类</b>"
   ]
  },
  {
   "cell_type": "markdown",
   "metadata": {},
   "source": [
    "同时适应二分类，多分类以及多标签分类"
   ]
  },
  {
   "cell_type": "code",
   "execution_count": 19,
   "metadata": {
    "ExecuteTime": {
     "end_time": "2023-01-04T06:43:52.594728Z",
     "start_time": "2023-01-04T06:43:52.589722Z"
    }
   },
   "outputs": [],
   "source": [
    "import numpy as np # linear algebra\n",
    "import pandas as pd # data processing, CSV file I/O (e.g. pd.read_csv)\n",
    "from tensorflow.keras.preprocessing.text import Tokenizer\n",
    "from tensorflow.keras.preprocessing import text\n",
    "from tensorflow.python.keras.preprocessing.sequence import pad_sequences\n",
    "from tensorflow.python.keras.models import Sequential, load_model\n",
    "from tensorflow.python.keras.layers import Dense, Embedding, LSTM, Bidirectional, GRU\n",
    "from tensorflow.python.keras.layers.normalization import BatchNormalization\n",
    "# import keras\n",
    "import os\n",
    "import time"
   ]
  },
  {
   "cell_type": "code",
   "execution_count": 23,
   "metadata": {
    "ExecuteTime": {
     "end_time": "2023-01-04T06:47:41.739192Z",
     "start_time": "2023-01-04T06:47:41.710180Z"
    }
   },
   "outputs": [],
   "source": [
    "import numpy as np # linear algebra\n",
    "import pandas as pd # data processing, CSV file I/O (e.g. pd.read_csv)\n",
    "\n",
    "from sklearn.feature_extraction.text import CountVectorizer\n",
    "from tensorflow.python.keras.preprocessing.text import Tokenizer\n",
    "from tensorflow.python.keras.preprocessing import text\n",
    "from tensorflow.python.keras.preprocessing.sequence import pad_sequences\n",
    "from tensorflow.python.keras.models import Sequential, load_model\n",
    "from tensorflow.python.keras.layers import Dense, Embedding, LSTM, Bidirectional, GRU\n",
    "from tensorflow.python.keras.layers.normalization import BatchNormalization\n",
    "# import keras\n",
    "from sklearn.model_selection import train_test_split\n",
    "from tensorflow.python.keras.utils.np_utils import to_categorical\n",
    "import re\n",
    "import traceback\n",
    "import os\n",
    "import time\n",
    "from tensorflow.python.keras.models import model_from_yaml\n",
    "\n",
    "class KerasUtil:\n",
    "    categorydict = {1: 'Added',\n",
    "                    2: 'Closed',\n",
    "                    3: 'Reopen',\n",
    "                    4: 'Merged',\n",
    "                    5: 'liquidate',\n",
    "                    6: 'NonCategory'}\n",
    "\n",
    "    def __init__(self, rawtextpath, \n",
    "                 lstmmodelpath, modeltype='lstm', multiplelabels=False):\n",
    "        self.max_fatures = 2000\n",
    "        self.modelrawtextpath = rawtextpath\n",
    "        self.modelpath = lstmmodelpath\n",
    "        self.modeltype = modeltype\n",
    "        self.multiplelabels = multiplelabels\n",
    "        self.data = None\n",
    "        self.lstmmodel = None\n",
    "        self.tokenizer = None\n",
    "        self.initialtokenizer()\n",
    "\n",
    "\n",
    "    def initialforlstm(self):\n",
    "        modelfilename = os.path.splitext(os.path.basename(self.modelpath))\n",
    "        modelyamlpath = os.path.join(os.path.dirname(self.modelpath),\n",
    "                                     '{0}.yaml'.format(modelfilename[0]))\n",
    "        modelweightpath = os.path.join(os.path.dirname(self.modelpath),\n",
    "                                     '{0}_weight.h5'.format(modelfilename[0]))\n",
    "        if not os.path.exists(self.modelpath):\n",
    "            self.trainlstmmodel()\n",
    "            self.loadmodel(modelyamlpath, modelweightpath)\n",
    "        elif self.lstmmodel is None:\n",
    "            try:\n",
    "                self.loadmodel(modelyamlpath, modelweightpath)\n",
    "            except Exception as e:\n",
    "                print(e)\n",
    "                keras.backend.clear_session()\n",
    "                self.loadmodel(modelyamlpath, modelweightpath)\n",
    "\n",
    "\n",
    "    def loadmodel(self, modelyamlpath, modelweightpath):\n",
    "        if not os.path.exists(modelyamlpath) or not os.path.exists(modelweightpath):\n",
    "            model = load_model(self.modelpath)\n",
    "            yaml_string = model.to_yaml()\n",
    "            open(modelyamlpath, 'w', encoding='utf-8').write(yaml_string)\n",
    "            model.save_weights(modelweightpath)\n",
    "            self.lstmmodel = model_from_yaml(open(modelyamlpath, encoding='utf-8').read())\n",
    "            self.lstmmodel.load_weights(modelweightpath)\n",
    "        else:\n",
    "            print('Load model: {0}, {1}'.format(modelyamlpath, modelweightpath))\n",
    "            self.lstmmodel = model_from_yaml(open(modelyamlpath, encoding='utf-8').read())\n",
    "            self.lstmmodel.load_weights(modelweightpath)\n",
    "\n",
    "\n",
    "    def initialtokenizer(self):\n",
    "        modelfilename = os.path.splitext(os.path.basename(self.modelpath))\n",
    "        tokenjsonpath = os.path.join(os.path.dirname(self.modelpath),\n",
    "                                     '{0}.json'.format(modelfilename[0]))\n",
    "        if not os.path.exists(tokenjsonpath) or not os.path.exists(self.modelpath):\n",
    "            if self.data is None:\n",
    "                self.data = pd.read_csv(self.modelrawtextpath, encoding='utf-16', sep='\\t')\n",
    "                if self.multiplelabels:\n",
    "                    self.data['added'] = self.data['added'].apply(int)\n",
    "                    self.data['closed'] = self.data['closed'].apply(int)\n",
    "                    self.data['reopen'] = self.data['reopen'].apply(int)\n",
    "                    self.data['merge'] = self.data['merge'].apply(int)\n",
    "                    self.data['liquidate'] = self.data['liquidate'].apply(int)\n",
    "                    self.data['nocategory'] = self.data['nocategory'].apply(int)\n",
    "                    self.data = self.data[['sentence',\n",
    "                                           'added',\n",
    "                                           'closed',\n",
    "                                           'reopen',\n",
    "                                           'merge',\n",
    "                                           'liquidate',\n",
    "                                           'nocategory']]\n",
    "                    print(self.data.head())\n",
    "                else:\n",
    "                    self.data['category'] = self.data['category'].apply(int)\n",
    "                    # Keeping only the neccessary columns\n",
    "                    self.data = self.data[['sentence', 'category']]\n",
    "                    print(self.data.head())\n",
    "\n",
    "                self.data['sentence'] = self.data['sentence'].apply(lambda x: cleardatafordoc2vector(x))\n",
    "                print('Cleaned text sample:')\n",
    "                print(self.data.head())\n",
    "\n",
    "                self.data['textlength'] = self.data['sentence'].apply(lambda x: len(x.split()))\n",
    "                print(self.data['textlength'].describe())\n",
    "\n",
    "            if self.tokenizer is None:\n",
    "                self.tokenizer = Tokenizer(num_words=self.max_fatures, split=' ')\n",
    "                self.tokenizer.fit_on_texts(self.data['sentence'].values)\n",
    "                with open(tokenjsonpath, \"w\", encoding='utf-8') as write_file:\n",
    "                    write_file.write(self.tokenizer.to_json())\n",
    "        else:\n",
    "            if self.tokenizer is None:\n",
    "                print('''Load tokenizer from json file: {0}.json. If there is any change for your training data, please delete related model and tokenizer json files, and re-generate them!!!!'''\n",
    "                            .format(modelfilename[0]))\n",
    "                self.tokenizer = Tokenizer(num_words=self.max_fatures, split=' ')\n",
    "                with open(tokenjsonpath, 'r', encoding='utf-8') as jsonfile:\n",
    "                    tokenizer_json = jsonfile.read()\n",
    "                    self.tokenizer = text.tokenizer_from_json(tokenizer_json)\n",
    "\n",
    "\n",
    "    def trainlstmmodel(self, needregenerate=True, epoch=1000):\n",
    "        if needregenerate or not os.path.exists(self.modelpath):\n",
    "            X = self.tokenizer.texts_to_sequences(self.data['sentence'].values)\n",
    "            X = pad_sequences(X, maxlen=80)\n",
    "\n",
    "            # ONE-HOT category，并获取category的数量\n",
    "            if self.multiplelabels:\n",
    "                Y = self.data[['added',\n",
    "                               'closed',\n",
    "                               'reopen',\n",
    "                               'merge',\n",
    "                               'liquidate',\n",
    "                               'nocategory']].values\n",
    "            else:\n",
    "                Y = pd.get_dummies(self.data['category']).values\n",
    "            categoryamount = Y.shape[1]\n",
    "\n",
    "            embed_dim = 128\n",
    "            lstm_out = 196\n",
    "            dropout = 0.3\n",
    "            # VALIDATION_SPLIT = 0.2\n",
    "            model = Sequential()\n",
    "            isapplydropout = True\n",
    "            if isapplydropout:\n",
    "                #################################### 使用dropout begin ####################################\n",
    "                model.add(Embedding(self.max_fatures, \n",
    "                                    embed_dim, \n",
    "                                    input_length=X.shape[1]))\n",
    "                if self.modeltype.lower() == 'bilstm':\n",
    "                    model.add(Bidirectional(LSTM(lstm_out, \n",
    "                                                 dropout=dropout, \n",
    "                                                 recurrent_dropout=dropout)))\n",
    "                elif self.modeltype.lower() == 'gru':\n",
    "                    model.add(GRU(lstm_out, dropout=dropout, recurrent_dropout=dropout))\n",
    "                elif self.modeltype.lower() == 'bigru':\n",
    "                    model.add(Bidirectional(GRU(lstm_out, dropout=dropout, recurrent_dropout=dropout)))\n",
    "                else:\n",
    "                    model.add(LSTM(lstm_out, dropout=dropout, recurrent_dropout=dropout))\n",
    "                #################################### 使用dropout end ####################################\n",
    "            else:\n",
    "                ############################## 使用BatchNormalization begin ##############################\n",
    "                # 样本不充分前，最好先不要用BatchNormalization，FalsePositive会出现很多\n",
    "                model.add(Embedding(self.max_fatures, embed_dim, input_length=X.shape[1]))\n",
    "                if self.modeltype.lower() == 'bilstm':\n",
    "                    model.add(Bidirectional(LSTM(lstm_out)))\n",
    "                elif self.modeltype.lower() == 'gru':\n",
    "                    model.add(GRU(lstm_out))\n",
    "                elif self.modeltype.lower() == 'bigru':\n",
    "                    model.add(Bidirectional(GRU(lstm_out)))\n",
    "                else:\n",
    "                    model.add(LSTM(lstm_out))\n",
    "                # 通过BatchNormalization取代Dropout技术\n",
    "                # Batch normalization 的 batch 是批数据,\n",
    "                # 把数据分成小批小批进行 stochastic gradient descent.\n",
    "                # 而且在每批数据进行前向传递 forward propagation 的时候,\n",
    "                # 对每一层都进行 normalization 的处理\n",
    "                model.add(BatchNormalization())\n",
    "                ############################## 使用BatchNormalization end ##############################\n",
    "\n",
    "            if categoryamount == 2 or self.multiplelabels:\n",
    "                #####################################\n",
    "                # 处理二分类问题, 与多标签问题\n",
    "                print('Compile model for binary or multiple labels classification, using sigmoid')\n",
    "                model.add(Dense(categoryamount, activation='sigmoid'))\n",
    "                model.compile(loss='binary_crossentropy',\n",
    "                              optimizer='adam',\n",
    "                              metrics=['accuracy'])\n",
    "                ######################################\n",
    "            else:\n",
    "                # 处理多分类问题\n",
    "                print('Compile model for multiple classification, using softmax')\n",
    "                model.add(Dense(categoryamount, activation='softmax'))\n",
    "                model.compile(loss='categorical_crossentropy', \n",
    "                              optimizer='adam', metrics=['accuracy'])\n",
    "            print(model.summary())\n",
    "\n",
    "            # 样本不充分，无法做拆分\n",
    "            # X_train, X_test, Y_train, Y_test = train_test_split(X, Y, test_size=0.33, random_state=42)\n",
    "            # print(X_train.shape, Y_train.shape)\n",
    "            # print(X_test.shape, Y_test.shape)\n",
    "            print('Train model: {0} begin'.format(self.modelpath))\n",
    "            batch_size = 64\n",
    "            history = model.fit(X,\n",
    "                                Y,\n",
    "                                epochs=epoch,\n",
    "                                batch_size=batch_size,\n",
    "                                verbose=2)\n",
    "            try:\n",
    "                logfolder = r'./nlpmodel/lstm/modellog/'\n",
    "                logfile = os.path.join(logfolder,\n",
    "                                       '{0}_epoch_{1}_batchsize_{2}_{3}.txt'.format(self.modeltype,\n",
    "                                                                    epoch,\n",
    "                                                                    batch_size,\n",
    "                                                                    time.strftime('%Y%m%d',\n",
    "                                                                                  time.localtime(time.time()))))\n",
    "                with open(logfile, 'w', encoding='utf-8') as f:\n",
    "                    f.write(str(history.history))\n",
    "            except Exception as e:\n",
    "                print(e)\n",
    "            model.save(self.modelpath)\n",
    "            print('Train model: {0} end'.format(self.modelpath))\n",
    "            return model, history\n",
    "\n",
    "            # 样本极其稀缺，无法拆分，所以也无从验证\n",
    "            # validation_size = 1500\n",
    "            # X_validate = X_test[-validation_size:]\n",
    "            # Y_validate = Y_test[-validation_size:]\n",
    "            # X_test = X_test[:-validation_size]\n",
    "            # Y_test = Y_test[:-validation_size]\n",
    "            # score, acc = model.evaluate(X_test, Y_test, verbose=2, batch_size=batch_size)\n",
    "            # print(\"score: %.2f\".format(score))\n",
    "            # print(\"acc: %.2f\" .format(acc))\n",
    "            # pos_cnt, neg_cnt, pos_correct, neg_correct = 0, 0, 0, 0\n",
    "            # for x in range(len(X_validate)):\n",
    "            #     result = model.predict(X_validate[x].reshape(1, X_test.shape[1]), batch_size=1, verbose=2)[0]\n",
    "            #     if np.argmax(result) == np.argmax(Y_validate[x]):\n",
    "            #         if np.argmax(Y_validate[x]) == 0:\n",
    "            #             neg_correct += 1\n",
    "            #         else:\n",
    "            #             pos_correct += 1\n",
    "            #     if np.argmax(Y_validate[x]) == 0:\n",
    "            #         neg_cnt += 1\n",
    "            #     else:\n",
    "            #         pos_cnt += 1\n",
    "            # print(\"pos_acc: {0}%\".format(pos_correct / pos_cnt * 100))\n",
    "            # print(\"neg_acc: {0}%\".format(neg_correct / neg_cnt * 100))\n",
    "        else:\n",
    "            print('Model existed, need not re-generate.')\n",
    "            return load_model(self.modelpath), None\n",
    "\n",
    "\n",
    "    def predictcategory(self, sentence, threshold=0.5):\n",
    "        self.initialforlstm()\n",
    "        cleantext = cleardatafordoc2vector(sentence)\n",
    "        twt = [cleantext]\n",
    "        twt = self.tokenizer.texts_to_sequences(twt)\n",
    "        # padding the tweet to have exactly the same shape as `embedding_2` input\n",
    "        twt = pad_sequences(twt, maxlen=80, dtype='int32', value=0)\n",
    "        # To avoid below exception:Tensor embedding_1_input:0,\n",
    "        # specified in either feed_devices or fetch_devices was not found in the Graph\n",
    "\n",
    "        try:\n",
    "            categoryresult = self.lstmmodel.predict(twt, \n",
    "                                                    batch_size=1, \n",
    "                                                    verbose=2)[0]\n",
    "        except Exception as e:\n",
    "            print(e)\n",
    "            keras.backend.clear_session()\n",
    "            print('Reload model: {0}'.format(self.modelpath))\n",
    "            modelfilename = os.path.splitext(os.path.basename(self.modelpath))\n",
    "            modelyamlpath = os.path.join(os.path.dirname(self.modelpath),\n",
    "                                         '{0}.yaml'.format(modelfilename[0]))\n",
    "            modelweightpath = os.path.join(os.path.dirname(self.modelpath),\n",
    "                                           '{0}_weight.h5'.format(modelfilename[0]))\n",
    "            self.loadmodel(modelyamlpath=modelyamlpath, modelweightpath=modelweightpath)\n",
    "            categoryresult = self.lstmmodel.predict(twt, batch_size=1, verbose=2)[0]\n",
    "\n",
    "        print('Raw sentence: {0}'.format(sentence))\n",
    "        print('Clean sentence: {0}'.format(cleantext))\n",
    "        boolDict = {0: 'Negative', 1: 'Positive'}\n",
    "        resultlist = []\n",
    "        if self.multiplelabels:\n",
    "            print(categoryresult)\n",
    "            for index, prob in enumerate(categoryresult):\n",
    "                if prob > threshold:\n",
    "                    result = {'categorycode': index + 1,\n",
    "                              'categoryname': self.categorydict[index + 1],\n",
    "                              'similarity': prob}\n",
    "                    resultlist.append(result)\n",
    "        else:\n",
    "            if len(categoryresult) > 2:\n",
    "                print('category is {0}, similarity: {1}'.format(self.categorydict[np.argmax(categoryresult)+1],\n",
    "                                                                categoryresult[np.argmax(categoryresult)]))\n",
    "                result = {'categorycode': np.argmax(categoryresult) + 1,\n",
    "                          'categoryname': self.categorydict[np.argmax(categoryresult)+1],\n",
    "                          'similarity': categoryresult[np.argmax(categoryresult)]}\n",
    "            else:\n",
    "                    predictresult = 0\n",
    "                    if np.argmax(categoryresult) == 1 and categoryresult[np.argmax(categoryresult)] > threshold:\n",
    "                        predictresult = 1\n",
    "                    print('category is {0}, similarity: {1}'.format(boolDict[predictresult],\n",
    "                                                                          categoryresult[predictresult]))\n",
    "                    result = {'categorycode': predictresult,\n",
    "                              'categoryname': boolDict[predictresult],\n",
    "                              'similarity': categoryresult[predictresult]}\n",
    "            resultlist.append(result)\n",
    "\n",
    "        return resultlist"
   ]
  },
  {
   "cell_type": "markdown",
   "metadata": {},
   "source": [
    "<b>对二分类样本的训练以及应用：</b>"
   ]
  },
  {
   "cell_type": "code",
   "execution_count": 24,
   "metadata": {
    "ExecuteTime": {
     "end_time": "2023-01-04T06:47:44.119604Z",
     "start_time": "2023-01-04T06:47:43.477364Z"
    }
   },
   "outputs": [
    {
     "name": "stdout",
     "output_type": "stream",
     "text": [
      "Initial KerasUtil class begin\n",
      "                                            sentence  category\n",
      "0                    • if table G rating then add 14         0\n",
      "1                    • if table H rating then add 15         0\n",
      "2  • remove, combine, or add Subaccounts and make...         0\n",
      "3  • services for which benefits are available to...         0\n",
      "4  A complete list of the available Funds is incl...         0\n",
      "Cleaned text sample:\n",
      "                                            sentence  category\n",
      "0                           if table rating then add         0\n",
      "1                           if table rating then add         0\n",
      "2  remove combine add subaccount make new subacco...         0\n",
      "3  service which benefit available you under medi...         0\n",
      "4  complete list available fund include this pros...         0\n",
      "count    69.000000\n",
      "mean     16.086957\n",
      "std      10.848881\n",
      "min       3.000000\n",
      "25%       8.000000\n",
      "50%      14.000000\n",
      "75%      21.000000\n",
      "max      57.000000\n",
      "Name: textlength, dtype: float64\n",
      "Initial KerasUtil class end\n"
     ]
    }
   ],
   "source": [
    "print('Initial KerasUtil class begin')\n",
    "kerasutil = KerasUtil(rawtextpath=r'./nlpmodel/lstm/addedbinary.csv',\n",
    "                      lstmmodelpath=r'./nlpmodel/lstm/addedbinarybilstm.h5',\n",
    "                      modeltype='bilstm')\n",
    "print('Initial KerasUtil class end')"
   ]
  },
  {
   "cell_type": "code",
   "execution_count": 25,
   "metadata": {
    "ExecuteTime": {
     "end_time": "2023-01-04T06:53:10.581572Z",
     "start_time": "2023-01-04T06:47:47.639451Z"
    }
   },
   "outputs": [
    {
     "name": "stdout",
     "output_type": "stream",
     "text": [
      "Train lstm model begin\n",
      "Compile model for binary or multiple labels classification, using sigmoid\n",
      "Model: \"sequential_1\"\n",
      "_________________________________________________________________\n",
      "Layer (type)                 Output Shape              Param #   \n",
      "=================================================================\n",
      "embedding (Embedding)        (None, 80, 128)           256000    \n",
      "_________________________________________________________________\n",
      "bidirectional (Bidirectional (None, 392)               509600    \n",
      "_________________________________________________________________\n",
      "dense (Dense)                (None, 2)                 786       \n",
      "=================================================================\n",
      "Total params: 766,386\n",
      "Trainable params: 766,386\n",
      "Non-trainable params: 0\n",
      "_________________________________________________________________\n",
      "None\n",
      "Train model: ./nlpmodel/lstm/addedbinarybilstm.h5 begin\n",
      "Epoch 1/100\n",
      "2/2 - 7s - loss: 0.6904 - accuracy: 0.6667\n",
      "Epoch 2/100\n",
      "2/2 - 2s - loss: 0.6769 - accuracy: 0.6667\n",
      "Epoch 3/100\n",
      "2/2 - 2s - loss: 0.6702 - accuracy: 0.6667\n",
      "Epoch 4/100\n",
      "2/2 - 2s - loss: 0.6518 - accuracy: 0.6667\n",
      "Epoch 5/100\n",
      "2/2 - 2s - loss: 0.6137 - accuracy: 0.6667\n",
      "Epoch 6/100\n",
      "2/2 - 2s - loss: 0.5938 - accuracy: 0.6667\n",
      "Epoch 7/100\n",
      "2/2 - 2s - loss: 0.5870 - accuracy: 0.6667\n",
      "Epoch 8/100\n",
      "2/2 - 2s - loss: 0.5705 - accuracy: 0.6667\n",
      "Epoch 9/100\n",
      "2/2 - 2s - loss: 0.5490 - accuracy: 0.6667\n",
      "Epoch 10/100\n",
      "2/2 - 2s - loss: 0.5532 - accuracy: 0.6667\n",
      "Epoch 11/100\n",
      "2/2 - 2s - loss: 0.5280 - accuracy: 0.6812\n",
      "Epoch 12/100\n",
      "2/2 - 2s - loss: 0.4924 - accuracy: 0.7246\n",
      "Epoch 13/100\n",
      "2/2 - 2s - loss: 0.4634 - accuracy: 0.8261\n",
      "Epoch 14/100\n",
      "2/2 - 2s - loss: 0.4309 - accuracy: 0.8551\n",
      "Epoch 15/100\n",
      "2/2 - 2s - loss: 0.4066 - accuracy: 0.8261\n",
      "Epoch 16/100\n",
      "2/2 - 2s - loss: 0.3714 - accuracy: 0.8551\n",
      "Epoch 17/100\n",
      "2/2 - 2s - loss: 0.3238 - accuracy: 0.8841\n",
      "Epoch 18/100\n",
      "2/2 - 2s - loss: 0.3230 - accuracy: 0.9275\n",
      "Epoch 19/100\n",
      "2/2 - 2s - loss: 0.3000 - accuracy: 0.9565\n",
      "Epoch 20/100\n",
      "2/2 - 2s - loss: 0.2708 - accuracy: 0.9565\n",
      "Epoch 21/100\n",
      "2/2 - 2s - loss: 0.2228 - accuracy: 0.9565\n",
      "Epoch 22/100\n",
      "2/2 - 2s - loss: 0.1713 - accuracy: 0.9565\n",
      "Epoch 23/100\n",
      "2/2 - 3s - loss: 0.1274 - accuracy: 0.9710\n",
      "Epoch 24/100\n",
      "2/2 - 3s - loss: 0.0960 - accuracy: 0.9710\n",
      "Epoch 25/100\n",
      "2/2 - 2s - loss: 0.1210 - accuracy: 0.9420\n",
      "Epoch 26/100\n",
      "2/2 - 3s - loss: 0.0948 - accuracy: 0.9710\n",
      "Epoch 27/100\n",
      "2/2 - 3s - loss: 0.1651 - accuracy: 0.9420\n",
      "Epoch 28/100\n",
      "2/2 - 3s - loss: 0.1886 - accuracy: 0.9130\n",
      "Epoch 29/100\n",
      "2/2 - 3s - loss: 0.1032 - accuracy: 0.9710\n",
      "Epoch 30/100\n",
      "2/2 - 3s - loss: 0.0759 - accuracy: 0.9710\n",
      "Epoch 31/100\n",
      "2/2 - 3s - loss: 0.0735 - accuracy: 0.9855\n",
      "Epoch 32/100\n",
      "2/2 - 3s - loss: 0.0765 - accuracy: 0.9855\n",
      "Epoch 33/100\n",
      "2/2 - 4s - loss: 0.0758 - accuracy: 0.9855\n",
      "Epoch 34/100\n",
      "2/2 - 4s - loss: 0.0737 - accuracy: 1.0000\n",
      "Epoch 35/100\n",
      "2/2 - 4s - loss: 0.0685 - accuracy: 1.0000\n",
      "Epoch 36/100\n",
      "2/2 - 5s - loss: 0.0641 - accuracy: 1.0000\n",
      "Epoch 37/100\n",
      "2/2 - 4s - loss: 0.0598 - accuracy: 1.0000\n",
      "Epoch 38/100\n",
      "2/2 - 4s - loss: 0.0520 - accuracy: 1.0000\n",
      "Epoch 39/100\n",
      "2/2 - 4s - loss: 0.0480 - accuracy: 0.9855\n",
      "Epoch 40/100\n",
      "2/2 - 4s - loss: 0.0420 - accuracy: 1.0000\n",
      "Epoch 41/100\n",
      "2/2 - 4s - loss: 0.0388 - accuracy: 0.9855\n",
      "Epoch 42/100\n",
      "2/2 - 4s - loss: 0.0334 - accuracy: 1.0000\n",
      "Epoch 43/100\n",
      "2/2 - 4s - loss: 0.0313 - accuracy: 1.0000\n",
      "Epoch 44/100\n",
      "2/2 - 4s - loss: 0.0279 - accuracy: 1.0000\n",
      "Epoch 45/100\n",
      "2/2 - 4s - loss: 0.0238 - accuracy: 1.0000\n",
      "Epoch 46/100\n",
      "2/2 - 4s - loss: 0.0203 - accuracy: 1.0000\n",
      "Epoch 47/100\n",
      "2/2 - 4s - loss: 0.0186 - accuracy: 1.0000\n",
      "Epoch 48/100\n",
      "2/2 - 4s - loss: 0.0144 - accuracy: 1.0000\n",
      "Epoch 49/100\n",
      "2/2 - 4s - loss: 0.0139 - accuracy: 1.0000\n",
      "Epoch 50/100\n",
      "2/2 - 4s - loss: 0.0134 - accuracy: 1.0000\n",
      "Epoch 51/100\n",
      "2/2 - 4s - loss: 0.0109 - accuracy: 1.0000\n",
      "Epoch 52/100\n",
      "2/2 - 4s - loss: 0.0092 - accuracy: 1.0000\n",
      "Epoch 53/100\n",
      "2/2 - 4s - loss: 0.0085 - accuracy: 1.0000\n",
      "Epoch 54/100\n",
      "2/2 - 3s - loss: 0.0082 - accuracy: 1.0000\n",
      "Epoch 55/100\n",
      "2/2 - 3s - loss: 0.0077 - accuracy: 1.0000\n",
      "Epoch 56/100\n",
      "2/2 - 3s - loss: 0.0074 - accuracy: 1.0000\n",
      "Epoch 57/100\n",
      "2/2 - 3s - loss: 0.0064 - accuracy: 1.0000\n",
      "Epoch 58/100\n",
      "2/2 - 3s - loss: 0.0063 - accuracy: 1.0000\n",
      "Epoch 59/100\n",
      "2/2 - 3s - loss: 0.0054 - accuracy: 1.0000\n",
      "Epoch 60/100\n",
      "2/2 - 3s - loss: 0.0048 - accuracy: 1.0000\n",
      "Epoch 61/100\n",
      "2/2 - 3s - loss: 0.0049 - accuracy: 1.0000\n",
      "Epoch 62/100\n",
      "2/2 - 3s - loss: 0.0046 - accuracy: 1.0000\n",
      "Epoch 63/100\n",
      "2/2 - 3s - loss: 0.0040 - accuracy: 1.0000\n",
      "Epoch 64/100\n",
      "2/2 - 3s - loss: 0.0036 - accuracy: 1.0000\n",
      "Epoch 65/100\n",
      "2/2 - 3s - loss: 0.0037 - accuracy: 1.0000\n",
      "Epoch 66/100\n",
      "2/2 - 3s - loss: 0.0035 - accuracy: 1.0000\n",
      "Epoch 67/100\n",
      "2/2 - 3s - loss: 0.0035 - accuracy: 1.0000\n",
      "Epoch 68/100\n",
      "2/2 - 3s - loss: 0.0029 - accuracy: 1.0000\n",
      "Epoch 69/100\n",
      "2/2 - 3s - loss: 0.0028 - accuracy: 1.0000\n",
      "Epoch 70/100\n",
      "2/2 - 3s - loss: 0.0029 - accuracy: 1.0000\n",
      "Epoch 71/100\n",
      "2/2 - 3s - loss: 0.0027 - accuracy: 1.0000\n",
      "Epoch 72/100\n",
      "2/2 - 3s - loss: 0.0025 - accuracy: 1.0000\n",
      "Epoch 73/100\n",
      "2/2 - 3s - loss: 0.0023 - accuracy: 1.0000\n",
      "Epoch 74/100\n",
      "2/2 - 3s - loss: 0.0022 - accuracy: 1.0000\n",
      "Epoch 75/100\n",
      "2/2 - 3s - loss: 0.0021 - accuracy: 1.0000\n",
      "Epoch 76/100\n",
      "2/2 - 3s - loss: 0.0023 - accuracy: 1.0000\n",
      "Epoch 77/100\n",
      "2/2 - 3s - loss: 0.0021 - accuracy: 1.0000\n",
      "Epoch 78/100\n",
      "2/2 - 3s - loss: 0.0018 - accuracy: 1.0000\n",
      "Epoch 79/100\n",
      "2/2 - 3s - loss: 0.0019 - accuracy: 1.0000\n",
      "Epoch 80/100\n",
      "2/2 - 3s - loss: 0.0019 - accuracy: 1.0000\n",
      "Epoch 81/100\n",
      "2/2 - 3s - loss: 0.0019 - accuracy: 1.0000\n",
      "Epoch 82/100\n",
      "2/2 - 3s - loss: 0.0018 - accuracy: 1.0000\n",
      "Epoch 83/100\n",
      "2/2 - 3s - loss: 0.0015 - accuracy: 1.0000\n",
      "Epoch 84/100\n",
      "2/2 - 3s - loss: 0.0016 - accuracy: 1.0000\n",
      "Epoch 85/100\n",
      "2/2 - 3s - loss: 0.0016 - accuracy: 1.0000\n",
      "Epoch 86/100\n",
      "2/2 - 3s - loss: 0.0015 - accuracy: 1.0000\n",
      "Epoch 87/100\n",
      "2/2 - 3s - loss: 0.0015 - accuracy: 1.0000\n",
      "Epoch 88/100\n",
      "2/2 - 3s - loss: 0.0015 - accuracy: 1.0000\n",
      "Epoch 89/100\n",
      "2/2 - 3s - loss: 0.0014 - accuracy: 1.0000\n",
      "Epoch 90/100\n",
      "2/2 - 3s - loss: 0.0014 - accuracy: 1.0000\n",
      "Epoch 91/100\n",
      "2/2 - 3s - loss: 0.0012 - accuracy: 1.0000\n",
      "Epoch 92/100\n",
      "2/2 - 3s - loss: 0.0011 - accuracy: 1.0000\n",
      "Epoch 93/100\n",
      "2/2 - 3s - loss: 0.0013 - accuracy: 1.0000\n",
      "Epoch 94/100\n",
      "2/2 - 3s - loss: 0.0012 - accuracy: 1.0000\n",
      "Epoch 95/100\n",
      "2/2 - 3s - loss: 0.0011 - accuracy: 1.0000\n",
      "Epoch 96/100\n",
      "2/2 - 3s - loss: 0.0015 - accuracy: 1.0000\n",
      "Epoch 97/100\n",
      "2/2 - 3s - loss: 0.0011 - accuracy: 1.0000\n",
      "Epoch 98/100\n",
      "2/2 - 3s - loss: 9.8363e-04 - accuracy: 1.0000\n",
      "Epoch 99/100\n",
      "2/2 - 3s - loss: 0.0012 - accuracy: 1.0000\n",
      "Epoch 100/100\n",
      "2/2 - 3s - loss: 0.0010 - accuracy: 1.0000\n",
      "[Errno 2] No such file or directory: './nlpmodel/lstm/modellog/bilstm_epoch_100_batchsize_64_20230104.txt'\n",
      "Train model: ./nlpmodel/lstm/addedbinarybilstm.h5 end\n",
      "Train lstm model end\n"
     ]
    }
   ],
   "source": [
    "print('Train lstm model begin')\n",
    "model, history = kerasutil.trainlstmmodel(needregenerate=False, epoch=35)\n",
    "print('Train lstm model end')"
   ]
  },
  {
   "cell_type": "code",
   "execution_count": 27,
   "metadata": {
    "ExecuteTime": {
     "end_time": "2023-01-04T06:53:34.861383Z",
     "start_time": "2023-01-04T06:53:34.675047Z"
    }
   },
   "outputs": [
    {
     "name": "stdout",
     "output_type": "stream",
     "text": [
      "dict_keys(['loss', 'accuracy'])\n"
     ]
    },
    {
     "data": {
      "image/png": "[encoded data removed]",
      "text/plain": [
       "<Figure size 640x480 with 1 Axes>"
      ]
     },
     "metadata": {},
     "output_type": "display_data"
    },
    {
     "data": {
      "image/png": "[encoded data removed]",
      "text/plain": [
       "<Figure size 640x480 with 1 Axes>"
      ]
     },
     "metadata": {},
     "output_type": "display_data"
    }
   ],
   "source": [
    "import matplotlib.pyplot as plt\n",
    "# list all data in history\n",
    "if history is not None:\n",
    "    print(history.history.keys())\n",
    "    %matplotlib inline\n",
    "    # summarize history for accuracy\n",
    "    plt.plot(history.history['accuracy'])\n",
    "#     plt.plot(history.history['val_acc'])\n",
    "    plt.title('model accuracy')\n",
    "    plt.ylabel('accuracy')\n",
    "    plt.xlabel('epoch')\n",
    "    plt.legend(['train', 'test'], loc='upper left')\n",
    "    plt.show()\n",
    "    \n",
    "    # summarize history for loss\n",
    "    %matplotlib inline\n",
    "    plt.plot(history.history['loss'])\n",
    "#     plt.plot(history.history['val_loss'])\n",
    "    plt.title('model loss')\n",
    "    plt.ylabel('loss')\n",
    "    plt.xlabel('epoch')\n",
    "    plt.legend(['train', 'test'], loc='upper left')\n",
    "    plt.show()"
   ]
  },
  {
   "cell_type": "markdown",
   "metadata": {},
   "source": [
    "通过具体例子验证模型"
   ]
  },
  {
   "cell_type": "code",
   "execution_count": 28,
   "metadata": {
    "ExecuteTime": {
     "end_time": "2023-01-04T06:53:41.702008Z",
     "start_time": "2023-01-04T06:53:39.807850Z"
    }
   },
   "outputs": [
    {
     "name": "stdout",
     "output_type": "stream",
     "text": [
      "WARNING:tensorflow:Layer lstm will not use cuDNN kernel since it doesn't meet the cuDNN kernel criteria. It will use generic GPU kernel as fallback when running on GPU\n",
      "WARNING:tensorflow:Layer lstm will not use cuDNN kernel since it doesn't meet the cuDNN kernel criteria. It will use generic GPU kernel as fallback when running on GPU\n",
      "WARNING:tensorflow:Layer lstm will not use cuDNN kernel since it doesn't meet the cuDNN kernel criteria. It will use generic GPU kernel as fallback when running on GPU\n",
      "WARNING:tensorflow:Layer lstm will not use cuDNN kernel since it doesn't meet the cuDNN kernel criteria. It will use generic GPU kernel as fallback when running on GPU\n",
      "WARNING:tensorflow:Layer lstm will not use cuDNN kernel since it doesn't meet the cuDNN kernel criteria. It will use generic GPU kernel as fallback when running on GPU\n",
      "WARNING:tensorflow:Layer lstm will not use cuDNN kernel since it doesn't meet the cuDNN kernel criteria. It will use generic GPU kernel as fallback when running on GPU\n",
      "1/1 - 1s\n",
      "Raw sentence: (1) Appendix A: Underlying Mutual Funds is amended to include the following:\n",
      "Clean sentence: appendix underlie mutual fund amend include follow\n",
      "category is Positive, similarity: 0.9991945624351501\n",
      "[{'categorycode': 1, 'categoryname': 'Positive', 'similarity': 0.99919456}]\n",
      "\n",
      "1/1 - 0s\n",
      "Raw sentence: (b) the Loan Spreads that would be available with respect to any outstanding Policy Loans.\n",
      "Clean sentence: loan spread that would available with respect any outstanding policy loan\n",
      "category is Positive, similarity: 0.9057917594909668\n",
      "[{'categorycode': 1, 'categoryname': 'Positive', 'similarity': 0.90579176}]\n",
      "\n",
      "1/1 - 0s\n",
      "Raw sentence: 2060 Retirement Fund, Vanguard Variable Insurance Fund Total Bond Market Index Portfolio, and MFS VIT III Mid Cap Value Portfolio will become available on or after July 1, 2018 for investments by Separate Account Contractholders.\n",
      "Clean sentence: retirement fund vanguard variable insurance fund total bond market index portfolio mfs vit iii mid cap value portfolio will become available on date investment by separate account contractholder\n",
      "category is Positive, similarity: 0.9988995790481567\n",
      "[{'categorycode': 1, 'categoryname': 'Positive', 'similarity': 0.9988996}]\n",
      "\n",
      "1/1 - 0s\n",
      "Raw sentence: A change is effective on the next valuation period after we receive your new instructions in good order.\n",
      "Clean sentence: change effective on next valuation period we receive your new instruction good order\n",
      "category is Positive, similarity: 0.8726783990859985\n",
      "[{'categorycode': 1, 'categoryname': 'Positive', 'similarity': 0.8726784}]\n",
      "\n"
     ]
    }
   ],
   "source": [
    "sentences = ['(1) Appendix A: Underlying Mutual Funds is amended to include the following:',\n",
    "    '(b) the Loan Spreads that would be available with respect to any outstanding Policy Loans.',\n",
    "    '2060 Retirement Fund, Vanguard Variable Insurance Fund Total Bond Market Index Portfolio, and MFS VIT III Mid Cap Value Portfolio will become available on or after July 1, 2018 for investments by Separate Account Contractholders.',\n",
    "    'A change is effective on the next valuation period after we receive your new instructions in good order.']\n",
    "for sentence in sentences:\n",
    "    print(kerasutil.predictcategory(sentence))\n",
    "    print()"
   ]
  },
  {
   "cell_type": "markdown",
   "metadata": {},
   "source": [
    "<b>多标签分类示例</b>"
   ]
  },
  {
   "cell_type": "markdown",
   "metadata": {},
   "source": [
    "多标签分类其实还是通过Sigmoid激活函数，对每一个标签进行概率预测，因为多分类的激活函数Softmax对多个分类的概率和为1，对于多标签来说，阈值难定。\n",
    "\n",
    "还是Sigmoid激活函数，更适用于多标签分类"
   ]
  },
  {
   "cell_type": "code",
   "execution_count": null,
   "metadata": {},
   "outputs": [],
   "source": [
    "kerasutilmulti = KerasUtil(rawtextpath=r'./nlpmodel/lstm/multiplecategory.csv',\n",
    "                      lstmmodelpath=r'./nlpmodel/lstm/multiplecategorybilstm.h5',\n",
    "                      modeltype='bilstm',\n",
    "                      multiplelabels=True)"
   ]
  },
  {
   "cell_type": "code",
   "execution_count": null,
   "metadata": {},
   "outputs": [],
   "source": [
    "print('Train lstm model begin')\n",
    "model, history = kerasutilmulti.trainlstmmodel(needregenerate=False, epoch=500)\n",
    "print('Train lstm model end')"
   ]
  },
  {
   "cell_type": "code",
   "execution_count": null,
   "metadata": {},
   "outputs": [],
   "source": [
    "import matplotlib.pyplot as plt\n",
    "# list all data in history\n",
    "if history is not None:\n",
    "    print(history.history.keys())\n",
    "    %matplotlib inline\n",
    "    # summarize history for accuracy\n",
    "    plt.plot(history.history['acc'])\n",
    "#     plt.plot(history.history['val_acc'])\n",
    "    plt.title('model accuracy')\n",
    "    plt.ylabel('accuracy')\n",
    "    plt.xlabel('epoch')\n",
    "    plt.legend(['train', 'test'], loc='upper left')\n",
    "    plt.show()\n",
    "    \n",
    "    # summarize history for loss\n",
    "    %matplotlib inline\n",
    "    plt.plot(history.history['loss'])\n",
    "#     plt.plot(history.history['val_loss'])\n",
    "    plt.title('model loss')\n",
    "    plt.ylabel('loss')\n",
    "    plt.xlabel('epoch')\n",
    "    plt.legend(['train', 'test'], loc='upper left')\n",
    "    plt.show()"
   ]
  },
  {
   "cell_type": "code",
   "execution_count": null,
   "metadata": {},
   "outputs": [],
   "source": [
    "sentences = ['(1) Appendix A: Underlying Mutual Funds is amended to include the following:',\n",
    "    'the Surviving Fund is added as an investment option under the contract/policy, and the following information is added to Appendix A: Subaccount Information :',\n",
    "    '”), you may carry over certain features of that Prior Rider to transition to the applicable version of i4LIFE ® Advantage Guaranteed Income Benefit available to you.',\n",
    "    '• Automatic annual GMWB Step Up available until the later of (a) the Contract anniversary prior to age 80 or (b) 10 years after the rider effective date.']\n",
    "for sentence in sentences:\n",
    "    print(kerasutilmulti.predictcategory(sentence))\n",
    "    print()"
   ]
  },
  {
   "cell_type": "markdown",
   "metadata": {},
   "source": [
    "##### GRU算法"
   ]
  },
  {
   "cell_type": "markdown",
   "metadata": {},
   "source": [
    "<img src='./image/gru.jpeg' />"
   ]
  },
  {
   "cell_type": "markdown",
   "metadata": {},
   "source": [
    "GRU的结构如上图所示，虽然有时候GRU被视为LSTM的一个变种，不过两者差别还是比较大的，所以单独讨论。\n",
    "\n",
    "GRU不像LSTM的三门控，它虽然也有门，但是只有两个，分别叫做重置门（reset gate），和更新门（update gate）。\n",
    "\n",
    "重置门顾名思义，控制着是否重置，也就是说多大程度上擦除以前的状态state；\n",
    "\n",
    "更新门则表示，多大程度上要用candidate 来更新当前的hidden layer。\n",
    "\n",
    "从这个图的公式来看，r和z就是两个门，分别表示reset和update。"
   ]
  },
  {
   "cell_type": "markdown",
   "metadata": {},
   "source": [
    "GRU的基本原理是，首先，用x(t)和h(t-1)生成两个门，然后用reset门乘以上一时刻的状态，看看是否要reset或者reset多大程度。\n",
    "\n",
    "然后，和新输入的x拼接，过网络并用tanh激活，形成candidate的隐含变量hat{h_t}，然后，将上一时刻的h和candidate的h做一个线性组合，两者的权重和为1，candidate的权重就是update门的输出，表征更新强度多大。\n",
    "\n",
    "要注意的是，h只是一个变量，因此在每个时刻，包括最后的线性组合，h都是在用以前的自己和当前的备选答案更新自己。\n",
    "\n",
    "举例来说，这一个变量好比一杯酒，每次我们要把一部分酒倒出去，并把倒出去的酒和新加入的原料混合，然后在倒回来，这里的reset控制的就是要倒出去的，并且混合好之后再倒回来的酒的比例，而update控制的则是用多大的比例混合新原料和倒出来的之前调制好的酒。\n",
    "\n",
    "同理，也可以以此理解LSTM，LSTM的遗忘门功能上和reset相似，而输入门与update相似，不同之处在于LSTM还控制了当前状态的exposure，也就是输出门的功能，这是GRU所没有的。"
   ]
  },
  {
   "cell_type": "markdown",
   "metadata": {},
   "source": [
    "GRU参数少，好训练，结构相对简单一些。对于上图展示的GRU公式，如果reset = 1，update = 1，那么就变成了一个plain RNN。"
   ]
  },
  {
   "cell_type": "markdown",
   "metadata": {},
   "source": [
    "##### 实战遇到的坑以及解决方案"
   ]
  },
  {
   "cell_type": "markdown",
   "metadata": {},
   "source": [
    "实际工作过程中，往往不会一帆风顺，这里简单说说Keras Model实例运行过程中，遇到的坑以及解决方法，相关内容放到简书了，如下为链接：\n",
    "\n",
    "[通过Flask发布Keras相关应用的注意事项](https://www.jianshu.com/p/01a892a43baf)\n",
    "\n",
    "[解决同时加载多个Keras Model发生异常的问题](https://www.jianshu.com/p/2ae3d63a377c)\n",
    "\n",
    "[解决多个Keras Model实例同时加载，导致运行结果混乱的问题](https://www.jianshu.com/p/5f74eddaa81c)\n",
    "\n",
    "[新电脑重新安装win10+python3.6+anaconda+tensorflow1.12（gpu版）](https://www.cnblogs.com/gaofighting/p/9917456.html)\n",
    "\n",
    "[深度学习中如何选择一款合适的GPU卡的一些经验和建议分享](https://www.leiphone.com/news/201711/hYZiWWTrczHPJtd3.html)\n",
    "\n",
    ">首先给出一些总体的建议\n",
    "<br>最好的GPU整体（小幅度）：Titan Xp\n",
    "<br>综合性价比高，但略贵：GTX 1080 Ti，GTX 1070，GTX 1080\n",
    "<br>性价比还不错且便宜：GTX 1060（6GB）\n",
    "<br>当使用数据集> 250GB：GTX Titan X（Maxwell） ，NVIDIA Titan X Pascal或NVIDIA Titan Xp\n",
    "<br>没有足够的钱：GTX 1060（6GB）\n",
    "<br>几乎没有钱：GTX 1050 Ti（4GB）\n",
    "<br>做Kaggle比赛：GTX 1060（6GB）适用于任何“正常”比赛，或GTX 1080 Ti用于“深度学习竞赛”\n",
    "<br>计算机视觉研究员：NVIDIA Titan Xp；不要买现在新出的Titan X（Pascal或Maxwell）\n",
    "<br>一名研究员人员：GTX 1080 Ti。在某些情况下，如自然语言处理，一个GTX 1070或GTX 1080已经足够了-检查你现在模型的内存需求\n",
    "<br>搭建一个GPU集群：这个优点复杂，另做探讨。\n",
    "<br>刚开始进行深度学习研究：从GTX 1060（6GB）开始。根据你下一步兴趣（入门，Kaggle比赛，研究，应用深度学习）等等，在进行选择。目前，GTX 1060更合适。\n",
    "<br>想尝试下深度学习，但没有过多要求：GTX 1050 ti（4或2GB）\n",
    "\n",
    "需要注意的是：<b><font color='red'>安装tensorflow-gpu 1.12.0对应的CUDA版本只能是9.0，不能是9.2或者10.0,会一直报错的，如DLL Load Error，找不到指定的模块。</font></b>\n",
    "\n",
    "CUDNN版本一定要选择与CUDA对应的版本</b>\n",
    "\n",
    "能够用GPU跑模型，就用GPU跑，哪怕GPU核心是GTX 1060，GPU计算能力为6.1，也肯定比CPU快很多倍\n",
    "\n",
    "<img src='./image/gputrain.jpg' />"
   ]
  },
  {
   "cell_type": "markdown",
   "metadata": {},
   "source": [
    "CNN与RNN能否联合起来用呢？有的，这个称之为RCNN:"
   ]
  },
  {
   "cell_type": "markdown",
   "metadata": {},
   "source": [
    "<img src='./image/cnnrnn.jpg' />"
   ]
  },
  {
   "cell_type": "markdown",
   "metadata": {},
   "source": [
    "<b>一图看懂神经网络</b>"
   ]
  },
  {
   "cell_type": "markdown",
   "metadata": {},
   "source": [
    "<img src='./image/netrocompare.png' />"
   ]
  },
  {
   "cell_type": "markdown",
   "metadata": {},
   "source": [
    "# 样本准备"
   ]
  },
  {
   "cell_type": "code",
   "execution_count": null,
   "metadata": {},
   "outputs": [],
   "source": []
  }
 ],
 "metadata": {
  "kernelspec": {
   "display_name": "Python 3 (ipykernel)",
   "language": "python",
   "name": "python3"
  },
  "language_info": {
   "codemirror_mode": {
    "name": "ipython",
    "version": 3
   },
   "file_extension": ".py",
   "mimetype": "text/x-python",
   "name": "python",
   "nbconvert_exporter": "python",
   "pygments_lexer": "ipython3",
   "version": "3.8.10"
  },
  "toc": {
   "base_numbering": 1,
   "nav_menu": {},
   "number_sections": true,
   "sideBar": true,
   "skip_h1_title": false,
   "title_cell": "Table of Contents",
   "title_sidebar": "Contents",
   "toc_cell": false,
   "toc_position": {
    "height": "calc(100% - 180px)",
    "left": "10px",
    "top": "150px",
    "width": "165px"
   },
   "toc_section_display": true,
   "toc_window_display": false
  }
 },
 "nbformat": 4,
 "nbformat_minor": 2
}
