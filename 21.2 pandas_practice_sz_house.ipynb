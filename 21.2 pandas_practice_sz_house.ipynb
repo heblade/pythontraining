{
 "cells": [
  {
   "cell_type": "markdown",
   "metadata": {},
   "source": [
    "# 深圳各区二手房指导价明细与汇总"
   ]
  },
  {
   "cell_type": "code",
   "execution_count": null,
   "metadata": {},
   "outputs": [],
   "source": [
    "import pandas as pd"
   ]
  },
  {
   "cell_type": "code",
   "execution_count": 6,
   "metadata": {},
   "outputs": [],
   "source": [
    "import os"
   ]
  },
  {
   "cell_type": "code",
   "execution_count": 7,
   "metadata": {},
   "outputs": [],
   "source": [
    "import re"
   ]
  },
  {
   "cell_type": "code",
   "execution_count": 3,
   "metadata": {},
   "outputs": [
    {
     "name": "stdout",
     "output_type": "stream",
     "text": [
      "True\n"
     ]
    }
   ],
   "source": [
    "print(os.path.exists('./txt/szhouse.txt'))"
   ]
  },
  {
   "cell_type": "code",
   "execution_count": 20,
   "metadata": {},
   "outputs": [],
   "source": [
    "data_list = []"
   ]
  },
  {
   "cell_type": "code",
   "execution_count": 13,
   "metadata": {},
   "outputs": [],
   "source": [
    "with open('./txt/szhouse.txt', mode='r', encoding='utf-8') as file:\n",
    "    lines = [line for line in file.readlines() if len(line.strip()) > 0 and \n",
    "             not line.strip().startswith('-')]"
   ]
  },
  {
   "cell_type": "code",
   "execution_count": 14,
   "metadata": {},
   "outputs": [
    {
     "name": "stdout",
     "output_type": "stream",
     "text": [
      "17975\n"
     ]
    }
   ],
   "source": [
    "print(len(lines))"
   ]
  },
  {
   "cell_type": "code",
   "execution_count": 10,
   "metadata": {},
   "outputs": [
    {
     "name": "stdout",
     "output_type": "stream",
     "text": [
      "<_sre.SRE_Match object; span=(0, 4), match='4000'>\n"
     ]
    }
   ],
   "source": [
    "print(re.match('\\d{1,4}', '40000'))"
   ]
  },
  {
   "cell_type": "code",
   "execution_count": 21,
   "metadata": {},
   "outputs": [
    {
     "name": "stdout",
     "output_type": "stream",
     "text": [
      "3594\n"
     ]
    }
   ],
   "source": [
    "data = {}\n",
    "for index, line in enumerate(lines):\n",
    "    if index % 5 == 0:\n",
    "        if len(list(data.keys())) > 0:\n",
    "            data_list.append(data)\n",
    "            data = {}\n",
    "        try:\n",
    "            data['id'] = int(line)\n",
    "        except:\n",
    "            data['id'] = None\n",
    "    if index % 5 == 1:\n",
    "        data['district'] = line.strip()\n",
    "    if index % 5 == 2:\n",
    "        data['street'] = line.strip()\n",
    "    if index % 5 == 3:\n",
    "        data['subdivision'] = line.strip()\n",
    "    if index % 5 == 4:\n",
    "        try:\n",
    "            data['price'] = int(line.strip())\n",
    "        except:\n",
    "            data['price'] = None\n",
    "print(len(data_list))"
   ]
  },
  {
   "cell_type": "code",
   "execution_count": 23,
   "metadata": {},
   "outputs": [],
   "source": [
    "house_data = pd.DataFrame(data_list)"
   ]
  },
  {
   "cell_type": "code",
   "execution_count": 24,
   "metadata": {},
   "outputs": [
    {
     "data": {
      "text/html": [
       "<div>\n",
       "<style scoped>\n",
       "    .dataframe tbody tr th:only-of-type {\n",
       "        vertical-align: middle;\n",
       "    }\n",
       "\n",
       "    .dataframe tbody tr th {\n",
       "        vertical-align: top;\n",
       "    }\n",
       "\n",
       "    .dataframe thead th {\n",
       "        text-align: right;\n",
       "    }\n",
       "</style>\n",
       "<table border=\"1\" class=\"dataframe\">\n",
       "  <thead>\n",
       "    <tr style=\"text-align: right;\">\n",
       "      <th></th>\n",
       "      <th>id</th>\n",
       "      <th>district</th>\n",
       "      <th>street</th>\n",
       "      <th>subdivision</th>\n",
       "      <th>price</th>\n",
       "    </tr>\n",
       "  </thead>\n",
       "  <tbody>\n",
       "    <tr>\n",
       "      <th>0</th>\n",
       "      <td>1</td>\n",
       "      <td>罗湖</td>\n",
       "      <td>黄贝</td>\n",
       "      <td>安业花园</td>\n",
       "      <td>45000</td>\n",
       "    </tr>\n",
       "    <tr>\n",
       "      <th>1</th>\n",
       "      <td>2</td>\n",
       "      <td>罗湖</td>\n",
       "      <td>黄贝</td>\n",
       "      <td>安业馨园</td>\n",
       "      <td>56000</td>\n",
       "    </tr>\n",
       "    <tr>\n",
       "      <th>2</th>\n",
       "      <td>3</td>\n",
       "      <td>罗湖</td>\n",
       "      <td>黄贝</td>\n",
       "      <td>碧波花园</td>\n",
       "      <td>50500</td>\n",
       "    </tr>\n",
       "    <tr>\n",
       "      <th>3</th>\n",
       "      <td>4</td>\n",
       "      <td>罗湖</td>\n",
       "      <td>黄贝</td>\n",
       "      <td>碧中园</td>\n",
       "      <td>51600</td>\n",
       "    </tr>\n",
       "    <tr>\n",
       "      <th>4</th>\n",
       "      <td>5</td>\n",
       "      <td>罗湖</td>\n",
       "      <td>黄贝</td>\n",
       "      <td>赤龙坑住宅楼</td>\n",
       "      <td>51400</td>\n",
       "    </tr>\n",
       "  </tbody>\n",
       "</table>\n",
       "</div>"
      ],
      "text/plain": [
       "   id district street subdivision  price\n",
       "0   1       罗湖     黄贝        安业花园  45000\n",
       "1   2       罗湖     黄贝        安业馨园  56000\n",
       "2   3       罗湖     黄贝        碧波花园  50500\n",
       "3   4       罗湖     黄贝         碧中园  51600\n",
       "4   5       罗湖     黄贝      赤龙坑住宅楼  51400"
      ]
     },
     "execution_count": 24,
     "metadata": {},
     "output_type": "execute_result"
    }
   ],
   "source": [
    "house_data.head()"
   ]
  },
  {
   "cell_type": "code",
   "execution_count": 25,
   "metadata": {},
   "outputs": [
    {
     "data": {
      "text/html": [
       "<div>\n",
       "<style scoped>\n",
       "    .dataframe tbody tr th:only-of-type {\n",
       "        vertical-align: middle;\n",
       "    }\n",
       "\n",
       "    .dataframe tbody tr th {\n",
       "        vertical-align: top;\n",
       "    }\n",
       "\n",
       "    .dataframe thead th {\n",
       "        text-align: right;\n",
       "    }\n",
       "</style>\n",
       "<table border=\"1\" class=\"dataframe\">\n",
       "  <thead>\n",
       "    <tr style=\"text-align: right;\">\n",
       "      <th></th>\n",
       "      <th>item</th>\n",
       "      <th>value</th>\n",
       "    </tr>\n",
       "  </thead>\n",
       "  <tbody>\n",
       "    <tr>\n",
       "      <th>0</th>\n",
       "      <td>count</td>\n",
       "      <td>3594.000000</td>\n",
       "    </tr>\n",
       "    <tr>\n",
       "      <th>1</th>\n",
       "      <td>mean</td>\n",
       "      <td>61330.050083</td>\n",
       "    </tr>\n",
       "    <tr>\n",
       "      <th>2</th>\n",
       "      <td>std</td>\n",
       "      <td>22407.423764</td>\n",
       "    </tr>\n",
       "    <tr>\n",
       "      <th>3</th>\n",
       "      <td>min</td>\n",
       "      <td>16100.000000</td>\n",
       "    </tr>\n",
       "    <tr>\n",
       "      <th>4</th>\n",
       "      <td>25%</td>\n",
       "      <td>45000.000000</td>\n",
       "    </tr>\n",
       "    <tr>\n",
       "      <th>5</th>\n",
       "      <td>50%</td>\n",
       "      <td>56600.000000</td>\n",
       "    </tr>\n",
       "    <tr>\n",
       "      <th>6</th>\n",
       "      <td>75%</td>\n",
       "      <td>73500.000000</td>\n",
       "    </tr>\n",
       "    <tr>\n",
       "      <th>7</th>\n",
       "      <td>max</td>\n",
       "      <td>132000.000000</td>\n",
       "    </tr>\n",
       "  </tbody>\n",
       "</table>\n",
       "</div>"
      ],
      "text/plain": [
       "    item          value\n",
       "0  count    3594.000000\n",
       "1   mean   61330.050083\n",
       "2    std   22407.423764\n",
       "3    min   16100.000000\n",
       "4    25%   45000.000000\n",
       "5    50%   56600.000000\n",
       "6    75%   73500.000000\n",
       "7    max  132000.000000"
      ]
     },
     "execution_count": 25,
     "metadata": {},
     "output_type": "execute_result"
    }
   ],
   "source": [
    "describe = house_data['price'].describe()\n",
    "dict_describe = {'item': describe.index, 'value': describe.values}\n",
    "df_describe = pd.DataFrame(dict_describe)\n",
    "df_describe"
   ]
  },
  {
   "cell_type": "code",
   "execution_count": 29,
   "metadata": {},
   "outputs": [],
   "source": [
    "if not os.path.exists('./excel/'):\n",
    "    os.makedirs('./excel/')"
   ]
  },
  {
   "cell_type": "code",
   "execution_count": 33,
   "metadata": {},
   "outputs": [],
   "source": [
    "group_summary = house_data['price'].groupby(house_data['district']).describe()"
   ]
  },
  {
   "cell_type": "code",
   "execution_count": 35,
   "metadata": {},
   "outputs": [],
   "source": [
    "import time\n",
    "try:\n",
    "    excel_name = 'shenzhen_house_{0}.xlsx'.format(\n",
    "        time.strftime('%Y%m%d%H%M%S', time.localtime(time.time())))\n",
    "    if not os.path.exists('./excel/'):\n",
    "        os.makedirs('./excel/')\n",
    "    excel_filepath = os.path.join('./excel/',\n",
    "                                  excel_name)\n",
    "    write = pd.ExcelWriter(excel_filepath)\n",
    "    house_data.to_excel(write,\n",
    "                        sheet_name='details',\n",
    "                        index=False,\n",
    "                        encoding='utf-8')\n",
    "    df_describe.to_excel(write,\n",
    "                         sheet_name='summary',\n",
    "                         index=False,\n",
    "                         encoding='utf-8')\n",
    "    group_summary.to_excel(write,\n",
    "                           sheet_name='district_summary',\n",
    "                           index=True,\n",
    "                           encoding='utf-8')\n",
    "    write.save()\n",
    "except Exception as e:\n",
    "    print(e)"
   ]
  },
  {
   "cell_type": "code",
   "execution_count": null,
   "metadata": {},
   "outputs": [],
   "source": []
  }
 ],
 "metadata": {
  "kernelspec": {
   "display_name": "Python 3",
   "language": "python",
   "name": "python3"
  },
  "language_info": {
   "codemirror_mode": {
    "name": "ipython",
    "version": 3
   },
   "file_extension": ".py",
   "mimetype": "text/x-python",
   "name": "python",
   "nbconvert_exporter": "python",
   "pygments_lexer": "ipython3",
   "version": "3.6.7"
  }
 },
 "nbformat": 4,
 "nbformat_minor": 4
}
