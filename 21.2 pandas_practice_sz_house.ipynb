{
 "cells": [
  {
   "cell_type": "markdown",
   "metadata": {},
   "source": [
    "# 深圳各区二手房指导价明细与汇总"
   ]
  },
  {
   "cell_type": "code",
   "execution_count": 1,
   "metadata": {},
   "outputs": [],
   "source": [
    "import pandas as pd"
   ]
  },
  {
   "cell_type": "code",
   "execution_count": 2,
   "metadata": {},
   "outputs": [],
   "source": [
    "import os"
   ]
  },
  {
   "cell_type": "code",
   "execution_count": 3,
   "metadata": {},
   "outputs": [],
   "source": [
    "import re"
   ]
  },
  {
   "cell_type": "code",
   "execution_count": 4,
   "metadata": {},
   "outputs": [],
   "source": [
    "import seaborn as sns\n",
    "import matplotlib.pyplot as plt\n",
    "from pyecharts import options as opts\n",
    "from pyecharts.charts import Line, Kline\n",
    "%matplotlib inline"
   ]
  },
  {
   "cell_type": "code",
   "execution_count": 5,
   "metadata": {},
   "outputs": [
    {
     "name": "stdout",
     "output_type": "stream",
     "text": [
      "True\n"
     ]
    }
   ],
   "source": [
    "print(os.path.exists('./txt/szhouse.txt'))"
   ]
  },
  {
   "cell_type": "markdown",
   "metadata": {},
   "source": [
    "## 获取数据"
   ]
  },
  {
   "cell_type": "markdown",
   "metadata": {},
   "source": [
    "将文本格式的深圳二手房指导价，整理为二维表"
   ]
  },
  {
   "cell_type": "code",
   "execution_count": 6,
   "metadata": {},
   "outputs": [],
   "source": [
    "data_list = []"
   ]
  },
  {
   "cell_type": "code",
   "execution_count": 7,
   "metadata": {},
   "outputs": [],
   "source": [
    "with open('./txt/szhouse.txt', mode='r', encoding='utf-8') as file:\n",
    "    lines = [line for line in file.readlines() if len(line.strip()) > 0 and \n",
    "             not line.strip().startswith('-')]"
   ]
  },
  {
   "cell_type": "code",
   "execution_count": 8,
   "metadata": {},
   "outputs": [
    {
     "name": "stdout",
     "output_type": "stream",
     "text": [
      "17975\n"
     ]
    }
   ],
   "source": [
    "print(len(lines))"
   ]
  },
  {
   "cell_type": "code",
   "execution_count": 9,
   "metadata": {},
   "outputs": [
    {
     "name": "stdout",
     "output_type": "stream",
     "text": [
      "['1\\n', '罗湖\\n', '黄贝\\n', '安业花园\\n', '45000\\n', '2\\n', '罗湖\\n', '黄贝\\n', '安业馨园\\n', '56000\\n', '3\\n', '罗湖\\n', '黄贝\\n', '碧波花园\\n', '50500\\n', '4\\n', '罗湖\\n', '黄贝\\n', '碧中园\\n', '51600\\n', '5\\n', '罗湖\\n', '黄贝\\n', '赤龙坑住宅楼\\n', '51400\\n', '6\\n', '罗湖\\n', '黄贝\\n', '大澎花园\\n', '46400\\n', '7\\n', '罗湖\\n', '黄贝\\n', '丹枫白露苑\\n', '40900\\n', '8\\n', '罗湖\\n', '黄贝\\n', '电视台宿舍\\n', '51100\\n', '9\\n', '罗湖\\n', '黄贝\\n', '东方都会大厦\\n', '53000\\n', '10\\n', '罗湖\\n', '黄贝\\n', '东湖大厦\\n', '41100\\n']\n"
     ]
    }
   ],
   "source": [
    "print(lines[0:50])"
   ]
  },
  {
   "cell_type": "markdown",
   "metadata": {},
   "source": [
    "数据顺序为：序号、行政区、街道、小区名称、指导价格"
   ]
  },
  {
   "cell_type": "markdown",
   "metadata": {},
   "source": [
    "## 清洗与整理数据"
   ]
  },
  {
   "cell_type": "code",
   "execution_count": 10,
   "metadata": {},
   "outputs": [
    {
     "name": "stdout",
     "output_type": "stream",
     "text": [
      "3594\n"
     ]
    }
   ],
   "source": [
    "data = {}\n",
    "for index, line in enumerate(lines):\n",
    "    if index % 5 == 0:\n",
    "        if len(list(data.keys())) > 0:\n",
    "            data_list.append(data)\n",
    "            data = {}\n",
    "        try:\n",
    "            data['id'] = int(line)\n",
    "        except:\n",
    "            data['id'] = None\n",
    "    if index % 5 == 1:\n",
    "        data['district'] = line.strip()\n",
    "    if index % 5 == 2:\n",
    "        data['street'] = line.strip()\n",
    "    if index % 5 == 3:\n",
    "        data['subdivision'] = line.strip()\n",
    "    if index % 5 == 4:\n",
    "        try:\n",
    "            data['price'] = int(line.strip())\n",
    "        except:\n",
    "            data['price'] = None\n",
    "print(len(data_list))"
   ]
  },
  {
   "cell_type": "code",
   "execution_count": 11,
   "metadata": {},
   "outputs": [],
   "source": [
    "house_data = pd.DataFrame(data_list)"
   ]
  },
  {
   "cell_type": "code",
   "execution_count": 12,
   "metadata": {},
   "outputs": [
    {
     "data": {
      "text/html": [
       "<div>\n",
       "<style scoped>\n",
       "    .dataframe tbody tr th:only-of-type {\n",
       "        vertical-align: middle;\n",
       "    }\n",
       "\n",
       "    .dataframe tbody tr th {\n",
       "        vertical-align: top;\n",
       "    }\n",
       "\n",
       "    .dataframe thead th {\n",
       "        text-align: right;\n",
       "    }\n",
       "</style>\n",
       "<table border=\"1\" class=\"dataframe\">\n",
       "  <thead>\n",
       "    <tr style=\"text-align: right;\">\n",
       "      <th></th>\n",
       "      <th>id</th>\n",
       "      <th>district</th>\n",
       "      <th>street</th>\n",
       "      <th>subdivision</th>\n",
       "      <th>price</th>\n",
       "    </tr>\n",
       "  </thead>\n",
       "  <tbody>\n",
       "    <tr>\n",
       "      <th>0</th>\n",
       "      <td>1</td>\n",
       "      <td>罗湖</td>\n",
       "      <td>黄贝</td>\n",
       "      <td>安业花园</td>\n",
       "      <td>45000</td>\n",
       "    </tr>\n",
       "    <tr>\n",
       "      <th>1</th>\n",
       "      <td>2</td>\n",
       "      <td>罗湖</td>\n",
       "      <td>黄贝</td>\n",
       "      <td>安业馨园</td>\n",
       "      <td>56000</td>\n",
       "    </tr>\n",
       "    <tr>\n",
       "      <th>2</th>\n",
       "      <td>3</td>\n",
       "      <td>罗湖</td>\n",
       "      <td>黄贝</td>\n",
       "      <td>碧波花园</td>\n",
       "      <td>50500</td>\n",
       "    </tr>\n",
       "    <tr>\n",
       "      <th>3</th>\n",
       "      <td>4</td>\n",
       "      <td>罗湖</td>\n",
       "      <td>黄贝</td>\n",
       "      <td>碧中园</td>\n",
       "      <td>51600</td>\n",
       "    </tr>\n",
       "    <tr>\n",
       "      <th>4</th>\n",
       "      <td>5</td>\n",
       "      <td>罗湖</td>\n",
       "      <td>黄贝</td>\n",
       "      <td>赤龙坑住宅楼</td>\n",
       "      <td>51400</td>\n",
       "    </tr>\n",
       "  </tbody>\n",
       "</table>\n",
       "</div>"
      ],
      "text/plain": [
       "   id district street subdivision  price\n",
       "0   1       罗湖     黄贝        安业花园  45000\n",
       "1   2       罗湖     黄贝        安业馨园  56000\n",
       "2   3       罗湖     黄贝        碧波花园  50500\n",
       "3   4       罗湖     黄贝         碧中园  51600\n",
       "4   5       罗湖     黄贝      赤龙坑住宅楼  51400"
      ]
     },
     "execution_count": 12,
     "metadata": {},
     "output_type": "execute_result"
    }
   ],
   "source": [
    "house_data.head()"
   ]
  },
  {
   "cell_type": "markdown",
   "metadata": {},
   "source": [
    "## 过滤数据"
   ]
  },
  {
   "cell_type": "code",
   "execution_count": 13,
   "metadata": {},
   "outputs": [
    {
     "data": {
      "text/plain": [
       "['罗湖', '光明', '龙华', '宝安', '南山', '福田', '大鹏', '坪山', '盐田', '龙岗']"
      ]
     },
     "execution_count": 13,
     "metadata": {},
     "output_type": "execute_result"
    }
   ],
   "source": [
    "list(set(house_data['district']))"
   ]
  },
  {
   "cell_type": "code",
   "execution_count": 14,
   "metadata": {},
   "outputs": [],
   "source": [
    "nanshan = house_data[house_data['district']=='南山']"
   ]
  },
  {
   "cell_type": "code",
   "execution_count": 15,
   "metadata": {},
   "outputs": [
    {
     "data": {
      "text/html": [
       "<div>\n",
       "<style scoped>\n",
       "    .dataframe tbody tr th:only-of-type {\n",
       "        vertical-align: middle;\n",
       "    }\n",
       "\n",
       "    .dataframe tbody tr th {\n",
       "        vertical-align: top;\n",
       "    }\n",
       "\n",
       "    .dataframe thead th {\n",
       "        text-align: right;\n",
       "    }\n",
       "</style>\n",
       "<table border=\"1\" class=\"dataframe\">\n",
       "  <thead>\n",
       "    <tr style=\"text-align: right;\">\n",
       "      <th></th>\n",
       "      <th>id</th>\n",
       "      <th>district</th>\n",
       "      <th>street</th>\n",
       "      <th>subdivision</th>\n",
       "      <th>price</th>\n",
       "    </tr>\n",
       "  </thead>\n",
       "  <tbody>\n",
       "    <tr>\n",
       "      <th>1429</th>\n",
       "      <td>1430</td>\n",
       "      <td>南山</td>\n",
       "      <td>南头</td>\n",
       "      <td>缤纷年华家园</td>\n",
       "      <td>104000</td>\n",
       "    </tr>\n",
       "    <tr>\n",
       "      <th>1430</th>\n",
       "      <td>1431</td>\n",
       "      <td>南山</td>\n",
       "      <td>南头</td>\n",
       "      <td>彩虹居</td>\n",
       "      <td>60000</td>\n",
       "    </tr>\n",
       "    <tr>\n",
       "      <th>1431</th>\n",
       "      <td>1432</td>\n",
       "      <td>南山</td>\n",
       "      <td>南头</td>\n",
       "      <td>常丰花园</td>\n",
       "      <td>50000</td>\n",
       "    </tr>\n",
       "    <tr>\n",
       "      <th>1432</th>\n",
       "      <td>1433</td>\n",
       "      <td>南山</td>\n",
       "      <td>南头</td>\n",
       "      <td>常兴广场</td>\n",
       "      <td>60900</td>\n",
       "    </tr>\n",
       "    <tr>\n",
       "      <th>1433</th>\n",
       "      <td>1434</td>\n",
       "      <td>南山</td>\n",
       "      <td>南头</td>\n",
       "      <td>常兴苑</td>\n",
       "      <td>51400</td>\n",
       "    </tr>\n",
       "  </tbody>\n",
       "</table>\n",
       "</div>"
      ],
      "text/plain": [
       "        id district street subdivision   price\n",
       "1429  1430       南山     南头      缤纷年华家园  104000\n",
       "1430  1431       南山     南头         彩虹居   60000\n",
       "1431  1432       南山     南头        常丰花园   50000\n",
       "1432  1433       南山     南头        常兴广场   60900\n",
       "1433  1434       南山     南头         常兴苑   51400"
      ]
     },
     "execution_count": 15,
     "metadata": {},
     "output_type": "execute_result"
    }
   ],
   "source": [
    "nanshan.head()"
   ]
  },
  {
   "cell_type": "markdown",
   "metadata": {},
   "source": [
    "## 统计数据"
   ]
  },
  {
   "cell_type": "code",
   "execution_count": 16,
   "metadata": {},
   "outputs": [
    {
     "data": {
      "text/html": [
       "<div>\n",
       "<style scoped>\n",
       "    .dataframe tbody tr th:only-of-type {\n",
       "        vertical-align: middle;\n",
       "    }\n",
       "\n",
       "    .dataframe tbody tr th {\n",
       "        vertical-align: top;\n",
       "    }\n",
       "\n",
       "    .dataframe thead th {\n",
       "        text-align: right;\n",
       "    }\n",
       "</style>\n",
       "<table border=\"1\" class=\"dataframe\">\n",
       "  <thead>\n",
       "    <tr style=\"text-align: right;\">\n",
       "      <th></th>\n",
       "      <th>item</th>\n",
       "      <th>value</th>\n",
       "    </tr>\n",
       "  </thead>\n",
       "  <tbody>\n",
       "    <tr>\n",
       "      <th>0</th>\n",
       "      <td>count</td>\n",
       "      <td>3594.000000</td>\n",
       "    </tr>\n",
       "    <tr>\n",
       "      <th>1</th>\n",
       "      <td>mean</td>\n",
       "      <td>61330.050083</td>\n",
       "    </tr>\n",
       "    <tr>\n",
       "      <th>2</th>\n",
       "      <td>std</td>\n",
       "      <td>22407.423764</td>\n",
       "    </tr>\n",
       "    <tr>\n",
       "      <th>3</th>\n",
       "      <td>min</td>\n",
       "      <td>16100.000000</td>\n",
       "    </tr>\n",
       "    <tr>\n",
       "      <th>4</th>\n",
       "      <td>25%</td>\n",
       "      <td>45000.000000</td>\n",
       "    </tr>\n",
       "    <tr>\n",
       "      <th>5</th>\n",
       "      <td>50%</td>\n",
       "      <td>56600.000000</td>\n",
       "    </tr>\n",
       "    <tr>\n",
       "      <th>6</th>\n",
       "      <td>75%</td>\n",
       "      <td>73500.000000</td>\n",
       "    </tr>\n",
       "    <tr>\n",
       "      <th>7</th>\n",
       "      <td>max</td>\n",
       "      <td>132000.000000</td>\n",
       "    </tr>\n",
       "  </tbody>\n",
       "</table>\n",
       "</div>"
      ],
      "text/plain": [
       "    item          value\n",
       "0  count    3594.000000\n",
       "1   mean   61330.050083\n",
       "2    std   22407.423764\n",
       "3    min   16100.000000\n",
       "4    25%   45000.000000\n",
       "5    50%   56600.000000\n",
       "6    75%   73500.000000\n",
       "7    max  132000.000000"
      ]
     },
     "execution_count": 16,
     "metadata": {},
     "output_type": "execute_result"
    }
   ],
   "source": [
    "describe = house_data['price'].describe()\n",
    "dict_describe = {'item': describe.index, 'value': describe.values}\n",
    "df_describe = pd.DataFrame(dict_describe)\n",
    "df_describe"
   ]
  },
  {
   "cell_type": "markdown",
   "metadata": {},
   "source": [
    "### 求各区指导价均值"
   ]
  },
  {
   "cell_type": "code",
   "execution_count": 17,
   "metadata": {},
   "outputs": [],
   "source": [
    "district_mean = house_data.groupby('district').mean()"
   ]
  },
  {
   "cell_type": "code",
   "execution_count": 18,
   "metadata": {},
   "outputs": [
    {
     "data": {
      "text/html": [
       "<div>\n",
       "<style scoped>\n",
       "    .dataframe tbody tr th:only-of-type {\n",
       "        vertical-align: middle;\n",
       "    }\n",
       "\n",
       "    .dataframe tbody tr th {\n",
       "        vertical-align: top;\n",
       "    }\n",
       "\n",
       "    .dataframe thead th {\n",
       "        text-align: right;\n",
       "    }\n",
       "</style>\n",
       "<table border=\"1\" class=\"dataframe\">\n",
       "  <thead>\n",
       "    <tr style=\"text-align: right;\">\n",
       "      <th></th>\n",
       "      <th>price</th>\n",
       "    </tr>\n",
       "    <tr>\n",
       "      <th>district</th>\n",
       "      <th></th>\n",
       "    </tr>\n",
       "  </thead>\n",
       "  <tbody>\n",
       "    <tr>\n",
       "      <th>光明</th>\n",
       "      <td>45740.000000</td>\n",
       "    </tr>\n",
       "    <tr>\n",
       "      <th>南山</th>\n",
       "      <td>82748.640916</td>\n",
       "    </tr>\n",
       "    <tr>\n",
       "      <th>坪山</th>\n",
       "      <td>33660.526316</td>\n",
       "    </tr>\n",
       "    <tr>\n",
       "      <th>大鹏</th>\n",
       "      <td>32039.285714</td>\n",
       "    </tr>\n",
       "    <tr>\n",
       "      <th>宝安</th>\n",
       "      <td>58260.372960</td>\n",
       "    </tr>\n",
       "    <tr>\n",
       "      <th>盐田</th>\n",
       "      <td>42922.289157</td>\n",
       "    </tr>\n",
       "    <tr>\n",
       "      <th>福田</th>\n",
       "      <td>74946.592490</td>\n",
       "    </tr>\n",
       "    <tr>\n",
       "      <th>罗湖</th>\n",
       "      <td>53829.436620</td>\n",
       "    </tr>\n",
       "    <tr>\n",
       "      <th>龙华</th>\n",
       "      <td>54604.128440</td>\n",
       "    </tr>\n",
       "    <tr>\n",
       "      <th>龙岗</th>\n",
       "      <td>41117.594255</td>\n",
       "    </tr>\n",
       "  </tbody>\n",
       "</table>\n",
       "</div>"
      ],
      "text/plain": [
       "                 price\n",
       "district              \n",
       "光明        45740.000000\n",
       "南山        82748.640916\n",
       "坪山        33660.526316\n",
       "大鹏        32039.285714\n",
       "宝安        58260.372960\n",
       "盐田        42922.289157\n",
       "福田        74946.592490\n",
       "罗湖        53829.436620\n",
       "龙华        54604.128440\n",
       "龙岗        41117.594255"
      ]
     },
     "execution_count": 18,
     "metadata": {},
     "output_type": "execute_result"
    }
   ],
   "source": [
    "district_mean[['price']]"
   ]
  },
  {
   "cell_type": "markdown",
   "metadata": {},
   "source": [
    "### 根据均价降序排序"
   ]
  },
  {
   "cell_type": "code",
   "execution_count": 19,
   "metadata": {},
   "outputs": [
    {
     "data": {
      "text/html": [
       "<div>\n",
       "<style scoped>\n",
       "    .dataframe tbody tr th:only-of-type {\n",
       "        vertical-align: middle;\n",
       "    }\n",
       "\n",
       "    .dataframe tbody tr th {\n",
       "        vertical-align: top;\n",
       "    }\n",
       "\n",
       "    .dataframe thead th {\n",
       "        text-align: right;\n",
       "    }\n",
       "</style>\n",
       "<table border=\"1\" class=\"dataframe\">\n",
       "  <thead>\n",
       "    <tr style=\"text-align: right;\">\n",
       "      <th></th>\n",
       "      <th>price</th>\n",
       "    </tr>\n",
       "    <tr>\n",
       "      <th>district</th>\n",
       "      <th></th>\n",
       "    </tr>\n",
       "  </thead>\n",
       "  <tbody>\n",
       "    <tr>\n",
       "      <th>南山</th>\n",
       "      <td>82748.640916</td>\n",
       "    </tr>\n",
       "    <tr>\n",
       "      <th>福田</th>\n",
       "      <td>74946.592490</td>\n",
       "    </tr>\n",
       "    <tr>\n",
       "      <th>宝安</th>\n",
       "      <td>58260.372960</td>\n",
       "    </tr>\n",
       "    <tr>\n",
       "      <th>龙华</th>\n",
       "      <td>54604.128440</td>\n",
       "    </tr>\n",
       "    <tr>\n",
       "      <th>罗湖</th>\n",
       "      <td>53829.436620</td>\n",
       "    </tr>\n",
       "    <tr>\n",
       "      <th>光明</th>\n",
       "      <td>45740.000000</td>\n",
       "    </tr>\n",
       "    <tr>\n",
       "      <th>盐田</th>\n",
       "      <td>42922.289157</td>\n",
       "    </tr>\n",
       "    <tr>\n",
       "      <th>龙岗</th>\n",
       "      <td>41117.594255</td>\n",
       "    </tr>\n",
       "    <tr>\n",
       "      <th>坪山</th>\n",
       "      <td>33660.526316</td>\n",
       "    </tr>\n",
       "    <tr>\n",
       "      <th>大鹏</th>\n",
       "      <td>32039.285714</td>\n",
       "    </tr>\n",
       "  </tbody>\n",
       "</table>\n",
       "</div>"
      ],
      "text/plain": [
       "                 price\n",
       "district              \n",
       "南山        82748.640916\n",
       "福田        74946.592490\n",
       "宝安        58260.372960\n",
       "龙华        54604.128440\n",
       "罗湖        53829.436620\n",
       "光明        45740.000000\n",
       "盐田        42922.289157\n",
       "龙岗        41117.594255\n",
       "坪山        33660.526316\n",
       "大鹏        32039.285714"
      ]
     },
     "execution_count": 19,
     "metadata": {},
     "output_type": "execute_result"
    }
   ],
   "source": [
    "district_mean.sort_values('price', ascending=False)[['price']]"
   ]
  },
  {
   "cell_type": "markdown",
   "metadata": {},
   "source": [
    "### 绘制柱状图"
   ]
  },
  {
   "cell_type": "code",
   "execution_count": 20,
   "metadata": {},
   "outputs": [],
   "source": [
    "#设置行不限制数量\n",
    "pd.set_option('display.max_rows',None)\n",
    "\n",
    "#设置列不限制数量\n",
    "pd.set_option('display.max_columns',None)\n",
    "\n",
    "#设置value的显示长度为100，默认为50\n",
    "pd.set_option('max_colwidth',100)"
   ]
  },
  {
   "cell_type": "code",
   "execution_count": 21,
   "metadata": {},
   "outputs": [],
   "source": [
    "# 支持中文显示\n",
    "rc = {'axes.unicode_minus': False}\n",
    "sns.set(context='notebook', style='ticks', font='SimHei', rc=rc)"
   ]
  },
  {
   "cell_type": "code",
   "execution_count": 22,
   "metadata": {},
   "outputs": [
    {
     "data": {
      "image/png": "[encoded data removed]",
      "text/plain": [
       "<Figure size 432x288 with 1 Axes>"
      ]
     },
     "metadata": {},
     "output_type": "display_data"
    }
   ],
   "source": [
    "sns.barplot(x=district_mean.index, y='price', data=district_mean)\n",
    "# 旋转X轴文本为90度\n",
    "plt.xticks(plt.xticks()[0], district_mean.index, rotation=60)\n",
    "plt.tight_layout()\n",
    "plt.show()"
   ]
  },
  {
   "cell_type": "code",
   "execution_count": 23,
   "metadata": {},
   "outputs": [],
   "source": [
    "if not os.path.exists('./excel/'):\n",
    "    os.makedirs('./excel/')"
   ]
  },
  {
   "cell_type": "code",
   "execution_count": 24,
   "metadata": {},
   "outputs": [],
   "source": [
    "group_summary = house_data['price'].groupby(house_data['district']).describe()"
   ]
  },
  {
   "cell_type": "code",
   "execution_count": 25,
   "metadata": {},
   "outputs": [],
   "source": [
    "import time\n",
    "try:\n",
    "    excel_name = 'shenzhen_house_{0}.xlsx'.format(\n",
    "        time.strftime('%Y%m%d%H%M%S', time.localtime(time.time())))\n",
    "    if not os.path.exists('./excel/'):\n",
    "        os.makedirs('./excel/')\n",
    "    excel_filepath = os.path.join('./excel/',\n",
    "                                  excel_name)\n",
    "    write = pd.ExcelWriter(excel_filepath)\n",
    "    house_data.to_excel(write,\n",
    "                        sheet_name='details',\n",
    "                        index=False,\n",
    "                        encoding='utf-8')\n",
    "    df_describe.to_excel(write,\n",
    "                         sheet_name='summary',\n",
    "                         index=False,\n",
    "                         encoding='utf-8')\n",
    "    group_summary.to_excel(write,\n",
    "                           sheet_name='district_summary',\n",
    "                           index=True,\n",
    "                           encoding='utf-8')\n",
    "    write.save()\n",
    "except Exception as e:\n",
    "    print(e)"
   ]
  },
  {
   "cell_type": "code",
   "execution_count": null,
   "metadata": {},
   "outputs": [],
   "source": []
  }
 ],
 "metadata": {
  "kernelspec": {
   "display_name": "Python 3 (ipykernel)",
   "language": "python",
   "name": "python3"
  },
  "language_info": {
   "codemirror_mode": {
    "name": "ipython",
    "version": 3
   },
   "file_extension": ".py",
   "mimetype": "text/x-python",
   "name": "python",
   "nbconvert_exporter": "python",
   "pygments_lexer": "ipython3",
   "version": "3.8.10"
  },
  "toc": {
   "base_numbering": 1,
   "nav_menu": {},
   "number_sections": true,
   "sideBar": true,
   "skip_h1_title": false,
   "title_cell": "Table of Contents",
   "title_sidebar": "Contents",
   "toc_cell": false,
   "toc_position": {
    "height": "calc(100% - 180px)",
    "left": "10px",
    "top": "150px",
    "width": "244.76px"
   },
   "toc_section_display": true,
   "toc_window_display": false
  }
 },
 "nbformat": 4,
 "nbformat_minor": 4
}
