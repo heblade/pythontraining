{
 "cells": [
  {
   "cell_type": "markdown",
   "metadata": {},
   "source": [
    "# 面向对象\n",
    "Python从设计之初就已经是一门面向对象的语言，正因为如此，在Python中创建一个类和对象是很容易的。本章节我们将详细介绍Python的面向对象编程。\n",
    "\n",
    "如果你以前没有接触过面向对象的编程语言，那你可能需要先了解一些面向对象语言的一些基本特征，在头脑里头形成一个基本的面向对象的概念，这样有助于你更容易的学习Python的面向对象编程。\n",
    "\n",
    "接下来我们先来简单的了解下面向对象的一些基本特征。"
   ]
  },
  {
   "cell_type": "markdown",
   "metadata": {},
   "source": [
    "## 面向对象简介\n",
    "* <b>类(Class):</b> 用来描述具有相同的属性和方法的对象的集合。它定义了该集合中每个对象所共有的属性和方法。对象是类的实例。\n",
    "* <b>方法：</b>类中定义的函数。\n",
    "* <b>类变量：</b>类变量在整个实例化的对象中是公用的。类变量定义在类中且在函数体之外。类变量通常不作为实例变量使用。\n",
    "* <b>数据成员：</b>类变量或者实例变量用于处理类及其实例对象的相关的数据。\n",
    "* <b>方法重写：</b>如果从父类继承的方法不能满足子类的需求，可以对其进行改写，这个过程叫方法的覆盖（override），也称为方法的重写。\n",
    "* <b>实例变量：</b>定义在方法中的变量，只作用于当前实例的类。\n",
    "* <b>继承：</b>即一个派生类（derived class）继承基类（base class）的字段和方法。继承也允许把一个派生类的对象作为一个基类对象对待。例如，有这样一个设计：一个Dog类型的对象派生自Animal类，这是模拟\"是一个（is-a）\"关系（例图，Dog是一个Animal）。\n",
    "* <b>实例化：</b>创建一个类的实例，类的具体对象。\n",
    "* <b>对象：</b>通过类定义的数据结构实例。对象包括两个数据成员（类变量和实例变量）和方法。"
   ]
  },
  {
   "cell_type": "markdown",
   "metadata": {},
   "source": [
    "和其它编程语言相比，Python 在尽可能不增加新的语法和语义的情况下加入了类机制。\n",
    "\n",
    "Python中的类提供了面向对象编程的所有基本功能：类的继承机制允许多个基类，派生类可以覆盖基类中的任何方法，方法中可以调用基类中的同名方法。\n",
    "\n",
    "对象可以包含任意数量和类型的数据。"
   ]
  },
  {
   "cell_type": "markdown",
   "metadata": {},
   "source": [
    "## 类定义\n",
    "语法格式如下\n",
    "```\n",
    "class ClassName:\n",
    "    <statement-1>\n",
    "    .\n",
    "    .\n",
    "    .\n",
    "    <statement-N>\n",
    "```"
   ]
  },
  {
   "cell_type": "markdown",
   "metadata": {},
   "source": [
    "类实例化后，可以使用其属性，实际上，创建一个类之后，可以通过类名访问其属性。"
   ]
  },
  {
   "cell_type": "markdown",
   "metadata": {},
   "source": [
    "## 类对象\n",
    "类对象支持两种操作：属性引用和实例化。\n",
    "\n",
    "属性引用使用和 Python 中所有的属性引用一样的标准语法：obj.name。\n",
    "\n",
    "类对象创建后，类命名空间中所有的命名都是有效属性名。所以如果类定义是这样:"
   ]
  },
  {
   "cell_type": "code",
   "execution_count": 2,
   "metadata": {
    "ExecuteTime": {
     "end_time": "2022-09-21T09:11:13.972817Z",
     "start_time": "2022-09-21T09:11:13.948807Z"
    }
   },
   "outputs": [
    {
     "name": "stdout",
     "output_type": "stream",
     "text": [
      "MyClass.i 12345\n",
      "myclass.i 888\n",
      "MyClass.i 8888\n",
      "myclass.i 888\n",
      "-----------------------------------------\n",
      "<__main__.MyClass object at 0x0000028B3164D9D0>\n",
      "MyClass类的方法hello的输出为：hello world\n",
      "<__main__.MyClass object at 0x0000028B3164DAF0>\n",
      "MyClass类的方法hello的输出为：hello world\n"
     ]
    }
   ],
   "source": [
    "class MyClass:\n",
    "    \"\"\"一个简单的类实例\"\"\"\n",
    "    i = 12345\n",
    "    def hello(self):\n",
    "        print(self)\n",
    "        return \"hello world\"\n",
    "\n",
    "myclass = MyClass()\n",
    "# print('MyClass类的属性i为：{0}'.format(myclass.i))\n",
    "myclass.i = 888\n",
    "print('MyClass.i', MyClass.i)\n",
    "print('myclass.i', myclass.i)\n",
    "MyClass.i = 8888\n",
    "print('MyClass.i', MyClass.i)\n",
    "print('myclass.i', myclass.i)\n",
    "print('-----------------------------------------')\n",
    "print('MyClass类的方法hello的输出为：{0}'.format(myclass.hello()))\n",
    "myclass2 = MyClass()\n",
    "print('MyClass类的方法hello的输出为：{0}'.format(myclass2.hello()))"
   ]
  },
  {
   "cell_type": "markdown",
   "metadata": {},
   "source": [
    "很多类都倾向于将对象创建为有初始状态的。因此类可能会定义一个名为 \\_\\_init\\_\\_() 的特殊方法（构造方法），像下面这样"
   ]
  },
  {
   "cell_type": "code",
   "execution_count": 4,
   "metadata": {},
   "outputs": [],
   "source": [
    "def __init__(self):\n",
    "    self.data = []"
   ]
  },
  {
   "cell_type": "markdown",
   "metadata": {},
   "source": [
    "类定义了 ```__init__()``` 方法的话，类的实例化操作会自动调用 ```__init__()``` 方法"
   ]
  },
  {
   "cell_type": "code",
   "execution_count": 4,
   "metadata": {
    "ExecuteTime": {
     "end_time": "2022-09-21T09:15:08.451882Z",
     "start_time": "2022-09-21T09:15:08.436892Z"
    }
   },
   "outputs": [],
   "source": [
    "class MyClass(object):\n",
    "    \"\"\"一个简单的类实例\"\"\"\n",
    "#     i = 0\n",
    "#     name = ''\n",
    "    def __init__(self):\n",
    "        print('initial this class')\n",
    "        self.i = 8888\n",
    "        self.name = 'Tom'\n",
    "        \n",
    "    def hello(self):\n",
    "        return \"hello world: {0}\".format(self.name)"
   ]
  },
  {
   "cell_type": "code",
   "execution_count": 5,
   "metadata": {
    "ExecuteTime": {
     "end_time": "2022-09-21T09:15:08.607763Z",
     "start_time": "2022-09-21T09:15:08.572165Z"
    }
   },
   "outputs": [
    {
     "name": "stdout",
     "output_type": "stream",
     "text": [
      "initial this class\n",
      "8888 Tom\n",
      "hello world: Tom\n"
     ]
    },
    {
     "ename": "AttributeError",
     "evalue": "type object 'MyClass' has no attribute 'i'",
     "output_type": "error",
     "traceback": [
      "\u001b[1;31m---------------------------------------------------------------------------\u001b[0m",
      "\u001b[1;31mAttributeError\u001b[0m                            Traceback (most recent call last)",
      "Cell \u001b[1;32mIn [5], line 4\u001b[0m\n\u001b[0;32m      2\u001b[0m \u001b[38;5;28mprint\u001b[39m(my_class\u001b[38;5;241m.\u001b[39mi, my_class\u001b[38;5;241m.\u001b[39mname)\n\u001b[0;32m      3\u001b[0m \u001b[38;5;28mprint\u001b[39m(my_class\u001b[38;5;241m.\u001b[39mhello())\n\u001b[1;32m----> 4\u001b[0m \u001b[38;5;28mprint\u001b[39m(\u001b[38;5;124m'\u001b[39m\u001b[38;5;124mMyClass.i\u001b[39m\u001b[38;5;124m'\u001b[39m, \u001b[43mMyClass\u001b[49m\u001b[38;5;241;43m.\u001b[39;49m\u001b[43mi\u001b[49m)\n",
      "\u001b[1;31mAttributeError\u001b[0m: type object 'MyClass' has no attribute 'i'"
     ]
    }
   ],
   "source": [
    "my_class = MyClass()\n",
    "print(my_class.i, my_class.name)\n",
    "print(my_class.hello())\n",
    "print('MyClass.i', MyClass.i)"
   ]
  },
  {
   "cell_type": "markdown",
   "metadata": {},
   "source": [
    "当然， \\_\\_init\\_\\_() 方法可以有参数，参数通过 \\_\\_init\\_\\_() 传递到类的实例化操作上。"
   ]
  },
  {
   "cell_type": "code",
   "execution_count": 7,
   "metadata": {
    "ExecuteTime": {
     "end_time": "2022-09-21T09:17:54.986808Z",
     "start_time": "2022-09-21T09:17:54.978800Z"
    }
   },
   "outputs": [
    {
     "name": "stdout",
     "output_type": "stream",
     "text": [
      "3.0 -4.5\n"
     ]
    }
   ],
   "source": [
    "class Complex:\n",
    "#     real = 0\n",
    "    def __init__(self, realpart, imagpart):\n",
    "        self.real = realpart\n",
    "        self.imag = imagpart\n",
    "x = Complex(3.0, -4.5)\n",
    "print(x.real, x.imag)   # 输出结果：3.0 -4.5"
   ]
  },
  {
   "cell_type": "markdown",
   "metadata": {},
   "source": [
    "### self代表类的实例，而非类\n",
    "类的方法与普通的函数只有一个特别的区别——它们必须有一个额外的第一个参数名称, 按照惯例它的名称是 self"
   ]
  },
  {
   "cell_type": "code",
   "execution_count": 8,
   "metadata": {
    "ExecuteTime": {
     "end_time": "2022-09-21T09:19:35.953239Z",
     "start_time": "2022-09-21T09:19:35.938974Z"
    }
   },
   "outputs": [
    {
     "name": "stdout",
     "output_type": "stream",
     "text": [
      "<__main__.test object at 0x0000028B3383C5B0> Tom\n",
      "<class '__main__.test'>\n",
      "18 Tom\n"
     ]
    }
   ],
   "source": [
    "class test:\n",
    "    def prt(self, name):\n",
    "        print(self, name)\n",
    "        print(self.__class__)\n",
    "    \n",
    "    def testnoself(self, age: int=20):\n",
    "        self.testnoself_v2(age=age)\n",
    "        \n",
    "    def testnoself_v2(self, age: int=20, name: str='Tom'):\n",
    "        print(age, name)\n",
    "        \n",
    "t = test()\n",
    "t.prt('Tom')\n",
    "t.testnoself(18)"
   ]
  },
  {
   "cell_type": "markdown",
   "metadata": {},
   "source": [
    "从执行结果可以很明显的看出，self 代表的是类的实例，代表当前对象的地址，而 self.\\_\\_class\\_\\_ 则指向类。\n",
    "\n",
    "self 不是 python 关键字，我们把他换成 morningstar 也是可以正常执行的:"
   ]
  },
  {
   "cell_type": "code",
   "execution_count": 10,
   "metadata": {
    "ExecuteTime": {
     "end_time": "2022-09-21T09:22:35.272023Z",
     "start_time": "2022-09-21T09:22:35.256705Z"
    }
   },
   "outputs": [
    {
     "name": "stdout",
     "output_type": "stream",
     "text": [
      "<__main__.test object at 0x0000028B33F5CC10>\n",
      "<class '__main__.test'>\n"
     ]
    }
   ],
   "source": [
    "class test:\n",
    "    def prt(China):\n",
    "        print(China)\n",
    "        print(China.__class__)\n",
    "t = test()\n",
    "t.prt()"
   ]
  },
  {
   "cell_type": "markdown",
   "metadata": {},
   "source": [
    "## 类的方法\n",
    "在类的内部，使用 def 关键字来定义一个方法，与一般函数定义不同，类方法必须包含参数 self, 且为第一个参数，self 代表的是类的实例。"
   ]
  },
  {
   "cell_type": "code",
   "execution_count": 12,
   "metadata": {
    "ExecuteTime": {
     "end_time": "2022-09-21T09:28:44.863122Z",
     "start_time": "2022-09-21T09:28:44.841276Z"
    }
   },
   "outputs": [
    {
     "name": "stdout",
     "output_type": "stream",
     "text": [
      "morningstar : 在中国成立 15 年, 股价：133\n",
      "morningstar 15\n",
      "none 0\n"
     ]
    }
   ],
   "source": [
    "#类定义\n",
    "class company(object):\n",
    "    #定义基本属性\n",
    "    name = 'none'\n",
    "    inchina = 0\n",
    "    #定义私有属性,私有属性在类外部无法直接进行访问\n",
    "    __stockprice = 0\n",
    "    #定义构造方法\n",
    "    def __init__(self,n,a,w):\n",
    "        self.name = n\n",
    "        self.inchina = a\n",
    "        self.__stockprice = w\n",
    "    def speak(self):\n",
    "        print(\"{0} : 在中国成立 {1} 年, 股价：{2}\".format(self.name,self.inchina, self.__stockprice))\n",
    "\n",
    "# 实例化类\n",
    "c= company('morningstar',15, 133)\n",
    "c.speak()\n",
    "print(c.name, c.inchina)\n",
    "print(company.name,company.inchina )"
   ]
  },
  {
   "cell_type": "markdown",
   "metadata": {},
   "source": [
    "## 继承\n",
    "Python 同样支持类的继承，如果一种语言不支持继承，类就没有什么意义。派生类的定义如下所示:\n",
    "```\n",
    "class DerivedClassName(BaseClassName1):\n",
    "    <statement-1>\n",
    "    .\n",
    "    .\n",
    "    .\n",
    "    <statement-N>\n",
    "```"
   ]
  },
  {
   "cell_type": "markdown",
   "metadata": {},
   "source": [
    "需要注意圆括号中基类的顺序，若是基类中有相同的方法名，而在子类使用时未指定，python从左至右搜索 即方法在子类中未找到时，从左到右查找基类中是否包含方法。\n",
    "\n",
    "BaseClassName（示例中的基类名）必须与派生类定义在一个作用域内。除了类，还可以用表达式，基类定义在另一个模块中时这一点非常有用:"
   ]
  },
  {
   "cell_type": "code",
   "execution_count": 13,
   "metadata": {
    "ExecuteTime": {
     "end_time": "2022-09-21T09:32:42.047968Z",
     "start_time": "2022-09-21T09:32:42.027944Z"
    }
   },
   "outputs": [
    {
     "name": "stdout",
     "output_type": "stream",
     "text": [
      "ken 说: 我 10 岁, 体重:30公斤。\n",
      "<bound method people.show_basic_info of <__main__.student object at 0x0000028B340C9D00>>\n",
      "ken 说: 我 10 岁, 在读 3 年级\n",
      "<bound method student.show_edu_info of <__main__.student object at 0x0000028B340C9D00>>\n"
     ]
    }
   ],
   "source": [
    "class people:\n",
    "    #定义基本属性\n",
    "    name = ''\n",
    "    age = 0\n",
    "    #定义私有属性,私有属性在类外部无法直接进行访问\n",
    "    __weight = 0\n",
    "    #定义构造方法\n",
    "    def __init__(self,name,age,weight):\n",
    "        self.name = name\n",
    "        self.age = age\n",
    "        self.__weight = weight\n",
    "        \n",
    "    def show_basic_info(self):\n",
    "        print(\"{0} 说: 我 {1} 岁, 体重:{2}公斤。\".format(self.name,self.age, self.__weight))\n",
    " #单继承示例\n",
    "class student(people):\n",
    "    grade = ''\n",
    "    def __init__(self,name,age,weight,grade):\n",
    "        #调用父类的构造函数\n",
    "        people.__init__(self,name,age,weight)\n",
    "        self.grade = grade\n",
    "        \n",
    "    def show_edu_info(self):\n",
    "        print(\"{0} 说: 我 {1} 岁, 在读 {2} 年级\".format(self.name, self.age, self.grade))\n",
    "\n",
    "        \n",
    "s = student('ken',10,30,3)\n",
    "s.show_basic_info()\n",
    "print(s.show_basic_info)\n",
    "s.show_edu_info()\n",
    "print(s.show_edu_info)"
   ]
  },
  {
   "cell_type": "markdown",
   "metadata": {},
   "source": [
    "## 多继承\n",
    "Python同样有限的支持多继承形式。多继承的类定义形如下例:\n",
    "```\n",
    "class DerivedClassName(Base1, Base2, Base3):\n",
    "    <statement-1>\n",
    "    .\n",
    "    .\n",
    "    .\n",
    "    <statement-N>\n",
    "```"
   ]
  },
  {
   "cell_type": "markdown",
   "metadata": {},
   "source": [
    "需要注意圆括号中父类的顺序，若是父类中有相同的方法名，而在子类使用时未指定，python从左至右搜索 即方法在子类中未找到时，从左到右查找父类中是否包含方法。"
   ]
  },
  {
   "cell_type": "code",
   "execution_count": 14,
   "metadata": {
    "ExecuteTime": {
     "end_time": "2022-09-21T09:36:29.702079Z",
     "start_time": "2022-09-21T09:36:29.690008Z"
    }
   },
   "outputs": [
    {
     "name": "stdout",
     "output_type": "stream",
     "text": [
      "init sample\n",
      "init student\n",
      "init people\n",
      "init speaker\n",
      "我叫 Tim，我是一个演说家，我演讲的主题是 Python\n"
     ]
    }
   ],
   "source": [
    "#类定义\n",
    "class people:\n",
    "    #定义基本属性\n",
    "    name = ''\n",
    "    age = 0\n",
    "    #定义私有属性,私有属性在类外部无法直接进行访问\n",
    "    __weight = 0\n",
    "    #定义构造方法\n",
    "    def __init__(self,name,age,weight):\n",
    "        print('init people')\n",
    "        self.name = name\n",
    "        self.age = age\n",
    "        self.__weight = weight\n",
    "    def show_basic_info(self):\n",
    "        print(\"%s 说: 我 %d 岁。\" %(self.name,self.age))\n",
    "\n",
    "\n",
    "#单继承示例\n",
    "class student(people):\n",
    "    grade = ''\n",
    "    def __init__(self,name,age,weight,grade):\n",
    "        print('init student')\n",
    "        #调用父类的构函\n",
    "        people.__init__(self,name,age,weight)\n",
    "        self.grade = grade\n",
    "        \n",
    "    #覆写父类的方法\n",
    "    def show_basic_info(self):\n",
    "        print(\"%s 说: 我 %d 岁了，我在读 %d 年级\"%(self.name,self.age,self.grade))\n",
    "\n",
    "\n",
    "#另一个类，多重继承之前的准备\n",
    "class speaker():\n",
    "    topic = ''\n",
    "    name = ''\n",
    "    def __init__(self,name,topic):\n",
    "        print('init speaker')\n",
    "        self.name = name\n",
    "        self.topic = topic\n",
    "    def speak(self):\n",
    "        print(\"我叫 %s，我是一个演说家，我演讲的主题是 %s\"%(self.name,self.topic))\n",
    "\n",
    "        \n",
    "#多重继承\n",
    "class sample(student,speaker):\n",
    "    a =''\n",
    "    def __init__(self,name,age,weight,grade,topic):\n",
    "        print('init sample')\n",
    "        student.__init__(self,name,age,weight,grade)\n",
    "        speaker.__init__(self,name,topic)\n",
    "\n",
    "test = sample(\"Tim\",25,80,4,\"Python\")\n",
    "#方法名同，默认调用的是在括号中排前的父类的方法\n",
    "# 但是这种多继承的方式，强烈不推荐。\n",
    "test.speak()   "
   ]
  },
  {
   "cell_type": "markdown",
   "metadata": {},
   "source": [
    "实际上，考虑到可维护性，不是很建议使用多继承，更多的情况下使用组合"
   ]
  },
  {
   "cell_type": "code",
   "execution_count": 16,
   "metadata": {
    "ExecuteTime": {
     "end_time": "2022-09-21T09:38:09.525522Z",
     "start_time": "2022-09-21T09:38:09.516489Z"
    }
   },
   "outputs": [
    {
     "name": "stdout",
     "output_type": "stream",
     "text": [
      "我叫 Tim，我是一个演说家，我演讲的主题是 Python\n",
      "persons name is Tim, age is 30, topic is Python\n"
     ]
    }
   ],
   "source": [
    "#类定义\n",
    "class people:\n",
    "    #定义基本属性\n",
    "    name = ''\n",
    "    age = 0\n",
    "    #定义私有属性,私有属性在类外部无法直接进行访问\n",
    "    __weight = 0\n",
    "    #定义构造方法\n",
    "    def __init__(self,name,age,weight):\n",
    "        self.name = name\n",
    "        self.age = age\n",
    "        self.__weight = weight\n",
    "    def speak(self):\n",
    "        print(\"%s 说: 我 %d 岁。\" %(self.name,self.age))\n",
    "\n",
    "class speaker(people):\n",
    "    topic = ''\n",
    "    def __init__(self, name, age, weight, topic):\n",
    "        people.__init__(self, name, age, weight)\n",
    "        self.topic = topic\n",
    "    def speak(self):\n",
    "        print(\"我叫 %s，我是一个演说家，我演讲的主题是 %s\"%(self.name,self.topic))\n",
    "\n",
    "#定义一个类，通过组合方式使用speaker类\n",
    "class sample():\n",
    "    def __init__(self, name, age, weight, topic):\n",
    "        self.person = speaker(name, age, weight, topic)\n",
    "    \n",
    "        \n",
    "test = sample(\"Tim\", 30, 60, \"Python\")\n",
    "test.person.speak()\n",
    "print('person''s name is {0}, age is {1}, topic is {2}'\n",
    "      .format(test.person.name, \n",
    "              test.person.age, \n",
    "              test.person.topic))"
   ]
  },
  {
   "cell_type": "markdown",
   "metadata": {},
   "source": [
    "## 方法重写\n",
    "如果你的父类方法的功能不能满足你的需求，你可以在子类重写你父类的方法，实例如下："
   ]
  },
  {
   "cell_type": "code",
   "execution_count": 19,
   "metadata": {
    "ExecuteTime": {
     "end_time": "2022-09-21T09:40:26.819231Z",
     "start_time": "2022-09-21T09:40:26.800232Z"
    }
   },
   "outputs": [
    {
     "name": "stdout",
     "output_type": "stream",
     "text": [
      "调用子类方法\n",
      "调用父类方法\n"
     ]
    }
   ],
   "source": [
    "class Parent:        # 定义父类\n",
    "    def myMethod(self):\n",
    "        print('调用父类方法')\n",
    "\n",
    "class Child(Parent): # 定义子类\n",
    "    def myMethod(self):\n",
    "        print('调用子类方法')\n",
    "\n",
    "child = Child()          # 子类实例\n",
    "child.myMethod()         # 子类调用重写方法\n",
    "super(Child, child).myMethod() #用子类对象调用父类已被覆盖的方法"
   ]
  },
  {
   "cell_type": "markdown",
   "metadata": {},
   "source": [
    "super() 函数是用于调用父类(超类)的一个方法。"
   ]
  },
  {
   "cell_type": "markdown",
   "metadata": {},
   "source": [
    "### Python子类继承父类构造函数说明"
   ]
  },
  {
   "cell_type": "markdown",
   "metadata": {},
   "source": [
    "如果在子类中需要父类的构造方法就需要显示的调用父类的构造方法，或者不重写父类的构造方法。\n",
    "\n",
    "子类不重写 \\_\\_init\\_\\_，实例化子类时，会自动调用父类定义的 \\_\\_init\\_\\_。"
   ]
  },
  {
   "cell_type": "code",
   "execution_count": 20,
   "metadata": {
    "ExecuteTime": {
     "end_time": "2022-09-21T09:41:34.734780Z",
     "start_time": "2022-09-21T09:41:34.725522Z"
    }
   },
   "outputs": [
    {
     "name": "stdout",
     "output_type": "stream",
     "text": [
      "name: morningstar\n",
      "Son morningstar\n"
     ]
    }
   ],
   "source": [
    "class Father(object):\n",
    "    def __init__(self, name):\n",
    "        self.name=name\n",
    "        print ( \"name: %s\" %( self.name) )\n",
    "    def getName(self):\n",
    "        return 'Father ' + self.name\n",
    "\n",
    "class Son(Father):\n",
    "    def getName(self):\n",
    "        return 'Son ' + self.name\n",
    "\n",
    "if __name__=='__main__':\n",
    "    son=Son('morningstar')\n",
    "    print (son.getName())"
   ]
  },
  {
   "cell_type": "markdown",
   "metadata": {},
   "source": [
    "如果重写了\\_\\_init\\_\\_ 时，实例化子类，就不会调用父类已经定义的 \\_\\_init\\_\\_，语法格式如下："
   ]
  },
  {
   "cell_type": "code",
   "execution_count": 21,
   "metadata": {
    "ExecuteTime": {
     "end_time": "2022-09-21T09:42:21.633820Z",
     "start_time": "2022-09-21T09:42:21.616447Z"
    }
   },
   "outputs": [
    {
     "name": "stdout",
     "output_type": "stream",
     "text": [
      "hi\n",
      "<class '__main__.Father'>\n",
      "name: morningstar\n",
      "Son morningstar\n"
     ]
    }
   ],
   "source": [
    "class Father(object):\n",
    "    def __init__(self, name):\n",
    "        self.name=name\n",
    "        print ( \"name: %s\" %( self.name) )\n",
    "    def getName(self):\n",
    "        return 'Father ' + self.name\n",
    "\n",
    "class Son(Father):\n",
    "    def __init__(self, name):\n",
    "        print ( \"hi\" )\n",
    "        print(Father)\n",
    "        Father.__init__(self,name)\n",
    "\n",
    "    def getName(self):\n",
    "        return 'Son '+self.name\n",
    "\n",
    "if __name__=='__main__':\n",
    "    son=Son('morningstar')\n",
    "    print ( son.getName() )"
   ]
  },
  {
   "cell_type": "markdown",
   "metadata": {},
   "source": [
    "如果重写了\\_\\_init\\_\\_ 时，要继承父类的构造方法，可以使用 super 关键字：\n",
    "```\n",
    "super(子类，self).__init__(参数1，参数2，....)\n",
    "```\n",
    "还有一种经典写法：\n",
    "```\n",
    "父类名称.__init__(self,参数1，参数2，...)\n",
    "```"
   ]
  },
  {
   "cell_type": "code",
   "execution_count": 22,
   "metadata": {
    "ExecuteTime": {
     "end_time": "2022-09-21T09:43:12.335006Z",
     "start_time": "2022-09-21T09:43:12.319517Z"
    }
   },
   "outputs": [
    {
     "name": "stdout",
     "output_type": "stream",
     "text": [
      "<class 'super'>\n",
      "father name: morningstar\n",
      "Son init\n",
      "Son morningstar\n"
     ]
    }
   ],
   "source": [
    "class Father(object):\n",
    "    def __init__(self, name):\n",
    "        self.name=name\n",
    "        print ( \"father name: %s\" %( self.name))\n",
    "    def getName(self):\n",
    "        return 'Father ' + self.name\n",
    "\n",
    "class Son(Father):\n",
    "    def __init__(self, name):\n",
    "        print(type(super(Son, self)))\n",
    "        super(Son, self).__init__(name)\n",
    "#         Father.__init__(self,name)\n",
    "        print (\"Son init\")\n",
    "        self.name =  name\n",
    "    def getName(self):\n",
    "        return 'Son '+self.name\n",
    "\n",
    "if __name__=='__main__':\n",
    "    son=Son('morningstar')\n",
    "    print ( son.getName() )"
   ]
  },
  {
   "cell_type": "markdown",
   "metadata": {},
   "source": [
    "## 类属性与方法\n",
    "### 类的私有属性\n",
    "\\_\\_private\\_attrs：两个下划线开头，声明该属性为私有，不能在类外部被使用或直接访问。在类内部的方法中使用时 self.\\_\\_private_attrs。\n",
    "### 类的方法\n",
    "在类的内部，使用 def 关键字来定义一个方法，与一般函数定义不同，类方法必须包含参数 self，且为第一个参数，self 代表的是类的实例。\n",
    "\n",
    "self 的名字并不是规定死的，也可以使用 this，但是最好还是按照约定是用 self。\n",
    "### 类的私有方法\n",
    "\\_\\_private\\_method：两个下划线开头，声明该方法为私有方法，只能在类的内部调用 ，不能在类地外部调用。self.\\_\\_private\\_methods。"
   ]
  },
  {
   "cell_type": "code",
   "execution_count": 24,
   "metadata": {
    "ExecuteTime": {
     "end_time": "2022-09-21T09:45:08.747689Z",
     "start_time": "2022-09-21T09:45:08.726307Z"
    }
   },
   "outputs": [
    {
     "name": "stdout",
     "output_type": "stream",
     "text": [
      "counter.count()\n",
      "1\n",
      "counter.count()\n",
      "2\n",
      "counter.publicCount\n",
      "2\n"
     ]
    },
    {
     "ename": "AttributeError",
     "evalue": "'JustCounter' object has no attribute '__secretCount'",
     "output_type": "error",
     "traceback": [
      "\u001b[1;31m---------------------------------------------------------------------------\u001b[0m",
      "\u001b[1;31mAttributeError\u001b[0m                            Traceback (most recent call last)",
      "Cell \u001b[1;32mIn [24], line 16\u001b[0m\n\u001b[0;32m     14\u001b[0m \u001b[38;5;28mprint\u001b[39m(\u001b[38;5;124m'\u001b[39m\u001b[38;5;124mcounter.publicCount\u001b[39m\u001b[38;5;124m'\u001b[39m)\n\u001b[0;32m     15\u001b[0m \u001b[38;5;28mprint\u001b[39m (counter\u001b[38;5;241m.\u001b[39mpublicCount)\n\u001b[1;32m---> 16\u001b[0m \u001b[38;5;28mprint\u001b[39m (\u001b[43mcounter\u001b[49m\u001b[38;5;241;43m.\u001b[39;49m\u001b[43m__secretCount\u001b[49m)\n",
      "\u001b[1;31mAttributeError\u001b[0m: 'JustCounter' object has no attribute '__secretCount'"
     ]
    }
   ],
   "source": [
    "class JustCounter:\n",
    "    __secretCount = 0  # 私有变量\n",
    "    publicCount = 0    # 公开变量\n",
    "    def count(self):\n",
    "        self.__secretCount += 1\n",
    "        self.publicCount += 1\n",
    "        print(self.__secretCount)\n",
    "\n",
    "counter = JustCounter()\n",
    "print('counter.count()')\n",
    "counter.count()\n",
    "print('counter.count()')\n",
    "counter.count()\n",
    "print('counter.publicCount')\n",
    "print (counter.publicCount)\n",
    "print (counter.__secretCount)  # 报错，实例不能访问私有变量"
   ]
  },
  {
   "cell_type": "markdown",
   "metadata": {},
   "source": [
    "类的私有方法实例如下："
   ]
  },
  {
   "cell_type": "code",
   "execution_count": 26,
   "metadata": {
    "ExecuteTime": {
     "end_time": "2022-09-21T09:46:59.417011Z",
     "start_time": "2022-09-21T09:46:59.384410Z"
    }
   },
   "outputs": [
    {
     "name": "stdout",
     "output_type": "stream",
     "text": [
      "call: Morningstar, test\n",
      "name  :  Morningstar\n",
      "url :  www.morningstar.com\n",
      "这是公共方法\n",
      "这是私有方法\n"
     ]
    },
    {
     "ename": "AttributeError",
     "evalue": "'Site' object has no attribute '__foo'",
     "output_type": "error",
     "traceback": [
      "\u001b[1;31m---------------------------------------------------------------------------\u001b[0m",
      "\u001b[1;31mAttributeError\u001b[0m                            Traceback (most recent call last)",
      "Cell \u001b[1;32mIn [26], line 24\u001b[0m\n\u001b[0;32m     22\u001b[0m x\u001b[38;5;241m.\u001b[39mwho()        \u001b[38;5;66;03m# 正常输出\u001b[39;00m\n\u001b[0;32m     23\u001b[0m x\u001b[38;5;241m.\u001b[39mfoo()        \u001b[38;5;66;03m# 正常输出\u001b[39;00m\n\u001b[1;32m---> 24\u001b[0m \u001b[43mx\u001b[49m\u001b[38;5;241;43m.\u001b[39;49m\u001b[43m__foo\u001b[49m()\n",
      "\u001b[1;31mAttributeError\u001b[0m: 'Site' object has no attribute '__foo'"
     ]
    }
   ],
   "source": [
    "class Site:\n",
    "    def __init__(self, name, url):\n",
    "        self.name = name       # public\n",
    "        self.__url = url   # private\n",
    "        \n",
    "    def __call__(self, mypara: str):\n",
    "        print('call: {0}, {1}'.format(self.name, mypara))\n",
    "\n",
    "    def who(self):\n",
    "        print('name  : ', self.name)\n",
    "        print('url : ', self.__url)\n",
    "\n",
    "    def __foo(self):          # 私有方法\n",
    "        print('这是私有方法')\n",
    "\n",
    "    def foo(self):            # 公共方法\n",
    "        print('这是公共方法')\n",
    "        self.__foo()\n",
    "# print(dir(Site))\n",
    "x = Site('Morningstar', 'www.morningstar.com')\n",
    "x('test')\n",
    "x.who()        # 正常输出\n",
    "x.foo()        # 正常输出\n",
    "x.__foo()      # 报错"
   ]
  },
  {
   "cell_type": "markdown",
   "metadata": {},
   "source": [
    "类的专有方法：\n",
    "* \\_\\_init\\_\\_ : 构造函数，在生成对象时调用\n",
    "* \\_\\_del\\_\\_ : 析构函数，释放对象时使用\n",
    "* \\_\\_repr\\_\\_ : 打印，转换\n",
    "* \\_\\_setitem\\_\\_ : 按照索引赋值\n",
    "* \\_\\_getitem\\_\\_: 按照索引获取值\n",
    "* \\_\\_len\\_\\_: 获得长度\n",
    "* \\_\\_cmp\\_\\_: 比较运算\n",
    "* \\_\\_call\\_\\_: 函数调用\n",
    "* \\_\\_add\\_\\_: 加运算\n",
    "* \\_\\_sub\\_\\_: 减运算\n",
    "* \\_\\_mul\\_\\_: 乘运算\n",
    "* \\_\\_div\\_\\_: 除运算\n",
    "* \\_\\_mod\\_\\_: 求余运算\n",
    "* \\_\\_pow\\_\\_: 乘方"
   ]
  },
  {
   "cell_type": "markdown",
   "metadata": {},
   "source": [
    "## 运算符重载\n",
    "Python同样支持运算符重载，我们可以对类的专有方法进行重载，实例如下："
   ]
  },
  {
   "cell_type": "code",
   "execution_count": 31,
   "metadata": {
    "ExecuteTime": {
     "end_time": "2022-09-21T09:51:06.848733Z",
     "start_time": "2022-09-21T09:51:06.822429Z"
    }
   },
   "outputs": [
    {
     "name": "stdout",
     "output_type": "stream",
     "text": [
      "invoke __add__\n",
      "invoke __str__\n"
     ]
    },
    {
     "data": {
      "text/plain": [
       "'This is Vector (7, 8)'"
      ]
     },
     "execution_count": 31,
     "metadata": {},
     "output_type": "execute_result"
    }
   ],
   "source": [
    "class Vector:\n",
    "    def __init__(self, a, b):\n",
    "        self.a = a\n",
    "        self.b = b\n",
    "\n",
    "    def __str__(self):\n",
    "        print('invoke __str__')\n",
    "        return 'This is Vector (%d, %d)' % (self.a, self.b)\n",
    "\n",
    "    def __add__(self,other):\n",
    "        print('invoke __add__')\n",
    "        return Vector(self.a + other.a, self.b + other.b)\n",
    "# print(dir(Vector))\n",
    "v1 = Vector(2,10)\n",
    "v2 = Vector(5,-2)\n",
    "str(v1 + v2)"
   ]
  },
  {
   "cell_type": "markdown",
   "metadata": {},
   "source": [
    "## 类方法与静态方法\n",
    "类方法: @classmethod与静态方法: @staticmethod是通过装饰器特征实现的"
   ]
  },
  {
   "cell_type": "code",
   "execution_count": 33,
   "metadata": {
    "ExecuteTime": {
     "end_time": "2022-09-21T09:53:32.403879Z",
     "start_time": "2022-09-21T09:53:32.380406Z"
    }
   },
   "outputs": [
    {
     "name": "stdout",
     "output_type": "stream",
     "text": [
      "Tom 说: 我 30 岁。\n",
      "--------------------\n",
      "<class '__main__.people'>\n",
      "<__main__.people object at 0x0000028B33A28520>\n",
      "Mary 说: 我 28 岁。\n"
     ]
    }
   ],
   "source": [
    "class people:\n",
    "    #定义基本属性\n",
    "    name = ''\n",
    "    age = 0\n",
    "    #定义私有属性,私有属性在类外部无法直接进行访问\n",
    "    __weight = 0\n",
    "    #定义构造方法\n",
    "    def __init__(self,n,a,w):\n",
    "        self.name = n\n",
    "        self.age = a\n",
    "        self.__weight = w\n",
    "    \n",
    "    def speak(self):\n",
    "        print(\"%s 说: 我 %d 岁。\" %(self.name,self.age))\n",
    "    \n",
    "    @classmethod\n",
    "    def speakforclass(cls, name, age, weight):\n",
    "        print(cls)\n",
    "        self = people(name, age, weight)\n",
    "        print(self)\n",
    "        print(\"%s 说: 我 %d 岁。\" %(self.name,self.age))\n",
    "        \n",
    "\n",
    "person = people('Tom', 30, 65)\n",
    "person.speak()\n",
    "print('--------------------')\n",
    "people.speakforclass('Mary', 28, 55)"
   ]
  },
  {
   "cell_type": "markdown",
   "metadata": {},
   "source": [
    "Python中3种方式定义类方法, 常规方式, @classmethod修饰方式, @staticmethod修饰方式."
   ]
  },
  {
   "cell_type": "code",
   "execution_count": 34,
   "metadata": {
    "ExecuteTime": {
     "end_time": "2022-09-21T09:54:43.729448Z",
     "start_time": "2022-09-21T09:54:43.709404Z"
    }
   },
   "outputs": [
    {
     "name": "stdout",
     "output_type": "stream",
     "text": [
      "executing class_foo(<class '__main__.A'>,hello)\n",
      "cls: <class '__main__.A'>\n",
      "executing class_foo(<class '__main__.A'>,hello)\n",
      "cls: <class '__main__.A'>\n",
      "-------------------------------\n",
      "executing static_foo(hello world)\n",
      "executing static_foo(hello world)\n"
     ]
    }
   ],
   "source": [
    "class A(object):\n",
    "    def foo(self, x):\n",
    "        print(\"executing foo(%s,%s)\" % (self, x))\n",
    "        print('self:', self)\n",
    "    @classmethod\n",
    "    def class_foo(cls, x):\n",
    "        print(\"executing class_foo(%s,%s)\" % (cls, x))\n",
    "        print('cls:', cls)\n",
    "    @staticmethod\n",
    "    def static_foo(x):\n",
    "        print(\"executing static_foo(%s)\" % x)    \n",
    "a = A()\n",
    "a.class_foo('hello')\n",
    "A.class_foo('hello')\n",
    "print('-------------------------------')\n",
    "A.static_foo('hello world')\n",
    "a.static_foo('hello world')"
   ]
  },
  {
   "cell_type": "markdown",
   "metadata": {},
   "source": [
    "需要注意的地方：\n",
    "- 普通类方法，第一个参数，一般命名为self，代表类的实例\n",
    "- ```@classmethod```表示的类方法，第一个参数，一般命名为cls,代表类本身\n",
    "- ```@staticmethod```表示静态方法，参数直接以用户自定义参数开始，没有类实例的self，也没有类本身的cls"
   ]
  },
  {
   "cell_type": "markdown",
   "metadata": {},
   "source": [
    "### 1. 定义方式\n",
    "普通的类方法foo()需要通过self参数隐式的传递当前类对象的实例。 @classmethod修饰的方法class\\_foo()需要通过cls参数传递当前类对象。@staticmethod修饰的方法定义与普通函数是一样的。\n",
    "\n",
    "self和cls的区别不是强制的，只是PEP8中一种编程风格，self通常用作实例方法的第一参数，cls通常用作类方法的第一参数。即通常用self来传递当前类对象的实例，cls传递当前类对象。"
   ]
  },
  {
   "cell_type": "markdown",
   "metadata": {},
   "source": [
    "### 2. 绑定对象\n",
    "foo方法绑定对象A的实例，class_foo方法绑定对象A，static_foo没有参数绑定。"
   ]
  },
  {
   "cell_type": "code",
   "execution_count": 32,
   "metadata": {},
   "outputs": [
    {
     "name": "stdout",
     "output_type": "stream",
     "text": [
      "<bound method A.foo of <__main__.A object at 0x000001FEB312FB00>>\n"
     ]
    }
   ],
   "source": [
    "print(a.foo)"
   ]
  },
  {
   "cell_type": "code",
   "execution_count": 33,
   "metadata": {},
   "outputs": [
    {
     "name": "stdout",
     "output_type": "stream",
     "text": [
      "<bound method A.class_foo of <class '__main__.A'>>\n"
     ]
    }
   ],
   "source": [
    "print(a.class_foo)"
   ]
  },
  {
   "cell_type": "code",
   "execution_count": 34,
   "metadata": {},
   "outputs": [
    {
     "name": "stdout",
     "output_type": "stream",
     "text": [
      "<function A.static_foo at 0x000001FEB314EA60>\n"
     ]
    }
   ],
   "source": [
    "print(a.static_foo)"
   ]
  },
  {
   "cell_type": "markdown",
   "metadata": {},
   "source": [
    "### 3. 调用方式\n",
    "foo可通过实例a调用，类对象A直接调用会参数错误。"
   ]
  },
  {
   "cell_type": "code",
   "execution_count": 41,
   "metadata": {},
   "outputs": [
    {
     "name": "stdout",
     "output_type": "stream",
     "text": [
      "executing foo(<__main__.A object at 0x00000258ED4FBAC8>,1)\n",
      "self: <__main__.A object at 0x00000258ED4FBAC8>\n"
     ]
    }
   ],
   "source": [
    "a.foo(1)"
   ]
  },
  {
   "cell_type": "code",
   "execution_count": 35,
   "metadata": {},
   "outputs": [
    {
     "ename": "TypeError",
     "evalue": "foo() missing 1 required positional argument: 'x'",
     "output_type": "error",
     "traceback": [
      "\u001b[1;31m---------------------------------------------------------------------------\u001b[0m",
      "\u001b[1;31mTypeError\u001b[0m                                 Traceback (most recent call last)",
      "\u001b[1;32m<ipython-input-35-e6b10288c154>\u001b[0m in \u001b[0;36m<module>\u001b[1;34m\u001b[0m\n\u001b[1;32m----> 1\u001b[1;33m \u001b[0mA\u001b[0m\u001b[1;33m.\u001b[0m\u001b[0mfoo\u001b[0m\u001b[1;33m(\u001b[0m\u001b[1;36m1\u001b[0m\u001b[1;33m)\u001b[0m\u001b[1;33m\u001b[0m\u001b[1;33m\u001b[0m\u001b[0m\n\u001b[0m",
      "\u001b[1;31mTypeError\u001b[0m: foo() missing 1 required positional argument: 'x'"
     ]
    }
   ],
   "source": [
    "A.foo(1)"
   ]
  },
  {
   "cell_type": "markdown",
   "metadata": {},
   "source": [
    "但foo如下方式可以使用正常，显式的传递实例参数a。"
   ]
  },
  {
   "cell_type": "code",
   "execution_count": 37,
   "metadata": {},
   "outputs": [
    {
     "name": "stdout",
     "output_type": "stream",
     "text": [
      "executing foo(<__main__.A object at 0x000001FEB312FB00>,1)\n",
      "self: <__main__.A object at 0x000001FEB312FB00>\n"
     ]
    }
   ],
   "source": [
    "A.foo(a, 1)"
   ]
  },
  {
   "cell_type": "markdown",
   "metadata": {},
   "source": [
    "class_foo通过类对象或对象实例调用。"
   ]
  },
  {
   "cell_type": "code",
   "execution_count": 38,
   "metadata": {},
   "outputs": [
    {
     "name": "stdout",
     "output_type": "stream",
     "text": [
      "executing class_foo(<class '__main__.A'>,1)\n",
      "cls: <class '__main__.A'>\n"
     ]
    }
   ],
   "source": [
    "A.class_foo(1)"
   ]
  },
  {
   "cell_type": "code",
   "execution_count": 39,
   "metadata": {},
   "outputs": [
    {
     "name": "stdout",
     "output_type": "stream",
     "text": [
      "executing class_foo(<class '__main__.A'>,1)\n",
      "cls: <class '__main__.A'>\n"
     ]
    }
   ],
   "source": [
    "a.class_foo(1)"
   ]
  },
  {
   "cell_type": "markdown",
   "metadata": {},
   "source": [
    "static_foo通过类对象或对象实例调用。"
   ]
  },
  {
   "cell_type": "code",
   "execution_count": 40,
   "metadata": {},
   "outputs": [
    {
     "name": "stdout",
     "output_type": "stream",
     "text": [
      "executing static_foo(1)\n"
     ]
    }
   ],
   "source": [
    "A.static_foo(1)"
   ]
  },
  {
   "cell_type": "code",
   "execution_count": 41,
   "metadata": {},
   "outputs": [
    {
     "name": "stdout",
     "output_type": "stream",
     "text": [
      "executing static_foo(1)\n"
     ]
    }
   ],
   "source": [
    "a.static_foo(1)"
   ]
  },
  {
   "cell_type": "markdown",
   "metadata": {},
   "source": [
    "### 4. 继承与覆盖普通类函数是一样的"
   ]
  },
  {
   "cell_type": "code",
   "execution_count": 43,
   "metadata": {},
   "outputs": [
    {
     "name": "stdout",
     "output_type": "stream",
     "text": [
      "executing foo(<__main__.B object at 0x000001FEB31345F8>,1)\n",
      "self: <__main__.B object at 0x000001FEB31345F8>\n",
      "executing class_foo(<class '__main__.B'>,1)\n",
      "cls: <class '__main__.B'>\n",
      "executing static_foo(1)\n"
     ]
    }
   ],
   "source": [
    "class B(A):\n",
    "    pass\n",
    "b = B()\n",
    "b.foo(1)\n",
    "b.class_foo(1)\n",
    "b.static_foo(1)"
   ]
  },
  {
   "cell_type": "markdown",
   "metadata": {},
   "source": [
    "问题：@staticmethod修饰的方法函数与普通的类外函数一样，为什么不直接使用普通函数？"
   ]
  },
  {
   "cell_type": "markdown",
   "metadata": {},
   "source": [
    "@staticmethod是把函数嵌入到类中的一种方式，函数就属于类，同时表明函数不需要访问这个类。通过子类的继承覆盖，能更好的组织代码。"
   ]
  },
  {
   "cell_type": "markdown",
   "metadata": {},
   "source": [
    "* staticmethod 不需要任何类和实例的信息, classmethod 需要类的信息, 普通方法需要实例信息。\n",
    "* 一般情况下，要使用某个类的方法，需要先实例化一个对象再调用方法。\n",
    "* 而使用 @staticmethod 或 @classmethod，就可以不用构造实例，直接使用 classname.methodname() 来调用。\n",
    "* staticmethod 可以被用来组织类之间有逻辑关系的函数。\n",
    "* 在很多情况下，一些函数与类相关，但不需要任何类或实例变量就可以实现一些功能。比如设置环境变量，修改另一个类的属性等等。假如我们想仅实现类之间的交互而不是通过实例，我们可以在类之外建立一个简单的函数来实现这个功能，但是这会使代码扩散到类之外，可能对未来代码维护产生问题。\n",
    "\n",
    "* python 中使用工厂模式（alternative constructor）是最典型的使用 classmethod 的场景。\n",
    "classmethod尤其适合用在当我们需要在创建真正的类实例之前做一些预设置的情况下，因为实例建立之前显然你是不能使用实例方法的，你只能使用classmethod.\n",
    "这样做的另一个好处就是你以后重构类的时候不必要修改构造函数，只需要额外添加你要处理的函数，然后使用装饰符 @classmethod 就可以了。相当于我们拥有了多样化的构造函数。"
   ]
  },
  {
   "cell_type": "code",
   "execution_count": null,
   "metadata": {},
   "outputs": [],
   "source": []
  }
 ],
 "metadata": {
  "kernelspec": {
   "display_name": "Python 3 (ipykernel)",
   "language": "python",
   "name": "python3"
  },
  "language_info": {
   "codemirror_mode": {
    "name": "ipython",
    "version": 3
   },
   "file_extension": ".py",
   "mimetype": "text/x-python",
   "name": "python",
   "nbconvert_exporter": "python",
   "pygments_lexer": "ipython3",
   "version": "3.8.10"
  },
  "latex_envs": {
   "LaTeX_envs_menu_present": true,
   "autoclose": false,
   "autocomplete": true,
   "bibliofile": "biblio.bib",
   "cite_by": "apalike",
   "current_citInitial": 1,
   "eqLabelWithNumbers": true,
   "eqNumInitial": 1,
   "hotkeys": {
    "equation": "Ctrl-E",
    "itemize": "Ctrl-I"
   },
   "labels_anchors": false,
   "latex_user_defs": false,
   "report_style_numbering": false,
   "user_envs_cfg": false
  },
  "toc": {
   "base_numbering": 1,
   "nav_menu": {},
   "number_sections": true,
   "sideBar": true,
   "skip_h1_title": false,
   "title_cell": "Table of Contents",
   "title_sidebar": "Contents",
   "toc_cell": false,
   "toc_position": {
    "height": "calc(100% - 180px)",
    "left": "10px",
    "top": "150px",
    "width": "216.55px"
   },
   "toc_section_display": true,
   "toc_window_display": false
  }
 },
 "nbformat": 4,
 "nbformat_minor": 2
}
