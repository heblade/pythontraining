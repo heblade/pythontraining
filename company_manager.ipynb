{
 "cells": [
  {
   "cell_type": "code",
   "execution_count": 7,
   "metadata": {},
   "outputs": [],
   "source": [
    "import os\n",
    "import pandas as pd\n",
    "import re"
   ]
  },
  {
   "cell_type": "code",
   "execution_count": 2,
   "metadata": {},
   "outputs": [],
   "source": [
    "data = pd.read_csv('./csv/comp_manager_data.csv', encoding='utf-8')"
   ]
  },
  {
   "cell_type": "code",
   "execution_count": 3,
   "metadata": {},
   "outputs": [
    {
     "data": {
      "text/html": [
       "<div>\n",
       "<style scoped>\n",
       "    .dataframe tbody tr th:only-of-type {\n",
       "        vertical-align: middle;\n",
       "    }\n",
       "\n",
       "    .dataframe tbody tr th {\n",
       "        vertical-align: top;\n",
       "    }\n",
       "\n",
       "    .dataframe thead th {\n",
       "        text-align: right;\n",
       "    }\n",
       "</style>\n",
       "<table border=\"1\" class=\"dataframe\">\n",
       "  <thead>\n",
       "    <tr style=\"text-align: right;\">\n",
       "      <th></th>\n",
       "      <th>doc_id</th>\n",
       "      <th>company</th>\n",
       "      <th>manager</th>\n",
       "      <th>relation</th>\n",
       "      <th>sentence</th>\n",
       "      <th>match_manager</th>\n",
       "      <th>match_manager_ratio</th>\n",
       "      <th>match_company</th>\n",
       "      <th>match_comp_ratio</th>\n",
       "    </tr>\n",
       "  </thead>\n",
       "  <tbody>\n",
       "    <tr>\n",
       "      <th>0</th>\n",
       "      <td>150180118</td>\n",
       "      <td>Amundi Pioneer</td>\n",
       "      <td>Matthew Shulkin</td>\n",
       "      <td>portfolio_manager</td>\n",
       "      <td>Matthew Shulkin, Vice President and Portfolio ...</td>\n",
       "      <td>Matthew Shulkin,</td>\n",
       "      <td>0.967742</td>\n",
       "      <td>Amundi Pioneer</td>\n",
       "      <td>1.000000</td>\n",
       "    </tr>\n",
       "    <tr>\n",
       "      <th>1</th>\n",
       "      <td>150180118</td>\n",
       "      <td>Amundi Pioneer</td>\n",
       "      <td>Matthew Shulkin</td>\n",
       "      <td>vice_president</td>\n",
       "      <td>Matthew Shulkin, Vice President and Portfolio ...</td>\n",
       "      <td>Matthew Shulkin,</td>\n",
       "      <td>0.967742</td>\n",
       "      <td>Amundi Pioneer</td>\n",
       "      <td>1.000000</td>\n",
       "    </tr>\n",
       "    <tr>\n",
       "      <th>2</th>\n",
       "      <td>150180118</td>\n",
       "      <td>Amundi Pioneer</td>\n",
       "      <td>Matthew Shulkin</td>\n",
       "      <td>other</td>\n",
       "      <td>Prior to joining Amundi Pioneer, Mr. Shulkin w...</td>\n",
       "      <td>Mr. Shulkin</td>\n",
       "      <td>0.692308</td>\n",
       "      <td>Amundi Pioneer,</td>\n",
       "      <td>0.965517</td>\n",
       "    </tr>\n",
       "    <tr>\n",
       "      <th>3</th>\n",
       "      <td>150180118</td>\n",
       "      <td>MAST Capital Management</td>\n",
       "      <td>Matthew Shulkin</td>\n",
       "      <td>analyst</td>\n",
       "      <td>Prior to joining Amundi Pioneer, Mr. Shulkin w...</td>\n",
       "      <td>Mr. Shulkin</td>\n",
       "      <td>0.692308</td>\n",
       "      <td>MAST Capital Management</td>\n",
       "      <td>1.000000</td>\n",
       "    </tr>\n",
       "    <tr>\n",
       "      <th>4</th>\n",
       "      <td>150414429</td>\n",
       "      <td>JPMorgan</td>\n",
       "      <td>Brad A. Friedlander</td>\n",
       "      <td>other</td>\n",
       "      <td>Mr. Friedlander's previous experience includes...</td>\n",
       "      <td>Mr. Friedlander</td>\n",
       "      <td>0.622222</td>\n",
       "      <td>Morgan</td>\n",
       "      <td>0.857143</td>\n",
       "    </tr>\n",
       "  </tbody>\n",
       "</table>\n",
       "</div>"
      ],
      "text/plain": [
       "      doc_id                  company              manager           relation  \\\n",
       "0  150180118           Amundi Pioneer      Matthew Shulkin  portfolio_manager   \n",
       "1  150180118           Amundi Pioneer      Matthew Shulkin     vice_president   \n",
       "2  150180118           Amundi Pioneer      Matthew Shulkin              other   \n",
       "3  150180118  MAST Capital Management      Matthew Shulkin            analyst   \n",
       "4  150414429                 JPMorgan  Brad A. Friedlander              other   \n",
       "\n",
       "                                            sentence     match_manager  \\\n",
       "0  Matthew Shulkin, Vice President and Portfolio ...  Matthew Shulkin,   \n",
       "1  Matthew Shulkin, Vice President and Portfolio ...  Matthew Shulkin,   \n",
       "2  Prior to joining Amundi Pioneer, Mr. Shulkin w...       Mr. Shulkin   \n",
       "3  Prior to joining Amundi Pioneer, Mr. Shulkin w...       Mr. Shulkin   \n",
       "4  Mr. Friedlander's previous experience includes...   Mr. Friedlander   \n",
       "\n",
       "   match_manager_ratio            match_company  match_comp_ratio  \n",
       "0             0.967742           Amundi Pioneer          1.000000  \n",
       "1             0.967742           Amundi Pioneer          1.000000  \n",
       "2             0.692308          Amundi Pioneer,          0.965517  \n",
       "3             0.692308  MAST Capital Management          1.000000  \n",
       "4             0.622222                   Morgan          0.857143  "
      ]
     },
     "execution_count": 3,
     "metadata": {},
     "output_type": "execute_result"
    }
   ],
   "source": [
    "data.head()"
   ]
  },
  {
   "cell_type": "code",
   "execution_count": 21,
   "metadata": {},
   "outputs": [
    {
     "name": "stdout",
     "output_type": "stream",
     "text": [
      "6 relation\n",
      "['analyst', 'chief_investment_officer', 'managing_director', 'other', 'portfolio_manager', 'vice_president']\n",
      "527 match_manager\n",
      "['Adam Cohn', 'Adam De Chiara', 'Adam M  Ferguson', 'Adam Weiner', 'Adrian Day', 'Alastair', 'Alexander Payne', 'Alexander W  Volz', 'Amit', 'Amy Whitelaw', 'Anderson', 'Andrew P  Hofer', 'Angus Franklin', 'Ann C  Gallo', 'Anthony', 'Anthony Balestrieri', 'Arnopolin', 'Avi Lavi', 'Barry began', 'Bill Gurtin', 'Brad Jackson', 'Bradley M  Kane', 'Bram Zeigler', 'Brandon R  Barnes', 'Brett', 'Brian', 'Brian Barbetta', 'Brian Callahan', 'Brian Coffey', 'Brian Fox', 'Brian Jurkash', 'Brian Tolles', 'Carl P  Kaufman', 'Chandran', 'Charles Lowery', 'Charles M  Royce', 'Cheryl M  Duckworth', 'Chris E  Flynn', 'Christine D  Franquin', 'Christopher C  Davis', 'Christopher D  Towle', 'Christopher T  Harms', 'Claudio Marsala', 'Cloud', 'Cole Wilcox', 'Colgan', 'Colin', 'Colin Dishington', 'Craig Callahan', 'Dagney M  Hollander', 'Daniel He', 'Daniel J  Pozen', 'Daniel Stone', 'Daniel Thorogood', 'Danielle Singer', 'Danton Goei', 'David', 'David Del Vecchio', 'David Delbos', 'David Hammer', 'David Jubb', 'David Kopp', 'David Krider', 'David Wakefield', 'David Yuen', 'Demetrios', 'Demetrios Tsaparas', 'Dennis M  Bein', 'Derek Schoenhofen', 'Dori Levanoni', 'Dori began', 'Douglas J  Peebles', 'Dr  Desai', 'Dr  Klein', 'Dr  Pagani', 'Eamonn Buckley', 'Eaton', 'Eddy Vataru', 'Eric Leake', 'Eric Lo', 'Erik Voss', 'Erlend', 'Evan Bauman', 'Francis X  Morris', 'Garrett Waters', 'Gary B  Cloud', 'George', 'George M  Douglas', 'George Westervelt', 'Gerard Callahan', 'Giorgio', 'Graham A  Rennison', 'Gregory J  Garabedian', 'Gregory S  Hermanski', 'Gwilym Satchell', 'Harvey Merson', 'Heather K  McPherson', 'Ian D  Ferry', 'Isaac', 'J  Dale Harvey', 'J  Ellwood Towle', 'Jack McPherson', 'Jacques Perdrix', 'James H  Lee', 'James Keenan', 'James L  Callinan', 'James MacGregor', 'James N  Mordy', 'James P  Stetler', 'Jamesso', 'Jamie', 'Janaki Rao', 'Jason', 'Jason Crawshaw', 'Jason Whiting', 'Jean M  Hynes', 'Jeff Lin', 'Jeffrey E  Gundlach', 'Jeffrey L  Scanga', 'Jeremie Banet', 'Jerome L  Dodson', 'Jerry Sun', 'Jim Grandinetti', 'John Burrello', 'John D  Schaeffer', 'John Gargana', 'John M  Carbone', 'John R  Reinsberg', 'John S  Osterweis', 'John Schorle', 'John Taylor', 'Jonathan Guyer', 'Joon Hyuk', 'Joon Hyuk Heo', 'Joseph B  Fath', 'Joseph Barrato', 'Joseph Devine', 'Joseph F  Marvan', 'Josh Smith', 'Joshua Duitz', 'Joshua Lam', 'Joyce E  Gordon', 'Justin Mandeville', 'Justin Sander', 'Kathryn Glass', 'Katy Forbes', 'Kent Burns', 'Kevin Beatty', 'Kevin Daly', 'Kristina Bradshaw', 'Kurt Kara', 'Kurt L  Wagner', 'Kyle', 'Kyle Rosen', 'Lawrence Kemp', 'Lee', 'Lesly M  Barnes', 'Lewis R  Piantedosi', 'Lian also', 'Lindsey', 'Louis Ng', 'Luciano Diana', 'Malcolm Dalrymple', 'Marc Briand', 'Marcus', 'Marcus Perl', 'Margaret Vitrano', 'Mark', 'Mark Little', 'Mark R  Shenkman', 'Matt', 'Matt Boden', 'Matt Burdett', 'Matt Kence', 'Matthew Cummings', 'Matthew Kence', 'Matthew Shulkin', 'Matthew Tuttle', 'McPherson', 'Messrs  Dorsten', 'Messrs  Gey van Pittius', 'Messrs  McLean', 'Messrs erson', 'Michael A  Bennett', 'Michael F  Garrett', 'Michael G  Fry', 'Michael Gayed', 'Michael J  Mahoney', 'Michael L  Thomas', 'Michael P  Maurer', 'Michael Powers', 'Mohsen Fahmi', 'Mr  Aisner', 'Mr  Alonso', 'Mr  Anello', 'Mr  Arnopolin', 'Mr  Arnott', 'Mr  Ayer', 'Mr  Babyak', 'Mr  Baijal', 'Mr  Balls', 'Mr  Bamford', 'Mr  Banet', 'Mr  Barrato', 'Mr  Beatty', 'Mr  Bein', 'Mr  Beleznay', 'Mr  Bennett', 'Mr  Bhaman', 'Mr  Birmingham', 'Mr  Bodereau', 'Mr  Bond', 'Mr  Bouchey', 'Mr  Bronner', 'Mr  Brown', 'Mr  Burns', 'Mr  Burnside', 'Mr  C  Towle', 'Mr  Callahan', 'Mr  Camarella', 'Mr  Cavazos', 'Mr  Chadha', 'Mr  Chandran', 'Mr  Chang', 'Mr  Chapman', 'Mr  Chatterjee', 'Mr  Chen', 'Mr  Chiaverini', 'Mr  Choumenkovitch', 'Mr  Chowdhury', 'Mr  Christensen', 'Mr  Clarfeld', 'Mr  Clough', 'Mr  Cook Sr', 'Mr  Cottier', 'Mr  Cowen', 'Mr  Czepiel', 'Mr  Dallaire', 'Mr  Dan', 'Mr  Dassori', 'Mr  Davis', 'Mr  De Chiara', 'Mr  DeMitry', 'Mr  DeSpirito', 'Mr  Delano', 'Mr  Devir', 'Mr  Dickstein', 'Mr  Dirk', 'Mr  Dishmon', 'Mr  Dorsten', 'Mr  Doshi', 'Mr  DyReyes', 'Mr  Eichstaedt', 'Mr  Evans', 'Mr  Fahmi', 'Mr  Fakhry', 'Mr  Farley', 'Mr  Farrell', 'Mr  Fields', 'Mr  Figuly', 'Mr  Flynn', 'Mr  Forrest', 'Mr  Forster', 'Mr  Foster', 'Mr  Franklin', 'Mr  Friedlander', 'Mr  Gahsman', 'Mr  Garabedian', 'Mr  Garcia', 'Mr  Garrett', 'Mr  Gey van Pittius', 'Mr  Gibs', 'Mr  Ginsberg', 'Mr  Godlin', 'Mr  Goginsky', 'Mr  Goltra', 'Mr  Goodman', 'Mr  Gray', 'Mr  Green', 'Mr  Greenawalt', 'Mr  Greene', 'Mr  Guinness', 'Mr  Gundlach', 'Mr  Hahn', 'Mr  Hammer', 'Mr  Harden', 'Mr  Harriss', 'Mr  Harvey', 'Mr  Havnaer', 'Mr  Hayes', 'Mr  He', 'Mr  Hermanski', 'Mr  Hewitt', 'Mr  Hoffman Becking', 'Mr  Holtz', 'Mr  Houghton', 'Mr  Houk', 'Mr  Hudepohl', 'Mr  Hunkel', 'Mr  Hynes', 'Mr  Ingarra', 'Mr  Inman', 'Mr  James', 'Mr  Jensen', 'Mr  Johnson', 'Mr  Kadushin', 'Mr  Kara', 'Mr  Kaufman', 'Mr  Kelly', 'Mr  Killeen', 'Mr  Kologlu', 'Mr  Krantz', 'Mr  Krider', 'Mr  Kuenzi', 'Mr  Larson', 'Mr  Larsson', 'Mr  Lee', 'Mr  Leung', 'Mr  Levanoni', 'Mr  Leverenz', 'Mr  Libby', 'Mr  Lindbloom', 'Mr  Lipsker', 'Mr  Love', 'Mr  MacGregor', 'Mr  Mahoney', 'Mr  Marcheli', 'Mr  Mariappa', 'Mr  Marki', 'Mr  Mary', 'Mr  Mason', 'Mr  Mavar', 'Mr  Mazzacano', 'Mr  McIver', 'Mr  McLean', 'Mr  Mead', 'Mr  Meisenger', 'Mr  Menozzi', 'Mr  Miller', 'Mr  Molchan', 'Mr  Mongelluzzo', 'Mr  Montague', 'Mr  Mordy', 'Mr  Mortimer Senior', 'Mr  Moukios', 'Mr  Mullins', 'Mr  Neisewander', 'Mr  Nelson', 'Mr  Norman', 'Mr  Nuttall', 'Mr  Osterweis', 'Mr  Otto', 'Mr  Parcell', 'Mr  Pardon', 'Mr  Peebles', 'Mr  Perrott', 'Mr  Peters', 'Mr  Piccirillo', 'Mr  Pothalingam', 'Mr  Prentice', 'Mr  Proctor', 'Mr  Pytosh', 'Mr  Raineri', 'Mr  Reddy', 'Mr  Reidinger', 'Mr  Rennison', 'Mr  Rockmuller', 'Mr  Romo', 'Mr  Rosenberg', 'Mr  Routledge', 'Mr  Ruvinsky', 'Mr  Saladino', 'Mr  Salas', 'Mr  Saman', 'Mr  Scoby', 'Mr  Shah', 'Mr  Shapiro', 'Mr  Sharenow', 'Mr  Shillington', 'Mr  Shulkin', 'Mr  Simko', 'Mr  Sklar', 'Mr  Slavik', 'Mr  Smith', 'Mr  Sochovsky', 'Mr  Spahr', 'Mr  Stack', 'Mr  Steinkopf', 'Mr  Swift', 'Mr  Szczurowski', 'Mr  Taylor', 'Mr  Thies', 'Mr  Thomas', 'Mr  Thompson', 'Mr  Thorogood', 'Mr  To', 'Mr  Trigg', 'Mr  Tymoczko', 'Mr  Ueno', 'Mr  Vardharaj', 'Mr  Vataru', 'Mr  Viera', 'Mr  Villere', 'Mr  Visser', 'Mr  Vitalie', 'Mr  Walkush', 'Mr  Wallack', 'Mr  Weisenberger', 'Mr  Welsh', 'Mr  Wetter', 'Mr  Wisdom', 'Mr  Wittkop', 'Mr  Wong', 'Mr  Worah', 'Mr  Yealy', 'Mr  Ziehl', 'Mr  de Lardemelle', 'Mr  de Longis', 'Mr  de Vaulx', 'Mr so', 'Mrs  Aguirre', 'Ms  Baccei', 'Ms  BorrÃ', 'Ms  BorrÃ  Massick', 'Ms  Browne', 'Ms  Budzinski', 'Ms  Coleman', 'Ms  Duckworth', 'Ms  Fung', 'Ms  Garrett', 'Ms  Harrington', 'Ms  Hart', 'Ms  Humphries Lee', 'Ms  Irwin', 'Ms  Ketner', 'Ms  Ketner Pak', 'Ms  McCarragher', 'Ms  Mossow', 'Ms  Peche', 'Ms  Pryshlak', 'Ms  Reiter', 'Ms  Rudebeck', 'Ms  Vitrano', 'Ms  Whitelaw', 'Ms  Zawitkowski', 'Myles Grenier', 'Nael Fakhry', 'Naveen', 'Neal Rosenberg', 'Neil', 'Neil Hohmann', 'Neill Nuttall', 'Nils Huter', 'Noelle Corum', 'Osterweis', 'Patrick Klein', 'Paul', 'Paul Jablansky', 'Peter G  Greig', 'Peter J  DeCaprio', 'Ph D  Mr  Corris', 'Rackers', 'Rajiv Jain', 'Ran Leshem', 'Rebecca Setcavage', 'Renat Nadyukov', 'Rennison', 'Reynders  McVeigh', 'Reynolds', 'Richard A  Bamford', 'Richard A  Williams', 'Richard Batty', 'Richard Figuly', 'Richard G  Raczkowski', 'Richard S  Nackenson', 'Rick J  Romano', 'Robert', 'Robert B  Bruce', 'Robert B  Hyman', 'Robert Botard', 'Robert J  Crimmins  Jr', 'Robert W  Kleinschmidt', 'Robert W  Lovelace', 'Sally', 'Samuel J  Saladino  III', 'Scott', 'Scott Burg', 'Scott Callahan', 'Scott I  St  John', 'Scott Smith', 'Seidner  Fahmi', 'Sergio Marcheli', 'Shaun P  Nicholson', 'Shawn', 'Shawn Keegan', 'Shawn T  Driscoll', 'Sheridan', 'Shrestha', 'Simon', 'Simon Roe', 'Smith', 'Sonal Desai', 'Stephan C  Petersen', 'Stephen', 'Stephen A  Yacktman', 'Stephen Blumenthal', 'Su Jin Fabian', 'Sudhir Nanda', 'Suisse  Mr  Corapi', 'Sukru Saman', 'Tawhid Ali', 'Taymour R  Tamaddon', 'Thomas J  Herzfeld', 'Thomas W  Verdel', 'Timothy E  Smith', 'Timothy W N  Guinness', 'Tony DeSpirito', 'Ulrik Jensen', 'Vlad Byalik', 'Walter Nejman', 'Weigold', 'Werner Gey van Pittius', 'Wiley D  Angell', 'William A  Coleman', 'Wing Chan', 'World Select', 'Yacktman']\n",
      "367 match_company\n",
      "['1794 Commodore Funds', 'ABN Amro', 'AVM', 'Aberdeen Asset Management', 'Aberdeen Standard Investments', 'Achievement Asset Management LLC', 'Algert Global', 'AllianceBernstein', 'Allianz Global Investors', 'AlphaStream Capital Management', 'Alta Capital Management', 'American Century', 'American Securities', 'Ameriprise Financial Planning', 'Amundi Pioneer', 'Ana Capital Management', 'Analytic Investors', 'Anchor Capital Management Group Inc', 'Aperio Group', 'Arethusa Asset Management LLP', 'Arnhold and S  Bleichroeder Advisers LLC', 'Arrow Investment Advisors', 'Arrow Investment Advisors  LLC', 'Artisan Partners', 'Ascendant Advisors', 'Atlantic Portfolio Analytics and Management', 'Aurora Investment Management  LLC', 'Autonomous Research', 'Aviva Life Insurance', 'Awad Asset Management', 'BAMCO', 'BBH Co', 'BKF Asset Management', 'BMO Asset Management', 'BNP Paribas', 'BNP Paribas Asset Management', 'BNY Mellon Wealth Management', 'Baillie Gifford', 'Banc of America Capital Management', 'Bank of America Merrill', 'Bank of Ireland', 'Bankers Trust', 'Barclays Capital', 'Barclays Capital  Inc', 'Barclays Global Investors', 'Bear Stearns', 'Benefits Group', 'Bill Few Associates', 'Bishop Street Capital Management', 'Black River Asset Management', 'BlackRock', 'BlackRock Financial Management', 'Brandywine Global Investment Management', 'Bridgewater Associates', 'Bruce and Co   Inc', 'Buckhead', 'Bunge Limited', 'CBZ', 'CMG Capital Management Group  Inc', 'CMG Capital Management Group Inc', 'CRMC', 'Calamos Advisors', 'Capital Partners', 'Capital Research Global Investors', 'Capital Resource Holdings  LLC', 'Capital Wealth Planning  LLC', 'Cargill', 'Cargill Investor Services', 'Cavanal Hill Investment Management  Inc', 'Centurion Alliance', 'Chapin Hill Advisors', 'Chartwell Investment Partners', 'Chickasaw Securities  LLC', 'Citadel Investment Group', 'Citi group Asset Management', 'Citigroup Asset Management', 'Citigroup Global Markets', 'ClearBridge', 'ClearBridge s', 'Clearfield Capital Management', 'Columbia Threadneedle Investments', 'Contrarian Capital Management  LLC', 'Cooke   Bieler', 'CoreCommodity Management', 'CoreCommodity Management  LLC', 'Credit Suisse', 'Credit Suisse Asset Management  LLC', 'Credit Suisse First Boston', 'Crow Point', 'Curian Capital', 'DTE Energy', 'Davis Selected Advisers', 'Deer Park Road Management Company  LP', 'Dimensional Fund Advisors', 'Doheny Asset Management', 'DoubleLine Capital', 'DoubleLine Capital GP', 'Dresdner RCM', 'Dresdner RCM Global Investors', 'Duff   Phelps Corporation', 'Duff   Phelps Credit Rating', 'EAM Investors', 'Eagle Boston', 'Eaton Vance', 'Edinburgh Fund Managers', 'Elm Ridge Capital', 'Emso Partners Limited', 'Engemann Asset Management', 'Ensign Peak Advisors  Inc', 'FCI Advisors', 'FX Concepts Inc', 'Federal Reserve Bank of Chicago', 'Federal Reserve Board of Governors', 'Federated s', 'Fidelity Investments', 'Fiduciary Asset Management  FAMCO', 'Fiduciary Trust Company', 'First Eagle Global', 'First Eagle Investment Management', 'First Quadrant', 'Fischer Francis Trees   Watts', 'Fixed Income', 'Foliofn Institutional', 'Forward Management LLC', 'Franklin Templeton', 'Franklin Templeton Fixed', 'Franklin Templeton Fixed Income', 'Franklin Templeton Investments', 'Frontier', 'GQG Partners', 'GSCM', 'Gahsman Branton  LLC', 'Gannett Welsh   Kotler', 'Global Real Estate', 'Global Strategic Management', 'Goldman  Sachs   Co', 'Goldman Sachs', 'Goldman Sachs   Co', 'Goldman Sachs Asset Management', 'GreLakes Advisors', 'Guardian Life', 'Guggenheim Investments', 'Guinness', 'Guinness Atkinson', 'Gurtin Municipal Bond Management', 'HFR  Hedge Fund Research', 'Hahn Capital Management', 'Halyard Asset Management  LLC', 'Harding Loevner', 'Harris Investment Management', 'Heitman', 'Heitman Capital Management Corporation', 'Heitman Real Estate Securities LLC', 'Hennessy Funds', 'Highbridge Capital Management LLC', 'Horizon Capital Group', 'Horizons ETFs Management  US  LLC', 'ICON', 'ICON Advisers', 'ING Investment Management', 'Illinois Bell', 'Incapture  LLC', 'International Finance Corporation', 'Interwoven', 'Invesco', 'Invesco Advisers', 'Invesco Asset Management', 'Invesco Canada', 'Invesco Deutschland', 'J P  Morgan', 'J P  Morgan Asset Management', 'JMB Institutional Realty Corporation', 'JP Morgan', 'JPMIM', 'JPMorgan', 'JPMorgan Asset Management', 'JPMorgan Investment Management', 'JPMorgan Securities', 'Jackson Square Partners', 'Jackson Square Partners  JSP', 'Janus Capital Group', 'Janus Henderson', 'Jefferies   Company', 'Jefferies LLC', 'KAUST Investment Management', 'KR Group', 'Kelvingrove Partners  LLC', 'Kennedy Capital Management', 'Kensington Investment Group  Inc', 'Keycorp', 'Koch Industries', 'LSV Asset Management', 'Lazard Asset Management', 'Lazard Asset Management LLC', 'Lazard Asset Management Limited', 'Lehman Asset Management', 'Lehman Brothers', 'Leuthold Group', 'Logan Circle Partners  L P', 'Longboard Asset Management  LP', 'Longview Funds Management  LLC', 'Loomis Sayles', 'Loomis Sayles Core', 'Loop Capital Markets', 'MAST Capital Management', 'MFS', 'MH Investment Management  Inc', 'MIMLIC Asset Management', 'Macquarie Investment Management', 'Maj Invest', 'Manchester Trading', 'Martin Currie', 'Mellon Asset Management', 'Mercantil Commercebank', 'Merrill Lynch', 'Merrill Lynch   Co', 'Merrill Lynch Investment Managers', 'Merrill Lynch Investment Managers  MLIM', 'Mesirow Financial', 'Milliman Financial Risk Management LLC', 'Mirae Asset Global Investments', 'Mirova', 'Mitchell Hutchins Asset Management  Inc', 'Mondrian', 'Monetary Authority of Singapore', 'Montgomery Securities', 'Morgan', 'Morgan Stanley', 'Morgan Stanley Investment Management', 'Morgan Stanley Wealth Management', 'Morningstar', 'Morningstar  Inc', 'Morningstsar  Inc', 'NNIP Advisors', 'NS Partners', 'National Investment Services', 'Neuberger Berman', 'New York Life Investment Management', 'Ninety One', 'Nordea Investment Management', 'Northern Trust', 'Okasan Securities', 'Old Mutual', 'Oppenheimer Investment Management', 'Oppenheimer since', 'OppenheimerFunds', 'Oppenheimerfunds', 'Opportunity International', 'Orbis Investment Management', 'Osterweis Capital Management', 'Osterweis Capital Management  Inc', 'Osterweis Capital Management  LLC', 'Osterweis Capital Management Inc', 'PGIM Fixed Income', 'PGIM Investments', 'PIMCO', 'PPM', 'PanAgora Asset Management', 'Parametric', 'Parnassus Investments', 'Pictet Asset Management SA', 'PineBridge', 'Polaris', 'Poplar Forest Capital LLC', 'Provident Capital Management  Inc', 'Prudential Securities', 'Putnam Investments', 'RBC Capital Markets', 'RBS Securities', 'Raptor Group', 'Ravenscourt Capital Partners', 'Raymond James   Associates', 'Research Affiliates', 'Research Affiliates  LLC', 'Reynders  McVeigh Capital Management  LLC', 'Riley Creek Capital Management', 'Robertson  Stephens and Co', 'Rogge Global Partners', 'Rosen Capital Advisors  LLC', 'Royce', 'SAC Capital Advisors LP', 'SIMC', 'SSGA', 'SSI Investment Management  Inc', 'Sachs Asset Management', 'Safeco Asset Management', 'Sagitta Asset Management', 'Salient Partners', 'Salomon Brothers  Salomon', 'Salomon Smith Barney', 'Sanford Bernstein', 'Schroder   Co', 'Schroder Investment Management', 'Schwartz Investment Counsel  Inc', 'Seafarer Capital Partners  LLC', 'Segall Bryant   Hamill', 'Setanta Asset Management', 'Shenkman Capital Management', 'Skandia', 'Smith Barney', 'Societe Generale', 'Societe Generale Bank', 'SouthernSun', 'Stafford Trading', 'Standard Bank', 'Standard Chartered Mutual Funds', 'Standard Investments', 'Standard Life Investments', 'Strome Susskind Investment Management', 'Suisse First Boston', 'Sureview Capital LLC', 'Sutro   Co', 'T  Rowe', 'T  Rowe Price', 'T  Rowe Price Associates', 'T  Rowe Price Group  Inc', 'Tennessee Pension', 'Thames River Capital', 'The Bank of New York Mellon', 'The Capital Group Companies', 'Thomas J  Herzfeld Advisors  Inc', 'Thompson IM Funds  Inc', 'Thornburg', 'Thornburg Investment Management', 'Thrivent Financial', 'TimesSquare', 'Tocqueville Asset Management  L P', 'Toroso Investments  LLC', 'Towle', 'Tricadia Capital', 'Trilogy Global Advisors  LP', 'Trinity', 'Trusco Capital Management', 'Turkey', 'Tuttle Tactical Management  LLC', 'UBS', 'UBS Asset Management', 'UBS Global Asset Management', 'Valenzuela Capital Partners', 'Van Eck', 'Van Kampen', 'Vanguard', 'Victory Capital', 'Viking Global Investors', 'Virtus ETF Solutions LLC', 'Visualize  Inc', 'Volumetric Advisers', 'Volumetric Advisers  Inc', 'Voya IM', 'WEDGE', 'Washington Mutual Bank', 'Water Oak Advisors', 'Waterview Advisors', 'Watterson Asset Management', 'Weiss  Peck   Greer', 'Weiss  Peck   Greer Investments', 'Wellington Management', 'Wellington Management Co', 'Wells Capital Management', 'WesBanco Bank', 'Western Asset', 'Western Asset Management', 'Winslow Capital', 'Yacktman Asset Management Co', 'Zurich Scudder Investments', 'an AllianceBernstein', 'in Goldman Sachs Asset Management']\n"
     ]
    }
   ],
   "source": [
    "cols = ['relation', 'match_manager', 'match_company']\n",
    "for col in cols:\n",
    "    temp = list(set([re.sub(r'\\W', ' ', dp).strip() for dp in list(data[col].unique())]))\n",
    "    print('{0} {1}'.format(len(temp), col))\n",
    "    temp.sort()\n",
    "    print(temp)"
   ]
  },
  {
   "cell_type": "code",
   "execution_count": null,
   "metadata": {},
   "outputs": [],
   "source": []
  },
  {
   "cell_type": "code",
   "execution_count": null,
   "metadata": {},
   "outputs": [],
   "source": []
  },
  {
   "cell_type": "code",
   "execution_count": null,
   "metadata": {},
   "outputs": [],
   "source": []
  }
 ],
 "metadata": {
  "kernelspec": {
   "display_name": "Python 3",
   "language": "python",
   "name": "python3"
  },
  "toc": {
   "base_numbering": 1,
   "nav_menu": {},
   "number_sections": true,
   "sideBar": true,
   "skip_h1_title": false,
   "title_cell": "Table of Contents",
   "title_sidebar": "Contents",
   "toc_cell": false,
   "toc_position": {},
   "toc_section_display": true,
   "toc_window_display": false
  }
 },
 "nbformat": 4,
 "nbformat_minor": 4
}
